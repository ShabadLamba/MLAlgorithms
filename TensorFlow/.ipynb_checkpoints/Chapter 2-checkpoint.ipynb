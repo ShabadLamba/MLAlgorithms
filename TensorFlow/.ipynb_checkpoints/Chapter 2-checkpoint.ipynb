{
 "cells": [
  {
   "cell_type": "code",
   "execution_count": 2,
   "metadata": {
    "collapsed": false
   },
   "outputs": [],
   "source": [
    "import tensorflow as tf \n",
    "import numpy as np"
   ]
  },
  {
   "cell_type": "code",
   "execution_count": 3,
   "metadata": {
    "collapsed": true
   },
   "outputs": [],
   "source": [
    "tensor_1d = np.array([1.3, 1, 4.0, 23.99])"
   ]
  },
  {
   "cell_type": "code",
   "execution_count": 4,
   "metadata": {
    "collapsed": false
   },
   "outputs": [
    {
     "name": "stdout",
     "output_type": "stream",
     "text": [
      "[  1.3    1.     4.    23.99]\n"
     ]
    }
   ],
   "source": [
    "print tensor_1d"
   ]
  },
  {
   "cell_type": "code",
   "execution_count": 5,
   "metadata": {
    "collapsed": true
   },
   "outputs": [],
   "source": [
    "#converting numpy array into a tensor\n",
    "tf_tensor=tf.convert_to_tensor(tensor_1d,dtype=tf.float64)"
   ]
  },
  {
   "cell_type": "code",
   "execution_count": 6,
   "metadata": {
    "collapsed": false
   },
   "outputs": [
    {
     "name": "stdout",
     "output_type": "stream",
     "text": [
      "[  1.3    1.     4.    23.99]\n",
      "1.3\n",
      "4.0\n"
     ]
    }
   ],
   "source": [
    "with tf.Session() as sess: \n",
    "    print sess.run(tf_tensor) \n",
    "    print sess.run(tf_tensor[0]) \n",
    "    print sess.run(tf_tensor[2])"
   ]
  },
  {
   "cell_type": "code",
   "execution_count": 7,
   "metadata": {
    "collapsed": true
   },
   "outputs": [],
   "source": [
    "matrix1 = np.array([(2,2,2),(2,2,2),(2,2,2)],dtype='int32') \n",
    "matrix2 = np.array([(1,1,1),(1,1,1),(1,1,1)],dtype='int32')"
   ]
  },
  {
   "cell_type": "code",
   "execution_count": 8,
   "metadata": {
    "collapsed": false
   },
   "outputs": [
    {
     "name": "stdout",
     "output_type": "stream",
     "text": [
      "matrix1  =\n",
      "[[2 2 2]\n",
      " [2 2 2]\n",
      " [2 2 2]]\n",
      "matrix2 =\n",
      "[[1 1 1]\n",
      " [1 1 1]\n",
      " [1 1 1]]\n"
     ]
    }
   ],
   "source": [
    "print \"matrix1  =\" \n",
    "print matrix1 \n",
    " \n",
    "print \"matrix2 =\" \n",
    "print matrix2\n"
   ]
  },
  {
   "cell_type": "code",
   "execution_count": 9,
   "metadata": {
    "collapsed": true
   },
   "outputs": [],
   "source": [
    "matrix1 = tf.constant(matrix1) \n",
    "matrix2 = tf.constant(matrix2)"
   ]
  },
  {
   "cell_type": "code",
   "execution_count": 10,
   "metadata": {
    "collapsed": true
   },
   "outputs": [],
   "source": [
    "matrix_product = tf.matmul(matrix1, matrix2) \n",
    "matrix_sum = tf.add(matrix1,matrix2) "
   ]
  },
  {
   "cell_type": "code",
   "execution_count": 11,
   "metadata": {
    "collapsed": false
   },
   "outputs": [
    {
     "name": "stdout",
     "output_type": "stream",
     "text": [
      "matrix3 =\n",
      "[[ 2.  7.  2.]\n",
      " [ 1.  4.  2.]\n",
      " [ 9.  0.  2.]]\n"
     ]
    }
   ],
   "source": [
    "matrix_3 = np.array([(2,7,2),(1,4,2),(9,0,2)],dtype='float32') \n",
    " \n",
    "print \"matrix3 =\" \n",
    "print matrix_3 \n",
    " \n",
    "matrix_det = tf.matrix_determinant(matrix_3)"
   ]
  },
  {
   "cell_type": "code",
   "execution_count": 12,
   "metadata": {
    "collapsed": true
   },
   "outputs": [],
   "source": [
    "with tf.Session() as sess: \n",
    "        result1 = sess.run(matrix_product) \n",
    "        result2 = sess.run(matrix_sum) \n",
    "        result3 = sess.run(matrix_det) "
   ]
  },
  {
   "cell_type": "code",
   "execution_count": 13,
   "metadata": {
    "collapsed": false
   },
   "outputs": [
    {
     "name": "stdout",
     "output_type": "stream",
     "text": [
      "matrix1*matrix2 =\n",
      "[[6 6 6]\n",
      " [6 6 6]\n",
      " [6 6 6]]\n",
      "matrix1 + matrix2 =\n",
      "[[3 3 3]\n",
      " [3 3 3]\n",
      " [3 3 3]]\n",
      "matrix3 determinant result =\n",
      "56.0\n"
     ]
    }
   ],
   "source": [
    "print \"matrix1*matrix2 =\" \n",
    "print result1 \n",
    " \n",
    "print \"matrix1 + matrix2 =\" \n",
    "print result2 \n",
    " \n",
    "print \"matrix3 determinant result =\" \n",
    "print result3"
   ]
  },
  {
   "cell_type": "code",
   "execution_count": 14,
   "metadata": {
    "collapsed": false
   },
   "outputs": [
    {
     "name": "stdout",
     "output_type": "stream",
     "text": [
      "[[[1 2]\n",
      "  [3 4]]\n",
      "\n",
      " [[5 6]\n",
      "  [7 8]]]\n"
     ]
    }
   ],
   "source": [
    "tensor_3d = np.array([[[1,2],[3,4]],[[5,6],[7,8]]]) \n",
    "print tensor_3d "
   ]
  },
  {
   "cell_type": "markdown",
   "metadata": {},
   "source": [
    "### Working with an image"
   ]
  },
  {
   "cell_type": "code",
   "execution_count": 17,
   "metadata": {
    "collapsed": false
   },
   "outputs": [],
   "source": [
    "import matplotlib.image as mp_image \n",
    "filename = \"IMG_0024.jpg\" \n",
    "input_image = mp_image.imread(filename)"
   ]
  },
  {
   "cell_type": "code",
   "execution_count": 18,
   "metadata": {
    "collapsed": false
   },
   "outputs": [
    {
     "name": "stdout",
     "output_type": "stream",
     "text": [
      "input dim = 3\n",
      "input shape = (1280, 1057, 3)\n"
     ]
    }
   ],
   "source": [
    "print 'input dim = {}'.format(input_image.ndim) \n",
    "print 'input shape = {}'.format(input_image.shape) "
   ]
  },
  {
   "cell_type": "code",
   "execution_count": 19,
   "metadata": {
    "collapsed": true
   },
   "outputs": [],
   "source": [
    "import matplotlib.pyplot as plt \n",
    "plt.imshow(input_image) \n",
    "plt.show()                 "
   ]
  },
  {
   "cell_type": "code",
   "execution_count": 20,
   "metadata": {
    "collapsed": true
   },
   "outputs": [],
   "source": [
    "my_image = tf.placeholder(\"uint8\",[None,None,3])"
   ]
  },
  {
   "cell_type": "code",
   "execution_count": 25,
   "metadata": {
    "collapsed": true
   },
   "outputs": [],
   "source": [
    "slice = tf.slice(my_image,[10,0,0],[128,-1,-1])"
   ]
  },
  {
   "cell_type": "code",
   "execution_count": 26,
   "metadata": {
    "collapsed": false
   },
   "outputs": [
    {
     "name": "stdout",
     "output_type": "stream",
     "text": [
      "(32, 1057, 3)\n"
     ]
    }
   ],
   "source": [
    "with tf.Session() as session: \n",
    "    result = session.run(slice,feed_dict={my_image: input_image}) \n",
    "    print(result.shape) \n",
    " \n",
    "plt.imshow(result) \n",
    "plt.show()"
   ]
  },
  {
   "cell_type": "code",
   "execution_count": null,
   "metadata": {
    "collapsed": true
   },
   "outputs": [],
   "source": []
  }
 ],
 "metadata": {
  "anaconda-cloud": {},
  "kernelspec": {
   "display_name": "Python [Root]",
   "language": "python",
   "name": "Python [Root]"
  },
  "language_info": {
   "codemirror_mode": {
    "name": "ipython",
    "version": 2
   },
   "file_extension": ".py",
   "mimetype": "text/x-python",
   "name": "python",
   "nbconvert_exporter": "python",
   "pygments_lexer": "ipython2",
   "version": "2.7.12"
  }
 },
 "nbformat": 4,
 "nbformat_minor": 0
}
