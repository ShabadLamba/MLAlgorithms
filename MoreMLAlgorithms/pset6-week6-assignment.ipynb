{
 "cells": [
  {
   "cell_type": "code",
   "execution_count": 1,
   "metadata": {
    "collapsed": false
   },
   "outputs": [
    {
     "name": "stderr",
     "output_type": "stream",
     "text": [
      "A newer version of GraphLab Create (v1.10) is available! Your current version is v1.9.\n",
      "\n",
      "You can use pip to upgrade the graphlab-create package. For more information see https://dato.com/products/create/upgrade.\n"
     ]
    }
   ],
   "source": [
    "import graphlab"
   ]
  },
  {
   "cell_type": "code",
   "execution_count": 2,
   "metadata": {
    "collapsed": false
   },
   "outputs": [
    {
     "name": "stdout",
     "output_type": "stream",
     "text": [
      "This trial license of GraphLab Create is assigned to shabadlamba@gmail.com and will expire on June 28, 2016. Please contact trial@dato.com for licensing options or to request a free non-commercial license for personal or academic use.\n"
     ]
    },
    {
     "name": "stderr",
     "output_type": "stream",
     "text": [
      "2016-06-03 10:33:24,117 [INFO] graphlab.cython.cy_server, 176: GraphLab Create v1.9 started. Logging: /tmp/graphlab_server_1464930194.log\n"
     ]
    }
   ],
   "source": [
    "image_train = graphlab.SFrame('image_train_data/')"
   ]
  },
  {
   "cell_type": "code",
   "execution_count": 3,
   "metadata": {
    "collapsed": false
   },
   "outputs": [
    {
     "data": {
      "application/javascript": [
       "$(\"head\").append($(\"<link/>\").attr({\n",
       "  rel:  \"stylesheet\",\n",
       "  type: \"text/css\",\n",
       "  href: \"//cdnjs.cloudflare.com/ajax/libs/font-awesome/4.1.0/css/font-awesome.min.css\"\n",
       "}));\n",
       "$(\"head\").append($(\"<link/>\").attr({\n",
       "  rel:  \"stylesheet\",\n",
       "  type: \"text/css\",\n",
       "  href: \"//dato.com/files/canvas/1.9/css/canvas.css\"\n",
       "}));\n",
       "\n",
       "            (function(){\n",
       "\n",
       "                var e = null;\n",
       "                if (typeof element == 'undefined') {\n",
       "                    var scripts = document.getElementsByTagName('script');\n",
       "                    var thisScriptTag = scripts[scripts.length-1];\n",
       "                    var parentDiv = thisScriptTag.parentNode;\n",
       "                    e = document.createElement('div');\n",
       "                    parentDiv.appendChild(e);\n",
       "                } else {\n",
       "                    e = element[0];\n",
       "                }\n",
       "\n",
       "                if (typeof requirejs !== 'undefined') {\n",
       "                    // disable load timeout; ipython_app.js is large and can take a while to load.\n",
       "                    requirejs.config({waitSeconds: 0});\n",
       "                }\n",
       "\n",
       "                require(['//dato.com/files/canvas/1.9/js/ipython_app.js'], function(IPythonApp){\n",
       "                    var app = new IPythonApp();\n",
       "                    app.attachView('sarray','Categorical', {\"ipython\": true, \"sketch\": {\"complete\": true, \"numeric\": false, \"num_unique\": 4, \"num_undefined\": 0, \"progress\": 1.0, \"frequent_items\": {\"automobile\": {\"frequency\": 509, \"value\": \"automobile\"}, \"bird\": {\"frequency\": 478, \"value\": \"bird\"}, \"dog\": {\"frequency\": 509, \"value\": \"dog\"}, \"cat\": {\"frequency\": 509, \"value\": \"cat\"}}, \"size\": 2005}, \"selected_variable\": {\"name\": [\"<SArray>\"], \"dtype\": \"str\", \"view_component\": \"Categorical\", \"view_file\": \"sarray\", \"descriptives\": {\"rows\": 2005}, \"type\": \"SArray\", \"view_components\": [\"Categorical\"]}, \"histogram\": null}, e);\n",
       "                });\n",
       "            })();\n",
       "        "
      ]
     },
     "metadata": {},
     "output_type": "display_data"
    }
   ],
   "source": [
    "graphlab.canvas.set_target('ipynb')\n",
    "image_train['label'].show()"
   ]
  },
  {
   "cell_type": "code",
   "execution_count": 4,
   "metadata": {
    "collapsed": false
   },
   "outputs": [
    {
     "data": {
      "text/plain": [
       "\n",
       "+------------------+-------+----------+\n",
       "|       item       | value | is exact |\n",
       "+------------------+-------+----------+\n",
       "|      Length      |  2005 |   Yes    |\n",
       "| # Missing Values |   0   |   Yes    |\n",
       "| # unique values  |   4   |    No    |\n",
       "+------------------+-------+----------+\n",
       "\n",
       "Most frequent items:\n",
       "+-------+------------+-----+-----+------+\n",
       "| value | automobile | cat | dog | bird |\n",
       "+-------+------------+-----+-----+------+\n",
       "| count |    509     | 509 | 509 | 478  |\n",
       "+-------+------------+-----+-----+------+\n"
      ]
     },
     "execution_count": 4,
     "metadata": {},
     "output_type": "execute_result"
    }
   ],
   "source": [
    "image_train['label'].sketch_summary()"
   ]
  },
  {
   "cell_type": "code",
   "execution_count": 5,
   "metadata": {
    "collapsed": true
   },
   "outputs": [],
   "source": [
    "automobile = image_train[(image_train['label']=='automobile')]\n",
    "cat = image_train[(image_train['label']=='cat')]\n",
    "dog = image_train[(image_train['label']=='dog')]\n",
    "bird = image_train[(image_train['label']=='bird')]"
   ]
  },
  {
   "cell_type": "code",
   "execution_count": 6,
   "metadata": {
    "collapsed": false
   },
   "outputs": [
    {
     "data": {
      "text/plain": [
       "478"
      ]
     },
     "execution_count": 6,
     "metadata": {},
     "output_type": "execute_result"
    }
   ],
   "source": [
    "len(bird)"
   ]
  },
  {
   "cell_type": "code",
   "execution_count": 7,
   "metadata": {
    "collapsed": false
   },
   "outputs": [
    {
     "data": {
      "text/html": [
       "<pre>Starting brute force nearest neighbors model training.</pre>"
      ],
      "text/plain": [
       "Starting brute force nearest neighbors model training."
      ]
     },
     "metadata": {},
     "output_type": "display_data"
    },
    {
     "data": {
      "text/html": [
       "<pre>Starting brute force nearest neighbors model training.</pre>"
      ],
      "text/plain": [
       "Starting brute force nearest neighbors model training."
      ]
     },
     "metadata": {},
     "output_type": "display_data"
    },
    {
     "data": {
      "text/html": [
       "<pre>Starting brute force nearest neighbors model training.</pre>"
      ],
      "text/plain": [
       "Starting brute force nearest neighbors model training."
      ]
     },
     "metadata": {},
     "output_type": "display_data"
    },
    {
     "data": {
      "text/html": [
       "<pre>Starting brute force nearest neighbors model training.</pre>"
      ],
      "text/plain": [
       "Starting brute force nearest neighbors model training."
      ]
     },
     "metadata": {},
     "output_type": "display_data"
    }
   ],
   "source": [
    "automobile_model = graphlab.nearest_neighbors.create(automobile,label='id',features=['deep_features'])\n",
    "cat_model = graphlab.nearest_neighbors.create(cat,label='id',features=['deep_features'])\n",
    "dog_model = graphlab.nearest_neighbors.create(dog,label='id',features=['deep_features'])\n",
    "bird_model = graphlab.nearest_neighbors.create(bird,label='id',features=['deep_features'])"
   ]
  },
  {
   "cell_type": "code",
   "execution_count": 8,
   "metadata": {
    "collapsed": false
   },
   "outputs": [],
   "source": [
    "image_test = graphlab.SFrame('image_test_data-2/')"
   ]
  },
  {
   "cell_type": "code",
   "execution_count": 9,
   "metadata": {
    "collapsed": false
   },
   "outputs": [
    {
     "data": {
      "text/html": [
       "<div style=\"max-height:1000px;max-width:1500px;overflow:auto;\"><table frame=\"box\" rules=\"cols\">\n",
       "    <tr>\n",
       "        <th style=\"padding-left: 1em; padding-right: 1em; text-align: center\">id</th>\n",
       "        <th style=\"padding-left: 1em; padding-right: 1em; text-align: center\">image</th>\n",
       "        <th style=\"padding-left: 1em; padding-right: 1em; text-align: center\">label</th>\n",
       "        <th style=\"padding-left: 1em; padding-right: 1em; text-align: center\">deep_features</th>\n",
       "        <th style=\"padding-left: 1em; padding-right: 1em; text-align: center\">image_array</th>\n",
       "    </tr>\n",
       "    <tr>\n",
       "        <td style=\"padding-left: 1em; padding-right: 1em; text-align: center; vertical-align: top\">0</td>\n",
       "        <td style=\"padding-left: 1em; padding-right: 1em; text-align: center; vertical-align: top\">Height: 32 Width: 32</td>\n",
       "        <td style=\"padding-left: 1em; padding-right: 1em; text-align: center; vertical-align: top\">cat</td>\n",
       "        <td style=\"padding-left: 1em; padding-right: 1em; text-align: center; vertical-align: top\">[1.13469004631, 0.0, 0.0,<br>0.0, 0.0366497635841, ...</td>\n",
       "        <td style=\"padding-left: 1em; padding-right: 1em; text-align: center; vertical-align: top\">[158.0, 112.0, 49.0,<br>159.0, 111.0, 47.0, ...</td>\n",
       "    </tr>\n",
       "</table>\n",
       "[1 rows x 5 columns]<br/>\n",
       "</div>"
      ],
      "text/plain": [
       "Columns:\n",
       "\tid\tint\n",
       "\timage\tImage\n",
       "\tlabel\tstr\n",
       "\tdeep_features\tarray\n",
       "\timage_array\tarray\n",
       "\n",
       "Rows: 1\n",
       "\n",
       "Data:\n",
       "+----+----------------------+-------+-------------------------------+\n",
       "| id |        image         | label |         deep_features         |\n",
       "+----+----------------------+-------+-------------------------------+\n",
       "| 0  | Height: 32 Width: 32 |  cat  | [1.13469004631, 0.0, 0.0, ... |\n",
       "+----+----------------------+-------+-------------------------------+\n",
       "+-------------------------------+\n",
       "|          image_array          |\n",
       "+-------------------------------+\n",
       "| [158.0, 112.0, 49.0, 159.0... |\n",
       "+-------------------------------+\n",
       "[1 rows x 5 columns]"
      ]
     },
     "execution_count": 9,
     "metadata": {},
     "output_type": "execute_result"
    }
   ],
   "source": [
    "image_test[0:1]"
   ]
  },
  {
   "cell_type": "code",
   "execution_count": 10,
   "metadata": {
    "collapsed": false
   },
   "outputs": [
    {
     "data": {
      "text/html": [
       "<pre>Starting pairwise querying.</pre>"
      ],
      "text/plain": [
       "Starting pairwise querying."
      ]
     },
     "metadata": {},
     "output_type": "display_data"
    },
    {
     "data": {
      "text/html": [
       "<pre>+--------------+---------+-------------+--------------+</pre>"
      ],
      "text/plain": [
       "+--------------+---------+-------------+--------------+"
      ]
     },
     "metadata": {},
     "output_type": "display_data"
    },
    {
     "data": {
      "text/html": [
       "<pre>| Query points | # Pairs | % Complete. | Elapsed Time |</pre>"
      ],
      "text/plain": [
       "| Query points | # Pairs | % Complete. | Elapsed Time |"
      ]
     },
     "metadata": {},
     "output_type": "display_data"
    },
    {
     "data": {
      "text/html": [
       "<pre>+--------------+---------+-------------+--------------+</pre>"
      ],
      "text/plain": [
       "+--------------+---------+-------------+--------------+"
      ]
     },
     "metadata": {},
     "output_type": "display_data"
    },
    {
     "data": {
      "text/html": [
       "<pre>| 0            | 1       | 0.196464    | 60.357ms     |</pre>"
      ],
      "text/plain": [
       "| 0            | 1       | 0.196464    | 60.357ms     |"
      ]
     },
     "metadata": {},
     "output_type": "display_data"
    },
    {
     "data": {
      "text/html": [
       "<pre>| Done         |         | 100         | 136.658ms    |</pre>"
      ],
      "text/plain": [
       "| Done         |         | 100         | 136.658ms    |"
      ]
     },
     "metadata": {},
     "output_type": "display_data"
    },
    {
     "data": {
      "text/html": [
       "<pre>+--------------+---------+-------------+--------------+</pre>"
      ],
      "text/plain": [
       "+--------------+---------+-------------+--------------+"
      ]
     },
     "metadata": {},
     "output_type": "display_data"
    },
    {
     "data": {
      "text/html": [
       "<div style=\"max-height:1000px;max-width:1500px;overflow:auto;\"><table frame=\"box\" rules=\"cols\">\n",
       "    <tr>\n",
       "        <th style=\"padding-left: 1em; padding-right: 1em; text-align: center\">query_label</th>\n",
       "        <th style=\"padding-left: 1em; padding-right: 1em; text-align: center\">reference_label</th>\n",
       "        <th style=\"padding-left: 1em; padding-right: 1em; text-align: center\">distance</th>\n",
       "        <th style=\"padding-left: 1em; padding-right: 1em; text-align: center\">rank</th>\n",
       "    </tr>\n",
       "    <tr>\n",
       "        <td style=\"padding-left: 1em; padding-right: 1em; text-align: center; vertical-align: top\">0</td>\n",
       "        <td style=\"padding-left: 1em; padding-right: 1em; text-align: center; vertical-align: top\">16289</td>\n",
       "        <td style=\"padding-left: 1em; padding-right: 1em; text-align: center; vertical-align: top\">34.623719208</td>\n",
       "        <td style=\"padding-left: 1em; padding-right: 1em; text-align: center; vertical-align: top\">1</td>\n",
       "    </tr>\n",
       "    <tr>\n",
       "        <td style=\"padding-left: 1em; padding-right: 1em; text-align: center; vertical-align: top\">0</td>\n",
       "        <td style=\"padding-left: 1em; padding-right: 1em; text-align: center; vertical-align: top\">45646</td>\n",
       "        <td style=\"padding-left: 1em; padding-right: 1em; text-align: center; vertical-align: top\">36.0068799284</td>\n",
       "        <td style=\"padding-left: 1em; padding-right: 1em; text-align: center; vertical-align: top\">2</td>\n",
       "    </tr>\n",
       "    <tr>\n",
       "        <td style=\"padding-left: 1em; padding-right: 1em; text-align: center; vertical-align: top\">0</td>\n",
       "        <td style=\"padding-left: 1em; padding-right: 1em; text-align: center; vertical-align: top\">32139</td>\n",
       "        <td style=\"padding-left: 1em; padding-right: 1em; text-align: center; vertical-align: top\">36.5200813436</td>\n",
       "        <td style=\"padding-left: 1em; padding-right: 1em; text-align: center; vertical-align: top\">3</td>\n",
       "    </tr>\n",
       "    <tr>\n",
       "        <td style=\"padding-left: 1em; padding-right: 1em; text-align: center; vertical-align: top\">0</td>\n",
       "        <td style=\"padding-left: 1em; padding-right: 1em; text-align: center; vertical-align: top\">25713</td>\n",
       "        <td style=\"padding-left: 1em; padding-right: 1em; text-align: center; vertical-align: top\">36.7548502521</td>\n",
       "        <td style=\"padding-left: 1em; padding-right: 1em; text-align: center; vertical-align: top\">4</td>\n",
       "    </tr>\n",
       "    <tr>\n",
       "        <td style=\"padding-left: 1em; padding-right: 1em; text-align: center; vertical-align: top\">0</td>\n",
       "        <td style=\"padding-left: 1em; padding-right: 1em; text-align: center; vertical-align: top\">331</td>\n",
       "        <td style=\"padding-left: 1em; padding-right: 1em; text-align: center; vertical-align: top\">36.8731228168</td>\n",
       "        <td style=\"padding-left: 1em; padding-right: 1em; text-align: center; vertical-align: top\">5</td>\n",
       "    </tr>\n",
       "</table>\n",
       "[5 rows x 4 columns]<br/>\n",
       "</div>"
      ],
      "text/plain": [
       "Columns:\n",
       "\tquery_label\tint\n",
       "\treference_label\tint\n",
       "\tdistance\tfloat\n",
       "\trank\tint\n",
       "\n",
       "Rows: 5\n",
       "\n",
       "Data:\n",
       "+-------------+-----------------+---------------+------+\n",
       "| query_label | reference_label |    distance   | rank |\n",
       "+-------------+-----------------+---------------+------+\n",
       "|      0      |      16289      |  34.623719208 |  1   |\n",
       "|      0      |      45646      | 36.0068799284 |  2   |\n",
       "|      0      |      32139      | 36.5200813436 |  3   |\n",
       "|      0      |      25713      | 36.7548502521 |  4   |\n",
       "|      0      |       331       | 36.8731228168 |  5   |\n",
       "+-------------+-----------------+---------------+------+\n",
       "[5 rows x 4 columns]"
      ]
     },
     "execution_count": 10,
     "metadata": {},
     "output_type": "execute_result"
    }
   ],
   "source": [
    "cat_model.query(image_test[0:1])"
   ]
  },
  {
   "cell_type": "code",
   "execution_count": 11,
   "metadata": {
    "collapsed": false
   },
   "outputs": [
    {
     "data": {
      "text/html": [
       "<pre>Starting pairwise querying.</pre>"
      ],
      "text/plain": [
       "Starting pairwise querying."
      ]
     },
     "metadata": {},
     "output_type": "display_data"
    },
    {
     "data": {
      "text/html": [
       "<pre>+--------------+---------+-------------+--------------+</pre>"
      ],
      "text/plain": [
       "+--------------+---------+-------------+--------------+"
      ]
     },
     "metadata": {},
     "output_type": "display_data"
    },
    {
     "data": {
      "text/html": [
       "<pre>| Query points | # Pairs | % Complete. | Elapsed Time |</pre>"
      ],
      "text/plain": [
       "| Query points | # Pairs | % Complete. | Elapsed Time |"
      ]
     },
     "metadata": {},
     "output_type": "display_data"
    },
    {
     "data": {
      "text/html": [
       "<pre>+--------------+---------+-------------+--------------+</pre>"
      ],
      "text/plain": [
       "+--------------+---------+-------------+--------------+"
      ]
     },
     "metadata": {},
     "output_type": "display_data"
    },
    {
     "data": {
      "text/html": [
       "<pre>| 0            | 1       | 0.196464    | 21.312ms     |</pre>"
      ],
      "text/plain": [
       "| 0            | 1       | 0.196464    | 21.312ms     |"
      ]
     },
     "metadata": {},
     "output_type": "display_data"
    },
    {
     "data": {
      "text/html": [
       "<pre>| Done         |         | 100         | 101.213ms    |</pre>"
      ],
      "text/plain": [
       "| Done         |         | 100         | 101.213ms    |"
      ]
     },
     "metadata": {},
     "output_type": "display_data"
    },
    {
     "data": {
      "text/html": [
       "<pre>+--------------+---------+-------------+--------------+</pre>"
      ],
      "text/plain": [
       "+--------------+---------+-------------+--------------+"
      ]
     },
     "metadata": {},
     "output_type": "display_data"
    },
    {
     "data": {
      "text/html": [
       "<div style=\"max-height:1000px;max-width:1500px;overflow:auto;\"><table frame=\"box\" rules=\"cols\">\n",
       "    <tr>\n",
       "        <th style=\"padding-left: 1em; padding-right: 1em; text-align: center\">query_label</th>\n",
       "        <th style=\"padding-left: 1em; padding-right: 1em; text-align: center\">reference_label</th>\n",
       "        <th style=\"padding-left: 1em; padding-right: 1em; text-align: center\">distance</th>\n",
       "        <th style=\"padding-left: 1em; padding-right: 1em; text-align: center\">rank</th>\n",
       "    </tr>\n",
       "    <tr>\n",
       "        <td style=\"padding-left: 1em; padding-right: 1em; text-align: center; vertical-align: top\">0</td>\n",
       "        <td style=\"padding-left: 1em; padding-right: 1em; text-align: center; vertical-align: top\">16976</td>\n",
       "        <td style=\"padding-left: 1em; padding-right: 1em; text-align: center; vertical-align: top\">37.4642628784</td>\n",
       "        <td style=\"padding-left: 1em; padding-right: 1em; text-align: center; vertical-align: top\">1</td>\n",
       "    </tr>\n",
       "    <tr>\n",
       "        <td style=\"padding-left: 1em; padding-right: 1em; text-align: center; vertical-align: top\">0</td>\n",
       "        <td style=\"padding-left: 1em; padding-right: 1em; text-align: center; vertical-align: top\">13387</td>\n",
       "        <td style=\"padding-left: 1em; padding-right: 1em; text-align: center; vertical-align: top\">37.5666832169</td>\n",
       "        <td style=\"padding-left: 1em; padding-right: 1em; text-align: center; vertical-align: top\">2</td>\n",
       "    </tr>\n",
       "    <tr>\n",
       "        <td style=\"padding-left: 1em; padding-right: 1em; text-align: center; vertical-align: top\">0</td>\n",
       "        <td style=\"padding-left: 1em; padding-right: 1em; text-align: center; vertical-align: top\">35867</td>\n",
       "        <td style=\"padding-left: 1em; padding-right: 1em; text-align: center; vertical-align: top\">37.6047267079</td>\n",
       "        <td style=\"padding-left: 1em; padding-right: 1em; text-align: center; vertical-align: top\">3</td>\n",
       "    </tr>\n",
       "    <tr>\n",
       "        <td style=\"padding-left: 1em; padding-right: 1em; text-align: center; vertical-align: top\">0</td>\n",
       "        <td style=\"padding-left: 1em; padding-right: 1em; text-align: center; vertical-align: top\">44603</td>\n",
       "        <td style=\"padding-left: 1em; padding-right: 1em; text-align: center; vertical-align: top\">37.7065585153</td>\n",
       "        <td style=\"padding-left: 1em; padding-right: 1em; text-align: center; vertical-align: top\">4</td>\n",
       "    </tr>\n",
       "    <tr>\n",
       "        <td style=\"padding-left: 1em; padding-right: 1em; text-align: center; vertical-align: top\">0</td>\n",
       "        <td style=\"padding-left: 1em; padding-right: 1em; text-align: center; vertical-align: top\">6094</td>\n",
       "        <td style=\"padding-left: 1em; padding-right: 1em; text-align: center; vertical-align: top\">38.5113254907</td>\n",
       "        <td style=\"padding-left: 1em; padding-right: 1em; text-align: center; vertical-align: top\">5</td>\n",
       "    </tr>\n",
       "</table>\n",
       "[5 rows x 4 columns]<br/>\n",
       "</div>"
      ],
      "text/plain": [
       "Columns:\n",
       "\tquery_label\tint\n",
       "\treference_label\tint\n",
       "\tdistance\tfloat\n",
       "\trank\tint\n",
       "\n",
       "Rows: 5\n",
       "\n",
       "Data:\n",
       "+-------------+-----------------+---------------+------+\n",
       "| query_label | reference_label |    distance   | rank |\n",
       "+-------------+-----------------+---------------+------+\n",
       "|      0      |      16976      | 37.4642628784 |  1   |\n",
       "|      0      |      13387      | 37.5666832169 |  2   |\n",
       "|      0      |      35867      | 37.6047267079 |  3   |\n",
       "|      0      |      44603      | 37.7065585153 |  4   |\n",
       "|      0      |       6094      | 38.5113254907 |  5   |\n",
       "+-------------+-----------------+---------------+------+\n",
       "[5 rows x 4 columns]"
      ]
     },
     "execution_count": 11,
     "metadata": {},
     "output_type": "execute_result"
    }
   ],
   "source": [
    "dog_model.query(image_test[0:1])"
   ]
  },
  {
   "cell_type": "code",
   "execution_count": 12,
   "metadata": {
    "collapsed": false
   },
   "outputs": [
    {
     "data": {
      "application/javascript": [
       "$(\"head\").append($(\"<link/>\").attr({\n",
       "  rel:  \"stylesheet\",\n",
       "  type: \"text/css\",\n",
       "  href: \"//cdnjs.cloudflare.com/ajax/libs/font-awesome/4.1.0/css/font-awesome.min.css\"\n",
       "}));\n",
       "$(\"head\").append($(\"<link/>\").attr({\n",
       "  rel:  \"stylesheet\",\n",
       "  type: \"text/css\",\n",
       "  href: \"//dato.com/files/canvas/1.9/css/canvas.css\"\n",
       "}));\n",
       "\n",
       "            (function(){\n",
       "\n",
       "                var e = null;\n",
       "                if (typeof element == 'undefined') {\n",
       "                    var scripts = document.getElementsByTagName('script');\n",
       "                    var thisScriptTag = scripts[scripts.length-1];\n",
       "                    var parentDiv = thisScriptTag.parentNode;\n",
       "                    e = document.createElement('div');\n",
       "                    parentDiv.appendChild(e);\n",
       "                } else {\n",
       "                    e = element[0];\n",
       "                }\n",
       "\n",
       "                if (typeof requirejs !== 'undefined') {\n",
       "                    // disable load timeout; ipython_app.js is large and can take a while to load.\n",
       "                    requirejs.config({waitSeconds: 0});\n",
       "                }\n",
       "\n",
       "                require(['//dato.com/files/canvas/1.9/js/ipython_app.js'], function(IPythonApp){\n",
       "                    var app = new IPythonApp();\n",
       "                    app.attachView('sarray','Images', {\"ipython\": true, \"rows\": [{\"format\": \"raw\", \"value\": [16, 17, 11, 18, 19, 13, 20, 21, 15, 24, 25, 19, 26, 27, 21, 22, 23, 17, 19, 20, 14, 19, 20, 15, 16, 17, 12, 12, 13, 8, 11, 12, 8, 28, 17, 6, 88, 44, 8, 84, 41, 13, 84, 46, 31, 91, 51, 34, 97, 56, 36, 101, 61, 40, 85, 51, 33, 74, 45, 28, 79, 47, 29, 92, 54, 35, 96, 53, 33, 103, 58, 34, 86, 48, 27, 86, 52, 34, 107, 68, 51, 90, 61, 48, 101, 93, 92, 116, 130, 145, 103, 110, 123, 98, 94, 100, 12, 13, 9, 15, 16, 12, 20, 21, 17, 23, 24, 19, 27, 28, 22, 24, 25, 19, 20, 21, 15, 21, 22, 16, 16, 17, 12, 13, 14, 9, 12, 13, 9, 25, 15, 5, 81, 41, 10, 80, 41, 14, 83, 45, 25, 100, 55, 33, 108, 61, 39, 100, 57, 36, 67, 31, 16, 62, 30, 19, 75, 39, 25, 99, 57, 37, 112, 65, 43, 99, 55, 31, 74, 38, 19, 80, 45, 29, 102, 62, 43, 98, 66, 53, 105, 95, 95, 114, 126, 142, 102, 108, 123, 97, 92, 99, 19, 19, 17, 22, 22, 20, 20, 20, 17, 23, 25, 19, 28, 29, 23, 26, 27, 21, 21, 22, 16, 21, 22, 16, 16, 17, 12, 16, 16, 11, 14, 16, 12, 23, 18, 13, 78, 45, 25, 102, 68, 50, 94, 59, 39, 102, 57, 34, 108, 61, 37, 112, 67, 43, 100, 61, 40, 105, 64, 45, 111, 66, 47, 114, 67, 46, 124, 75, 52, 103, 61, 36, 81, 46, 29, 78, 43, 28, 102, 61, 40, 99, 72, 61, 108, 103, 105, 118, 133, 149, 103, 109, 123, 96, 94, 100, 23, 23, 21, 70, 70, 69, 64, 63, 60, 29, 29, 24, 25, 26, 21, 26, 27, 22, 22, 23, 17, 22, 23, 18, 18, 19, 14, 16, 16, 12, 15, 17, 15, 46, 44, 46, 112, 84, 75, 106, 78, 70, 96, 65, 52, 105, 64, 42, 107, 64, 38, 118, 73, 46, 121, 80, 52, 123, 82, 55, 122, 80, 53, 120, 80, 53, 121, 82, 54, 107, 67, 41, 87, 52, 37, 82, 45, 30, 101, 59, 37, 83, 63, 54, 84, 85, 88, 108, 123, 135, 88, 93, 102, 77, 77, 82, 29, 28, 28, 78, 77, 81, 116, 104, 102, 104, 94, 91, 37, 35, 32, 25, 25, 21, 24, 23, 20, 23, 23, 20, 19, 19, 17, 16, 15, 14, 22, 23, 24, 97, 90, 89, 151, 118, 108, 111, 87, 81, 111, 85, 77, 111, 70, 48, 110, 66, 40, 114, 70, 43, 115, 72, 45, 119, 80, 51, 123, 78, 50, 114, 71, 46, 113, 72, 43, 110, 66, 40, 86, 49, 34, 81, 41, 24, 97, 54, 32, 70, 49, 41, 49, 44, 44, 61, 62, 66, 56, 54, 60, 52, 49, 51, 29, 28, 28, 49, 48, 52, 108, 92, 88, 156, 139, 128, 90, 83, 72, 31, 30, 21, 23, 23, 18, 40, 39, 34, 60, 57, 53, 68, 63, 60, 66, 61, 58, 130, 111, 102, 135, 95, 80, 122, 95, 86, 126, 105, 100, 103, 70, 55, 94, 60, 40, 92, 58, 39, 94, 59, 40, 99, 61, 38, 101, 57, 33, 93, 51, 28, 91, 51, 29, 87, 47, 25, 74, 40, 25, 73, 41, 28, 88, 53, 40, 63, 45, 40, 51, 44, 43, 52, 49, 49, 53, 49, 52, 53, 48, 49, 27, 26, 24, 56, 56, 59, 105, 88, 82, 137, 105, 88, 139, 114, 97, 109, 95, 84, 98, 87, 81, 117, 110, 105, 162, 153, 146, 158, 144, 136, 117, 100, 89, 127, 96, 79, 128, 84, 67, 123, 93, 80, 129, 113, 109, 92, 75, 69, 55, 38, 29, 55, 38, 30, 63, 44, 34, 83, 53, 38, 94, 61, 42, 101, 63, 38, 92, 59, 37, 103, 71, 49, 89, 59, 37, 63, 44, 36, 67, 47, 46, 55, 41, 40, 52, 48, 46, 55, 53, 53, 58, 54, 55, 58, 54, 54, 26, 25, 22, 64, 64, 65, 99, 82, 75, 130, 92, 76, 161, 127, 112, 164, 140, 131, 168, 149, 144, 173, 160, 154, 211, 196, 186, 172, 149, 136, 122, 93, 75, 144, 106, 87, 143, 101, 87, 135, 104, 89, 120, 108, 106, 90, 85, 87, 38, 33, 34, 31, 26, 28, 46, 38, 38, 86, 67, 59, 106, 87, 72, 140, 105, 73, 129, 99, 69, 138, 113, 82, 147, 118, 81, 65, 57, 45, 49, 42, 45, 50, 41, 41, 54, 53, 51, 60, 60, 58, 63, 58, 58, 64, 59, 58, 31, 31, 27, 67, 66, 66, 116, 99, 93, 143, 114, 102, 181, 158, 147, 194, 179, 171, 196, 182, 177, 198, 185, 177, 206, 187, 174, 156, 127, 109, 131, 97, 75, 162, 126, 108, 152, 115, 104, 151, 120, 104, 125, 115, 112, 79, 79, 84, 37, 37, 41, 21, 22, 26, 24, 23, 26, 58, 49, 44, 103, 93, 77, 160, 127, 88, 149, 121, 83, 144, 120, 79, 177, 149, 99, 85, 82, 64, 41, 40, 45, 51, 47, 49, 56, 56, 56, 63, 62, 61, 66, 61, 61, 68, 64, 63, 29, 29, 29, 70, 66, 66, 118, 103, 100, 160, 141, 133, 180, 168, 159, 185, 172, 167, 206, 195, 192, 196, 183, 172, 174, 153, 133, 141, 112, 90, 148, 123, 105, 175, 150, 137, 172, 139, 123, 178, 150, 133, 142, 130, 126, 65, 65, 67, 29, 30, 32, 19, 20, 23, 18, 18, 21, 57, 52, 45, 142, 124, 100, 186, 156, 120, 166, 145, 104, 175, 158, 118, 185, 168, 126, 87, 81, 67, 42, 44, 50, 47, 49, 57, 46, 46, 52, 60, 59, 62, 69, 65, 67, 70, 67, 66, 51, 51, 52, 77, 72, 74, 117, 103, 102, 156, 142, 135, 156, 147, 137, 138, 123, 114, 154, 140, 131, 159, 141, 132, 136, 110, 98, 126, 99, 87, 166, 147, 140, 201, 184, 176, 183, 158, 143, 201, 177, 163, 142, 130, 126, 46, 46, 47, 18, 19, 21, 17, 18, 20, 22, 22, 25, 43, 38, 34, 138, 119, 97, 166, 136, 107, 185, 162, 122, 157, 147, 114, 173, 168, 135, 98, 94, 82, 46, 47, 49, 50, 53, 62, 45, 45, 53, 51, 49, 54, 70, 66, 69, 76, 72, 72, 60, 58, 59, 79, 74, 77, 127, 115, 116, 143, 132, 126, 143, 136, 124, 143, 125, 112, 128, 110, 94, 105, 86, 72, 127, 100, 88, 142, 123, 110, 167, 151, 144, 209, 197, 190, 176, 159, 148, 195, 175, 165, 149, 137, 134, 44, 42, 45, 23, 24, 28, 30, 31, 34, 33, 33, 38, 42, 37, 39, 74, 60, 50, 121, 95, 74, 177, 144, 103, 173, 147, 109, 193, 179, 144, 124, 119, 108, 46, 50, 52, 52, 55, 63, 45, 45, 53, 43, 42, 46, 68, 64, 67, 80, 76, 75, 59, 56, 56, 71, 68, 70, 131, 121, 123, 147, 135, 130, 137, 128, 117, 150, 130, 119, 128, 110, 95, 94, 77, 63, 140, 112, 103, 156, 143, 129, 162, 146, 136, 196, 181, 173, 182, 167, 156, 175, 158, 148, 132, 120, 114, 50, 49, 51, 32, 34, 38, 39, 40, 44, 44, 44, 50, 48, 46, 53, 44, 41, 40, 98, 80, 65, 176, 139, 97, 150, 117, 83, 145, 128, 101, 101, 98, 94, 45, 50, 56, 48, 52, 61, 42, 42, 50, 39, 38, 42, 68, 64, 67, 87, 80, 81, 65, 61, 60, 73, 69, 71, 135, 125, 127, 149, 134, 128, 113, 101, 92, 111, 92, 85, 129, 114, 105, 116, 105, 101, 128, 103, 105, 112, 99, 95, 134, 111, 105, 195, 174, 167, 193, 177, 167, 167, 151, 140, 118, 108, 99, 51, 50, 52, 40, 41, 47, 42, 43, 49, 50, 51, 56, 47, 50, 58, 52, 56, 60, 114, 101, 90, 180, 144, 101, 126, 103, 83, 94, 89, 82, 69, 70, 75, 55, 57, 65, 53, 55, 64, 40, 41, 48, 37, 36, 40, 69, 65, 66, 90, 82, 83, 71, 66, 67, 88, 80, 81, 119, 107, 106, 130, 115, 104, 135, 119, 112, 128, 114, 108, 152, 144, 142, 158, 152, 152, 140, 124, 124, 114, 93, 91, 159, 125, 110, 200, 176, 164, 198, 182, 173, 170, 156, 149, 114, 107, 104, 53, 53, 58, 46, 49, 56, 44, 47, 54, 46, 49, 55, 39, 40, 46, 57, 58, 65, 132, 119, 107, 190, 152, 106, 178, 140, 102, 133, 115, 102, 68, 67, 68, 54, 58, 68, 46, 50, 60, 31, 36, 40, 37, 38, 39, 69, 63, 63, 92, 83, 83, 78, 73, 74, 89, 80, 80, 87, 76, 74, 94, 81, 71, 121, 103, 98, 141, 126, 119, 146, 138, 137, 160, 150, 152, 164, 144, 143, 168, 141, 138, 179, 140, 125, 200, 172, 156, 197, 177, 164, 167, 152, 145, 106, 101, 102, 54, 56, 62, 53, 57, 64, 49, 52, 59, 43, 46, 53, 42, 45, 51, 63, 64, 72, 105, 93, 84, 156, 126, 89, 152, 121, 90, 123, 108, 101, 71, 73, 75, 73, 79, 91, 50, 54, 66, 34, 39, 45, 36, 37, 39, 70, 64, 64, 98, 89, 90, 85, 79, 81, 89, 81, 80, 65, 57, 54, 72, 61, 55, 130, 111, 108, 167, 149, 140, 132, 122, 119, 128, 121, 124, 170, 154, 149, 199, 178, 172, 205, 175, 163, 207, 177, 161, 192, 169, 152, 154, 141, 132, 86, 84, 88, 53, 56, 63, 57, 60, 67, 51, 54, 61, 47, 51, 57, 49, 53, 60, 54, 55, 61, 75, 66, 60, 114, 96, 74, 139, 124, 111, 136, 130, 134, 95, 99, 105, 90, 96, 108, 64, 69, 81, 43, 49, 56, 40, 41, 44, 71, 65, 66, 106, 96, 97, 90, 83, 84, 90, 82, 82, 73, 66, 63, 97, 87, 84, 164, 142, 141, 165, 144, 132, 97, 87, 82, 88, 83, 87, 181, 166, 159, 206, 189, 180, 201, 179, 170, 218, 194, 183, 193, 174, 159, 137, 127, 119, 67, 67, 74, 51, 54, 62, 55, 58, 65, 52, 55, 62, 50, 53, 60, 46, 49, 53, 47, 44, 44, 93, 83, 77, 130, 118, 109, 140, 129, 123, 152, 145, 150, 144, 145, 148, 103, 106, 115, 71, 74, 87, 47, 53, 61, 45, 46, 51, 78, 72, 75, 116, 107, 108, 88, 79, 81, 90, 84, 83, 93, 88, 85, 105, 97, 96, 148, 127, 125, 152, 128, 116, 81, 66, 61, 77, 65, 70, 164, 141, 136, 186, 162, 155, 191, 166, 161, 211, 190, 185, 184, 169, 158, 117, 110, 103, 57, 58, 66, 52, 55, 65, 55, 58, 65, 54, 57, 64, 49, 52, 59, 42, 42, 45, 69, 61, 56, 129, 116, 109, 162, 150, 146, 124, 112, 108, 142, 129, 129, 161, 155, 153, 107, 107, 113, 67, 71, 83, 50, 56, 65, 45, 46, 52, 89, 83, 85, 122, 112, 114, 96, 87, 88, 99, 90, 91, 105, 98, 97, 107, 100, 98, 115, 99, 96, 121, 96, 90, 98, 74, 67, 102, 83, 79, 132, 107, 103, 153, 126, 121, 175, 148, 142, 189, 163, 156, 158, 142, 137, 89, 86, 84, 50, 52, 58, 47, 50, 60, 47, 50, 59, 47, 49, 57, 43, 43, 50, 46, 45, 49, 85, 77, 75, 151, 136, 132, 162, 148, 144, 125, 114, 112, 145, 129, 122, 151, 138, 131, 115, 115, 120, 77, 84, 94, 62, 70, 79, 51, 53, 59, 94, 88, 88, 121, 110, 112, 106, 97, 98, 108, 99, 100, 111, 102, 103, 95, 89, 86, 72, 59, 56, 115, 95, 91, 139, 118, 112, 152, 131, 121, 186, 162, 153, 178, 154, 147, 165, 146, 138, 158, 140, 137, 107, 98, 98, 53, 54, 57, 43, 47, 54, 42, 46, 55, 41, 44, 53, 36, 37, 44, 36, 36, 42, 46, 46, 49, 87, 81, 81, 158, 146, 145, 171, 159, 158, 131, 121, 118, 165, 148, 140, 171, 155, 147, 131, 127, 129, 83, 86, 92, 63, 67, 74, 60, 60, 65, 104, 97, 97, 120, 110, 112, 104, 95, 96, 107, 98, 99, 111, 103, 103, 107, 102, 99, 100, 89, 86, 136, 122, 120, 149, 135, 131, 181, 162, 152, 228, 206, 197, 194, 176, 169, 157, 147, 141, 101, 95, 96, 56, 56, 60, 44, 50, 54, 43, 47, 54, 44, 46, 54, 44, 45, 52, 37, 36, 42, 38, 37, 42, 46, 45, 48, 77, 72, 71, 146, 136, 134, 182, 173, 173, 143, 133, 129, 168, 151, 142, 185, 168, 160, 143, 134, 131, 92, 87, 89, 61, 59, 63, 73, 70, 75, 114, 106, 108, 123, 112, 115, 104, 95, 96, 108, 99, 100, 115, 106, 107, 114, 108, 106, 113, 104, 102, 84, 74, 74, 76, 70, 68, 149, 139, 138, 168, 155, 156, 136, 126, 126, 96, 93, 92, 48, 48, 51, 44, 48, 52, 44, 49, 53, 44, 46, 51, 49, 50, 57, 46, 46, 53, 44, 42, 48, 41, 39, 43, 54, 51, 49, 79, 71, 66, 115, 104, 99, 150, 141, 139, 163, 151, 146, 174, 156, 146, 174, 157, 146, 166, 151, 145, 132, 120, 118, 85, 77, 79, 94, 89, 93, 125, 116, 118, 126, 115, 118, 108, 99, 100, 111, 102, 103, 113, 104, 105, 115, 109, 107, 114, 106, 105, 86, 78, 78, 81, 78, 78, 76, 73, 79, 59, 55, 63, 73, 69, 75, 64, 65, 67, 42, 45, 48, 48, 52, 56, 49, 51, 53, 52, 50, 52, 59, 57, 62, 55, 54, 60, 47, 46, 51, 42, 39, 41, 64, 56, 50, 107, 95, 86, 130, 116, 108, 128, 117, 111, 168, 155, 148, 189, 173, 164, 171, 153, 143, 169, 151, 142, 170, 155, 149, 117, 107, 107, 104, 97, 102, 127, 118, 122, 129, 118, 122, 107, 98, 99, 110, 101, 102, 111, 102, 103, 115, 107, 105, 118, 110, 108, 119, 111, 109, 120, 114, 112, 79, 76, 77, 40, 38, 44, 64, 62, 68, 48, 49, 50, 42, 43, 47, 53, 52, 57, 71, 68, 69, 93, 87, 87, 70, 64, 66, 59, 57, 62, 57, 56, 61, 57, 51, 51, 93, 79, 73, 134, 117, 109, 151, 134, 126, 135, 118, 111, 152, 138, 131, 188, 176, 170, 182, 167, 160, 169, 150, 138, 178, 163, 154, 137, 128, 127, 118, 111, 115, 131, 121, 127, 131, 122, 125, 109, 100, 101, 112, 103, 104, 112, 103, 104, 117, 109, 107, 120, 112, 110, 121, 113, 110, 123, 115, 113, 108, 103, 102, 64, 60, 63, 61, 58, 61, 50, 50, 50, 63, 62, 64, 95, 92, 94, 97, 90, 89, 125, 116, 113, 103, 94, 93, 86, 80, 81, 79, 73, 75, 83, 74, 73, 126, 111, 109, 155, 137, 135, 164, 147, 145, 148, 131, 129, 147, 132, 126, 171, 158, 151, 177, 161, 152, 166, 144, 131, 172, 150, 140, 153, 138, 134, 130, 120, 120, 132, 122, 123, 135, 125, 128, 111, 102, 103, 110, 101, 103, 114, 105, 106, 119, 111, 110, 120, 112, 110, 122, 114, 112, 125, 117, 115, 125, 117, 117, 97, 90, 90, 58, 53, 52, 64, 61, 60, 87, 82, 82, 131, 124, 123, 112, 102, 98, 125, 113, 107, 133, 119, 114, 137, 123, 118, 100, 88, 85, 103, 92, 91, 139, 125, 127, 154, 138, 141, 155, 139, 142, 154, 138, 140, 156, 140, 136, 180, 162, 154, 176, 155, 144, 150, 126, 114, 144, 118, 107, 139, 120, 114, 128, 116, 114, 131, 121, 119, 133, 123, 125, 111, 102, 103, 111, 102, 104, 116, 107, 108, 119, 111, 109, 121, 113, 111, 125, 117, 115, 129, 121, 119, 130, 120, 120, 115, 106, 103, 93, 86, 81, 102, 96, 94, 118, 110, 108, 152, 141, 138, 142, 128, 122, 139, 123, 114, 136, 117, 108, 141, 120, 111, 116, 98, 90, 117, 104, 101, 144, 130, 131, 152, 137, 138, 152, 137, 139, 144, 129, 130, 145, 129, 124, 152, 130, 121, 135, 108, 96, 117, 92, 80, 125, 104, 93, 124, 108, 102, 131, 119, 119, 137, 124, 124, 133, 123, 125, 112, 103, 104, 112, 103, 104, 117, 108, 109, 119, 111, 110, 124, 116, 114, 126, 118, 117, 127, 119, 117, 129, 116, 115, 139, 128, 122, 127, 118, 111, 119, 111, 106, 133, 121, 115, 154, 139, 131, 154, 137, 128, 148, 130, 119, 140, 118, 105, 129, 104, 92, 124, 103, 93, 131, 117, 113, 147, 134, 133, 147, 134, 133, 146, 134, 133, 148, 135, 134, 145, 130, 127, 142, 120, 113, 129, 104, 95, 127, 105, 97, 137, 122, 115, 136, 124, 121, 136, 125, 127, 138, 125, 127, 133, 123, 126, 111, 101, 102, 112, 103, 104, 117, 108, 109, 121, 112, 113, 124, 115, 116, 123, 114, 115, 126, 117, 117, 126, 113, 109, 131, 118, 111, 131, 119, 110, 121, 110, 99, 141, 123, 111, 150, 129, 116, 158, 138, 125, 156, 134, 121, 148, 123, 108, 131, 107, 94, 119, 101, 92, 144, 130, 125, 147, 136, 135, 143, 133, 132, 143, 133, 131, 144, 133, 132, 144, 130, 130, 147, 132, 131, 145, 130, 129, 142, 127, 127, 139, 128, 128, 138, 129, 129, 137, 127, 128, 132, 122, 123, 133, 123, 126, 109, 100, 101, 110, 101, 102, 114, 105, 106, 116, 107, 109, 119, 110, 111, 121, 112, 113, 122, 113, 113, 124, 115, 113, 125, 113, 108, 128, 114, 105, 122, 105, 93, 129, 107, 94, 134, 111, 97, 149, 126, 112, 155, 132, 118, 144, 120, 108, 135, 114, 104, 136, 119, 112, 145, 131, 128, 144, 134, 133, 143, 133, 133, 141, 131, 131, 141, 131, 130, 143, 130, 131, 142, 129, 130, 140, 127, 128, 138, 125, 126, 136, 125, 127, 133, 123, 124, 133, 123, 123, 129, 119, 120, 128, 119, 121, 105, 96, 97, 107, 98, 99, 111, 102, 103, 114, 105, 106, 119, 110, 111, 120, 111, 112, 118, 109, 110, 119, 113, 113, 126, 117, 114, 123, 108, 100, 123, 103, 92, 121, 98, 86, 124, 101, 89, 130, 107, 95, 129, 106, 94, 131, 111, 103, 139, 121, 115, 146, 131, 128, 142, 129, 128, 142, 132, 133, 143, 133, 134, 141, 131, 132, 141, 131, 132, 138, 127, 129, 138, 126, 128, 135, 123, 126, 132, 121, 123, 133, 122, 124, 130, 120, 121, 128, 118, 119, 127, 117, 118, 127, 117, 120], \"height\": 32, \"channels\": 3, \"width\": 32, \"type\": \"image\", \"id\": 4895412624}], \"selected_variable\": {\"name\": [\"<SArray>\"], \"dtype\": \"Image\", \"view_component\": \"Images\", \"view_file\": \"sarray\", \"descriptives\": {\"rows\": 1}, \"type\": \"SArray\", \"view_components\": [\"Images\"]}}, e);\n",
       "                });\n",
       "            })();\n",
       "        "
      ]
     },
     "metadata": {},
     "output_type": "display_data"
    }
   ],
   "source": [
    "dog[(dog['id']==16976)]['image'].show()"
   ]
  },
  {
   "cell_type": "code",
   "execution_count": 13,
   "metadata": {
    "collapsed": false
   },
   "outputs": [
    {
     "data": {
      "application/javascript": [
       "$(\"head\").append($(\"<link/>\").attr({\n",
       "  rel:  \"stylesheet\",\n",
       "  type: \"text/css\",\n",
       "  href: \"//cdnjs.cloudflare.com/ajax/libs/font-awesome/4.1.0/css/font-awesome.min.css\"\n",
       "}));\n",
       "$(\"head\").append($(\"<link/>\").attr({\n",
       "  rel:  \"stylesheet\",\n",
       "  type: \"text/css\",\n",
       "  href: \"//dato.com/files/canvas/1.9/css/canvas.css\"\n",
       "}));\n",
       "\n",
       "            (function(){\n",
       "\n",
       "                var e = null;\n",
       "                if (typeof element == 'undefined') {\n",
       "                    var scripts = document.getElementsByTagName('script');\n",
       "                    var thisScriptTag = scripts[scripts.length-1];\n",
       "                    var parentDiv = thisScriptTag.parentNode;\n",
       "                    e = document.createElement('div');\n",
       "                    parentDiv.appendChild(e);\n",
       "                } else {\n",
       "                    e = element[0];\n",
       "                }\n",
       "\n",
       "                if (typeof requirejs !== 'undefined') {\n",
       "                    // disable load timeout; ipython_app.js is large and can take a while to load.\n",
       "                    requirejs.config({waitSeconds: 0});\n",
       "                }\n",
       "\n",
       "                require(['//dato.com/files/canvas/1.9/js/ipython_app.js'], function(IPythonApp){\n",
       "                    var app = new IPythonApp();\n",
       "                    app.attachView('sarray','Images', {\"ipython\": true, \"rows\": [{\"format\": \"raw\", \"value\": [215, 219, 231, 215, 219, 232, 216, 219, 233, 214, 217, 230, 213, 216, 230, 209, 215, 226, 208, 217, 221, 206, 215, 219, 201, 208, 217, 197, 203, 218, 194, 200, 221, 199, 204, 221, 142, 128, 131, 76, 46, 46, 81, 55, 57, 147, 136, 139, 160, 149, 154, 152, 141, 144, 156, 147, 150, 159, 148, 154, 160, 153, 157, 164, 156, 160, 160, 154, 158, 158, 151, 156, 159, 149, 157, 159, 150, 156, 157, 147, 154, 156, 145, 153, 152, 142, 149, 147, 137, 143, 141, 131, 136, 142, 131, 136, 215, 219, 231, 215, 219, 232, 215, 219, 232, 213, 217, 229, 212, 216, 229, 212, 214, 217, 206, 215, 217, 203, 211, 219, 197, 205, 218, 194, 201, 218, 196, 201, 218, 178, 180, 192, 92, 56, 55, 77, 50, 49, 112, 98, 100, 173, 162, 169, 162, 153, 157, 160, 152, 154, 164, 157, 159, 164, 155, 160, 165, 158, 163, 165, 155, 162, 167, 160, 166, 164, 155, 162, 160, 148, 155, 153, 142, 149, 160, 150, 159, 162, 154, 162, 157, 151, 156, 152, 143, 148, 139, 129, 133, 135, 124, 128, 215, 219, 231, 215, 219, 231, 214, 218, 230, 214, 218, 229, 214, 217, 227, 216, 211, 207, 207, 213, 215, 200, 207, 218, 195, 202, 220, 193, 201, 216, 196, 202, 216, 125, 101, 101, 79, 49, 48, 88, 67, 67, 157, 147, 152, 168, 160, 166, 164, 155, 158, 170, 163, 168, 169, 164, 166, 169, 160, 165, 169, 162, 167, 167, 159, 167, 166, 156, 164, 166, 155, 163, 163, 153, 158, 160, 150, 157, 160, 151, 158, 159, 150, 156, 157, 148, 155, 155, 145, 152, 152, 141, 147, 143, 131, 135, 216, 220, 232, 215, 219, 231, 214, 218, 230, 214, 218, 230, 214, 217, 227, 216, 213, 207, 205, 210, 216, 199, 203, 219, 196, 202, 219, 194, 204, 220, 164, 155, 162, 89, 54, 48, 77, 52, 52, 126, 110, 113, 173, 162, 168, 167, 159, 163, 170, 162, 166, 172, 163, 168, 171, 164, 168, 171, 163, 168, 171, 162, 169, 169, 161, 167, 165, 153, 160, 165, 154, 160, 163, 153, 158, 166, 155, 162, 165, 154, 160, 155, 144, 149, 156, 144, 151, 153, 143, 151, 151, 140, 148, 143, 131, 137, 217, 221, 233, 215, 219, 231, 215, 219, 231, 215, 219, 231, 217, 219, 229, 221, 222, 219, 199, 203, 211, 195, 202, 217, 198, 202, 220, 190, 193, 206, 109, 80, 77, 78, 50, 49, 94, 72, 74, 163, 154, 155, 166, 157, 158, 169, 158, 158, 173, 163, 167, 170, 158, 161, 172, 161, 168, 173, 166, 170, 173, 163, 170, 171, 161, 164, 169, 155, 160, 170, 158, 162, 162, 151, 157, 162, 151, 157, 167, 156, 164, 164, 153, 160, 158, 147, 153, 157, 146, 151, 149, 138, 144, 143, 132, 137, 217, 221, 233, 215, 219, 231, 214, 218, 230, 213, 217, 229, 222, 224, 232, 228, 227, 233, 192, 196, 211, 196, 202, 220, 196, 209, 225, 150, 128, 133, 80, 48, 46, 76, 51, 56, 144, 129, 134, 167, 158, 161, 165, 155, 156, 173, 161, 163, 175, 164, 168, 173, 162, 168, 175, 167, 171, 175, 165, 167, 174, 162, 169, 168, 157, 159, 156, 145, 146, 171, 159, 162, 168, 157, 163, 167, 156, 163, 167, 155, 165, 168, 157, 165, 159, 147, 155, 151, 140, 144, 145, 133, 137, 149, 137, 141, 217, 221, 233, 216, 220, 232, 214, 218, 230, 215, 219, 231, 166, 167, 174, 200, 198, 206, 194, 201, 218, 194, 200, 219, 177, 173, 184, 93, 65, 61, 75, 53, 53, 120, 100, 97, 172, 162, 166, 169, 158, 161, 167, 154, 156, 177, 166, 169, 181, 171, 175, 174, 166, 173, 175, 166, 172, 171, 160, 164, 173, 163, 171, 136, 125, 129, 101, 91, 88, 155, 141, 141, 175, 164, 169, 174, 162, 170, 167, 156, 165, 165, 154, 162, 161, 150, 157, 150, 138, 143, 148, 136, 140, 147, 135, 139, 217, 221, 233, 216, 220, 232, 215, 219, 231, 217, 221, 234, 113, 108, 113, 140, 130, 127, 163, 161, 169, 144, 143, 149, 153, 139, 139, 139, 122, 116, 132, 114, 102, 164, 147, 139, 161, 150, 142, 150, 138, 130, 135, 122, 116, 152, 138, 134, 149, 132, 127, 175, 162, 161, 180, 168, 175, 176, 164, 170, 177, 171, 180, 136, 126, 130, 87, 76, 68, 137, 121, 119, 178, 168, 173, 173, 162, 169, 168, 157, 164, 163, 152, 158, 158, 146, 151, 160, 147, 155, 163, 150, 158, 160, 147, 154, 218, 220, 233, 216, 219, 232, 215, 219, 232, 208, 212, 224, 92, 82, 85, 96, 78, 69, 111, 99, 93, 129, 116, 110, 167, 156, 155, 179, 168, 171, 171, 161, 158, 157, 137, 124, 120, 103, 92, 117, 98, 86, 102, 86, 81, 127, 108, 96, 147, 122, 108, 139, 122, 116, 168, 157, 155, 155, 145, 145, 200, 199, 207, 157, 149, 147, 116, 102, 91, 150, 137, 137, 176, 166, 170, 173, 162, 168, 169, 156, 164, 159, 147, 153, 159, 146, 150, 164, 151, 158, 166, 153, 161, 159, 145, 153, 217, 219, 232, 216, 218, 231, 217, 218, 229, 193, 195, 207, 95, 79, 74, 110, 88, 80, 154, 138, 132, 181, 165, 159, 207, 200, 205, 205, 207, 219, 199, 200, 209, 159, 138, 131, 143, 118, 101, 137, 110, 93, 115, 98, 91, 118, 103, 92, 184, 166, 159, 125, 113, 114, 149, 132, 126, 117, 101, 102, 213, 214, 226, 172, 170, 179, 133, 121, 123, 157, 143, 143, 147, 131, 129, 174, 158, 166, 169, 156, 165, 162, 149, 157, 168, 156, 164, 166, 154, 162, 162, 151, 158, 158, 146, 154, 218, 220, 233, 216, 218, 232, 216, 220, 234, 174, 176, 187, 90, 73, 70, 148, 125, 109, 194, 169, 157, 215, 204, 208, 220, 221, 230, 220, 223, 231, 218, 216, 224, 174, 154, 152, 162, 140, 127, 127, 100, 84, 146, 120, 103, 147, 124, 116, 169, 145, 133, 138, 122, 113, 148, 134, 124, 123, 103, 97, 154, 143, 141, 153, 143, 144, 133, 124, 127, 151, 136, 137, 140, 119, 111, 156, 139, 134, 175, 164, 169, 175, 160, 169, 170, 156, 165, 164, 151, 158, 156, 144, 150, 158, 146, 152, 218, 220, 233, 214, 218, 231, 216, 219, 233, 173, 164, 169, 134, 106, 90, 184, 152, 131, 205, 184, 171, 218, 214, 222, 221, 222, 232, 225, 226, 235, 218, 220, 231, 187, 172, 169, 156, 136, 127, 140, 116, 102, 147, 115, 98, 126, 99, 84, 171, 135, 105, 105, 81, 71, 132, 112, 105, 95, 80, 75, 130, 118, 114, 140, 127, 123, 128, 115, 114, 140, 125, 124, 159, 143, 139, 126, 113, 112, 165, 156, 163, 159, 144, 150, 163, 147, 148, 161, 145, 149, 161, 145, 149, 163, 148, 151, 217, 219, 232, 214, 218, 230, 218, 216, 229, 152, 133, 128, 169, 146, 138, 194, 172, 157, 201, 173, 151, 210, 197, 193, 215, 213, 223, 216, 218, 226, 203, 201, 209, 157, 129, 111, 145, 112, 92, 141, 114, 99, 133, 104, 90, 114, 84, 72, 183, 145, 108, 135, 106, 86, 143, 110, 95, 110, 95, 93, 200, 199, 207, 153, 147, 148, 129, 112, 111, 119, 102, 100, 144, 131, 127, 152, 145, 156, 188, 186, 198, 108, 92, 95, 99, 83, 78, 160, 140, 141, 176, 157, 168, 153, 134, 136, 218, 220, 233, 217, 219, 232, 209, 210, 222, 141, 114, 104, 212, 201, 202, 212, 206, 208, 184, 150, 123, 193, 164, 138, 202, 187, 180, 209, 207, 215, 200, 193, 196, 146, 111, 92, 141, 107, 88, 120, 97, 84, 86, 68, 60, 117, 87, 74, 163, 126, 95, 140, 103, 84, 139, 102, 78, 169, 141, 129, 218, 219, 228, 131, 123, 125, 104, 88, 81, 98, 83, 76, 122, 105, 97, 143, 138, 161, 209, 208, 226, 154, 141, 139, 99, 80, 73, 153, 127, 129, 156, 139, 144, 135, 116, 116, 219, 221, 234, 216, 218, 232, 204, 204, 219, 154, 126, 110, 213, 204, 206, 217, 214, 217, 170, 136, 110, 157, 118, 88, 170, 135, 108, 197, 174, 168, 170, 142, 125, 143, 103, 83, 122, 90, 75, 98, 76, 68, 68, 55, 55, 76, 59, 56, 118, 84, 71, 111, 79, 63, 107, 76, 63, 158, 121, 101, 196, 192, 200, 115, 101, 104, 106, 90, 83, 103, 87, 77, 128, 107, 97, 111, 97, 127, 206, 205, 220, 206, 209, 220, 157, 142, 127, 113, 91, 76, 121, 105, 101, 164, 149, 152, 220, 221, 234, 215, 218, 232, 208, 209, 223, 159, 136, 126, 213, 211, 218, 204, 202, 208, 140, 115, 102, 132, 104, 88, 148, 112, 93, 160, 124, 97, 136, 92, 70, 122, 86, 69, 97, 73, 60, 101, 74, 64, 84, 63, 60, 67, 53, 52, 82, 62, 57, 92, 71, 60, 82, 59, 53, 145, 116, 103, 125, 116, 120, 105, 91, 87, 92, 77, 76, 94, 76, 73, 119, 96, 84, 131, 113, 124, 207, 209, 223, 217, 219, 236, 157, 150, 150, 127, 115, 114, 138, 122, 119, 173, 160, 166, 219, 221, 234, 218, 223, 235, 173, 164, 171, 129, 109, 105, 219, 218, 228, 186, 179, 188, 102, 86, 85, 96, 82, 77, 108, 88, 76, 136, 106, 91, 129, 93, 74, 105, 73, 61, 79, 60, 55, 76, 57, 54, 73, 55, 54, 74, 55, 53, 71, 57, 55, 88, 70, 68, 84, 66, 63, 79, 66, 70, 76, 65, 70, 99, 87, 86, 67, 53, 55, 102, 84, 78, 118, 94, 83, 150, 132, 131, 211, 204, 220, 213, 184, 201, 202, 191, 208, 177, 176, 188, 146, 130, 133, 170, 157, 160, 219, 221, 233, 211, 210, 220, 116, 88, 81, 132, 117, 117, 226, 229, 238, 171, 156, 160, 104, 84, 77, 96, 80, 77, 95, 83, 77, 105, 87, 80, 119, 94, 77, 95, 70, 60, 72, 56, 54, 68, 54, 55, 75, 56, 53, 77, 60, 55, 78, 65, 63, 95, 79, 77, 79, 65, 65, 51, 40, 52, 84, 74, 81, 94, 83, 86, 74, 60, 60, 127, 109, 101, 125, 102, 92, 140, 120, 118, 207, 199, 211, 216, 198, 214, 195, 188, 197, 183, 180, 187, 146, 132, 139, 169, 153, 163, 222, 227, 240, 167, 132, 134, 121, 81, 62, 101, 85, 78, 172, 167, 178, 163, 155, 154, 127, 115, 110, 130, 116, 114, 125, 113, 112, 111, 95, 90, 117, 98, 88, 79, 63, 58, 63, 51, 52, 71, 56, 55, 88, 69, 62, 90, 72, 69, 90, 75, 73, 101, 87, 79, 70, 58, 61, 55, 45, 56, 109, 100, 107, 68, 56, 59, 86, 72, 72, 133, 116, 110, 130, 109, 101, 113, 94, 92, 210, 210, 217, 221, 228, 244, 177, 167, 158, 122, 107, 95, 140, 123, 124, 168, 151, 161, 201, 189, 197, 125, 74, 57, 137, 92, 70, 99, 73, 63, 69, 58, 67, 117, 113, 124, 138, 134, 143, 123, 113, 115, 124, 112, 112, 152, 136, 134, 114, 97, 90, 76, 60, 57, 64, 52, 54, 82, 68, 66, 96, 80, 73, 104, 90, 85, 77, 66, 65, 68, 56, 58, 65, 55, 62, 63, 53, 64, 83, 74, 81, 78, 66, 67, 117, 104, 103, 120, 105, 102, 90, 71, 67, 113, 97, 98, 222, 223, 233, 211, 207, 217, 150, 131, 121, 127, 101, 90, 145, 122, 128, 165, 147, 150, 149, 103, 96, 116, 73, 57, 133, 95, 73, 122, 85, 68, 65, 55, 58, 73, 68, 72, 122, 118, 130, 121, 114, 121, 107, 95, 98, 136, 121, 117, 102, 87, 81, 75, 59, 57, 77, 64, 66, 92, 79, 77, 87, 74, 70, 100, 89, 86, 79, 69, 66, 66, 50, 55, 51, 39, 48, 63, 53, 60, 89, 78, 82, 104, 92, 93, 94, 83, 81, 93, 80, 81, 127, 110, 113, 162, 149, 155, 199, 193, 203, 141, 122, 124, 104, 83, 79, 151, 126, 128, 168, 146, 155, 160, 140, 144, 118, 60, 49, 113, 84, 73, 131, 92, 70, 126, 97, 72, 90, 77, 71, 70, 62, 64, 74, 67, 71, 91, 85, 89, 87, 77, 78, 103, 90, 86, 78, 66, 65, 74, 61, 61, 88, 75, 76, 98, 85, 83, 93, 82, 83, 87, 76, 78, 87, 73, 70, 83, 64, 58, 52, 39, 44, 60, 49, 53, 81, 69, 71, 93, 80, 80, 117, 104, 102, 164, 150, 155, 188, 172, 179, 188, 174, 182, 171, 157, 162, 134, 117, 120, 143, 124, 126, 172, 153, 156, 169, 151, 157, 167, 147, 154, 100, 62, 57, 106, 83, 73, 111, 83, 67, 118, 97, 89, 167, 154, 161, 153, 145, 150, 118, 109, 114, 78, 69, 74, 87, 78, 80, 86, 76, 76, 77, 65, 65, 76, 62, 60, 87, 72, 71, 125, 112, 111, 158, 149, 153, 174, 164, 169, 158, 145, 152, 119, 105, 106, 75, 62, 65, 86, 75, 79, 131, 117, 121, 169, 155, 157, 174, 158, 161, 180, 164, 168, 182, 165, 170, 185, 169, 172, 189, 174, 177, 190, 174, 181, 186, 169, 179, 178, 159, 165, 174, 158, 161, 178, 161, 167, 90, 71, 67, 84, 66, 64, 92, 73, 70, 163, 145, 150, 187, 175, 181, 191, 181, 188, 191, 179, 189, 181, 170, 178, 174, 165, 171, 159, 148, 153, 128, 117, 121, 139, 128, 129, 163, 151, 155, 189, 177, 183, 191, 179, 185, 191, 178, 186, 193, 180, 191, 191, 180, 188, 171, 160, 163, 175, 162, 165, 187, 170, 174, 188, 171, 177, 185, 168, 174, 186, 170, 175, 186, 169, 175, 187, 171, 175, 186, 169, 174, 186, 170, 176, 185, 170, 177, 180, 161, 167, 176, 159, 163, 176, 159, 166, 75, 61, 60, 70, 60, 54, 138, 124, 124, 195, 182, 186, 195, 183, 184, 195, 183, 187, 191, 179, 184, 186, 174, 175, 189, 177, 179, 195, 184, 188, 194, 183, 188, 194, 182, 185, 196, 184, 190, 195, 183, 191, 195, 182, 189, 191, 179, 184, 189, 178, 184, 191, 179, 185, 193, 180, 183, 186, 169, 172, 183, 165, 169, 186, 168, 174, 190, 173, 179, 188, 172, 177, 188, 171, 176, 192, 175, 181, 193, 177, 182, 191, 175, 181, 188, 173, 179, 181, 163, 167, 181, 164, 168, 182, 165, 173, 65, 57, 56, 126, 114, 115, 191, 176, 178, 195, 183, 184, 201, 187, 193, 202, 188, 197, 200, 186, 192, 192, 175, 177, 189, 172, 176, 196, 181, 188, 193, 179, 185, 193, 178, 182, 195, 180, 187, 199, 186, 194, 197, 185, 191, 193, 182, 188, 191, 178, 183, 190, 175, 180, 190, 173, 177, 187, 168, 172, 182, 165, 168, 183, 165, 168, 184, 167, 170, 186, 170, 173, 184, 168, 172, 186, 170, 176, 188, 173, 179, 186, 171, 176, 185, 168, 173, 180, 161, 165, 184, 167, 171, 185, 168, 177, 87, 78, 82, 186, 171, 175, 202, 186, 189, 203, 192, 196, 201, 188, 194, 199, 184, 191, 200, 188, 192, 203, 191, 194, 195, 180, 184, 199, 185, 192, 199, 186, 193, 198, 186, 193, 200, 186, 192, 199, 187, 193, 199, 188, 192, 195, 183, 187, 193, 176, 181, 191, 173, 178, 192, 174, 180, 188, 171, 175, 184, 168, 171, 180, 163, 166, 182, 163, 165, 187, 171, 172, 187, 170, 172, 186, 169, 174, 185, 169, 176, 186, 170, 176, 185, 168, 174, 182, 163, 167, 187, 170, 177, 185, 169, 178, 150, 139, 143, 195, 180, 182, 196, 182, 181, 203, 190, 191, 204, 189, 193, 204, 186, 191, 195, 178, 179, 198, 185, 186, 198, 183, 187, 203, 189, 196, 202, 190, 196, 199, 188, 194, 202, 188, 195, 196, 183, 189, 197, 184, 188, 191, 177, 181, 193, 176, 182, 194, 180, 185, 195, 180, 186, 195, 180, 184, 192, 177, 181, 186, 168, 171, 183, 164, 166, 186, 169, 172, 190, 172, 175, 191, 173, 176, 186, 170, 175, 187, 170, 176, 185, 168, 174, 186, 167, 171, 189, 171, 178, 189, 173, 181, 190, 177, 181, 200, 183, 186, 202, 187, 188, 204, 189, 194, 203, 190, 195, 203, 190, 193, 199, 183, 182, 197, 182, 181, 203, 189, 192, 204, 191, 197, 199, 186, 191, 196, 182, 186, 203, 189, 195, 198, 183, 188, 196, 181, 185, 195, 179, 184, 196, 182, 186, 198, 186, 190, 199, 184, 190, 193, 178, 183, 190, 175, 178, 187, 169, 170, 190, 171, 173, 190, 174, 178, 190, 172, 176, 184, 167, 169, 185, 169, 174, 189, 172, 178, 186, 168, 174, 187, 168, 171, 185, 166, 171, 191, 173, 180, 200, 186, 189, 201, 185, 187, 201, 184, 188, 206, 191, 198, 204, 192, 197, 203, 191, 195, 199, 185, 185, 197, 180, 179, 202, 188, 191, 204, 191, 196, 202, 187, 190, 195, 180, 181, 198, 184, 190, 198, 183, 187, 199, 184, 186, 194, 179, 181, 192, 180, 181, 193, 178, 181, 193, 176, 181, 190, 172, 176, 184, 167, 169, 185, 167, 167, 187, 170, 170, 190, 175, 178, 191, 172, 177, 192, 174, 179, 193, 176, 182, 193, 176, 182, 186, 168, 174, 181, 162, 164, 177, 157, 160, 183, 164, 168, 204, 190, 194, 198, 182, 182, 195, 177, 175, 203, 188, 188, 203, 189, 191, 203, 186, 190, 201, 181, 184, 195, 177, 174, 203, 189, 191, 204, 191, 197, 202, 188, 191, 193, 178, 178, 192, 177, 181, 197, 182, 186, 199, 185, 187, 192, 176, 176, 184, 168, 168, 189, 171, 172, 188, 168, 170, 187, 168, 169, 185, 166, 166, 185, 166, 166, 186, 169, 169, 190, 173, 176, 192, 174, 179, 195, 179, 185, 195, 179, 186, 194, 178, 184, 187, 169, 175, 182, 163, 165, 177, 158, 160, 187, 169, 173, 206, 192, 195, 203, 187, 187, 195, 176, 172, 196, 175, 172, 198, 182, 180, 195, 178, 175, 193, 172, 169, 191, 171, 166, 198, 182, 181, 201, 187, 194, 199, 185, 190, 190, 173, 174, 190, 175, 175, 194, 179, 185, 193, 179, 182, 186, 168, 167, 187, 167, 167, 187, 167, 168, 187, 167, 169, 186, 166, 164, 186, 166, 165, 183, 163, 163, 188, 169, 169, 191, 172, 174, 193, 177, 183, 196, 182, 188, 193, 178, 185, 192, 176, 184, 187, 170, 176, 188, 170, 173, 192, 173, 177, 194, 178, 187], \"height\": 32, \"channels\": 3, \"width\": 32, \"type\": \"image\", \"id\": 4895414736}], \"selected_variable\": {\"name\": [\"<SArray>\"], \"dtype\": \"Image\", \"view_component\": \"Images\", \"view_file\": \"sarray\", \"descriptives\": {\"rows\": 1}, \"type\": \"SArray\", \"view_components\": [\"Images\"]}}, e);\n",
       "                });\n",
       "            })();\n",
       "        "
      ]
     },
     "metadata": {},
     "output_type": "display_data"
    }
   ],
   "source": [
    "cat[(cat['id']==16289)]['image'].show()"
   ]
  },
  {
   "cell_type": "code",
   "execution_count": 14,
   "metadata": {
    "collapsed": false
   },
   "outputs": [
    {
     "data": {
      "text/html": [
       "<pre>Starting pairwise querying.</pre>"
      ],
      "text/plain": [
       "Starting pairwise querying."
      ]
     },
     "metadata": {},
     "output_type": "display_data"
    },
    {
     "data": {
      "text/html": [
       "<pre>+--------------+---------+-------------+--------------+</pre>"
      ],
      "text/plain": [
       "+--------------+---------+-------------+--------------+"
      ]
     },
     "metadata": {},
     "output_type": "display_data"
    },
    {
     "data": {
      "text/html": [
       "<pre>| Query points | # Pairs | % Complete. | Elapsed Time |</pre>"
      ],
      "text/plain": [
       "| Query points | # Pairs | % Complete. | Elapsed Time |"
      ]
     },
     "metadata": {},
     "output_type": "display_data"
    },
    {
     "data": {
      "text/html": [
       "<pre>+--------------+---------+-------------+--------------+</pre>"
      ],
      "text/plain": [
       "+--------------+---------+-------------+--------------+"
      ]
     },
     "metadata": {},
     "output_type": "display_data"
    },
    {
     "data": {
      "text/html": [
       "<pre>| 0            | 1       | 0.196464    | 10.544ms     |</pre>"
      ],
      "text/plain": [
       "| 0            | 1       | 0.196464    | 10.544ms     |"
      ]
     },
     "metadata": {},
     "output_type": "display_data"
    },
    {
     "data": {
      "text/html": [
       "<pre>| Done         |         | 100         | 102.713ms    |</pre>"
      ],
      "text/plain": [
       "| Done         |         | 100         | 102.713ms    |"
      ]
     },
     "metadata": {},
     "output_type": "display_data"
    },
    {
     "data": {
      "text/html": [
       "<pre>+--------------+---------+-------------+--------------+</pre>"
      ],
      "text/plain": [
       "+--------------+---------+-------------+--------------+"
      ]
     },
     "metadata": {},
     "output_type": "display_data"
    },
    {
     "data": {
      "text/plain": [
       "36.15573070978294"
      ]
     },
     "execution_count": 14,
     "metadata": {},
     "output_type": "execute_result"
    }
   ],
   "source": [
    "cat_model.query(image_test[0:1])['distance'].mean()"
   ]
  },
  {
   "cell_type": "code",
   "execution_count": 15,
   "metadata": {
    "collapsed": false
   },
   "outputs": [
    {
     "data": {
      "text/html": [
       "<pre>Starting pairwise querying.</pre>"
      ],
      "text/plain": [
       "Starting pairwise querying."
      ]
     },
     "metadata": {},
     "output_type": "display_data"
    },
    {
     "data": {
      "text/html": [
       "<pre>+--------------+---------+-------------+--------------+</pre>"
      ],
      "text/plain": [
       "+--------------+---------+-------------+--------------+"
      ]
     },
     "metadata": {},
     "output_type": "display_data"
    },
    {
     "data": {
      "text/html": [
       "<pre>| Query points | # Pairs | % Complete. | Elapsed Time |</pre>"
      ],
      "text/plain": [
       "| Query points | # Pairs | % Complete. | Elapsed Time |"
      ]
     },
     "metadata": {},
     "output_type": "display_data"
    },
    {
     "data": {
      "text/html": [
       "<pre>+--------------+---------+-------------+--------------+</pre>"
      ],
      "text/plain": [
       "+--------------+---------+-------------+--------------+"
      ]
     },
     "metadata": {},
     "output_type": "display_data"
    },
    {
     "data": {
      "text/html": [
       "<pre>| 0            | 1       | 0.196464    | 21.098ms     |</pre>"
      ],
      "text/plain": [
       "| 0            | 1       | 0.196464    | 21.098ms     |"
      ]
     },
     "metadata": {},
     "output_type": "display_data"
    },
    {
     "data": {
      "text/html": [
       "<pre>| Done         |         | 100         | 93.419ms     |</pre>"
      ],
      "text/plain": [
       "| Done         |         | 100         | 93.419ms     |"
      ]
     },
     "metadata": {},
     "output_type": "display_data"
    },
    {
     "data": {
      "text/html": [
       "<pre>+--------------+---------+-------------+--------------+</pre>"
      ],
      "text/plain": [
       "+--------------+---------+-------------+--------------+"
      ]
     },
     "metadata": {},
     "output_type": "display_data"
    },
    {
     "data": {
      "text/plain": [
       "37.77071136184156"
      ]
     },
     "execution_count": 15,
     "metadata": {},
     "output_type": "execute_result"
    }
   ],
   "source": [
    "dog_model.query(image_test[0:1])['distance'].mean()"
   ]
  },
  {
   "cell_type": "code",
   "execution_count": 16,
   "metadata": {
    "collapsed": true
   },
   "outputs": [],
   "source": [
    "automobile_test = image_test[(image_test['label']=='automobile')]\n",
    "cat_test = image_test[(image_test['label']=='cat')]\n",
    "dog_test = image_test[(image_test['label']=='dog')]\n",
    "bird_test = image_test[(image_test['label']=='bird')]"
   ]
  },
  {
   "cell_type": "code",
   "execution_count": 17,
   "metadata": {
    "collapsed": false
   },
   "outputs": [
    {
     "data": {
      "text/html": [
       "<pre>Starting blockwise querying.</pre>"
      ],
      "text/plain": [
       "Starting blockwise querying."
      ]
     },
     "metadata": {},
     "output_type": "display_data"
    },
    {
     "data": {
      "text/html": [
       "<pre>max rows per data block: 7668</pre>"
      ],
      "text/plain": [
       "max rows per data block: 7668"
      ]
     },
     "metadata": {},
     "output_type": "display_data"
    },
    {
     "data": {
      "text/html": [
       "<pre>number of reference data blocks: 4</pre>"
      ],
      "text/plain": [
       "number of reference data blocks: 4"
      ]
     },
     "metadata": {},
     "output_type": "display_data"
    },
    {
     "data": {
      "text/html": [
       "<pre>number of query data blocks: 1</pre>"
      ],
      "text/plain": [
       "number of query data blocks: 1"
      ]
     },
     "metadata": {},
     "output_type": "display_data"
    },
    {
     "data": {
      "text/html": [
       "<pre>+--------------+---------+-------------+--------------+</pre>"
      ],
      "text/plain": [
       "+--------------+---------+-------------+--------------+"
      ]
     },
     "metadata": {},
     "output_type": "display_data"
    },
    {
     "data": {
      "text/html": [
       "<pre>| Query points | # Pairs | % Complete. | Elapsed Time |</pre>"
      ],
      "text/plain": [
       "| Query points | # Pairs | % Complete. | Elapsed Time |"
      ]
     },
     "metadata": {},
     "output_type": "display_data"
    },
    {
     "data": {
      "text/html": [
       "<pre>+--------------+---------+-------------+--------------+</pre>"
      ],
      "text/plain": [
       "+--------------+---------+-------------+--------------+"
      ]
     },
     "metadata": {},
     "output_type": "display_data"
    },
    {
     "data": {
      "text/html": [
       "<pre>| 1000         | 127000  | 24.9509     | 519.336ms    |</pre>"
      ],
      "text/plain": [
       "| 1000         | 127000  | 24.9509     | 519.336ms    |"
      ]
     },
     "metadata": {},
     "output_type": "display_data"
    },
    {
     "data": {
      "text/html": [
       "<pre>| Done         | 509000  | 100         | 597.673ms    |</pre>"
      ],
      "text/plain": [
       "| Done         | 509000  | 100         | 597.673ms    |"
      ]
     },
     "metadata": {},
     "output_type": "display_data"
    },
    {
     "data": {
      "text/html": [
       "<pre>+--------------+---------+-------------+--------------+</pre>"
      ],
      "text/plain": [
       "+--------------+---------+-------------+--------------+"
      ]
     },
     "metadata": {},
     "output_type": "display_data"
    }
   ],
   "source": [
    "dog_cat_neighbors = cat_model.query(dog_test, k=1)"
   ]
  },
  {
   "cell_type": "code",
   "execution_count": 21,
   "metadata": {
    "collapsed": false
   },
   "outputs": [
    {
     "data": {
      "text/html": [
       "<pre>Starting blockwise querying.</pre>"
      ],
      "text/plain": [
       "Starting blockwise querying."
      ]
     },
     "metadata": {},
     "output_type": "display_data"
    },
    {
     "data": {
      "text/html": [
       "<pre>max rows per data block: 7668</pre>"
      ],
      "text/plain": [
       "max rows per data block: 7668"
      ]
     },
     "metadata": {},
     "output_type": "display_data"
    },
    {
     "data": {
      "text/html": [
       "<pre>number of reference data blocks: 4</pre>"
      ],
      "text/plain": [
       "number of reference data blocks: 4"
      ]
     },
     "metadata": {},
     "output_type": "display_data"
    },
    {
     "data": {
      "text/html": [
       "<pre>number of query data blocks: 1</pre>"
      ],
      "text/plain": [
       "number of query data blocks: 1"
      ]
     },
     "metadata": {},
     "output_type": "display_data"
    },
    {
     "data": {
      "text/html": [
       "<pre>+--------------+---------+-------------+--------------+</pre>"
      ],
      "text/plain": [
       "+--------------+---------+-------------+--------------+"
      ]
     },
     "metadata": {},
     "output_type": "display_data"
    },
    {
     "data": {
      "text/html": [
       "<pre>| Query points | # Pairs | % Complete. | Elapsed Time |</pre>"
      ],
      "text/plain": [
       "| Query points | # Pairs | % Complete. | Elapsed Time |"
      ]
     },
     "metadata": {},
     "output_type": "display_data"
    },
    {
     "data": {
      "text/html": [
       "<pre>+--------------+---------+-------------+--------------+</pre>"
      ],
      "text/plain": [
       "+--------------+---------+-------------+--------------+"
      ]
     },
     "metadata": {},
     "output_type": "display_data"
    },
    {
     "data": {
      "text/html": [
       "<pre>| 1000         | 127000  | 24.9509     | 441.257ms    |</pre>"
      ],
      "text/plain": [
       "| 1000         | 127000  | 24.9509     | 441.257ms    |"
      ]
     },
     "metadata": {},
     "output_type": "display_data"
    },
    {
     "data": {
      "text/html": [
       "<pre>| Done         | 509000  | 100         | 550.603ms    |</pre>"
      ],
      "text/plain": [
       "| Done         | 509000  | 100         | 550.603ms    |"
      ]
     },
     "metadata": {},
     "output_type": "display_data"
    },
    {
     "data": {
      "text/html": [
       "<pre>+--------------+---------+-------------+--------------+</pre>"
      ],
      "text/plain": [
       "+--------------+---------+-------------+--------------+"
      ]
     },
     "metadata": {},
     "output_type": "display_data"
    },
    {
     "data": {
      "text/html": [
       "<pre>Starting blockwise querying.</pre>"
      ],
      "text/plain": [
       "Starting blockwise querying."
      ]
     },
     "metadata": {},
     "output_type": "display_data"
    },
    {
     "data": {
      "text/html": [
       "<pre>max rows per data block: 7668</pre>"
      ],
      "text/plain": [
       "max rows per data block: 7668"
      ]
     },
     "metadata": {},
     "output_type": "display_data"
    },
    {
     "data": {
      "text/html": [
       "<pre>number of reference data blocks: 4</pre>"
      ],
      "text/plain": [
       "number of reference data blocks: 4"
      ]
     },
     "metadata": {},
     "output_type": "display_data"
    },
    {
     "data": {
      "text/html": [
       "<pre>number of query data blocks: 1</pre>"
      ],
      "text/plain": [
       "number of query data blocks: 1"
      ]
     },
     "metadata": {},
     "output_type": "display_data"
    },
    {
     "data": {
      "text/html": [
       "<pre>+--------------+---------+-------------+--------------+</pre>"
      ],
      "text/plain": [
       "+--------------+---------+-------------+--------------+"
      ]
     },
     "metadata": {},
     "output_type": "display_data"
    },
    {
     "data": {
      "text/html": [
       "<pre>| Query points | # Pairs | % Complete. | Elapsed Time |</pre>"
      ],
      "text/plain": [
       "| Query points | # Pairs | % Complete. | Elapsed Time |"
      ]
     },
     "metadata": {},
     "output_type": "display_data"
    },
    {
     "data": {
      "text/html": [
       "<pre>+--------------+---------+-------------+--------------+</pre>"
      ],
      "text/plain": [
       "+--------------+---------+-------------+--------------+"
      ]
     },
     "metadata": {},
     "output_type": "display_data"
    },
    {
     "data": {
      "text/html": [
       "<pre>| 1000         | 128000  | 25.1473     | 626.247ms    |</pre>"
      ],
      "text/plain": [
       "| 1000         | 128000  | 25.1473     | 626.247ms    |"
      ]
     },
     "metadata": {},
     "output_type": "display_data"
    },
    {
     "data": {
      "text/html": [
       "<pre>| Done         | 509000  | 100         | 711.77ms     |</pre>"
      ],
      "text/plain": [
       "| Done         | 509000  | 100         | 711.77ms     |"
      ]
     },
     "metadata": {},
     "output_type": "display_data"
    },
    {
     "data": {
      "text/html": [
       "<pre>+--------------+---------+-------------+--------------+</pre>"
      ],
      "text/plain": [
       "+--------------+---------+-------------+--------------+"
      ]
     },
     "metadata": {},
     "output_type": "display_data"
    },
    {
     "data": {
      "text/html": [
       "<pre>Starting blockwise querying.</pre>"
      ],
      "text/plain": [
       "Starting blockwise querying."
      ]
     },
     "metadata": {},
     "output_type": "display_data"
    },
    {
     "data": {
      "text/html": [
       "<pre>max rows per data block: 7668</pre>"
      ],
      "text/plain": [
       "max rows per data block: 7668"
      ]
     },
     "metadata": {},
     "output_type": "display_data"
    },
    {
     "data": {
      "text/html": [
       "<pre>number of reference data blocks: 4</pre>"
      ],
      "text/plain": [
       "number of reference data blocks: 4"
      ]
     },
     "metadata": {},
     "output_type": "display_data"
    },
    {
     "data": {
      "text/html": [
       "<pre>number of query data blocks: 1</pre>"
      ],
      "text/plain": [
       "number of query data blocks: 1"
      ]
     },
     "metadata": {},
     "output_type": "display_data"
    },
    {
     "data": {
      "text/html": [
       "<pre>+--------------+---------+-------------+--------------+</pre>"
      ],
      "text/plain": [
       "+--------------+---------+-------------+--------------+"
      ]
     },
     "metadata": {},
     "output_type": "display_data"
    },
    {
     "data": {
      "text/html": [
       "<pre>| Query points | # Pairs | % Complete. | Elapsed Time |</pre>"
      ],
      "text/plain": [
       "| Query points | # Pairs | % Complete. | Elapsed Time |"
      ]
     },
     "metadata": {},
     "output_type": "display_data"
    },
    {
     "data": {
      "text/html": [
       "<pre>+--------------+---------+-------------+--------------+</pre>"
      ],
      "text/plain": [
       "+--------------+---------+-------------+--------------+"
      ]
     },
     "metadata": {},
     "output_type": "display_data"
    },
    {
     "data": {
      "text/html": [
       "<pre>| 1000         | 127000  | 24.9509     | 573.429ms    |</pre>"
      ],
      "text/plain": [
       "| 1000         | 127000  | 24.9509     | 573.429ms    |"
      ]
     },
     "metadata": {},
     "output_type": "display_data"
    },
    {
     "data": {
      "text/html": [
       "<pre>| Done         | 509000  | 100         | 665.742ms    |</pre>"
      ],
      "text/plain": [
       "| Done         | 509000  | 100         | 665.742ms    |"
      ]
     },
     "metadata": {},
     "output_type": "display_data"
    },
    {
     "data": {
      "text/html": [
       "<pre>+--------------+---------+-------------+--------------+</pre>"
      ],
      "text/plain": [
       "+--------------+---------+-------------+--------------+"
      ]
     },
     "metadata": {},
     "output_type": "display_data"
    },
    {
     "data": {
      "text/html": [
       "<pre>Starting blockwise querying.</pre>"
      ],
      "text/plain": [
       "Starting blockwise querying."
      ]
     },
     "metadata": {},
     "output_type": "display_data"
    },
    {
     "data": {
      "text/html": [
       "<pre>max rows per data block: 7668</pre>"
      ],
      "text/plain": [
       "max rows per data block: 7668"
      ]
     },
     "metadata": {},
     "output_type": "display_data"
    },
    {
     "data": {
      "text/html": [
       "<pre>number of reference data blocks: 4</pre>"
      ],
      "text/plain": [
       "number of reference data blocks: 4"
      ]
     },
     "metadata": {},
     "output_type": "display_data"
    },
    {
     "data": {
      "text/html": [
       "<pre>number of query data blocks: 1</pre>"
      ],
      "text/plain": [
       "number of query data blocks: 1"
      ]
     },
     "metadata": {},
     "output_type": "display_data"
    },
    {
     "data": {
      "text/html": [
       "<pre>+--------------+---------+-------------+--------------+</pre>"
      ],
      "text/plain": [
       "+--------------+---------+-------------+--------------+"
      ]
     },
     "metadata": {},
     "output_type": "display_data"
    },
    {
     "data": {
      "text/html": [
       "<pre>| Query points | # Pairs | % Complete. | Elapsed Time |</pre>"
      ],
      "text/plain": [
       "| Query points | # Pairs | % Complete. | Elapsed Time |"
      ]
     },
     "metadata": {},
     "output_type": "display_data"
    },
    {
     "data": {
      "text/html": [
       "<pre>+--------------+---------+-------------+--------------+</pre>"
      ],
      "text/plain": [
       "+--------------+---------+-------------+--------------+"
      ]
     },
     "metadata": {},
     "output_type": "display_data"
    },
    {
     "data": {
      "text/html": [
       "<pre>| 1000         | 120000  | 25.1046     | 576.555ms    |</pre>"
      ],
      "text/plain": [
       "| 1000         | 120000  | 25.1046     | 576.555ms    |"
      ]
     },
     "metadata": {},
     "output_type": "display_data"
    },
    {
     "data": {
      "text/html": [
       "<pre>| Done         | 478000  | 100         | 632.852ms    |</pre>"
      ],
      "text/plain": [
       "| Done         | 478000  | 100         | 632.852ms    |"
      ]
     },
     "metadata": {},
     "output_type": "display_data"
    },
    {
     "data": {
      "text/html": [
       "<pre>+--------------+---------+-------------+--------------+</pre>"
      ],
      "text/plain": [
       "+--------------+---------+-------------+--------------+"
      ]
     },
     "metadata": {},
     "output_type": "display_data"
    },
    {
     "data": {
      "text/html": [
       "<pre>Starting blockwise querying.</pre>"
      ],
      "text/plain": [
       "Starting blockwise querying."
      ]
     },
     "metadata": {},
     "output_type": "display_data"
    },
    {
     "data": {
      "text/html": [
       "<pre>max rows per data block: 7668</pre>"
      ],
      "text/plain": [
       "max rows per data block: 7668"
      ]
     },
     "metadata": {},
     "output_type": "display_data"
    },
    {
     "data": {
      "text/html": [
       "<pre>number of reference data blocks: 4</pre>"
      ],
      "text/plain": [
       "number of reference data blocks: 4"
      ]
     },
     "metadata": {},
     "output_type": "display_data"
    },
    {
     "data": {
      "text/html": [
       "<pre>number of query data blocks: 1</pre>"
      ],
      "text/plain": [
       "number of query data blocks: 1"
      ]
     },
     "metadata": {},
     "output_type": "display_data"
    },
    {
     "data": {
      "text/html": [
       "<pre>+--------------+---------+-------------+--------------+</pre>"
      ],
      "text/plain": [
       "+--------------+---------+-------------+--------------+"
      ]
     },
     "metadata": {},
     "output_type": "display_data"
    },
    {
     "data": {
      "text/html": [
       "<pre>| Query points | # Pairs | % Complete. | Elapsed Time |</pre>"
      ],
      "text/plain": [
       "| Query points | # Pairs | % Complete. | Elapsed Time |"
      ]
     },
     "metadata": {},
     "output_type": "display_data"
    },
    {
     "data": {
      "text/html": [
       "<pre>+--------------+---------+-------------+--------------+</pre>"
      ],
      "text/plain": [
       "+--------------+---------+-------------+--------------+"
      ]
     },
     "metadata": {},
     "output_type": "display_data"
    },
    {
     "data": {
      "text/html": [
       "<pre>| 1000         | 127000  | 24.9509     | 503.048ms    |</pre>"
      ],
      "text/plain": [
       "| 1000         | 127000  | 24.9509     | 503.048ms    |"
      ]
     },
     "metadata": {},
     "output_type": "display_data"
    },
    {
     "data": {
      "text/html": [
       "<pre>| Done         | 509000  | 100         | 579.254ms    |</pre>"
      ],
      "text/plain": [
       "| Done         | 509000  | 100         | 579.254ms    |"
      ]
     },
     "metadata": {},
     "output_type": "display_data"
    },
    {
     "data": {
      "text/html": [
       "<pre>+--------------+---------+-------------+--------------+</pre>"
      ],
      "text/plain": [
       "+--------------+---------+-------------+--------------+"
      ]
     },
     "metadata": {},
     "output_type": "display_data"
    },
    {
     "data": {
      "text/html": [
       "<pre>Starting blockwise querying.</pre>"
      ],
      "text/plain": [
       "Starting blockwise querying."
      ]
     },
     "metadata": {},
     "output_type": "display_data"
    },
    {
     "data": {
      "text/html": [
       "<pre>max rows per data block: 7668</pre>"
      ],
      "text/plain": [
       "max rows per data block: 7668"
      ]
     },
     "metadata": {},
     "output_type": "display_data"
    },
    {
     "data": {
      "text/html": [
       "<pre>number of reference data blocks: 4</pre>"
      ],
      "text/plain": [
       "number of reference data blocks: 4"
      ]
     },
     "metadata": {},
     "output_type": "display_data"
    },
    {
     "data": {
      "text/html": [
       "<pre>number of query data blocks: 1</pre>"
      ],
      "text/plain": [
       "number of query data blocks: 1"
      ]
     },
     "metadata": {},
     "output_type": "display_data"
    },
    {
     "data": {
      "text/html": [
       "<pre>+--------------+---------+-------------+--------------+</pre>"
      ],
      "text/plain": [
       "+--------------+---------+-------------+--------------+"
      ]
     },
     "metadata": {},
     "output_type": "display_data"
    },
    {
     "data": {
      "text/html": [
       "<pre>| Query points | # Pairs | % Complete. | Elapsed Time |</pre>"
      ],
      "text/plain": [
       "| Query points | # Pairs | % Complete. | Elapsed Time |"
      ]
     },
     "metadata": {},
     "output_type": "display_data"
    },
    {
     "data": {
      "text/html": [
       "<pre>+--------------+---------+-------------+--------------+</pre>"
      ],
      "text/plain": [
       "+--------------+---------+-------------+--------------+"
      ]
     },
     "metadata": {},
     "output_type": "display_data"
    },
    {
     "data": {
      "text/html": [
       "<pre>| 1000         | 127000  | 24.9509     | 510.518ms    |</pre>"
      ],
      "text/plain": [
       "| 1000         | 127000  | 24.9509     | 510.518ms    |"
      ]
     },
     "metadata": {},
     "output_type": "display_data"
    },
    {
     "data": {
      "text/html": [
       "<pre>| Done         | 509000  | 100         | 559.132ms    |</pre>"
      ],
      "text/plain": [
       "| Done         | 509000  | 100         | 559.132ms    |"
      ]
     },
     "metadata": {},
     "output_type": "display_data"
    },
    {
     "data": {
      "text/html": [
       "<pre>+--------------+---------+-------------+--------------+</pre>"
      ],
      "text/plain": [
       "+--------------+---------+-------------+--------------+"
      ]
     },
     "metadata": {},
     "output_type": "display_data"
    },
    {
     "data": {
      "text/html": [
       "<pre>Starting blockwise querying.</pre>"
      ],
      "text/plain": [
       "Starting blockwise querying."
      ]
     },
     "metadata": {},
     "output_type": "display_data"
    },
    {
     "data": {
      "text/html": [
       "<pre>max rows per data block: 7668</pre>"
      ],
      "text/plain": [
       "max rows per data block: 7668"
      ]
     },
     "metadata": {},
     "output_type": "display_data"
    },
    {
     "data": {
      "text/html": [
       "<pre>number of reference data blocks: 4</pre>"
      ],
      "text/plain": [
       "number of reference data blocks: 4"
      ]
     },
     "metadata": {},
     "output_type": "display_data"
    },
    {
     "data": {
      "text/html": [
       "<pre>number of query data blocks: 1</pre>"
      ],
      "text/plain": [
       "number of query data blocks: 1"
      ]
     },
     "metadata": {},
     "output_type": "display_data"
    },
    {
     "data": {
      "text/html": [
       "<pre>+--------------+---------+-------------+--------------+</pre>"
      ],
      "text/plain": [
       "+--------------+---------+-------------+--------------+"
      ]
     },
     "metadata": {},
     "output_type": "display_data"
    },
    {
     "data": {
      "text/html": [
       "<pre>| Query points | # Pairs | % Complete. | Elapsed Time |</pre>"
      ],
      "text/plain": [
       "| Query points | # Pairs | % Complete. | Elapsed Time |"
      ]
     },
     "metadata": {},
     "output_type": "display_data"
    },
    {
     "data": {
      "text/html": [
       "<pre>+--------------+---------+-------------+--------------+</pre>"
      ],
      "text/plain": [
       "+--------------+---------+-------------+--------------+"
      ]
     },
     "metadata": {},
     "output_type": "display_data"
    },
    {
     "data": {
      "text/html": [
       "<pre>| 1000         | 127000  | 24.9509     | 489.809ms    |</pre>"
      ],
      "text/plain": [
       "| 1000         | 127000  | 24.9509     | 489.809ms    |"
      ]
     },
     "metadata": {},
     "output_type": "display_data"
    },
    {
     "data": {
      "text/html": [
       "<pre>| Done         | 509000  | 100         | 615.624ms    |</pre>"
      ],
      "text/plain": [
       "| Done         | 509000  | 100         | 615.624ms    |"
      ]
     },
     "metadata": {},
     "output_type": "display_data"
    },
    {
     "data": {
      "text/html": [
       "<pre>+--------------+---------+-------------+--------------+</pre>"
      ],
      "text/plain": [
       "+--------------+---------+-------------+--------------+"
      ]
     },
     "metadata": {},
     "output_type": "display_data"
    },
    {
     "data": {
      "text/html": [
       "<pre>Starting blockwise querying.</pre>"
      ],
      "text/plain": [
       "Starting blockwise querying."
      ]
     },
     "metadata": {},
     "output_type": "display_data"
    },
    {
     "data": {
      "text/html": [
       "<pre>max rows per data block: 7668</pre>"
      ],
      "text/plain": [
       "max rows per data block: 7668"
      ]
     },
     "metadata": {},
     "output_type": "display_data"
    },
    {
     "data": {
      "text/html": [
       "<pre>number of reference data blocks: 4</pre>"
      ],
      "text/plain": [
       "number of reference data blocks: 4"
      ]
     },
     "metadata": {},
     "output_type": "display_data"
    },
    {
     "data": {
      "text/html": [
       "<pre>number of query data blocks: 1</pre>"
      ],
      "text/plain": [
       "number of query data blocks: 1"
      ]
     },
     "metadata": {},
     "output_type": "display_data"
    },
    {
     "data": {
      "text/html": [
       "<pre>+--------------+---------+-------------+--------------+</pre>"
      ],
      "text/plain": [
       "+--------------+---------+-------------+--------------+"
      ]
     },
     "metadata": {},
     "output_type": "display_data"
    },
    {
     "data": {
      "text/html": [
       "<pre>| Query points | # Pairs | % Complete. | Elapsed Time |</pre>"
      ],
      "text/plain": [
       "| Query points | # Pairs | % Complete. | Elapsed Time |"
      ]
     },
     "metadata": {},
     "output_type": "display_data"
    },
    {
     "data": {
      "text/html": [
       "<pre>+--------------+---------+-------------+--------------+</pre>"
      ],
      "text/plain": [
       "+--------------+---------+-------------+--------------+"
      ]
     },
     "metadata": {},
     "output_type": "display_data"
    },
    {
     "data": {
      "text/html": [
       "<pre>| 1000         | 119000  | 24.8954     | 486.055ms    |</pre>"
      ],
      "text/plain": [
       "| 1000         | 119000  | 24.8954     | 486.055ms    |"
      ]
     },
     "metadata": {},
     "output_type": "display_data"
    },
    {
     "data": {
      "text/html": [
       "<pre>| Done         | 478000  | 100         | 550.037ms    |</pre>"
      ],
      "text/plain": [
       "| Done         | 478000  | 100         | 550.037ms    |"
      ]
     },
     "metadata": {},
     "output_type": "display_data"
    },
    {
     "data": {
      "text/html": [
       "<pre>+--------------+---------+-------------+--------------+</pre>"
      ],
      "text/plain": [
       "+--------------+---------+-------------+--------------+"
      ]
     },
     "metadata": {},
     "output_type": "display_data"
    },
    {
     "data": {
      "text/html": [
       "<pre>Starting blockwise querying.</pre>"
      ],
      "text/plain": [
       "Starting blockwise querying."
      ]
     },
     "metadata": {},
     "output_type": "display_data"
    },
    {
     "data": {
      "text/html": [
       "<pre>max rows per data block: 7668</pre>"
      ],
      "text/plain": [
       "max rows per data block: 7668"
      ]
     },
     "metadata": {},
     "output_type": "display_data"
    },
    {
     "data": {
      "text/html": [
       "<pre>number of reference data blocks: 4</pre>"
      ],
      "text/plain": [
       "number of reference data blocks: 4"
      ]
     },
     "metadata": {},
     "output_type": "display_data"
    },
    {
     "data": {
      "text/html": [
       "<pre>number of query data blocks: 1</pre>"
      ],
      "text/plain": [
       "number of query data blocks: 1"
      ]
     },
     "metadata": {},
     "output_type": "display_data"
    },
    {
     "data": {
      "text/html": [
       "<pre>+--------------+---------+-------------+--------------+</pre>"
      ],
      "text/plain": [
       "+--------------+---------+-------------+--------------+"
      ]
     },
     "metadata": {},
     "output_type": "display_data"
    },
    {
     "data": {
      "text/html": [
       "<pre>| Query points | # Pairs | % Complete. | Elapsed Time |</pre>"
      ],
      "text/plain": [
       "| Query points | # Pairs | % Complete. | Elapsed Time |"
      ]
     },
     "metadata": {},
     "output_type": "display_data"
    },
    {
     "data": {
      "text/html": [
       "<pre>+--------------+---------+-------------+--------------+</pre>"
      ],
      "text/plain": [
       "+--------------+---------+-------------+--------------+"
      ]
     },
     "metadata": {},
     "output_type": "display_data"
    },
    {
     "data": {
      "text/html": [
       "<pre>| 1000         | 119000  | 24.8954     | 561.952ms    |</pre>"
      ],
      "text/plain": [
       "| 1000         | 119000  | 24.8954     | 561.952ms    |"
      ]
     },
     "metadata": {},
     "output_type": "display_data"
    },
    {
     "data": {
      "text/html": [
       "<pre>| Done         | 478000  | 100         | 655.65ms     |</pre>"
      ],
      "text/plain": [
       "| Done         | 478000  | 100         | 655.65ms     |"
      ]
     },
     "metadata": {},
     "output_type": "display_data"
    },
    {
     "data": {
      "text/html": [
       "<pre>+--------------+---------+-------------+--------------+</pre>"
      ],
      "text/plain": [
       "+--------------+---------+-------------+--------------+"
      ]
     },
     "metadata": {},
     "output_type": "display_data"
    },
    {
     "data": {
      "text/html": [
       "<pre>Starting blockwise querying.</pre>"
      ],
      "text/plain": [
       "Starting blockwise querying."
      ]
     },
     "metadata": {},
     "output_type": "display_data"
    },
    {
     "data": {
      "text/html": [
       "<pre>max rows per data block: 7668</pre>"
      ],
      "text/plain": [
       "max rows per data block: 7668"
      ]
     },
     "metadata": {},
     "output_type": "display_data"
    },
    {
     "data": {
      "text/html": [
       "<pre>number of reference data blocks: 4</pre>"
      ],
      "text/plain": [
       "number of reference data blocks: 4"
      ]
     },
     "metadata": {},
     "output_type": "display_data"
    },
    {
     "data": {
      "text/html": [
       "<pre>number of query data blocks: 1</pre>"
      ],
      "text/plain": [
       "number of query data blocks: 1"
      ]
     },
     "metadata": {},
     "output_type": "display_data"
    },
    {
     "data": {
      "text/html": [
       "<pre>+--------------+---------+-------------+--------------+</pre>"
      ],
      "text/plain": [
       "+--------------+---------+-------------+--------------+"
      ]
     },
     "metadata": {},
     "output_type": "display_data"
    },
    {
     "data": {
      "text/html": [
       "<pre>| Query points | # Pairs | % Complete. | Elapsed Time |</pre>"
      ],
      "text/plain": [
       "| Query points | # Pairs | % Complete. | Elapsed Time |"
      ]
     },
     "metadata": {},
     "output_type": "display_data"
    },
    {
     "data": {
      "text/html": [
       "<pre>+--------------+---------+-------------+--------------+</pre>"
      ],
      "text/plain": [
       "+--------------+---------+-------------+--------------+"
      ]
     },
     "metadata": {},
     "output_type": "display_data"
    },
    {
     "data": {
      "text/html": [
       "<pre>| 1000         | 128000  | 25.1473     | 575.619ms    |</pre>"
      ],
      "text/plain": [
       "| 1000         | 128000  | 25.1473     | 575.619ms    |"
      ]
     },
     "metadata": {},
     "output_type": "display_data"
    },
    {
     "data": {
      "text/html": [
       "<pre>| Done         | 509000  | 100         | 691.205ms    |</pre>"
      ],
      "text/plain": [
       "| Done         | 509000  | 100         | 691.205ms    |"
      ]
     },
     "metadata": {},
     "output_type": "display_data"
    },
    {
     "data": {
      "text/html": [
       "<pre>+--------------+---------+-------------+--------------+</pre>"
      ],
      "text/plain": [
       "+--------------+---------+-------------+--------------+"
      ]
     },
     "metadata": {},
     "output_type": "display_data"
    },
    {
     "data": {
      "text/html": [
       "<pre>Starting blockwise querying.</pre>"
      ],
      "text/plain": [
       "Starting blockwise querying."
      ]
     },
     "metadata": {},
     "output_type": "display_data"
    },
    {
     "data": {
      "text/html": [
       "<pre>max rows per data block: 7668</pre>"
      ],
      "text/plain": [
       "max rows per data block: 7668"
      ]
     },
     "metadata": {},
     "output_type": "display_data"
    },
    {
     "data": {
      "text/html": [
       "<pre>number of reference data blocks: 4</pre>"
      ],
      "text/plain": [
       "number of reference data blocks: 4"
      ]
     },
     "metadata": {},
     "output_type": "display_data"
    },
    {
     "data": {
      "text/html": [
       "<pre>number of query data blocks: 1</pre>"
      ],
      "text/plain": [
       "number of query data blocks: 1"
      ]
     },
     "metadata": {},
     "output_type": "display_data"
    },
    {
     "data": {
      "text/html": [
       "<pre>+--------------+---------+-------------+--------------+</pre>"
      ],
      "text/plain": [
       "+--------------+---------+-------------+--------------+"
      ]
     },
     "metadata": {},
     "output_type": "display_data"
    },
    {
     "data": {
      "text/html": [
       "<pre>| Query points | # Pairs | % Complete. | Elapsed Time |</pre>"
      ],
      "text/plain": [
       "| Query points | # Pairs | % Complete. | Elapsed Time |"
      ]
     },
     "metadata": {},
     "output_type": "display_data"
    },
    {
     "data": {
      "text/html": [
       "<pre>+--------------+---------+-------------+--------------+</pre>"
      ],
      "text/plain": [
       "+--------------+---------+-------------+--------------+"
      ]
     },
     "metadata": {},
     "output_type": "display_data"
    },
    {
     "data": {
      "text/html": [
       "<pre>| 1000         | 127000  | 24.9509     | 587.378ms    |</pre>"
      ],
      "text/plain": [
       "| 1000         | 127000  | 24.9509     | 587.378ms    |"
      ]
     },
     "metadata": {},
     "output_type": "display_data"
    },
    {
     "data": {
      "text/html": [
       "<pre>| Done         | 509000  | 100         | 622.01ms     |</pre>"
      ],
      "text/plain": [
       "| Done         | 509000  | 100         | 622.01ms     |"
      ]
     },
     "metadata": {},
     "output_type": "display_data"
    },
    {
     "data": {
      "text/html": [
       "<pre>+--------------+---------+-------------+--------------+</pre>"
      ],
      "text/plain": [
       "+--------------+---------+-------------+--------------+"
      ]
     },
     "metadata": {},
     "output_type": "display_data"
    },
    {
     "data": {
      "text/html": [
       "<pre>Starting blockwise querying.</pre>"
      ],
      "text/plain": [
       "Starting blockwise querying."
      ]
     },
     "metadata": {},
     "output_type": "display_data"
    },
    {
     "data": {
      "text/html": [
       "<pre>max rows per data block: 7668</pre>"
      ],
      "text/plain": [
       "max rows per data block: 7668"
      ]
     },
     "metadata": {},
     "output_type": "display_data"
    },
    {
     "data": {
      "text/html": [
       "<pre>number of reference data blocks: 4</pre>"
      ],
      "text/plain": [
       "number of reference data blocks: 4"
      ]
     },
     "metadata": {},
     "output_type": "display_data"
    },
    {
     "data": {
      "text/html": [
       "<pre>number of query data blocks: 1</pre>"
      ],
      "text/plain": [
       "number of query data blocks: 1"
      ]
     },
     "metadata": {},
     "output_type": "display_data"
    },
    {
     "data": {
      "text/html": [
       "<pre>+--------------+---------+-------------+--------------+</pre>"
      ],
      "text/plain": [
       "+--------------+---------+-------------+--------------+"
      ]
     },
     "metadata": {},
     "output_type": "display_data"
    },
    {
     "data": {
      "text/html": [
       "<pre>| Query points | # Pairs | % Complete. | Elapsed Time |</pre>"
      ],
      "text/plain": [
       "| Query points | # Pairs | % Complete. | Elapsed Time |"
      ]
     },
     "metadata": {},
     "output_type": "display_data"
    },
    {
     "data": {
      "text/html": [
       "<pre>+--------------+---------+-------------+--------------+</pre>"
      ],
      "text/plain": [
       "+--------------+---------+-------------+--------------+"
      ]
     },
     "metadata": {},
     "output_type": "display_data"
    },
    {
     "data": {
      "text/html": [
       "<pre>| 1000         | 127000  | 24.9509     | 447.71ms     |</pre>"
      ],
      "text/plain": [
       "| 1000         | 127000  | 24.9509     | 447.71ms     |"
      ]
     },
     "metadata": {},
     "output_type": "display_data"
    },
    {
     "data": {
      "text/html": [
       "<pre>| Done         | 509000  | 100         | 541.974ms    |</pre>"
      ],
      "text/plain": [
       "| Done         | 509000  | 100         | 541.974ms    |"
      ]
     },
     "metadata": {},
     "output_type": "display_data"
    },
    {
     "data": {
      "text/html": [
       "<pre>+--------------+---------+-------------+--------------+</pre>"
      ],
      "text/plain": [
       "+--------------+---------+-------------+--------------+"
      ]
     },
     "metadata": {},
     "output_type": "display_data"
    },
    {
     "data": {
      "text/html": [
       "<pre>Starting blockwise querying.</pre>"
      ],
      "text/plain": [
       "Starting blockwise querying."
      ]
     },
     "metadata": {},
     "output_type": "display_data"
    },
    {
     "data": {
      "text/html": [
       "<pre>max rows per data block: 7668</pre>"
      ],
      "text/plain": [
       "max rows per data block: 7668"
      ]
     },
     "metadata": {},
     "output_type": "display_data"
    },
    {
     "data": {
      "text/html": [
       "<pre>number of reference data blocks: 4</pre>"
      ],
      "text/plain": [
       "number of reference data blocks: 4"
      ]
     },
     "metadata": {},
     "output_type": "display_data"
    },
    {
     "data": {
      "text/html": [
       "<pre>number of query data blocks: 1</pre>"
      ],
      "text/plain": [
       "number of query data blocks: 1"
      ]
     },
     "metadata": {},
     "output_type": "display_data"
    },
    {
     "data": {
      "text/html": [
       "<pre>+--------------+---------+-------------+--------------+</pre>"
      ],
      "text/plain": [
       "+--------------+---------+-------------+--------------+"
      ]
     },
     "metadata": {},
     "output_type": "display_data"
    },
    {
     "data": {
      "text/html": [
       "<pre>| Query points | # Pairs | % Complete. | Elapsed Time |</pre>"
      ],
      "text/plain": [
       "| Query points | # Pairs | % Complete. | Elapsed Time |"
      ]
     },
     "metadata": {},
     "output_type": "display_data"
    },
    {
     "data": {
      "text/html": [
       "<pre>+--------------+---------+-------------+--------------+</pre>"
      ],
      "text/plain": [
       "+--------------+---------+-------------+--------------+"
      ]
     },
     "metadata": {},
     "output_type": "display_data"
    },
    {
     "data": {
      "text/html": [
       "<pre>| 1000         | 127000  | 24.9509     | 600.698ms    |</pre>"
      ],
      "text/plain": [
       "| 1000         | 127000  | 24.9509     | 600.698ms    |"
      ]
     },
     "metadata": {},
     "output_type": "display_data"
    },
    {
     "data": {
      "text/html": [
       "<pre>| Done         | 509000  | 100         | 626.07ms     |</pre>"
      ],
      "text/plain": [
       "| Done         | 509000  | 100         | 626.07ms     |"
      ]
     },
     "metadata": {},
     "output_type": "display_data"
    },
    {
     "data": {
      "text/html": [
       "<pre>+--------------+---------+-------------+--------------+</pre>"
      ],
      "text/plain": [
       "+--------------+---------+-------------+--------------+"
      ]
     },
     "metadata": {},
     "output_type": "display_data"
    },
    {
     "data": {
      "text/html": [
       "<pre>Starting blockwise querying.</pre>"
      ],
      "text/plain": [
       "Starting blockwise querying."
      ]
     },
     "metadata": {},
     "output_type": "display_data"
    },
    {
     "data": {
      "text/html": [
       "<pre>max rows per data block: 7668</pre>"
      ],
      "text/plain": [
       "max rows per data block: 7668"
      ]
     },
     "metadata": {},
     "output_type": "display_data"
    },
    {
     "data": {
      "text/html": [
       "<pre>number of reference data blocks: 4</pre>"
      ],
      "text/plain": [
       "number of reference data blocks: 4"
      ]
     },
     "metadata": {},
     "output_type": "display_data"
    },
    {
     "data": {
      "text/html": [
       "<pre>number of query data blocks: 1</pre>"
      ],
      "text/plain": [
       "number of query data blocks: 1"
      ]
     },
     "metadata": {},
     "output_type": "display_data"
    },
    {
     "data": {
      "text/html": [
       "<pre>+--------------+---------+-------------+--------------+</pre>"
      ],
      "text/plain": [
       "+--------------+---------+-------------+--------------+"
      ]
     },
     "metadata": {},
     "output_type": "display_data"
    },
    {
     "data": {
      "text/html": [
       "<pre>| Query points | # Pairs | % Complete. | Elapsed Time |</pre>"
      ],
      "text/plain": [
       "| Query points | # Pairs | % Complete. | Elapsed Time |"
      ]
     },
     "metadata": {},
     "output_type": "display_data"
    },
    {
     "data": {
      "text/html": [
       "<pre>+--------------+---------+-------------+--------------+</pre>"
      ],
      "text/plain": [
       "+--------------+---------+-------------+--------------+"
      ]
     },
     "metadata": {},
     "output_type": "display_data"
    },
    {
     "data": {
      "text/html": [
       "<pre>| 1000         | 120000  | 25.1046     | 452.435ms    |</pre>"
      ],
      "text/plain": [
       "| 1000         | 120000  | 25.1046     | 452.435ms    |"
      ]
     },
     "metadata": {},
     "output_type": "display_data"
    },
    {
     "data": {
      "text/html": [
       "<pre>| Done         | 478000  | 100         | 496.384ms    |</pre>"
      ],
      "text/plain": [
       "| Done         | 478000  | 100         | 496.384ms    |"
      ]
     },
     "metadata": {},
     "output_type": "display_data"
    },
    {
     "data": {
      "text/html": [
       "<pre>+--------------+---------+-------------+--------------+</pre>"
      ],
      "text/plain": [
       "+--------------+---------+-------------+--------------+"
      ]
     },
     "metadata": {},
     "output_type": "display_data"
    },
    {
     "data": {
      "text/html": [
       "<pre>Starting blockwise querying.</pre>"
      ],
      "text/plain": [
       "Starting blockwise querying."
      ]
     },
     "metadata": {},
     "output_type": "display_data"
    },
    {
     "data": {
      "text/html": [
       "<pre>max rows per data block: 7668</pre>"
      ],
      "text/plain": [
       "max rows per data block: 7668"
      ]
     },
     "metadata": {},
     "output_type": "display_data"
    },
    {
     "data": {
      "text/html": [
       "<pre>number of reference data blocks: 4</pre>"
      ],
      "text/plain": [
       "number of reference data blocks: 4"
      ]
     },
     "metadata": {},
     "output_type": "display_data"
    },
    {
     "data": {
      "text/html": [
       "<pre>number of query data blocks: 1</pre>"
      ],
      "text/plain": [
       "number of query data blocks: 1"
      ]
     },
     "metadata": {},
     "output_type": "display_data"
    },
    {
     "data": {
      "text/html": [
       "<pre>+--------------+---------+-------------+--------------+</pre>"
      ],
      "text/plain": [
       "+--------------+---------+-------------+--------------+"
      ]
     },
     "metadata": {},
     "output_type": "display_data"
    },
    {
     "data": {
      "text/html": [
       "<pre>| Query points | # Pairs | % Complete. | Elapsed Time |</pre>"
      ],
      "text/plain": [
       "| Query points | # Pairs | % Complete. | Elapsed Time |"
      ]
     },
     "metadata": {},
     "output_type": "display_data"
    },
    {
     "data": {
      "text/html": [
       "<pre>+--------------+---------+-------------+--------------+</pre>"
      ],
      "text/plain": [
       "+--------------+---------+-------------+--------------+"
      ]
     },
     "metadata": {},
     "output_type": "display_data"
    },
    {
     "data": {
      "text/html": [
       "<pre>| 1000         | 127000  | 24.9509     | 439.706ms    |</pre>"
      ],
      "text/plain": [
       "| 1000         | 127000  | 24.9509     | 439.706ms    |"
      ]
     },
     "metadata": {},
     "output_type": "display_data"
    },
    {
     "data": {
      "text/html": [
       "<pre>| Done         | 509000  | 100         | 508.169ms    |</pre>"
      ],
      "text/plain": [
       "| Done         | 509000  | 100         | 508.169ms    |"
      ]
     },
     "metadata": {},
     "output_type": "display_data"
    },
    {
     "data": {
      "text/html": [
       "<pre>+--------------+---------+-------------+--------------+</pre>"
      ],
      "text/plain": [
       "+--------------+---------+-------------+--------------+"
      ]
     },
     "metadata": {},
     "output_type": "display_data"
    },
    {
     "data": {
      "text/html": [
       "<pre>Starting blockwise querying.</pre>"
      ],
      "text/plain": [
       "Starting blockwise querying."
      ]
     },
     "metadata": {},
     "output_type": "display_data"
    },
    {
     "data": {
      "text/html": [
       "<pre>max rows per data block: 7668</pre>"
      ],
      "text/plain": [
       "max rows per data block: 7668"
      ]
     },
     "metadata": {},
     "output_type": "display_data"
    },
    {
     "data": {
      "text/html": [
       "<pre>number of reference data blocks: 4</pre>"
      ],
      "text/plain": [
       "number of reference data blocks: 4"
      ]
     },
     "metadata": {},
     "output_type": "display_data"
    },
    {
     "data": {
      "text/html": [
       "<pre>number of query data blocks: 1</pre>"
      ],
      "text/plain": [
       "number of query data blocks: 1"
      ]
     },
     "metadata": {},
     "output_type": "display_data"
    },
    {
     "data": {
      "text/html": [
       "<pre>+--------------+---------+-------------+--------------+</pre>"
      ],
      "text/plain": [
       "+--------------+---------+-------------+--------------+"
      ]
     },
     "metadata": {},
     "output_type": "display_data"
    },
    {
     "data": {
      "text/html": [
       "<pre>| Query points | # Pairs | % Complete. | Elapsed Time |</pre>"
      ],
      "text/plain": [
       "| Query points | # Pairs | % Complete. | Elapsed Time |"
      ]
     },
     "metadata": {},
     "output_type": "display_data"
    },
    {
     "data": {
      "text/html": [
       "<pre>+--------------+---------+-------------+--------------+</pre>"
      ],
      "text/plain": [
       "+--------------+---------+-------------+--------------+"
      ]
     },
     "metadata": {},
     "output_type": "display_data"
    },
    {
     "data": {
      "text/html": [
       "<pre>| 1000         | 128000  | 25.1473     | 478.71ms     |</pre>"
      ],
      "text/plain": [
       "| 1000         | 128000  | 25.1473     | 478.71ms     |"
      ]
     },
     "metadata": {},
     "output_type": "display_data"
    },
    {
     "data": {
      "text/html": [
       "<pre>| Done         | 509000  | 100         | 532.532ms    |</pre>"
      ],
      "text/plain": [
       "| Done         | 509000  | 100         | 532.532ms    |"
      ]
     },
     "metadata": {},
     "output_type": "display_data"
    },
    {
     "data": {
      "text/html": [
       "<pre>+--------------+---------+-------------+--------------+</pre>"
      ],
      "text/plain": [
       "+--------------+---------+-------------+--------------+"
      ]
     },
     "metadata": {},
     "output_type": "display_data"
    }
   ],
   "source": [
    "dog_cat_neighbors = cat_model.query(dog_test, k=1)\n",
    "dog_automobile_neighbors = automobile_model.query(dog_test, k=1)\n",
    "dog_dog_neighbors = dog_model.query(dog_test, k=1)\n",
    "dog_bird_neighbors = bird_model.query(dog_test, k=1)\n",
    "cat_cat_neighbors = cat_model.query(cat_test, k=1)\n",
    "cat_dog_neighbors = dog_model.query(cat_test, k=1)\n",
    "cat_automobile_neighbors = automobile_model.query(cat_test, k=1)\n",
    "cat_bird_neighbors = bird_model.query(cat_test, k=1)\n",
    "bird_bird_neighbors = bird_model.query(bird_test, k=1)\n",
    "bird_automobile_neighbors = automobile_model.query(bird_test, k=1)\n",
    "bird_dog_neighbors = dog_model.query(bird_test, k=1)\n",
    "bird_cat_neighbors = cat_model.query(bird_test, k=1)\n",
    "automobile_automobile_neighbors = automobile_model.query(automobile_test, k=1)\n",
    "automobile_bird_neighbors = bird_model.query(automobile_test, k=1)\n",
    "automobile_cat_neighbors = cat_model.query(automobile_test, k=1)\n",
    "automobile_dog_neighbors = dog_model.query(automobile_test, k=1)"
   ]
  },
  {
   "cell_type": "code",
   "execution_count": 41,
   "metadata": {
    "collapsed": true
   },
   "outputs": [],
   "source": [
    "dog_distance = graphlab.SFrame({'dog-dog':dog_dog_neighbors['distance'],'dog-automobile':dog_automobile_neighbors['distance'],\n",
    "                               'dog-cat':dog_cat_neighbors['distance'],'dog-bird':dog_bird_neighbors['distance'],})\n",
    "\n",
    "cat_distance = graphlab.SFrame({'cat-dog':cat_dog_neighbors['distance'],'cat-automobile':cat_automobile_neighbors['distance'],\n",
    "                               'cat-cat':cat_cat_neighbors['distance'],'cat-bird':cat_bird_neighbors['distance'],})"
   ]
  },
  {
   "cell_type": "code",
   "execution_count": 27,
   "metadata": {
    "collapsed": false
   },
   "outputs": [
    {
     "data": {
      "text/html": [
       "<div style=\"max-height:1000px;max-width:1500px;overflow:auto;\"><table frame=\"box\" rules=\"cols\">\n",
       "    <tr>\n",
       "        <th style=\"padding-left: 1em; padding-right: 1em; text-align: center\">dog-automobile</th>\n",
       "        <th style=\"padding-left: 1em; padding-right: 1em; text-align: center\">dog-bird</th>\n",
       "        <th style=\"padding-left: 1em; padding-right: 1em; text-align: center\">dog-cat</th>\n",
       "        <th style=\"padding-left: 1em; padding-right: 1em; text-align: center\">dog-dog</th>\n",
       "    </tr>\n",
       "    <tr>\n",
       "        <td style=\"padding-left: 1em; padding-right: 1em; text-align: center; vertical-align: top\">41.9579761457</td>\n",
       "        <td style=\"padding-left: 1em; padding-right: 1em; text-align: center; vertical-align: top\">41.7538647304</td>\n",
       "        <td style=\"padding-left: 1em; padding-right: 1em; text-align: center; vertical-align: top\">36.4196077068</td>\n",
       "        <td style=\"padding-left: 1em; padding-right: 1em; text-align: center; vertical-align: top\">33.4773590373</td>\n",
       "    </tr>\n",
       "    <tr>\n",
       "        <td style=\"padding-left: 1em; padding-right: 1em; text-align: center; vertical-align: top\">46.0021331807</td>\n",
       "        <td style=\"padding-left: 1em; padding-right: 1em; text-align: center; vertical-align: top\">41.3382958925</td>\n",
       "        <td style=\"padding-left: 1em; padding-right: 1em; text-align: center; vertical-align: top\">38.8353268874</td>\n",
       "        <td style=\"padding-left: 1em; padding-right: 1em; text-align: center; vertical-align: top\">32.8458495684</td>\n",
       "    </tr>\n",
       "    <tr>\n",
       "        <td style=\"padding-left: 1em; padding-right: 1em; text-align: center; vertical-align: top\">42.9462290692</td>\n",
       "        <td style=\"padding-left: 1em; padding-right: 1em; text-align: center; vertical-align: top\">38.6157590853</td>\n",
       "        <td style=\"padding-left: 1em; padding-right: 1em; text-align: center; vertical-align: top\">36.9763410854</td>\n",
       "        <td style=\"padding-left: 1em; padding-right: 1em; text-align: center; vertical-align: top\">35.0397073189</td>\n",
       "    </tr>\n",
       "    <tr>\n",
       "        <td style=\"padding-left: 1em; padding-right: 1em; text-align: center; vertical-align: top\">41.6866060048</td>\n",
       "        <td style=\"padding-left: 1em; padding-right: 1em; text-align: center; vertical-align: top\">37.0892269954</td>\n",
       "        <td style=\"padding-left: 1em; padding-right: 1em; text-align: center; vertical-align: top\">34.5750072914</td>\n",
       "        <td style=\"padding-left: 1em; padding-right: 1em; text-align: center; vertical-align: top\">33.9010327697</td>\n",
       "    </tr>\n",
       "    <tr>\n",
       "        <td style=\"padding-left: 1em; padding-right: 1em; text-align: center; vertical-align: top\">39.2269664935</td>\n",
       "        <td style=\"padding-left: 1em; padding-right: 1em; text-align: center; vertical-align: top\">38.272288694</td>\n",
       "        <td style=\"padding-left: 1em; padding-right: 1em; text-align: center; vertical-align: top\">34.778824791</td>\n",
       "        <td style=\"padding-left: 1em; padding-right: 1em; text-align: center; vertical-align: top\">37.4849250909</td>\n",
       "    </tr>\n",
       "    <tr>\n",
       "        <td style=\"padding-left: 1em; padding-right: 1em; text-align: center; vertical-align: top\">40.5845117698</td>\n",
       "        <td style=\"padding-left: 1em; padding-right: 1em; text-align: center; vertical-align: top\">39.1462089236</td>\n",
       "        <td style=\"padding-left: 1em; padding-right: 1em; text-align: center; vertical-align: top\">35.1171578292</td>\n",
       "        <td style=\"padding-left: 1em; padding-right: 1em; text-align: center; vertical-align: top\">34.945165344</td>\n",
       "    </tr>\n",
       "    <tr>\n",
       "        <td style=\"padding-left: 1em; padding-right: 1em; text-align: center; vertical-align: top\">45.1067352961</td>\n",
       "        <td style=\"padding-left: 1em; padding-right: 1em; text-align: center; vertical-align: top\">40.523040106</td>\n",
       "        <td style=\"padding-left: 1em; padding-right: 1em; text-align: center; vertical-align: top\">40.6095830913</td>\n",
       "        <td style=\"padding-left: 1em; padding-right: 1em; text-align: center; vertical-align: top\">39.0957278345</td>\n",
       "    </tr>\n",
       "    <tr>\n",
       "        <td style=\"padding-left: 1em; padding-right: 1em; text-align: center; vertical-align: top\">41.3221140974</td>\n",
       "        <td style=\"padding-left: 1em; padding-right: 1em; text-align: center; vertical-align: top\">38.1947918393</td>\n",
       "        <td style=\"padding-left: 1em; padding-right: 1em; text-align: center; vertical-align: top\">39.9036867306</td>\n",
       "        <td style=\"padding-left: 1em; padding-right: 1em; text-align: center; vertical-align: top\">37.7696131032</td>\n",
       "    </tr>\n",
       "    <tr>\n",
       "        <td style=\"padding-left: 1em; padding-right: 1em; text-align: center; vertical-align: top\">41.8244654995</td>\n",
       "        <td style=\"padding-left: 1em; padding-right: 1em; text-align: center; vertical-align: top\">40.1567131661</td>\n",
       "        <td style=\"padding-left: 1em; padding-right: 1em; text-align: center; vertical-align: top\">38.0674700168</td>\n",
       "        <td style=\"padding-left: 1em; padding-right: 1em; text-align: center; vertical-align: top\">35.1089144603</td>\n",
       "    </tr>\n",
       "    <tr>\n",
       "        <td style=\"padding-left: 1em; padding-right: 1em; text-align: center; vertical-align: top\">45.4976929401</td>\n",
       "        <td style=\"padding-left: 1em; padding-right: 1em; text-align: center; vertical-align: top\">45.5597962603</td>\n",
       "        <td style=\"padding-left: 1em; padding-right: 1em; text-align: center; vertical-align: top\">42.7258732951</td>\n",
       "        <td style=\"padding-left: 1em; padding-right: 1em; text-align: center; vertical-align: top\">43.2422832585</td>\n",
       "    </tr>\n",
       "</table>\n",
       "[1000 rows x 4 columns]<br/>Note: Only the head of the SFrame is printed.<br/>You can use print_rows(num_rows=m, num_columns=n) to print more rows and columns.\n",
       "</div>"
      ],
      "text/plain": [
       "Columns:\n",
       "\tdog-automobile\tfloat\n",
       "\tdog-bird\tfloat\n",
       "\tdog-cat\tfloat\n",
       "\tdog-dog\tfloat\n",
       "\n",
       "Rows: 1000\n",
       "\n",
       "Data:\n",
       "+----------------+---------------+---------------+---------------+\n",
       "| dog-automobile |    dog-bird   |    dog-cat    |    dog-dog    |\n",
       "+----------------+---------------+---------------+---------------+\n",
       "| 41.9579761457  | 41.7538647304 | 36.4196077068 | 33.4773590373 |\n",
       "| 46.0021331807  | 41.3382958925 | 38.8353268874 | 32.8458495684 |\n",
       "| 42.9462290692  | 38.6157590853 | 36.9763410854 | 35.0397073189 |\n",
       "| 41.6866060048  | 37.0892269954 | 34.5750072914 | 33.9010327697 |\n",
       "| 39.2269664935  |  38.272288694 |  34.778824791 | 37.4849250909 |\n",
       "| 40.5845117698  | 39.1462089236 | 35.1171578292 |  34.945165344 |\n",
       "| 45.1067352961  |  40.523040106 | 40.6095830913 | 39.0957278345 |\n",
       "| 41.3221140974  | 38.1947918393 | 39.9036867306 | 37.7696131032 |\n",
       "| 41.8244654995  | 40.1567131661 | 38.0674700168 | 35.1089144603 |\n",
       "| 45.4976929401  | 45.5597962603 | 42.7258732951 | 43.2422832585 |\n",
       "+----------------+---------------+---------------+---------------+\n",
       "[1000 rows x 4 columns]\n",
       "Note: Only the head of the SFrame is printed.\n",
       "You can use print_rows(num_rows=m, num_columns=n) to print more rows and columns."
      ]
     },
     "execution_count": 27,
     "metadata": {},
     "output_type": "execute_result"
    }
   ],
   "source": [
    "dog_distance"
   ]
  },
  {
   "cell_type": "code",
   "execution_count": 35,
   "metadata": {
    "collapsed": false
   },
   "outputs": [
    {
     "name": "stdout",
     "output_type": "stream",
     "text": [
      "{'dog-cat': 36.41960770675437, 'dog-dog': 33.47735903726335, 'dog-bird': 41.753864730351246, 'dog-automobile': 41.957976145712024}\n",
      "{'dog-cat': 38.83532688735544, 'dog-dog': 32.845849568405555, 'dog-bird': 41.3382958924861, 'dog-automobile': 46.002133180677895}\n",
      "{'dog-cat': 36.97634108541545, 'dog-dog': 35.03970731890587, 'dog-bird': 38.61575908528905, 'dog-automobile': 42.94622906923882}\n",
      "{'dog-cat': 34.575007291446106, 'dog-dog': 33.90103276968192, 'dog-bird': 37.08922699538217, 'dog-automobile': 41.68660600484794}\n",
      "{'dog-cat': 34.778824791016596, 'dog-dog': 37.484925090925636, 'dog-bird': 38.27228869398107, 'dog-automobile': 39.226966493475835}\n",
      "{'dog-cat': 35.11715782924591, 'dog-dog': 34.945165343981266, 'dog-bird': 39.14620892359047, 'dog-automobile': 40.58451176980722}\n",
      "{'dog-cat': 40.60958309132649, 'dog-dog': 39.09572783446352, 'dog-bird': 40.5230401059623, 'dog-automobile': 45.10673529610854}\n",
      "{'dog-cat': 39.90368673062214, 'dog-dog': 37.769613103220316, 'dog-bird': 38.19479183926958, 'dog-automobile': 41.32211409739762}\n",
      "{'dog-cat': 38.06747001682118, 'dog-dog': 35.10891446032838, 'dog-bird': 40.15671316613142, 'dog-automobile': 41.82446549950164}\n",
      "{'dog-cat': 42.725873295060325, 'dog-dog': 43.242283258453455, 'dog-bird': 45.55979626027668, 'dog-automobile': 45.497692940110376}\n",
      "{'dog-cat': 40.07334854106313, 'dog-dog': 36.23050539743555, 'dog-bird': 40.96125773991599, 'dog-automobile': 44.94327070265694}\n",
      "{'dog-cat': 31.6633518591745, 'dog-dog': 33.10211296474726, 'dog-bird': 35.092457233195304, 'dog-automobile': 38.66921769561575}\n",
      "{'dog-cat': 37.71246671323846, 'dog-dog': 38.03829227450411, 'dog-bird': 39.25133009680884, 'dog-automobile': 42.6108457210805}\n",
      "{'dog-cat': 39.09035764803644, 'dog-dog': 39.00456091573119, 'dog-bird': 40.14811450483599, 'dog-automobile': 42.88640613992419}\n",
      "{'dog-cat': 49.57967416577316, 'dog-dog': 43.88105487843021, 'dog-bird': 44.808618908674035, 'dog-automobile': 50.02782987883679}\n",
      "{'dog-cat': 36.077387742837814, 'dog-dog': 34.87732478232782, 'dog-bird': 36.391604143795696, 'dog-automobile': 41.12047445452354}\n",
      "{'dog-cat': 36.50902452301206, 'dog-dog': 33.56918170602115, 'dog-bird': 41.85072626144007, 'dog-automobile': 48.239559724869046}\n",
      "{'dog-cat': 44.95243961942733, 'dog-dog': 40.79780846159143, 'dog-bird': 39.16089874451968, 'dog-automobile': 45.97952159049673}\n",
      "{'dog-cat': 33.4368280817404, 'dog-dog': 33.94244484435413, 'dog-bird': 38.33795887927901, 'dog-automobile': 43.250911831462936}\n",
      "{'dog-cat': 34.32455551725352, 'dog-dog': 33.70739883510009, 'dog-bird': 35.68457267319843, 'dog-automobile': 43.275577737476915}\n",
      "{'dog-cat': 34.71470962990657, 'dog-dog': 37.024024136686506, 'dog-bird': 41.38276430259193, 'dog-automobile': 42.76196357236739}\n",
      "{'dog-cat': 33.23747741685298, 'dog-dog': 35.41524206486853, 'dog-bird': 41.58818624767653, 'dog-automobile': 43.24811401674691}\n",
      "{'dog-cat': 34.425383319771534, 'dog-dog': 36.95560695830801, 'dog-bird': 37.049835109366576, 'dog-automobile': 39.69590348549975}\n",
      "{'dog-cat': 34.51304231593018, 'dog-dog': 36.36783346985477, 'dog-bird': 38.61641851278887, 'dog-automobile': 43.4981815123903}\n",
      "{'dog-cat': 37.984239884361635, 'dog-dog': 35.20538482071616, 'dog-bird': 45.01673309755516, 'dog-automobile': 49.34566449336787}\n",
      "{'dog-cat': 41.93783581252019, 'dog-dog': 37.16462068032592, 'dog-bird': 41.723087870075254, 'dog-automobile': 45.116547528382114}\n",
      "{'dog-cat': 39.47553315875406, 'dog-dog': 39.182225470026836, 'dog-bird': 37.6212583304882, 'dog-automobile': 40.57096487705462}\n",
      "{'dog-cat': 37.61347349608415, 'dog-dog': 34.94940025291157, 'dog-bird': 41.731599895667095, 'dog-automobile': 39.276806081471825}\n",
      "{'dog-cat': 36.46096099330766, 'dog-dog': 33.91802758746505, 'dog-bird': 39.09415759935564, 'dog-automobile': 42.69196794872747}\n",
      "{'dog-cat': 32.54458323133461, 'dog-dog': 33.06071043163675, 'dog-bird': 40.047610552651655, 'dog-automobile': 42.296446292804866}\n",
      "{'dog-cat': 36.831355406189786, 'dog-dog': 36.6587187174816, 'dog-bird': 41.22475012582929, 'dog-automobile': 42.077641678751455}\n",
      "{'dog-cat': 37.8590258146085, 'dog-dog': 34.18631532550091, 'dog-bird': 44.921596812332, 'dog-automobile': 47.107282020350105}\n",
      "{'dog-cat': 41.781173252799235, 'dog-dog': 42.88914508532867, 'dog-bird': 42.74411086564849, 'dog-automobile': 45.9641724643916}\n",
      "{'dog-cat': 35.53207404381254, 'dog-dog': 33.794277125540034, 'dog-bird': 38.29130130989168, 'dog-automobile': 44.39792855360565}\n",
      "{'dog-cat': 33.12115384662451, 'dog-dog': 29.56599847778943, 'dog-bird': 34.993676138673905, 'dog-automobile': 42.57399230514599}\n",
      "{'dog-cat': 34.95202883174986, 'dog-dog': 31.884348475258125, 'dog-bird': 41.350077015689315, 'dog-automobile': 43.80087436026956}\n",
      "{'dog-cat': 33.21653861184684, 'dog-dog': 31.339679684426525, 'dog-bird': 34.51877613658594, 'dog-automobile': 44.073603720342454}\n",
      "{'dog-cat': 30.27480523958585, 'dog-dog': 28.450293267757722, 'dog-bird': 32.90835653527119, 'dog-automobile': 38.79255214686171}\n",
      "{'dog-cat': 35.2565724242629, 'dog-dog': 36.08565041950059, 'dog-bird': 36.515052505917296, 'dog-automobile': 42.34328930647846}\n",
      "{'dog-cat': 36.64845825198308, 'dog-dog': 37.061362875533604, 'dog-bird': 37.98610651446595, 'dog-automobile': 43.160585089238474}\n",
      "{'dog-cat': 33.676383475677746, 'dog-dog': 19.671403668911076, 'dog-bird': 37.26976366408442, 'dog-automobile': 42.1221845211887}\n",
      "{'dog-cat': 32.426395075244436, 'dog-dog': 32.14758058414715, 'dog-bird': 36.48945049783535, 'dog-automobile': 42.43821885148942}\n",
      "{'dog-cat': 39.64035075870523, 'dog-dog': 37.83904552350321, 'dog-bird': 37.20107391644318, 'dog-automobile': 44.1111645137587}\n",
      "{'dog-cat': 44.351332458546096, 'dog-dog': 40.72070143657624, 'dog-bird': 45.2419332749364, 'dog-automobile': 42.79811512892767}\n",
      "{'dog-cat': 38.26287205696334, 'dog-dog': 36.69834012617958, 'dog-bird': 40.55935626846006, 'dog-automobile': 49.29457744212721}\n",
      "{'dog-cat': 37.194245743826976, 'dog-dog': 38.29363494045979, 'dog-bird': 37.914569502536445, 'dog-automobile': 40.517711032699346}\n",
      "{'dog-cat': 38.41620975302145, 'dog-dog': 33.72155778437589, 'dog-bird': 43.525147175768275, 'dog-automobile': 46.02511668963577}\n",
      "{'dog-cat': 33.474756973026714, 'dog-dog': 32.85306252095741, 'dog-bird': 37.51343261134633, 'dog-automobile': 40.87655484013844}\n",
      "{'dog-cat': 35.284795792594785, 'dog-dog': 30.024066367702773, 'dog-bird': 34.80603183335602, 'dog-automobile': 41.65331212033987}\n",
      "{'dog-cat': 43.05319736547563, 'dog-dog': 36.073057198097345, 'dog-bird': 40.70226016704722, 'dog-automobile': 47.08712640436574}\n",
      "{'dog-cat': 31.586898628452126, 'dog-dog': 36.122589240242746, 'dog-bird': 39.56101661761915, 'dog-automobile': 39.17170129101271}\n",
      "{'dog-cat': 32.394078922689665, 'dog-dog': 35.639880052385394, 'dog-bird': 38.50347675499256, 'dog-automobile': 39.694270038009286}\n",
      "{'dog-cat': 31.601761211461803, 'dog-dog': 29.12559006492267, 'dog-bird': 30.589910948743032, 'dog-automobile': 36.630733245283544}\n",
      "{'dog-cat': 38.46815882216829, 'dog-dog': 36.082564393053104, 'dog-bird': 39.45919866598992, 'dog-automobile': 41.76400906578688}\n",
      "{'dog-cat': 38.824795041738476, 'dog-dog': 35.21103291958857, 'dog-bird': 33.74317797732788, 'dog-automobile': 41.871755257959244}\n",
      "{'dog-cat': 42.31387764601885, 'dog-dog': 38.8327407362039, 'dog-bird': 45.855304432200306, 'dog-automobile': 51.95064832130426}\n",
      "{'dog-cat': 43.270452817497855, 'dog-dog': 35.33676712545636, 'dog-bird': 46.732756001807665, 'dog-automobile': 45.82748129673469}\n",
      "{'dog-cat': 40.39705276746098, 'dog-dog': 39.898483596114446, 'dog-bird': 40.421204094691745, 'dog-automobile': 44.94165144378324}\n",
      "{'dog-cat': 36.35733833094062, 'dog-dog': 42.25630244226177, 'dog-bird': 40.501119758179804, 'dog-automobile': 44.48508050371145}\n",
      "{'dog-cat': 32.83929590898788, 'dog-dog': 34.52214505252573, 'dog-bird': 38.894820747410066, 'dog-automobile': 43.45846579893881}\n",
      "{'dog-cat': 36.978765507850035, 'dog-dog': 33.85936513612273, 'dog-bird': 39.92274005946153, 'dog-automobile': 39.97167688027937}\n",
      "{'dog-cat': 35.84172787332846, 'dog-dog': 36.04939383301203, 'dog-bird': 39.29409952564031, 'dog-automobile': 44.423376485504676}\n",
      "{'dog-cat': 28.26113584045508, 'dog-dog': 31.559939050755897, 'dog-bird': 35.45427933789058, 'dog-automobile': 44.12774590120552}\n",
      "{'dog-cat': 34.53430112715443, 'dog-dog': 33.34619494001615, 'dog-bird': 38.2698022409741, 'dog-automobile': 43.371368226210215}\n",
      "{'dog-cat': 40.14373078685561, 'dog-dog': 38.31514836146563, 'dog-bird': 38.0848266753869, 'dog-automobile': 42.81385579129763}\n",
      "{'dog-cat': 36.76833879102364, 'dog-dog': 36.48855380018821, 'dog-bird': 38.010424227997376, 'dog-automobile': 40.261640738691156}\n",
      "{'dog-cat': 32.7612814592462, 'dog-dog': 34.29207998137458, 'dog-bird': 34.26879306116707, 'dog-automobile': 38.52148121580309}\n",
      "{'dog-cat': 33.92854885029148, 'dog-dog': 35.457055216962964, 'dog-bird': 39.55535716390399, 'dog-automobile': 44.30015605825468}\n",
      "{'dog-cat': 37.37262427800839, 'dog-dog': 38.81923420192643, 'dog-bird': 37.32689350789317, 'dog-automobile': 42.46836338532952}\n",
      "{'dog-cat': 37.54795570624816, 'dog-dog': 36.522109541806195, 'dog-bird': 40.28366586280373, 'dog-automobile': 40.48604576648027}\n",
      "{'dog-cat': 34.842908179723075, 'dog-dog': 30.237437895729478, 'dog-bird': 39.25502101760697, 'dog-automobile': 43.01651377357686}\n",
      "{'dog-cat': 40.136791197858926, 'dog-dog': 36.93950537665718, 'dog-bird': 43.916177294257416, 'dog-automobile': 42.82338875992356}\n",
      "{'dog-cat': 31.09810819005045, 'dog-dog': 29.285202313386975, 'dog-bird': 33.99699131731401, 'dog-automobile': 38.31435202642734}\n",
      "{'dog-cat': 40.11624237084988, 'dog-dog': 40.928339164964825, 'dog-bird': 41.734786060929025, 'dog-automobile': 49.31118463776588}\n",
      "{'dog-cat': 38.96668953867347, 'dog-dog': 39.44236881540462, 'dog-bird': 39.432066281110345, 'dog-automobile': 46.95028482447082}\n",
      "{'dog-cat': 36.85769510482289, 'dog-dog': 40.7591055731652, 'dog-bird': 38.7075036332259, 'dog-automobile': 42.87180791711999}\n",
      "{'dog-cat': 35.35036674747504, 'dog-dog': 33.801265926257614, 'dog-bird': 39.335795963216775, 'dog-automobile': 40.64750099771124}\n",
      "{'dog-cat': 39.80195730163124, 'dog-dog': 38.28993441175869, 'dog-bird': 44.97233443502976, 'dog-automobile': 48.37781263945565}\n",
      "{'dog-cat': 36.439162463462715, 'dog-dog': 26.845465238282426, 'dog-bird': 37.697195890836, 'dog-automobile': 43.26495082293455}\n",
      "{'dog-cat': 41.89454738758274, 'dog-dog': 37.138101305549014, 'dog-bird': 45.40697194023911, 'dog-automobile': 49.691435643693886}\n",
      "{'dog-cat': 31.62823882145115, 'dog-dog': 28.649590559334076, 'dog-bird': 36.21006892983347, 'dog-automobile': 36.867133554669714}\n",
      "{'dog-cat': 39.467985682931364, 'dog-dog': 35.87973142277697, 'dog-bird': 37.54215059827852, 'dog-automobile': 42.50111242264862}\n",
      "{'dog-cat': 42.26483373489599, 'dog-dog': 40.98054931295611, 'dog-bird': 42.249837381076304, 'dog-automobile': 38.08113847738858}\n",
      "{'dog-cat': 35.71730009618424, 'dog-dog': 35.96218620718196, 'dog-bird': 41.87108327316091, 'dog-automobile': 46.55675298082365}\n",
      "{'dog-cat': 43.02736539608004, 'dog-dog': 37.99732787700815, 'dog-bird': 43.806916206943775, 'dog-automobile': 45.44566556375078}\n",
      "{'dog-cat': 35.152723006065465, 'dog-dog': 34.52773039878752, 'dog-bird': 38.88867770858496, 'dog-automobile': 41.66983417154405}\n",
      "{'dog-cat': 35.95833095631713, 'dog-dog': 31.88343823946978, 'dog-bird': 40.12744005827457, 'dog-automobile': 42.83666093982842}\n",
      "{'dog-cat': 48.21944460945715, 'dog-dog': 43.64505260568141, 'dog-bird': 45.68254717473682, 'dog-automobile': 53.913048908372595}\n",
      "{'dog-cat': 34.129197089379105, 'dog-dog': 33.08039908011702, 'dog-bird': 38.72554848673784, 'dog-automobile': 40.56294030462953}\n",
      "{'dog-cat': 36.08047540896331, 'dog-dog': 35.382288001688394, 'dog-bird': 38.6982489183557, 'dog-automobile': 45.07208251725691}\n",
      "{'dog-cat': 40.8540401857366, 'dog-dog': 38.113791554829135, 'dog-bird': 40.119785553211614, 'dog-automobile': 40.561557013030026}\n",
      "{'dog-cat': 30.984616222360927, 'dog-dog': 31.828717524611626, 'dog-bird': 34.06907297327879, 'dog-automobile': 36.71999011337282}\n",
      "{'dog-cat': 41.05439417106038, 'dog-dog': 37.343271765030536, 'dog-bird': 41.70706406894809, 'dog-automobile': 45.256561666275395}\n",
      "{'dog-cat': 36.691623497122876, 'dog-dog': 32.29836884327023, 'dog-bird': 38.49192001695515, 'dog-automobile': 41.9005559930005}\n",
      "{'dog-cat': 47.45621741097345, 'dog-dog': 42.58415413524352, 'dog-bird': 44.5911820797117, 'dog-automobile': 46.16135687831738}\n",
      "{'dog-cat': 37.044717721863776, 'dog-dog': 34.197764134711356, 'dog-bird': 40.31718686113617, 'dog-automobile': 43.83030314608163}\n",
      "{'dog-cat': 34.108825257553335, 'dog-dog': 30.568895747847904, 'dog-bird': 36.152538757108836, 'dog-automobile': 40.93708685571942}\n",
      "{'dog-cat': 41.44768570813721, 'dog-dog': 40.84600854023345, 'dog-bird': 41.93081241017411, 'dog-automobile': 45.15017811634522}\n",
      "{'dog-cat': 33.77204053538457, 'dog-dog': 36.79117056773378, 'dog-bird': 39.75532556712862, 'dog-automobile': 40.270121841226334}\n",
      "{'dog-cat': 29.38536044302192, 'dog-dog': 30.595343802895016, 'dog-bird': 30.649225833484287, 'dog-automobile': 40.032753524749026}\n",
      "{'dog-cat': 33.75491308637689, 'dog-dog': 34.19537864183896, 'dog-bird': 37.146231333631555, 'dog-automobile': 40.685972349910145}\n",
      "{'dog-cat': 33.565472809772714, 'dog-dog': 34.84337519553996, 'dog-bird': 35.99412563337618, 'dog-automobile': 35.257159587789864}\n",
      "{'dog-cat': 38.04936433625223, 'dog-dog': 40.89952486033307, 'dog-bird': 40.32330035157369, 'dog-automobile': 44.16513203747479}\n",
      "{'dog-cat': 32.623304056984196, 'dog-dog': 30.084785350560715, 'dog-bird': 35.42416998389194, 'dog-automobile': 39.250648631627506}\n",
      "{'dog-cat': 36.870966061831425, 'dog-dog': 36.5923684261516, 'dog-bird': 40.96258982402296, 'dog-automobile': 44.936584620850326}\n",
      "{'dog-cat': 32.898037272494946, 'dog-dog': 31.79952643068188, 'dog-bird': 37.524949034642724, 'dog-automobile': 42.3398680690563}\n",
      "{'dog-cat': 34.51191827444008, 'dog-dog': 32.597330611647266, 'dog-bird': 36.53380022952179, 'dog-automobile': 41.045078761807225}\n",
      "{'dog-cat': 36.43508359618368, 'dog-dog': 37.33539328275652, 'dog-bird': 39.628792960323196, 'dog-automobile': 40.701594486776344}\n",
      "{'dog-cat': 39.56484514805088, 'dog-dog': 38.72706389160401, 'dog-bird': 40.41276630639736, 'dog-automobile': 44.212541127599046}\n",
      "{'dog-cat': 38.53752839151838, 'dog-dog': 36.28447326657248, 'dog-bird': 41.096810595714025, 'dog-automobile': 40.96697112461108}\n",
      "{'dog-cat': 35.59996167719834, 'dog-dog': 34.48879515237567, 'dog-bird': 37.3235546165072, 'dog-automobile': 42.87707374904296}\n",
      "{'dog-cat': 38.217709251916276, 'dog-dog': 37.048713140607, 'dog-bird': 44.54478701667427, 'dog-automobile': 43.98589590581612}\n",
      "{'dog-cat': 37.533295529932666, 'dog-dog': 33.72931259129224, 'dog-bird': 40.74425439048226, 'dog-automobile': 45.825053256162285}\n",
      "{'dog-cat': 30.781273700361158, 'dog-dog': 32.080454641526224, 'dog-bird': 34.24158864269626, 'dog-automobile': 38.465528324518296}\n",
      "{'dog-cat': 35.86283580687196, 'dog-dog': 30.49587488910664, 'dog-bird': 38.41052861422965, 'dog-automobile': 39.11885401138652}\n",
      "{'dog-cat': 32.969094899658224, 'dog-dog': 32.05943227611937, 'dog-bird': 37.15470003585971, 'dog-automobile': 43.407294376789764}\n",
      "{'dog-cat': 37.64260608835409, 'dog-dog': 34.068946464751136, 'dog-bird': 39.997827288665526, 'dog-automobile': 45.885680763481034}\n",
      "{'dog-cat': 39.50608547629736, 'dog-dog': 38.201265604794706, 'dog-bird': 40.24863749630992, 'dog-automobile': 43.371698956546766}\n",
      "{'dog-cat': 36.06874173949611, 'dog-dog': 32.327788096020114, 'dog-bird': 36.65276309313214, 'dog-automobile': 45.089765120744744}\n",
      "{'dog-cat': 34.290527210618734, 'dog-dog': 35.62534923299384, 'dog-bird': 36.22610701000745, 'dog-automobile': 39.7082046459915}\n",
      "{'dog-cat': 36.70587239368097, 'dog-dog': 35.21881427761866, 'dog-bird': 39.939981803961984, 'dog-automobile': 43.255611229625494}\n",
      "{'dog-cat': 42.46697003051534, 'dog-dog': 35.03051321355057, 'dog-bird': 40.17270660485874, 'dog-automobile': 47.504577645202666}\n",
      "{'dog-cat': 37.327714786713194, 'dog-dog': 39.146654556749134, 'dog-bird': 41.1128886447434, 'dog-automobile': 47.45713092357787}\n",
      "{'dog-cat': 42.219814953708, 'dog-dog': 41.93837205260321, 'dog-bird': 42.06515608765621, 'dog-automobile': 41.556483810518365}\n",
      "{'dog-cat': 34.945954513669086, 'dog-dog': 30.176804925295123, 'dog-bird': 36.74073211523001, 'dog-automobile': 42.28442798962597}\n",
      "{'dog-cat': 39.016214476338334, 'dog-dog': 39.06222469381368, 'dog-bird': 41.71992606992494, 'dog-automobile': 41.377894406335024}\n",
      "{'dog-cat': 42.31705606391133, 'dog-dog': 41.49612269344145, 'dog-bird': 39.97616767457766, 'dog-automobile': 47.71577481651239}\n",
      "{'dog-cat': 47.16053886811122, 'dog-dog': 44.78250206238276, 'dog-bird': 47.13838438824018, 'dog-automobile': 49.11634156628483}\n",
      "{'dog-cat': 36.38949849214561, 'dog-dog': 34.5764678123843, 'dog-bird': 38.425380883961196, 'dog-automobile': 41.56953412677591}\n",
      "{'dog-cat': 36.48787932394546, 'dog-dog': 36.75380682583231, 'dog-bird': 41.69695797335935, 'dog-automobile': 45.79781013435431}\n",
      "{'dog-cat': 32.26112203786465, 'dog-dog': 31.243700296428347, 'dog-bird': 33.84248017899066, 'dog-automobile': 36.25476299966718}\n",
      "{'dog-cat': 39.07912253342249, 'dog-dog': 33.63970023279775, 'dog-bird': 39.495362005585925, 'dog-automobile': 41.02651350777541}\n",
      "{'dog-cat': 33.09223905737462, 'dog-dog': 34.32995321115027, 'dog-bird': 36.42453463750898, 'dog-automobile': 36.418741589815255}\n",
      "{'dog-cat': 32.96204649739937, 'dog-dog': 32.567161690153775, 'dog-bird': 36.84060768373353, 'dog-automobile': 42.97775131564246}\n",
      "{'dog-cat': 38.59872792143193, 'dog-dog': 36.710726074406615, 'dog-bird': 39.9271087692697, 'dog-automobile': 45.53654463489544}\n",
      "{'dog-cat': 35.74579416281281, 'dog-dog': 35.85943972309516, 'dog-bird': 32.78052727189069, 'dog-automobile': 41.403140420946244}\n",
      "{'dog-cat': 38.187359005701545, 'dog-dog': 33.994818551416195, 'dog-bird': 38.124393763707694, 'dog-automobile': 49.06111574247238}\n",
      "{'dog-cat': 36.29274919863824, 'dog-dog': 34.2556300559554, 'dog-bird': 41.324423444583, 'dog-automobile': 45.25232410504253}\n",
      "{'dog-cat': 35.715521196752334, 'dog-dog': 30.37710205807448, 'dog-bird': 35.004307617831785, 'dog-automobile': 42.45460946176555}\n",
      "{'dog-cat': 43.81520566206536, 'dog-dog': 43.499545395072, 'dog-bird': 45.10541321484808, 'dog-automobile': 48.93179977444764}\n",
      "{'dog-cat': 37.73632584040475, 'dog-dog': 38.03718172980754, 'dog-bird': 39.60231887450125, 'dog-automobile': 38.00336189568856}\n",
      "{'dog-cat': 35.65820525080693, 'dog-dog': 34.73578003994959, 'dog-bird': 38.993063981999725, 'dog-automobile': 43.42001123767144}\n",
      "{'dog-cat': 29.509684547155736, 'dog-dog': 30.266816409022404, 'dog-bird': 32.743953781836716, 'dog-automobile': 39.8843496697151}\n",
      "{'dog-cat': 46.13022759211143, 'dog-dog': 39.05799434198409, 'dog-bird': 42.848224036169356, 'dog-automobile': 46.91892780015996}\n",
      "{'dog-cat': 35.135821211060914, 'dog-dog': 33.95003099659521, 'dog-bird': 38.76158046072814, 'dog-automobile': 44.80040716235061}\n",
      "{'dog-cat': 32.087717343788086, 'dog-dog': 27.042591515626977, 'dog-bird': 35.04561113086471, 'dog-automobile': 42.16834375162394}\n",
      "{'dog-cat': 32.70351025700357, 'dog-dog': 31.34090678534661, 'dog-bird': 35.28767597041922, 'dog-automobile': 43.52968821856716}\n",
      "{'dog-cat': 39.223837866055675, 'dog-dog': 38.63402447303689, 'dog-bird': 40.501981954435685, 'dog-automobile': 40.225461983871334}\n",
      "{'dog-cat': 37.50079180215718, 'dog-dog': 37.06313028709012, 'dog-bird': 38.201641206871905, 'dog-automobile': 46.22236606546847}\n",
      "{'dog-cat': 33.02629216763106, 'dog-dog': 30.103947519898423, 'dog-bird': 37.07044181386843, 'dog-automobile': 45.247216060122334}\n",
      "{'dog-cat': 38.680455263711536, 'dog-dog': 35.210639094744934, 'dog-bird': 41.52412439224855, 'dog-automobile': 49.45591609743936}\n",
      "{'dog-cat': 41.637492683112896, 'dog-dog': 41.717811501570225, 'dog-bird': 39.862204270768515, 'dog-automobile': 42.26076302395605}\n",
      "{'dog-cat': 36.49279226430958, 'dog-dog': 34.5250685688521, 'dog-bird': 39.39579773955519, 'dog-automobile': 44.4593556216996}\n",
      "{'dog-cat': 35.67547160147482, 'dog-dog': 36.91679099213459, 'dog-bird': 38.779536970530046, 'dog-automobile': 41.528610845695894}\n",
      "{'dog-cat': 40.19771257798226, 'dog-dog': 41.92813922387479, 'dog-bird': 41.09969838701852, 'dog-automobile': 41.614639667966}\n",
      "{'dog-cat': 30.63392412727658, 'dog-dog': 29.681698453984684, 'dog-bird': 29.078004830344053, 'dog-automobile': 38.97543287741071}\n",
      "{'dog-cat': 37.86025969981128, 'dog-dog': 30.874869842579997, 'dog-bird': 40.961282001055224, 'dog-automobile': 47.651634138117124}\n",
      "{'dog-cat': 40.24321367725253, 'dog-dog': 38.313412341083975, 'dog-bird': 45.41274851682323, 'dog-automobile': 50.42945739035101}\n",
      "{'dog-cat': 34.698593138381234, 'dog-dog': 33.70434015774534, 'dog-bird': 34.817925530509164, 'dog-automobile': 44.714584904191305}\n",
      "{'dog-cat': 41.66230596704105, 'dog-dog': 40.04292983701469, 'dog-bird': 42.79776953395511, 'dog-automobile': 46.1771444098178}\n",
      "{'dog-cat': 40.787112372634226, 'dog-dog': 37.9494904750106, 'dog-bird': 41.72114316643452, 'dog-automobile': 46.05376992080013}\n",
      "{'dog-cat': 36.33815944241525, 'dog-dog': 34.284102128344664, 'dog-bird': 39.50831239156959, 'dog-automobile': 45.01971760291469}\n",
      "{'dog-cat': 34.49620924930147, 'dog-dog': 31.51657920444497, 'dog-bird': 34.34266307280611, 'dog-automobile': 43.571595191232106}\n",
      "{'dog-cat': 41.6370888013349, 'dog-dog': 40.88955575680267, 'dog-bird': 43.910393978995934, 'dog-automobile': 42.42111613188635}\n",
      "{'dog-cat': 34.35029175662813, 'dog-dog': 34.59739378194312, 'dog-bird': 40.844201994681804, 'dog-automobile': 40.71139058295943}\n",
      "{'dog-cat': 35.41396852134139, 'dog-dog': 34.75618176991088, 'dog-bird': 36.88214708691356, 'dog-automobile': 36.637130309970686}\n",
      "{'dog-cat': 32.00317270190065, 'dog-dog': 31.68803465026648, 'dog-bird': 33.97337768169277, 'dog-automobile': 35.19855678241453}\n",
      "{'dog-cat': 33.304425796341604, 'dog-dog': 32.999084747477625, 'dog-bird': 32.613565183857006, 'dog-automobile': 41.662304624583605}\n",
      "{'dog-cat': 37.417743288967856, 'dog-dog': 35.764155131830606, 'dog-bird': 41.41918077377856, 'dog-automobile': 43.517125077427515}\n",
      "{'dog-cat': 34.22835976561954, 'dog-dog': 36.54864778154145, 'dog-bird': 37.09579698727003, 'dog-automobile': 41.74519703150696}\n",
      "{'dog-cat': 35.23197928841394, 'dog-dog': 28.683276560691247, 'dog-bird': 35.4566916941643, 'dog-automobile': 42.935447981964565}\n",
      "{'dog-cat': 35.6151174385771, 'dog-dog': 35.90028861853838, 'dog-bird': 35.811166768673836, 'dog-automobile': 44.24969925409834}\n",
      "{'dog-cat': 37.53473656371475, 'dog-dog': 39.65662216860159, 'dog-bird': 41.98944869582322, 'dog-automobile': 40.3769192292399}\n",
      "{'dog-cat': 41.947118821912824, 'dog-dog': 39.88429029974206, 'dog-bird': 38.8267853694794, 'dog-automobile': 43.83831269810574}\n",
      "{'dog-cat': 36.42326216313285, 'dog-dog': 34.675869514215606, 'dog-bird': 39.09214892441817, 'dog-automobile': 46.63671316147077}\n",
      "{'dog-cat': 39.46419051859211, 'dog-dog': 34.13432230393005, 'dog-bird': 40.88487321056712, 'dog-automobile': 46.65359271369352}\n",
      "{'dog-cat': 33.65217910938363, 'dog-dog': 33.37418961244204, 'dog-bird': 39.193741536525536, 'dog-automobile': 38.5633208887566}\n",
      "{'dog-cat': 31.916154121028804, 'dog-dog': 35.86967434258201, 'dog-bird': 34.07001543811733, 'dog-automobile': 42.0699008671756}\n",
      "{'dog-cat': 36.18363225778021, 'dog-dog': 35.73301100472848, 'dog-bird': 41.06467251281092, 'dog-automobile': 43.841462861343274}\n",
      "{'dog-cat': 37.74135292202482, 'dog-dog': 32.21153658027685, 'dog-bird': 39.87576399228906, 'dog-automobile': 40.23300718018827}\n",
      "{'dog-cat': 36.72109756662742, 'dog-dog': 33.166298272352336, 'dog-bird': 39.553130851036556, 'dog-automobile': 44.92625291380973}\n",
      "{'dog-cat': 40.204270322495795, 'dog-dog': 37.425714067391716, 'dog-bird': 41.70247043974264, 'dog-automobile': 41.235673802208446}\n",
      "{'dog-cat': 35.17898511097637, 'dog-dog': 33.827352222009864, 'dog-bird': 38.702331748726024, 'dog-automobile': 41.07750046677921}\n",
      "{'dog-cat': 35.56934831137076, 'dog-dog': 34.765725309818244, 'dog-bird': 40.42722561349091, 'dog-automobile': 44.57446879255044}\n",
      "{'dog-cat': 36.97678474263527, 'dog-dog': 37.22178555011057, 'dog-bird': 41.34043994905157, 'dog-automobile': 45.91031193195117}\n",
      "{'dog-cat': 34.07295250754515, 'dog-dog': 33.470967426982156, 'dog-bird': 33.85552518101819, 'dog-automobile': 40.74900985977847}\n",
      "{'dog-cat': 34.19318672158723, 'dog-dog': 32.626257692275686, 'dog-bird': 37.72576431056358, 'dog-automobile': 41.43084238674285}\n",
      "{'dog-cat': 39.56573625036411, 'dog-dog': 35.635751060153964, 'dog-bird': 38.52551552582208, 'dog-automobile': 42.42496437057842}\n",
      "{'dog-cat': 36.834873826054604, 'dog-dog': 30.447953887127145, 'dog-bird': 40.236347125472264, 'dog-automobile': 42.93359199537561}\n",
      "{'dog-cat': 39.99493664077128, 'dog-dog': 38.302830809081726, 'dog-bird': 41.91003327091345, 'dog-automobile': 42.630464001903825}\n",
      "{'dog-cat': 34.48579189999704, 'dog-dog': 31.883482203380613, 'dog-bird': 38.71127227709305, 'dog-automobile': 40.0560111067661}\n",
      "{'dog-cat': 38.889941104885985, 'dog-dog': 36.50679570602351, 'dog-bird': 44.24761108379643, 'dog-automobile': 48.243028138452004}\n",
      "{'dog-cat': 37.656058304126994, 'dog-dog': 38.36814636223965, 'dog-bird': 39.812780932487904, 'dog-automobile': 43.607274913311194}\n",
      "{'dog-cat': 36.691604974672124, 'dog-dog': 35.739555846246994, 'dog-bird': 38.14990701136261, 'dog-automobile': 38.31414376560757}\n",
      "{'dog-cat': 34.11452025742624, 'dog-dog': 34.93173289213321, 'dog-bird': 34.27988539954924, 'dog-automobile': 40.824883706220184}\n",
      "{'dog-cat': 34.24968609522612, 'dog-dog': 34.34983384237249, 'dog-bird': 38.27335406937575, 'dog-automobile': 37.99972701702385}\n",
      "{'dog-cat': 34.286421278427134, 'dog-dog': 32.78963501321433, 'dog-bird': 35.523733435002065, 'dog-automobile': 43.967010523851066}\n",
      "{'dog-cat': 31.997979681001308, 'dog-dog': 32.531104442308106, 'dog-bird': 37.60628155174467, 'dog-automobile': 44.119833909012094}\n",
      "{'dog-cat': 40.278612738080064, 'dog-dog': 37.922666174440494, 'dog-bird': 42.39376428054376, 'dog-automobile': 46.38385861676673}\n",
      "{'dog-cat': 41.03022707462236, 'dog-dog': 38.24725514847453, 'dog-bird': 43.135498967856094, 'dog-automobile': 44.57127732513172}\n",
      "{'dog-cat': 35.37795530584588, 'dog-dog': 34.25169631305138, 'dog-bird': 38.957903855419914, 'dog-automobile': 43.83337053016399}\n",
      "{'dog-cat': 37.02857075109283, 'dog-dog': 39.20431417610058, 'dog-bird': 41.088529510616, 'dog-automobile': 46.2304812758189}\n",
      "{'dog-cat': 41.23604859159741, 'dog-dog': 38.80250334754886, 'dog-bird': 42.762669496133235, 'dog-automobile': 43.592033771473005}\n",
      "{'dog-cat': 37.751785530534896, 'dog-dog': 38.894089591907886, 'dog-bird': 44.2977662573816, 'dog-automobile': 41.64432748206659}\n",
      "{'dog-cat': 31.661881455306325, 'dog-dog': 30.783755479978797, 'dog-bird': 34.92030365527083, 'dog-automobile': 39.21772680175582}\n",
      "{'dog-cat': 35.664239728014465, 'dog-dog': 35.14847989591043, 'dog-bird': 37.8555477397156, 'dog-automobile': 37.04233018861744}\n",
      "{'dog-cat': 35.53389399005195, 'dog-dog': 36.91768905303078, 'dog-bird': 38.07328344509525, 'dog-automobile': 39.78599398983197}\n",
      "{'dog-cat': 36.03889090521281, 'dog-dog': 36.60166887139015, 'dog-bird': 34.728705859846336, 'dog-automobile': 38.733342752925374}\n",
      "{'dog-cat': 40.13671944926448, 'dog-dog': 37.12128716783855, 'dog-bird': 44.100141851575, 'dog-automobile': 41.81804868065881}\n",
      "{'dog-cat': 31.524467934975313, 'dog-dog': 33.183221323881384, 'dog-bird': 38.32388206265676, 'dog-automobile': 41.96815136645423}\n",
      "{'dog-cat': 34.46320440381859, 'dog-dog': 35.378128354114615, 'dog-bird': 35.69027638573756, 'dog-automobile': 38.56739946860328}\n",
      "{'dog-cat': 37.819371589084675, 'dog-dog': 42.31496800273004, 'dog-bird': 41.19172146838295, 'dog-automobile': 44.994085321922675}\n",
      "{'dog-cat': 30.355458042816434, 'dog-dog': 31.570569031632267, 'dog-bird': 34.24459426833267, 'dog-automobile': 41.2963057872017}\n",
      "{'dog-cat': 41.26360453352968, 'dog-dog': 42.541281462394004, 'dog-bird': 45.47502753856643, 'dog-automobile': 46.85450981900945}\n",
      "{'dog-cat': 39.55466076295806, 'dog-dog': 37.18138819160678, 'dog-bird': 42.08915670206168, 'dog-automobile': 41.79031393841908}\n",
      "{'dog-cat': 45.37673833610046, 'dog-dog': 24.468737322698217, 'dog-bird': 42.18743573422972, 'dog-automobile': 41.431211712404505}\n",
      "{'dog-cat': 39.26329610664198, 'dog-dog': 34.25776353610562, 'dog-bird': 42.40282312232426, 'dog-automobile': 44.776864024194445}\n",
      "{'dog-cat': 31.08312902475952, 'dog-dog': 31.626638963731224, 'dog-bird': 35.78563549885421, 'dog-automobile': 42.43871716230121}\n",
      "{'dog-cat': 35.331024702083006, 'dog-dog': 33.73095089374333, 'dog-bird': 38.10789146698314, 'dog-automobile': 43.09912720814711}\n",
      "{'dog-cat': 35.4294895761477, 'dog-dog': 34.517547258498375, 'dog-bird': 37.88685064048789, 'dog-automobile': 40.73308067081132}\n",
      "{'dog-cat': 36.34637066469813, 'dog-dog': 34.10473332935841, 'dog-bird': 38.819454864185836, 'dog-automobile': 41.10305009447238}\n",
      "{'dog-cat': 37.46854110122549, 'dog-dog': 37.66551647834049, 'dog-bird': 38.043434152275296, 'dog-automobile': 43.17338686892994}\n",
      "{'dog-cat': 40.40979414819772, 'dog-dog': 36.83969053034967, 'dog-bird': 41.416277575695, 'dog-automobile': 46.05385588786399}\n",
      "{'dog-cat': 36.75197146372272, 'dog-dog': 31.737150445089135, 'dog-bird': 40.908412897600186, 'dog-automobile': 41.8000240904194}\n",
      "{'dog-cat': 41.635364753208115, 'dog-dog': 39.40573372205433, 'dog-bird': 41.08663133388781, 'dog-automobile': 43.64307502841317}\n",
      "{'dog-cat': 34.634958462428166, 'dog-dog': 30.25641199393695, 'dog-bird': 36.05922541868329, 'dog-automobile': 43.64633067902913}\n",
      "{'dog-cat': 39.78177826126854, 'dog-dog': 39.14798228689068, 'dog-bird': 41.048520590966895, 'dog-automobile': 48.00374997750025}\n",
      "{'dog-cat': 35.94627242808259, 'dog-dog': 33.974438859244486, 'dog-bird': 39.72657238372616, 'dog-automobile': 42.187614057797624}\n",
      "{'dog-cat': 33.134806277416466, 'dog-dog': 31.95076611120739, 'dog-bird': 36.4048226070126, 'dog-automobile': 37.95933586736609}\n",
      "{'dog-cat': 37.24816326179719, 'dog-dog': 34.15864509966542, 'dog-bird': 38.44329580619466, 'dog-automobile': 45.010415173575105}\n",
      "{'dog-cat': 32.790840394249294, 'dog-dog': 35.064371978342116, 'dog-bird': 36.03216283777996, 'dog-automobile': 39.42520364068342}\n",
      "{'dog-cat': 46.325788994971475, 'dog-dog': 45.436059229535196, 'dog-bird': 48.222633346437696, 'dog-automobile': 52.20296387524961}\n",
      "{'dog-cat': 42.6981904229373, 'dog-dog': 40.695303620740475, 'dog-bird': 45.698600888886226, 'dog-automobile': 48.2091013297391}\n",
      "{'dog-cat': 39.18615167507587, 'dog-dog': 37.072263873718136, 'dog-bird': 38.516648220819384, 'dog-automobile': 41.63791678390188}\n",
      "{'dog-cat': 39.689738281277364, 'dog-dog': 39.184861565286795, 'dog-bird': 38.92230471624985, 'dog-automobile': 42.299873453504084}\n",
      "{'dog-cat': 32.41176901737244, 'dog-dog': 29.12315961538082, 'dog-bird': 37.117437950148414, 'dog-automobile': 42.94272512498596}\n",
      "{'dog-cat': 39.44048907177986, 'dog-dog': 40.77288826967968, 'dog-bird': 39.780541520222016, 'dog-automobile': 43.16991206557482}\n",
      "{'dog-cat': 37.85215800710208, 'dog-dog': 33.8574726538073, 'dog-bird': 42.31639686951289, 'dog-automobile': 47.99364868463564}\n",
      "{'dog-cat': 33.12205313751173, 'dog-dog': 33.62510624385175, 'dog-bird': 32.21837523716027, 'dog-automobile': 40.58215755745588}\n",
      "{'dog-cat': 41.23977478624255, 'dog-dog': 39.11513338396982, 'dog-bird': 41.62787268505342, 'dog-automobile': 44.757926035499594}\n",
      "{'dog-cat': 40.55548257207249, 'dog-dog': 36.634814580352575, 'dog-bird': 44.70569724196555, 'dog-automobile': 46.58853365871681}\n",
      "{'dog-cat': 38.0873859316892, 'dog-dog': 34.371189253229105, 'dog-bird': 40.16103304345974, 'dog-automobile': 42.804207887119105}\n",
      "{'dog-cat': 36.688434696128255, 'dog-dog': 36.78527153626681, 'dog-bird': 35.475496589043125, 'dog-automobile': 39.482042185123106}\n",
      "{'dog-cat': 37.50548712677484, 'dog-dog': 36.24452728336711, 'dog-bird': 40.34682997863177, 'dog-automobile': 42.38570892048641}\n",
      "{'dog-cat': 41.56091213294512, 'dog-dog': 39.11473421450435, 'dog-bird': 39.423932373913715, 'dog-automobile': 46.53800390708657}\n",
      "{'dog-cat': 37.97082388610384, 'dog-dog': 35.476010588590455, 'dog-bird': 40.46502971249231, 'dog-automobile': 42.711807873110175}\n",
      "{'dog-cat': 35.49305128800981, 'dog-dog': 33.618158247960345, 'dog-bird': 36.30253160204559, 'dog-automobile': 42.4630496404611}\n",
      "{'dog-cat': 32.29808536965759, 'dog-dog': 35.0477637048408, 'dog-bird': 35.49240805699401, 'dog-automobile': 36.993117100907796}\n",
      "{'dog-cat': 31.152378500356967, 'dog-dog': 35.54262198793453, 'dog-bird': 36.517104861932076, 'dog-automobile': 35.69338603637156}\n",
      "{'dog-cat': 35.64565016639804, 'dog-dog': 28.791832710570002, 'dog-bird': 41.62844200192398, 'dog-automobile': 40.866292024633665}\n",
      "{'dog-cat': 31.68456125465205, 'dog-dog': 33.24791234607813, 'dog-bird': 38.77960542528024, 'dog-automobile': 46.09738799981602}\n",
      "{'dog-cat': 36.34142292653013, 'dog-dog': 37.58584642867276, 'dog-bird': 39.040058426717714, 'dog-automobile': 38.6919592613697}\n",
      "{'dog-cat': 44.97485408510249, 'dog-dog': 43.11248922963944, 'dog-bird': 44.01393647719861, 'dog-automobile': 44.050981357910565}\n",
      "{'dog-cat': 33.080145437868424, 'dog-dog': 30.234884214623595, 'dog-bird': 41.764694595054316, 'dog-automobile': 43.376098960113296}\n",
      "{'dog-cat': 35.9233432547728, 'dog-dog': 32.05824109493898, 'dog-bird': 38.653234545744326, 'dog-automobile': 46.54120890032452}\n",
      "{'dog-cat': 31.884651890399358, 'dog-dog': 32.24243576283892, 'dog-bird': 34.98905340819968, 'dog-automobile': 41.87571531523984}\n",
      "{'dog-cat': 29.891107135484962, 'dog-dog': 33.8287859125848, 'dog-bird': 39.36718795638384, 'dog-automobile': 42.57880100423219}\n",
      "{'dog-cat': 34.220943664513165, 'dog-dog': 32.70671165964116, 'dog-bird': 34.396777025784765, 'dog-automobile': 44.106277582392615}\n",
      "{'dog-cat': 35.619756181184215, 'dog-dog': 35.44256497017372, 'dog-bird': 39.71653869803084, 'dog-automobile': 43.279558975980926}\n",
      "{'dog-cat': 33.55116105682138, 'dog-dog': 33.0285100356137, 'dog-bird': 35.68311061133916, 'dog-automobile': 38.19772194446497}\n",
      "{'dog-cat': 28.920922905539353, 'dog-dog': 32.64971131835694, 'dog-bird': 34.31077596850671, 'dog-automobile': 38.735225070620174}\n",
      "{'dog-cat': 39.424103502828274, 'dog-dog': 38.177101072198646, 'dog-bird': 40.807193098913594, 'dog-automobile': 44.487516598464005}\n",
      "{'dog-cat': 37.39138489945464, 'dog-dog': 42.172903594558925, 'dog-bird': 40.989884054420855, 'dog-automobile': 49.66797461958597}\n",
      "{'dog-cat': 34.65383556066253, 'dog-dog': 32.63037319462572, 'dog-bird': 38.10565724543601, 'dog-automobile': 38.63951235896902}\n",
      "{'dog-cat': 34.11830192666218, 'dog-dog': 31.652522593274078, 'dog-bird': 37.08658309313421, 'dog-automobile': 40.14413082053037}\n",
      "{'dog-cat': 38.079970064781, 'dog-dog': 34.08038280726652, 'dog-bird': 40.819439293832325, 'dog-automobile': 40.10693413765437}\n",
      "{'dog-cat': 38.67892888435266, 'dog-dog': 36.059726572493545, 'dog-bird': 38.46244264497207, 'dog-automobile': 43.11018716723693}\n",
      "{'dog-cat': 37.51239696894461, 'dog-dog': 35.165560215460054, 'dog-bird': 38.862224452519975, 'dog-automobile': 40.36868485446306}\n",
      "{'dog-cat': 34.976089455789186, 'dog-dog': 31.352800551438012, 'dog-bird': 38.76955730408091, 'dog-automobile': 41.33687776712379}\n",
      "{'dog-cat': 40.80092364266974, 'dog-dog': 39.230511230600314, 'dog-bird': 42.2457788629227, 'dog-automobile': 40.006499979034835}\n",
      "{'dog-cat': 43.401814353974444, 'dog-dog': 35.726729173295666, 'dog-bird': 40.645778164461085, 'dog-automobile': 46.71023690862009}\n",
      "{'dog-cat': 41.08780261357253, 'dog-dog': 39.98735142028474, 'dog-bird': 43.15080378537372, 'dog-automobile': 45.84699803540422}\n",
      "{'dog-cat': 41.0312420773334, 'dog-dog': 37.0530364331224, 'dog-bird': 40.78662189719409, 'dog-automobile': 45.80780826396066}\n",
      "{'dog-cat': 34.555984895723114, 'dog-dog': 36.83390648056428, 'dog-bird': 34.92402443938454, 'dog-automobile': 39.10204997171878}\n",
      "{'dog-cat': 39.77882095444603, 'dog-dog': 37.201885284031206, 'dog-bird': 40.425520006763165, 'dog-automobile': 43.10611908758501}\n",
      "{'dog-cat': 32.42898629947704, 'dog-dog': 33.231671139505735, 'dog-bird': 38.79417312034409, 'dog-automobile': 45.217832902599746}\n",
      "{'dog-cat': 33.91310459308805, 'dog-dog': 32.96840530068751, 'dog-bird': 36.27719250245179, 'dog-automobile': 42.045895151682345}\n",
      "{'dog-cat': 34.878459250570614, 'dog-dog': 33.59907014437102, 'dog-bird': 37.308535089819394, 'dog-automobile': 45.82338566086241}\n",
      "{'dog-cat': 42.89129684917944, 'dog-dog': 39.91749026349471, 'dog-bird': 38.76268060319552, 'dog-automobile': 49.62920875245084}\n",
      "{'dog-cat': 37.24343144302289, 'dog-dog': 35.9035294835402, 'dog-bird': 41.044809380268994, 'dog-automobile': 42.22228610915626}\n",
      "{'dog-cat': 36.12295672423215, 'dog-dog': 35.724992474293835, 'dog-bird': 38.20165666583116, 'dog-automobile': 43.685848472692676}\n",
      "{'dog-cat': 34.01507392813635, 'dog-dog': 31.365231887559, 'dog-bird': 33.80117701563434, 'dog-automobile': 40.31558364061387}\n",
      "{'dog-cat': 35.994623362600045, 'dog-dog': 33.58750237157126, 'dog-bird': 36.99529145617325, 'dog-automobile': 42.41449235465184}\n",
      "{'dog-cat': 37.27309074275173, 'dog-dog': 35.980586956348326, 'dog-bird': 41.64335674701183, 'dog-automobile': 37.28859581568062}\n",
      "{'dog-cat': 39.99450818367905, 'dog-dog': 39.803868070453284, 'dog-bird': 42.36605492520399, 'dog-automobile': 43.83261171924318}\n",
      "{'dog-cat': 40.998472311965706, 'dog-dog': 36.298765113987464, 'dog-bird': 45.21141754328252, 'dog-automobile': 51.76269853258714}\n",
      "{'dog-cat': 40.8654072580237, 'dog-dog': 37.83487762069431, 'dog-bird': 40.86958736541267, 'dog-automobile': 47.086542874694125}\n",
      "{'dog-cat': 28.39808445777429, 'dog-dog': 34.46419998443308, 'dog-bird': 38.162617149583866, 'dog-automobile': 44.07729301838475}\n",
      "{'dog-cat': 46.133826202876406, 'dog-dog': 43.95509987158039, 'dog-bird': 51.760868188081105, 'dog-automobile': 53.2764511055236}\n",
      "{'dog-cat': 33.44954302987165, 'dog-dog': 33.59533872983281, 'dog-bird': 33.032732652639766, 'dog-automobile': 42.405692777765985}\n",
      "{'dog-cat': 35.48928013766941, 'dog-dog': 35.56907185328944, 'dog-bird': 35.89397728013154, 'dog-automobile': 38.53594258788286}\n",
      "{'dog-cat': 36.43568402878661, 'dog-dog': 34.283075243815034, 'dog-bird': 41.50768164524287, 'dog-automobile': 43.96570274778188}\n",
      "{'dog-cat': 38.60757151289711, 'dog-dog': 35.313616871132474, 'dog-bird': 43.794843116889425, 'dog-automobile': 45.05242146743027}\n",
      "{'dog-cat': 39.85490738680011, 'dog-dog': 36.175696126263595, 'dog-bird': 42.54726005957872, 'dog-automobile': 49.60896775512521}\n",
      "{'dog-cat': 40.94110432721837, 'dog-dog': 37.72523244824865, 'dog-bird': 41.07896268060102, 'dog-automobile': 44.66157990388104}\n",
      "{'dog-cat': 43.245402950961704, 'dog-dog': 40.9281120339731, 'dog-bird': 40.15870964263982, 'dog-automobile': 46.42295176826086}\n",
      "{'dog-cat': 47.001385258540544, 'dog-dog': 41.89980182230834, 'dog-bird': 48.69245844595679, 'dog-automobile': 51.253562300798656}\n",
      "{'dog-cat': 36.13339811902823, 'dog-dog': 37.23874373408168, 'dog-bird': 39.04960068051455, 'dog-automobile': 41.04717335303013}\n",
      "{'dog-cat': 41.90818452038314, 'dog-dog': 43.78124102946537, 'dog-bird': 44.738455092121555, 'dog-automobile': 43.75109433004046}\n",
      "{'dog-cat': 32.307135198263474, 'dog-dog': 32.20152792822641, 'dog-bird': 37.35524705819889, 'dog-automobile': 41.78646716135147}\n",
      "{'dog-cat': 33.66278926207957, 'dog-dog': 33.58576310867946, 'dog-bird': 35.020134390889375, 'dog-automobile': 38.745633214134045}\n",
      "{'dog-cat': 35.039470963, 'dog-dog': 37.65973715702168, 'dog-bird': 36.93463624139806, 'dog-automobile': 41.111092552637786}\n",
      "{'dog-cat': 36.55536127796135, 'dog-dog': 38.26092502129526, 'dog-bird': 40.22512954464507, 'dog-automobile': 44.50414799353507}\n",
      "{'dog-cat': 34.41374947774241, 'dog-dog': 29.486755680352303, 'dog-bird': 35.617095713798875, 'dog-automobile': 39.69962285402971}\n",
      "{'dog-cat': 37.90201748133342, 'dog-dog': 38.04961586595942, 'dog-bird': 40.191132321031276, 'dog-automobile': 41.670392596052736}\n",
      "{'dog-cat': 37.077506780469115, 'dog-dog': 35.90848888390003, 'dog-bird': 37.40243301297229, 'dog-automobile': 38.85729741829995}\n",
      "{'dog-cat': 31.986311176335917, 'dog-dog': 32.80974954273736, 'dog-bird': 36.82467516820869, 'dog-automobile': 38.561009080854895}\n",
      "{'dog-cat': 31.53362659192973, 'dog-dog': 33.6249422338838, 'dog-bird': 35.98591131875154, 'dog-automobile': 43.28628712837111}\n",
      "{'dog-cat': 41.29585678494266, 'dog-dog': 36.24080038836239, 'dog-bird': 43.584488797576874, 'dog-automobile': 43.610132719554464}\n",
      "{'dog-cat': 35.94084624525554, 'dog-dog': 34.56711980483366, 'dog-bird': 39.5541649954081, 'dog-automobile': 41.20342319296494}\n",
      "{'dog-cat': 42.16447113355813, 'dog-dog': 39.21462330992496, 'dog-bird': 43.51442490821339, 'dog-automobile': 46.80047184115933}\n",
      "{'dog-cat': 36.2534598124677, 'dog-dog': 38.28903791869982, 'dog-bird': 37.96901451735531, 'dog-automobile': 43.54077409863135}\n",
      "{'dog-cat': 37.17849183054394, 'dog-dog': 35.084921271700736, 'dog-bird': 39.91855602503096, 'dog-automobile': 43.31423129243434}\n",
      "{'dog-cat': 42.80671985913607, 'dog-dog': 43.08579352263593, 'dog-bird': 43.68541661036048, 'dog-automobile': 46.851494088360695}\n",
      "{'dog-cat': 34.37404542060088, 'dog-dog': 33.10467607196732, 'dog-bird': 38.11510087895973, 'dog-automobile': 41.9788822401743}\n",
      "{'dog-cat': 37.86329355825331, 'dog-dog': 34.09681988583211, 'dog-bird': 37.89918278420925, 'dog-automobile': 46.36524069173514}\n",
      "{'dog-cat': 43.08651160715139, 'dog-dog': 42.133607542324526, 'dog-bird': 45.02354579520714, 'dog-automobile': 48.38236310794751}\n",
      "{'dog-cat': 35.50506449146836, 'dog-dog': 33.50767160610411, 'dog-bird': 36.441191680770395, 'dog-automobile': 40.452368891176}\n",
      "{'dog-cat': 42.455361594873445, 'dog-dog': 40.541304649186394, 'dog-bird': 39.32526721520224, 'dog-automobile': 45.231769865742415}\n",
      "{'dog-cat': 43.256471947738895, 'dog-dog': 41.908424573198616, 'dog-bird': 42.18578485042471, 'dog-automobile': 43.64200439018478}\n",
      "{'dog-cat': 40.94360413416782, 'dog-dog': 40.83153799505808, 'dog-bird': 42.18607781276075, 'dog-automobile': 46.67250377983553}\n",
      "{'dog-cat': 33.26663284993026, 'dog-dog': 29.940055344297747, 'dog-bird': 34.983684755435235, 'dog-automobile': 40.461165663102705}\n",
      "{'dog-cat': 39.51445382091849, 'dog-dog': 33.341046474136185, 'dog-bird': 42.31475555236746, 'dog-automobile': 47.02257604102051}\n",
      "{'dog-cat': 39.80859621637721, 'dog-dog': 33.997441662509985, 'dog-bird': 39.30728714610048, 'dog-automobile': 46.0081252435887}\n",
      "{'dog-cat': 39.54095168387787, 'dog-dog': 38.207063030405564, 'dog-bird': 43.028058108743004, 'dog-automobile': 47.00424958188064}\n",
      "{'dog-cat': 34.0132381643021, 'dog-dog': 33.09806650656129, 'dog-bird': 34.776821275251194, 'dog-automobile': 46.07274153262932}\n",
      "{'dog-cat': 42.06871774947881, 'dog-dog': 37.912959256764864, 'dog-bird': 42.90395488893858, 'dog-automobile': 40.57466088984279}\n",
      "{'dog-cat': 32.684043294670346, 'dog-dog': 34.37669127175237, 'dog-bird': 37.800933730817775, 'dog-automobile': 42.93197748039235}\n",
      "{'dog-cat': 33.457188470515895, 'dog-dog': 33.97251663314865, 'dog-bird': 37.129419780474215, 'dog-automobile': 40.57760409921031}\n",
      "{'dog-cat': 31.50093303196215, 'dog-dog': 30.65068469218147, 'dog-bird': 35.416431369298984, 'dog-automobile': 42.64173738589878}\n",
      "{'dog-cat': 33.52116569840556, 'dog-dog': 29.663070311570433, 'dog-bird': 36.35755693041134, 'dog-automobile': 40.60892900408993}\n",
      "{'dog-cat': 35.39787128806384, 'dog-dog': 33.02411854597989, 'dog-bird': 38.56265376037649, 'dog-automobile': 41.4844003353003}\n",
      "{'dog-cat': 35.01193789338073, 'dog-dog': 37.467878225309406, 'dog-bird': 41.6274807145191, 'dog-automobile': 44.16059896426657}\n",
      "{'dog-cat': 31.71060635632818, 'dog-dog': 33.758627208556405, 'dog-bird': 38.55150322801171, 'dog-automobile': 42.12424893216733}\n",
      "{'dog-cat': 35.85783301698469, 'dog-dog': 35.86701671792818, 'dog-bird': 38.92941029288374, 'dog-automobile': 42.40302037634824}\n",
      "{'dog-cat': 35.74032098189626, 'dog-dog': 30.766590653543254, 'dog-bird': 40.13281521836037, 'dog-automobile': 46.362894488111394}\n",
      "{'dog-cat': 36.367080214503616, 'dog-dog': 34.5037137881983, 'dog-bird': 40.298765001162124, 'dog-automobile': 45.42185182877221}\n",
      "{'dog-cat': 38.887134453601256, 'dog-dog': 39.30893681153799, 'dog-bird': 42.15663668133643, 'dog-automobile': 45.75062090005219}\n",
      "{'dog-cat': 34.97715215373956, 'dog-dog': 33.28693046045036, 'dog-bird': 36.56110914021137, 'dog-automobile': 45.2315168593058}\n",
      "{'dog-cat': 38.01120954340355, 'dog-dog': 36.752282157729304, 'dog-bird': 39.92762150466857, 'dog-automobile': 41.69192926140185}\n",
      "{'dog-cat': 40.43676053817715, 'dog-dog': 38.59035680718352, 'dog-bird': 42.75745657652614, 'dog-automobile': 44.69332282722933}\n",
      "{'dog-cat': 37.63879558850388, 'dog-dog': 31.939553203733198, 'dog-bird': 37.486180342795514, 'dog-automobile': 45.74520831080986}\n",
      "{'dog-cat': 39.369344901842865, 'dog-dog': 38.8881668998898, 'dog-bird': 40.67069266828671, 'dog-automobile': 42.81153814724667}\n",
      "{'dog-cat': 38.178769278175636, 'dog-dog': 41.19051429686585, 'dog-bird': 40.32097013288908, 'dog-automobile': 40.676648264050876}\n",
      "{'dog-cat': 34.678674914161036, 'dog-dog': 33.9365812023793, 'dog-bird': 35.03404053744346, 'dog-automobile': 38.95880448065604}\n",
      "{'dog-cat': 38.23686338270269, 'dog-dog': 31.605206909152482, 'dog-bird': 36.98357842843744, 'dog-automobile': 44.27814124592688}\n",
      "{'dog-cat': 37.14291422438115, 'dog-dog': 39.76060548592316, 'dog-bird': 46.9181798870719, 'dog-automobile': 48.249976520500546}\n",
      "{'dog-cat': 38.842530643025746, 'dog-dog': 42.13803475073703, 'dog-bird': 47.25817694273802, 'dog-automobile': 54.930270443426494}\n",
      "{'dog-cat': 32.63548902160514, 'dog-dog': 33.08770480634258, 'dog-bird': 36.19310013131229, 'dog-automobile': 40.10287644273576}\n",
      "{'dog-cat': 34.81865045160559, 'dog-dog': 36.43513698575041, 'dog-bird': 40.01406783853083, 'dog-automobile': 38.64252499275693}\n",
      "{'dog-cat': 35.79876834592178, 'dog-dog': 33.12390718774658, 'dog-bird': 40.29859283888156, 'dog-automobile': 40.798281264675886}\n",
      "{'dog-cat': 36.0390584807737, 'dog-dog': 37.867324610006335, 'dog-bird': 36.4255390391504, 'dog-automobile': 35.021918057949286}\n",
      "{'dog-cat': 42.65667582803492, 'dog-dog': 41.84986500565932, 'dog-bird': 47.153674582161024, 'dog-automobile': 47.21363356523306}\n",
      "{'dog-cat': 37.78172488559961, 'dog-dog': 37.49483775935705, 'dog-bird': 40.53076309403497, 'dog-automobile': 43.43082914950933}\n",
      "{'dog-cat': 31.88302631187852, 'dog-dog': 32.96657451127551, 'dog-bird': 35.649790557512524, 'dog-automobile': 40.52876820867062}\n",
      "{'dog-cat': 35.97302406612478, 'dog-dog': 33.776149024686916, 'dog-bird': 39.61216034021542, 'dog-automobile': 45.55134691719181}\n",
      "{'dog-cat': 37.641895695999835, 'dog-dog': 37.23510417269091, 'dog-bird': 42.44107166667197, 'dog-automobile': 48.535484933618385}\n",
      "{'dog-cat': 36.70767833510598, 'dog-dog': 35.81624785391267, 'dog-bird': 38.358667008204044, 'dog-automobile': 44.43211278317995}\n",
      "{'dog-cat': 35.04629097596859, 'dog-dog': 34.89644495979656, 'dog-bird': 36.34237587427729, 'dog-automobile': 42.93284039547568}\n",
      "{'dog-cat': 41.25067698222442, 'dog-dog': 37.17787261490024, 'dog-bird': 44.18195337343091, 'dog-automobile': 44.930560036051894}\n",
      "{'dog-cat': 33.01030719330537, 'dog-dog': 33.94634838515604, 'dog-bird': 34.23309329256993, 'dog-automobile': 36.34425651393805}\n",
      "{'dog-cat': 45.214338970900776, 'dog-dog': 43.13491610418035, 'dog-bird': 49.70691305427646, 'dog-automobile': 49.90289797109754}\n",
      "{'dog-cat': 39.24882909036045, 'dog-dog': 37.60607869068431, 'dog-bird': 38.99083995187998, 'dog-automobile': 44.73989481673765}\n",
      "{'dog-cat': 32.180028943960544, 'dog-dog': 35.790506729537434, 'dog-bird': 37.13081176030383, 'dog-automobile': 39.2434540268989}\n",
      "{'dog-cat': 34.381087285201076, 'dog-dog': 34.25286228377562, 'dog-bird': 33.28497612568735, 'dog-automobile': 42.15881227812429}\n",
      "{'dog-cat': 42.637847937230916, 'dog-dog': 39.15234980975595, 'dog-bird': 44.34850425455175, 'dog-automobile': 45.64792177471437}\n",
      "{'dog-cat': 37.94133439513435, 'dog-dog': 39.55730788156401, 'dog-bird': 42.09456045574782, 'dog-automobile': 42.87535596388099}\n",
      "{'dog-cat': 33.43698368650383, 'dog-dog': 29.78098673891798, 'dog-bird': 37.09307628221783, 'dog-automobile': 38.9141220450257}\n",
      "{'dog-cat': 35.372462606862875, 'dog-dog': 34.173063799241916, 'dog-bird': 36.08532193697393, 'dog-automobile': 42.347087679946014}\n",
      "{'dog-cat': 35.90137664747961, 'dog-dog': 34.90986015025495, 'dog-bird': 40.76307985293236, 'dog-automobile': 40.145255574750436}\n",
      "{'dog-cat': 37.52384063175737, 'dog-dog': 36.16892240786631, 'dog-bird': 40.70417478079747, 'dog-automobile': 43.213613758424074}\n",
      "{'dog-cat': 41.31618992911815, 'dog-dog': 41.18035002497388, 'dog-bird': 42.21795654595946, 'dog-automobile': 43.59924432107806}\n",
      "{'dog-cat': 35.34753398607704, 'dog-dog': 38.25475405081554, 'dog-bird': 38.215716323957665, 'dog-automobile': 43.33624266820479}\n",
      "{'dog-cat': 37.94112175340198, 'dog-dog': 35.9209102262658, 'dog-bird': 41.77338760049483, 'dog-automobile': 43.000319586967045}\n",
      "{'dog-cat': 38.893929222584596, 'dog-dog': 38.14778737573493, 'dog-bird': 43.95690574449047, 'dog-automobile': 42.89757775091827}\n",
      "{'dog-cat': 33.399334601343284, 'dog-dog': 30.105181254388114, 'dog-bird': 35.504925852071786, 'dog-automobile': 37.86758177024537}\n",
      "{'dog-cat': 39.555411923639014, 'dog-dog': 37.614272087696506, 'dog-bird': 38.72816912479403, 'dog-automobile': 47.93894857643433}\n",
      "{'dog-cat': 35.41067120396785, 'dog-dog': 33.47071960740503, 'dog-bird': 33.77277705362584, 'dog-automobile': 39.92796731881664}\n",
      "{'dog-cat': 36.903784526085765, 'dog-dog': 34.93885244169283, 'dog-bird': 40.17314486278297, 'dog-automobile': 37.73727603572125}\n",
      "{'dog-cat': 37.47392721212257, 'dog-dog': 35.06916977557984, 'dog-bird': 41.503857958966876, 'dog-automobile': 47.95184087831624}\n",
      "{'dog-cat': 31.081312246594816, 'dog-dog': 34.49139329570887, 'dog-bird': 31.643757647204414, 'dog-automobile': 39.97395976454096}\n",
      "{'dog-cat': 33.398186663561034, 'dog-dog': 33.76109648590517, 'dog-bird': 35.33029242434181, 'dog-automobile': 40.98484071117751}\n",
      "{'dog-cat': 39.05924419040925, 'dog-dog': 35.513674182490846, 'dog-bird': 42.52628970736217, 'dog-automobile': 49.34166763121709}\n",
      "{'dog-cat': 41.0244793680144, 'dog-dog': 40.1679798829553, 'dog-bird': 45.89656402756833, 'dog-automobile': 48.254625033083414}\n",
      "{'dog-cat': 35.50454417793723, 'dog-dog': 35.97495148716288, 'dog-bird': 39.676482320985855, 'dog-automobile': 42.99815215956382}\n",
      "{'dog-cat': 36.39339796710426, 'dog-dog': 34.45143468413247, 'dog-bird': 40.34453352501994, 'dog-automobile': 43.2619516443404}\n",
      "{'dog-cat': 31.789692815704523, 'dog-dog': 33.81286526191225, 'dog-bird': 33.62490086912114, 'dog-automobile': 42.87832938574714}\n",
      "{'dog-cat': 35.31630341826799, 'dog-dog': 37.76975764779671, 'dog-bird': 37.28403744030542, 'dog-automobile': 37.83742752763808}\n",
      "{'dog-cat': 39.88475589959307, 'dog-dog': 35.13433134595417, 'dog-bird': 39.08863277159038, 'dog-automobile': 45.195786333411306}\n",
      "{'dog-cat': 33.20387739139282, 'dog-dog': 32.49595289934809, 'dog-bird': 35.25556385665747, 'dog-automobile': 39.407623009883984}\n",
      "{'dog-cat': 39.601441632175394, 'dog-dog': 38.32545094713438, 'dog-bird': 40.38505933294152, 'dog-automobile': 43.10960580861989}\n",
      "{'dog-cat': 40.570700176716635, 'dog-dog': 38.69059341742993, 'dog-bird': 41.61272245385158, 'dog-automobile': 40.21272175340318}\n",
      "{'dog-cat': 42.54279562287455, 'dog-dog': 41.540613329505305, 'dog-bird': 44.46079805089424, 'dog-automobile': 48.824790106557415}\n",
      "{'dog-cat': 38.0389181865813, 'dog-dog': 33.95166971598497, 'dog-bird': 37.61523530341522, 'dog-automobile': 40.168992090079726}\n",
      "{'dog-cat': 33.4836902096984, 'dog-dog': 30.14486841472986, 'dog-bird': 37.23137095358641, 'dog-automobile': 41.87545190878045}\n",
      "{'dog-cat': 39.60344589205977, 'dog-dog': 32.70242803057926, 'dog-bird': 40.77654992040441, 'dog-automobile': 46.746494534172705}\n",
      "{'dog-cat': 35.04891773692744, 'dog-dog': 35.17478779948268, 'dog-bird': 34.77491714104179, 'dog-automobile': 40.803171805158165}\n",
      "{'dog-cat': 36.16095571545648, 'dog-dog': 36.40924734027533, 'dog-bird': 40.46198521105315, 'dog-automobile': 40.51115865246783}\n",
      "{'dog-cat': 43.04647015341745, 'dog-dog': 39.84647174759648, 'dog-bird': 45.65129876703829, 'dog-automobile': 44.273194266866625}\n",
      "{'dog-cat': 34.69176553810007, 'dog-dog': 31.33593992188952, 'dog-bird': 37.05933232649759, 'dog-automobile': 44.80491271534966}\n",
      "{'dog-cat': 44.47671333959134, 'dog-dog': 43.43213719284317, 'dog-bird': 45.742681842877325, 'dog-automobile': 45.186628112182966}\n",
      "{'dog-cat': 42.42965114306443, 'dog-dog': 46.08193526146458, 'dog-bird': 42.32199708025217, 'dog-automobile': 45.528190201303985}\n",
      "{'dog-cat': 35.40056756819995, 'dog-dog': 34.924615566989914, 'dog-bird': 37.41649644571799, 'dog-automobile': 39.31255895606731}\n",
      "{'dog-cat': 38.483482682781734, 'dog-dog': 35.50463784079483, 'dog-bird': 38.10227764301277, 'dog-automobile': 44.47306986823464}\n",
      "{'dog-cat': 37.195788231574106, 'dog-dog': 38.925845182158575, 'dog-bird': 36.57133292506063, 'dog-automobile': 37.866093046245425}\n",
      "{'dog-cat': 39.14896457282457, 'dog-dog': 35.46410738417398, 'dog-bird': 43.06146597837066, 'dog-automobile': 50.97817740869022}\n",
      "{'dog-cat': 35.91386776411737, 'dog-dog': 37.67784455480572, 'dog-bird': 41.0760766929678, 'dog-automobile': 41.565183723733284}\n",
      "{'dog-cat': 44.64389439402368, 'dog-dog': 38.76786711696881, 'dog-bird': 45.30215567487544, 'dog-automobile': 47.75676256582552}\n",
      "{'dog-cat': 41.89484918670627, 'dog-dog': 35.40035057260366, 'dog-bird': 42.560877144884245, 'dog-automobile': 46.39394605286809}\n",
      "{'dog-cat': 42.820048700227275, 'dog-dog': 42.37864596459384, 'dog-bird': 43.994450234777325, 'dog-automobile': 44.561285378786906}\n",
      "{'dog-cat': 35.04072701490899, 'dog-dog': 33.46848112303565, 'dog-bird': 36.53777476978028, 'dog-automobile': 39.48063396462792}\n",
      "{'dog-cat': 32.294237733713544, 'dog-dog': 32.14552601656745, 'dog-bird': 35.76536253711813, 'dog-automobile': 38.52963677312141}\n",
      "{'dog-cat': 40.66402287029756, 'dog-dog': 38.12046793967415, 'dog-bird': 40.97287686250603, 'dog-automobile': 44.53168978012036}\n",
      "{'dog-cat': 43.254626890023374, 'dog-dog': 38.363011163562284, 'dog-bird': 44.06863333058815, 'dog-automobile': 46.536971006251854}\n",
      "{'dog-cat': 35.83286191653555, 'dog-dog': 31.07545302859535, 'dog-bird': 38.983921136350624, 'dog-automobile': 41.09447409591085}\n",
      "{'dog-cat': 41.28171592143546, 'dog-dog': 36.82061553393764, 'dog-bird': 45.6344095150832, 'dog-automobile': 47.13387494128908}\n",
      "{'dog-cat': 34.650004227812545, 'dog-dog': 35.87362930052448, 'dog-bird': 38.55285676568368, 'dog-automobile': 46.76575787517419}\n",
      "{'dog-cat': 37.241244063703775, 'dog-dog': 36.91080092912177, 'dog-bird': 39.7189614665749, 'dog-automobile': 43.50995158687565}\n",
      "{'dog-cat': 38.75019000135498, 'dog-dog': 36.430367399974614, 'dog-bird': 38.53744241451283, 'dog-automobile': 41.76108910341738}\n",
      "{'dog-cat': 34.552538065450634, 'dog-dog': 31.841095118222057, 'dog-bird': 35.07374686741608, 'dog-automobile': 38.944316764975156}\n",
      "{'dog-cat': 34.84352980000938, 'dog-dog': 34.19814604192694, 'dog-bird': 37.26711486668175, 'dog-automobile': 43.922331337441854}\n",
      "{'dog-cat': 39.319413453819294, 'dog-dog': 37.0480127132639, 'dog-bird': 40.2913597464763, 'dog-automobile': 44.20667990202971}\n",
      "{'dog-cat': 32.60585378559438, 'dog-dog': 33.64602306241207, 'dog-bird': 36.30217403538536, 'dog-automobile': 41.27632203085231}\n",
      "{'dog-cat': 36.52560580919082, 'dog-dog': 32.801011187130804, 'dog-bird': 41.637229101959655, 'dog-automobile': 44.56524887675725}\n",
      "{'dog-cat': 43.48024099270404, 'dog-dog': 34.19293622534766, 'dog-bird': 45.83036355501838, 'dog-automobile': 43.51714460811169}\n",
      "{'dog-cat': 36.671666714047326, 'dog-dog': 34.18179061489047, 'dog-bird': 38.090953738508595, 'dog-automobile': 37.95114611041307}\n",
      "{'dog-cat': 36.89121139750197, 'dog-dog': 35.208984372814186, 'dog-bird': 37.15289799026449, 'dog-automobile': 44.246268411152805}\n",
      "{'dog-cat': 33.929027173875205, 'dog-dog': 35.87881597855162, 'dog-bird': 35.34057659468402, 'dog-automobile': 40.806977311320345}\n",
      "{'dog-cat': 36.14863809952097, 'dog-dog': 35.53301101059316, 'dog-bird': 38.614075538523636, 'dog-automobile': 44.44425011823546}\n",
      "{'dog-cat': 33.17450273448743, 'dog-dog': 31.758457188843877, 'dog-bird': 36.5822658127023, 'dog-automobile': 42.129289526047195}\n",
      "{'dog-cat': 40.86890360899973, 'dog-dog': 37.01440081936423, 'dog-bird': 43.09319036662919, 'dog-automobile': 49.180426620473185}\n",
      "{'dog-cat': 47.39607674289355, 'dog-dog': 47.169295623543455, 'dog-bird': 48.77799657408881, 'dog-automobile': 49.94401618390965}\n",
      "{'dog-cat': 32.64020616607874, 'dog-dog': 29.39483140620341, 'dog-bird': 36.504363000974664, 'dog-automobile': 37.45152709894138}\n",
      "{'dog-cat': 29.438162895131594, 'dog-dog': 34.97417777379181, 'dog-bird': 38.317673717843704, 'dog-automobile': 44.10421505135725}\n",
      "{'dog-cat': 38.20358168990917, 'dog-dog': 36.50790481951983, 'dog-bird': 40.993061822148846, 'dog-automobile': 39.88818091754667}\n",
      "{'dog-cat': 40.24241682176459, 'dog-dog': 32.844356214634466, 'dog-bird': 40.78361169611895, 'dog-automobile': 46.83634270346546}\n",
      "{'dog-cat': 33.787492986905065, 'dog-dog': 33.90036280157205, 'dog-bird': 34.38538729469588, 'dog-automobile': 41.3327767145997}\n",
      "{'dog-cat': 39.72457198787821, 'dog-dog': 37.3348227421899, 'dog-bird': 39.848995425241945, 'dog-automobile': 40.21771319940043}\n",
      "{'dog-cat': 32.43090598476754, 'dog-dog': 31.236423646083026, 'dog-bird': 33.67135698228746, 'dog-automobile': 37.19903420556283}\n",
      "{'dog-cat': 39.50872072482839, 'dog-dog': 34.70863020286098, 'dog-bird': 37.04062901767389, 'dog-automobile': 42.553852437227924}\n",
      "{'dog-cat': 35.22023624892709, 'dog-dog': 35.63076592973856, 'dog-bird': 37.27428461345505, 'dog-automobile': 39.81032111397948}\n",
      "{'dog-cat': 44.60043384522102, 'dog-dog': 42.666070222592374, 'dog-bird': 44.795950817394925, 'dog-automobile': 49.10146255789538}\n",
      "{'dog-cat': 35.01483269124691, 'dog-dog': 32.268825306411166, 'dog-bird': 36.14684532787846, 'dog-automobile': 39.204395366183405}\n",
      "{'dog-cat': 34.52094979847789, 'dog-dog': 32.00525340272153, 'dog-bird': 36.28065404272254, 'dog-automobile': 44.43469954171708}\n",
      "{'dog-cat': 34.14781135275014, 'dog-dog': 30.818237228182948, 'dog-bird': 36.65696521767469, 'dog-automobile': 43.06060695934788}\n",
      "{'dog-cat': 33.44106858203855, 'dog-dog': 33.1179068129587, 'dog-bird': 38.92935232959301, 'dog-automobile': 42.33342593439517}\n",
      "{'dog-cat': 32.76430500963955, 'dog-dog': 32.28184509027652, 'dog-bird': 34.18775433180585, 'dog-automobile': 39.14109193833971}\n",
      "{'dog-cat': 32.45158968229656, 'dog-dog': 34.34872758205779, 'dog-bird': 36.02855729109782, 'dog-automobile': 40.59175935028179}\n",
      "{'dog-cat': 39.22846369301448, 'dog-dog': 37.99265761076046, 'dog-bird': 40.69481599943233, 'dog-automobile': 42.421091193559235}\n",
      "{'dog-cat': 32.46723550046341, 'dog-dog': 35.6856927009834, 'dog-bird': 33.9747109028682, 'dog-automobile': 41.320469695099305}\n",
      "{'dog-cat': 41.00515886209525, 'dog-dog': 38.275336054426496, 'dog-bird': 43.69635443912963, 'dog-automobile': 45.269496189929285}\n",
      "{'dog-cat': 35.883306469753336, 'dog-dog': 41.014212563223765, 'dog-bird': 37.20712764343245, 'dog-automobile': 38.60546920676378}\n",
      "{'dog-cat': 37.927128516323236, 'dog-dog': 39.113086985467284, 'dog-bird': 38.94984387726404, 'dog-automobile': 45.25224655050458}\n",
      "{'dog-cat': 38.55771780193726, 'dog-dog': 34.66243082849758, 'dog-bird': 38.04280806399754, 'dog-automobile': 43.7367808190943}\n",
      "{'dog-cat': 49.53864435498861, 'dog-dog': 44.21065638655384, 'dog-bird': 45.51135454248075, 'dog-automobile': 52.038485496060325}\n",
      "{'dog-cat': 40.70784798329934, 'dog-dog': 39.64954369487122, 'dog-bird': 39.67385158361234, 'dog-automobile': 41.671368861805064}\n",
      "{'dog-cat': 29.298389664035604, 'dog-dog': 30.219705017481992, 'dog-bird': 36.62012671361805, 'dog-automobile': 35.706272464329146}\n",
      "{'dog-cat': 38.91564738142443, 'dog-dog': 35.68120011806894, 'dog-bird': 39.99261594263525, 'dog-automobile': 43.79308936676201}\n",
      "{'dog-cat': 37.53943766739323, 'dog-dog': 33.15130003559499, 'dog-bird': 36.871956353199195, 'dog-automobile': 43.2266074753488}\n",
      "{'dog-cat': 38.38978107144083, 'dog-dog': 36.00318540883853, 'dog-bird': 41.44509841875474, 'dog-automobile': 41.00026654589061}\n",
      "{'dog-cat': 34.643249997401135, 'dog-dog': 33.81929705831741, 'dog-bird': 36.546457779826085, 'dog-automobile': 38.966125809931675}\n",
      "{'dog-cat': 38.79809102382252, 'dog-dog': 36.81345474548632, 'dog-bird': 40.53268399737458, 'dog-automobile': 46.063744511704535}\n",
      "{'dog-cat': 32.76408563335089, 'dog-dog': 33.30850270124181, 'dog-bird': 37.31694501410372, 'dog-automobile': 43.09637046520921}\n",
      "{'dog-cat': 40.49391346803117, 'dog-dog': 39.836449785077605, 'dog-bird': 44.038100523043894, 'dog-automobile': 45.700560334061215}\n",
      "{'dog-cat': 34.87640755610807, 'dog-dog': 33.777261407349606, 'dog-bird': 38.77901199099785, 'dog-automobile': 46.62374612513005}\n",
      "{'dog-cat': 41.09631488235376, 'dog-dog': 40.929787806346525, 'dog-bird': 45.05267387922969, 'dog-automobile': 43.63357026912784}\n",
      "{'dog-cat': 32.83254412796047, 'dog-dog': 33.30510771891616, 'dog-bird': 35.954682897080474, 'dog-automobile': 40.16053754314421}\n",
      "{'dog-cat': 36.98642588457249, 'dog-dog': 30.68885423241574, 'dog-bird': 39.84247794897689, 'dog-automobile': 41.91610576656605}\n",
      "{'dog-cat': 35.115632769863154, 'dog-dog': 35.17736959327688, 'dog-bird': 38.366849524649545, 'dog-automobile': 39.258707468330115}\n",
      "{'dog-cat': 35.93409520749833, 'dog-dog': 35.07985403505614, 'dog-bird': 39.378962981062315, 'dog-automobile': 46.686144001857244}\n",
      "{'dog-cat': 35.4876005442475, 'dog-dog': 33.975746838181244, 'dog-bird': 36.75755271026833, 'dog-automobile': 40.016457446767625}\n",
      "{'dog-cat': 35.70204125276463, 'dog-dog': 34.16482525961842, 'dog-bird': 38.85633673253734, 'dog-automobile': 48.40793586293813}\n",
      "{'dog-cat': 33.516535294547246, 'dog-dog': 32.78337420415135, 'dog-bird': 34.31048620237153, 'dog-automobile': 37.48381715406944}\n",
      "{'dog-cat': 34.71774243380737, 'dog-dog': 35.80999419991667, 'dog-bird': 35.06160029026274, 'dog-automobile': 42.54689798555597}\n",
      "{'dog-cat': 35.022314219092415, 'dog-dog': 29.936322605315592, 'dog-bird': 38.59776256705169, 'dog-automobile': 42.0206317490959}\n",
      "{'dog-cat': 37.51536507924095, 'dog-dog': 43.83051531418696, 'dog-bird': 42.82808362431661, 'dog-automobile': 42.352908806637316}\n",
      "{'dog-cat': 40.47184282879947, 'dog-dog': 40.99120279627785, 'dog-bird': 42.64895576505488, 'dog-automobile': 43.847550247543175}\n",
      "{'dog-cat': 48.41659765367411, 'dog-dog': 47.89145915304186, 'dog-bird': 45.14152740526573, 'dog-automobile': 46.96168689156302}\n",
      "{'dog-cat': 38.64559958585173, 'dog-dog': 34.89922108905708, 'dog-bird': 40.80539284431319, 'dog-automobile': 45.58687813245821}\n",
      "{'dog-cat': 32.37779883840597, 'dog-dog': 31.777880126941703, 'dog-bird': 32.782893264287814, 'dog-automobile': 39.74743013292609}\n",
      "{'dog-cat': 39.58129119783665, 'dog-dog': 39.45137636505293, 'dog-bird': 34.17989803653934, 'dog-automobile': 43.89964963620021}\n",
      "{'dog-cat': 37.40058467508953, 'dog-dog': 37.60197078043557, 'dog-bird': 39.91232228266597, 'dog-automobile': 47.83186029818221}\n",
      "{'dog-cat': 38.349501338863234, 'dog-dog': 34.76764079101029, 'dog-bird': 35.824523664857466, 'dog-automobile': 36.35084899466121}\n",
      "{'dog-cat': 41.2583458719886, 'dog-dog': 41.61099063407175, 'dog-bird': 40.41348084638053, 'dog-automobile': 47.016340372412486}\n",
      "{'dog-cat': 33.598586668810356, 'dog-dog': 32.275615426109766, 'dog-bird': 36.705494814884645, 'dog-automobile': 41.88481331537683}\n",
      "{'dog-cat': 34.79685098191996, 'dog-dog': 30.606513848359086, 'dog-bird': 37.278836316891905, 'dog-automobile': 42.02860583376375}\n",
      "{'dog-cat': 39.0336329185445, 'dog-dog': 38.86317649050447, 'dog-bird': 39.89922326755706, 'dog-automobile': 49.13135397630676}\n",
      "{'dog-cat': 33.96690731411441, 'dog-dog': 33.00078022131857, 'dog-bird': 38.05537069583274, 'dog-automobile': 44.01014902501229}\n",
      "{'dog-cat': 42.37033234618987, 'dog-dog': 38.4820599496878, 'dog-bird': 45.82908606957256, 'dog-automobile': 48.2673962572801}\n",
      "{'dog-cat': 38.904271093514005, 'dog-dog': 33.789515876515985, 'dog-bird': 42.00007306558726, 'dog-automobile': 48.51715662864641}\n",
      "{'dog-cat': 33.82556106999031, 'dog-dog': 32.29211043571919, 'dog-bird': 38.448569391582, 'dog-automobile': 44.192094316193376}\n",
      "{'dog-cat': 43.791723817035745, 'dog-dog': 41.06168128953712, 'dog-bird': 43.62927173549876, 'dog-automobile': 47.55069518308389}\n",
      "{'dog-cat': 37.77317209328582, 'dog-dog': 35.92876614876814, 'dog-bird': 40.060310961879644, 'dog-automobile': 42.54608999674671}\n",
      "{'dog-cat': 33.726782281616956, 'dog-dog': 31.825055384425777, 'dog-bird': 36.46436548345036, 'dog-automobile': 40.89406930491497}\n",
      "{'dog-cat': 34.45098329309243, 'dog-dog': 35.3608325643916, 'dog-bird': 33.58724534495757, 'dog-automobile': 44.272096323376545}\n",
      "{'dog-cat': 37.499469140244585, 'dog-dog': 27.384882211643916, 'dog-bird': 40.24357942579334, 'dog-automobile': 43.1455831779907}\n",
      "{'dog-cat': 36.5976865017865, 'dog-dog': 35.15476866589141, 'dog-bird': 35.88147109646772, 'dog-automobile': 43.8001069513367}\n",
      "{'dog-cat': 44.030309564549384, 'dog-dog': 41.60059748909593, 'dog-bird': 42.794794769824456, 'dog-automobile': 46.8034574510209}\n",
      "{'dog-cat': 42.41622301240047, 'dog-dog': 39.65182316150312, 'dog-bird': 36.50325270877917, 'dog-automobile': 40.01438796552943}\n",
      "{'dog-cat': 29.323924789169798, 'dog-dog': 29.608338524839677, 'dog-bird': 32.942138347737384, 'dog-automobile': 38.55480045019168}\n",
      "{'dog-cat': 42.93907047484503, 'dog-dog': 40.614839338109356, 'dog-bird': 34.08348469861881, 'dog-automobile': 43.949070482614154}\n",
      "{'dog-cat': 35.88508404944132, 'dog-dog': 33.280690902347416, 'dog-bird': 37.821817296640326, 'dog-automobile': 42.0259058644359}\n",
      "{'dog-cat': 37.93907268924413, 'dog-dog': 39.07745851088233, 'dog-bird': 40.52870619861719, 'dog-automobile': 41.28958935854841}\n",
      "{'dog-cat': 40.18851584768753, 'dog-dog': 44.06981166731864, 'dog-bird': 45.52384729470335, 'dog-automobile': 45.9591850598753}\n",
      "{'dog-cat': 41.42630153498197, 'dog-dog': 39.58439827120982, 'dog-bird': 41.22104513494992, 'dog-automobile': 43.644059230191196}\n",
      "{'dog-cat': 37.11391322454745, 'dog-dog': 35.54096275691384, 'dog-bird': 37.41544250975881, 'dog-automobile': 39.339902361012825}\n",
      "{'dog-cat': 42.55920683634724, 'dog-dog': 41.90173895961135, 'dog-bird': 47.58826017969306, 'dog-automobile': 48.879984107149305}\n",
      "{'dog-cat': 34.67796074918019, 'dog-dog': 36.16874520896561, 'dog-bird': 40.56307555530509, 'dog-automobile': 38.36149200722425}\n",
      "{'dog-cat': 38.0595892383989, 'dog-dog': 36.45782987224535, 'dog-bird': 38.85072177327149, 'dog-automobile': 41.053323406122935}\n",
      "{'dog-cat': 36.60837715274618, 'dog-dog': 34.77107456046271, 'dog-bird': 40.39367653595208, 'dog-automobile': 45.47379529409662}\n",
      "{'dog-cat': 40.12293795573406, 'dog-dog': 37.100598063032976, 'dog-bird': 37.16728965046814, 'dog-automobile': 41.46317299995703}\n",
      "{'dog-cat': 37.04675899868033, 'dog-dog': 35.671154352554645, 'dog-bird': 40.827402757554346, 'dog-automobile': 42.75717822368778}\n",
      "{'dog-cat': 42.838282386707164, 'dog-dog': 39.93287882149975, 'dog-bird': 42.827936918772934, 'dog-automobile': 41.97655777876506}\n",
      "{'dog-cat': 41.56241421452199, 'dog-dog': 37.18632339559932, 'dog-bird': 45.90614543696898, 'dog-automobile': 45.13689546939103}\n",
      "{'dog-cat': 32.81768428138139, 'dog-dog': 34.19825514043054, 'dog-bird': 37.972625862348416, 'dog-automobile': 41.03478002670437}\n",
      "{'dog-cat': 35.8283722165145, 'dog-dog': 34.66777547276868, 'dog-bird': 37.74218070827239, 'dog-automobile': 42.46498071732855}\n",
      "{'dog-cat': 38.12671506647104, 'dog-dog': 34.11655025121, 'dog-bird': 39.652811732242675, 'dog-automobile': 42.87498831618413}\n",
      "{'dog-cat': 38.822843818123175, 'dog-dog': 35.18303351761852, 'dog-bird': 42.31943936214232, 'dog-automobile': 46.140585783985664}\n",
      "{'dog-cat': 30.946674242109285, 'dog-dog': 30.825078905751145, 'dog-bird': 33.05767744508077, 'dog-automobile': 40.08293964988369}\n",
      "{'dog-cat': 31.819632817451623, 'dog-dog': 29.55398082913577, 'dog-bird': 36.98484381113951, 'dog-automobile': 42.72169057474788}\n",
      "{'dog-cat': 40.18199904085364, 'dog-dog': 36.43709249208237, 'dog-bird': 43.68749001396299, 'dog-automobile': 44.31366856622579}\n",
      "{'dog-cat': 32.5600475203997, 'dog-dog': 33.69624497999629, 'dog-bird': 29.522604549486363, 'dog-automobile': 41.47281738977386}\n",
      "{'dog-cat': 33.96969102692077, 'dog-dog': 35.99265614474823, 'dog-bird': 34.54191123336983, 'dog-automobile': 42.72124695937202}\n",
      "{'dog-cat': 43.46942377030661, 'dog-dog': 40.65418497025385, 'dog-bird': 49.60242606612609, 'dog-automobile': 47.5949058043402}\n",
      "{'dog-cat': 35.65272974442039, 'dog-dog': 35.6214327595574, 'dog-bird': 39.118629691406305, 'dog-automobile': 46.73989612578769}\n",
      "{'dog-cat': 32.8296660463688, 'dog-dog': 33.84629334093205, 'dog-bird': 38.14378991968666, 'dog-automobile': 38.101160576383734}\n",
      "{'dog-cat': 32.07937317732481, 'dog-dog': 30.671333892973713, 'dog-bird': 33.98890052878504, 'dog-automobile': 39.8625801853148}\n",
      "{'dog-cat': 36.51218481826034, 'dog-dog': 40.02401936836922, 'dog-bird': 43.88582346644827, 'dog-automobile': 38.584005863133015}\n",
      "{'dog-cat': 42.88208697650712, 'dog-dog': 40.997354426708455, 'dog-bird': 45.94756658261132, 'dog-automobile': 48.283935342736186}\n",
      "{'dog-cat': 36.9235486649739, 'dog-dog': 38.3069753857295, 'dog-bird': 39.12737095738665, 'dog-automobile': 45.60177996879281}\n",
      "{'dog-cat': 32.28375026934296, 'dog-dog': 33.101850679031976, 'dog-bird': 32.32685024956673, 'dog-automobile': 37.12382322545757}\n",
      "{'dog-cat': 40.00632452912097, 'dog-dog': 39.95664455672333, 'dog-bird': 45.110304378968884, 'dog-automobile': 44.744146092188274}\n",
      "{'dog-cat': 31.835568732727804, 'dog-dog': 31.963207177089348, 'dog-bird': 36.26081652884474, 'dog-automobile': 38.33316573600726}\n",
      "{'dog-cat': 38.82058331800603, 'dog-dog': 39.530294358076574, 'dog-bird': 40.601504540631616, 'dog-automobile': 41.375035862055164}\n",
      "{'dog-cat': 37.65542392826974, 'dog-dog': 35.96181493545164, 'dog-bird': 41.39963750570044, 'dog-automobile': 44.24880473720967}\n",
      "{'dog-cat': 35.599637664208764, 'dog-dog': 33.47909656975693, 'dog-bird': 39.39317054498816, 'dog-automobile': 40.97693174131955}\n",
      "{'dog-cat': 41.81465424841574, 'dog-dog': 44.741970988351405, 'dog-bird': 45.90422487394744, 'dog-automobile': 50.01941364132163}\n",
      "{'dog-cat': 30.346179824649923, 'dog-dog': 29.927442329876346, 'dog-bird': 29.79753194348326, 'dog-automobile': 38.058551187877846}\n",
      "{'dog-cat': 30.949634889790797, 'dog-dog': 28.38624748984192, 'dog-bird': 35.585222762360246, 'dog-automobile': 40.97558510673288}\n",
      "{'dog-cat': 30.791969442231654, 'dog-dog': 29.705007444564888, 'dog-bird': 34.89697915553011, 'dog-automobile': 39.32972432173696}\n",
      "{'dog-cat': 33.90368239685724, 'dog-dog': 31.715908372527913, 'dog-bird': 38.71464081227219, 'dog-automobile': 41.61603004986374}\n",
      "{'dog-cat': 33.84814028571099, 'dog-dog': 33.44818784898001, 'dog-bird': 43.056402167587514, 'dog-automobile': 48.41464652173}\n",
      "{'dog-cat': 29.84785709167551, 'dog-dog': 32.0121385047065, 'dog-bird': 32.3567954722325, 'dog-automobile': 39.756329760134165}\n",
      "{'dog-cat': 36.39558520534738, 'dog-dog': 34.07157873189285, 'dog-bird': 39.259224836867496, 'dog-automobile': 44.40694797729174}\n",
      "{'dog-cat': 36.36114734163863, 'dog-dog': 33.313886333187625, 'dog-bird': 38.604966747551636, 'dog-automobile': 43.91245090543665}\n",
      "{'dog-cat': 40.788718428548805, 'dog-dog': 38.116267591857536, 'dog-bird': 41.54657086950686, 'dog-automobile': 46.224717448992585}\n",
      "{'dog-cat': 33.81073906130203, 'dog-dog': 35.34384594440746, 'dog-bird': 38.483647283911665, 'dog-automobile': 37.769190678569466}\n",
      "{'dog-cat': 32.01375717792555, 'dog-dog': 33.8399296833179, 'dog-bird': 35.57667103317845, 'dog-automobile': 39.41539210340766}\n",
      "{'dog-cat': 36.61275098184831, 'dog-dog': 34.70525277442617, 'dog-bird': 35.46629766669061, 'dog-automobile': 43.00550877839826}\n",
      "{'dog-cat': 38.68964367373356, 'dog-dog': 35.601703813983384, 'dog-bird': 40.12059529404107, 'dog-automobile': 39.280489127704264}\n",
      "{'dog-cat': 31.59468594202884, 'dog-dog': 35.29997598682999, 'dog-bird': 37.315299100197706, 'dog-automobile': 43.425823300077724}\n",
      "{'dog-cat': 36.16462587150529, 'dog-dog': 33.88012279721055, 'dog-bird': 32.479692653678526, 'dog-automobile': 46.32844651145859}\n",
      "{'dog-cat': 39.0965460635803, 'dog-dog': 34.5867865727922, 'dog-bird': 39.67466689070528, 'dog-automobile': 42.190397028648775}\n",
      "{'dog-cat': 41.18784984667922, 'dog-dog': 38.80284920561878, 'dog-bird': 43.030311499731454, 'dog-automobile': 48.32493497238834}\n",
      "{'dog-cat': 37.8220216771744, 'dog-dog': 31.623888008491313, 'dog-bird': 40.61819432042427, 'dog-automobile': 43.29394198819266}\n",
      "{'dog-cat': 47.73180352574175, 'dog-dog': 45.531055866106875, 'dog-bird': 44.408643824367864, 'dog-automobile': 48.556655771560116}\n",
      "{'dog-cat': 40.55658769968078, 'dog-dog': 36.790480444391235, 'dog-bird': 41.83338171147473, 'dog-automobile': 43.64765637289423}\n",
      "{'dog-cat': 33.80393383587912, 'dog-dog': 33.990936086641106, 'dog-bird': 37.89310294792757, 'dog-automobile': 43.45618921904396}\n",
      "{'dog-cat': 40.74160026427429, 'dog-dog': 40.46203346212608, 'dog-bird': 43.66893366880529, 'dog-automobile': 47.36421616829718}\n",
      "{'dog-cat': 35.4525560293446, 'dog-dog': 32.64382296811913, 'dog-bird': 38.97251619987502, 'dog-automobile': 45.04974593295188}\n",
      "{'dog-cat': 40.94459316248622, 'dog-dog': 37.65707297978495, 'dog-bird': 37.98380179154652, 'dog-automobile': 42.168396480158584}\n",
      "{'dog-cat': 32.371879301493266, 'dog-dog': 29.004063365851735, 'dog-bird': 34.13585486688911, 'dog-automobile': 40.824768580054304}\n",
      "{'dog-cat': 38.79901561207915, 'dog-dog': 36.11074535650623, 'dog-bird': 35.501235964967684, 'dog-automobile': 43.139170837162915}\n",
      "{'dog-cat': 37.56763056359024, 'dog-dog': 33.64481817057083, 'dog-bird': 38.96142524315677, 'dog-automobile': 44.2578614385508}\n",
      "{'dog-cat': 40.91357862680379, 'dog-dog': 33.53642498815377, 'dog-bird': 39.627324354073764, 'dog-automobile': 48.02704800066769}\n",
      "{'dog-cat': 33.26164710914466, 'dog-dog': 32.833465919009, 'dog-bird': 41.43311602217869, 'dog-automobile': 41.04208338141042}\n",
      "{'dog-cat': 35.8311630527623, 'dog-dog': 38.23348224268767, 'dog-bird': 38.52464629899122, 'dog-automobile': 44.80911026860789}\n",
      "{'dog-cat': 38.85562572352096, 'dog-dog': 37.10963287151308, 'dog-bird': 42.281874907818654, 'dog-automobile': 45.7327756479165}\n",
      "{'dog-cat': 34.72431812747126, 'dog-dog': 35.696271751420284, 'dog-bird': 33.279007783014585, 'dog-automobile': 35.70201899287647}\n",
      "{'dog-cat': 41.73715031044679, 'dog-dog': 36.846073907593556, 'dog-bird': 45.16975563387101, 'dog-automobile': 52.6367845103363}\n",
      "{'dog-cat': 33.00102686087041, 'dog-dog': 31.560123867886702, 'dog-bird': 36.2678438864005, 'dog-automobile': 38.64859242267001}\n",
      "{'dog-cat': 45.99422421398666, 'dog-dog': 47.47138604219965, 'dog-bird': 48.719798193867526, 'dog-automobile': 52.632170576814076}\n",
      "{'dog-cat': 37.44121974625939, 'dog-dog': 35.84931803230364, 'dog-bird': 41.449505550145865, 'dog-automobile': 44.069354428914004}\n",
      "{'dog-cat': 30.599568322105583, 'dog-dog': 30.52932127577385, 'dog-bird': 29.84625106014826, 'dog-automobile': 37.86230467185572}\n",
      "{'dog-cat': 39.70587226729893, 'dog-dog': 39.22205312158214, 'dog-bird': 38.82033996628666, 'dog-automobile': 41.77423192176077}\n",
      "{'dog-cat': 35.172775643295466, 'dog-dog': 33.31828216130226, 'dog-bird': 36.63442274902656, 'dog-automobile': 40.14063040419711}\n",
      "{'dog-cat': 40.25272624198356, 'dog-dog': 36.486982603024536, 'dog-bird': 41.139921186909575, 'dog-automobile': 45.44296585576981}\n",
      "{'dog-cat': 41.47498079317969, 'dog-dog': 41.641482146293356, 'dog-bird': 44.17700608460274, 'dog-automobile': 43.59271303574776}\n",
      "{'dog-cat': 35.83874987123024, 'dog-dog': 33.29707147470734, 'dog-bird': 36.16938237540292, 'dog-automobile': 42.20168709535318}\n",
      "{'dog-cat': 28.8630684756853, 'dog-dog': 29.751067683256476, 'dog-bird': 31.70862368160683, 'dog-automobile': 38.189059775469076}\n",
      "{'dog-cat': 38.65646485993506, 'dog-dog': 33.75382674027237, 'dog-bird': 40.12557809438291, 'dog-automobile': 41.91647353129853}\n",
      "{'dog-cat': 35.60860999568006, 'dog-dog': 37.284722325231066, 'dog-bird': 39.801110940442484, 'dog-automobile': 38.35189825702744}\n",
      "{'dog-cat': 34.67194508504876, 'dog-dog': 37.37309511120312, 'dog-bird': 35.32090032354406, 'dog-automobile': 44.88847709293411}\n",
      "{'dog-cat': 36.35925521600063, 'dog-dog': 33.64612337298978, 'dog-bird': 34.1037258344914, 'dog-automobile': 39.865790847966885}\n",
      "{'dog-cat': 36.90430104294337, 'dog-dog': 35.247128643132, 'dog-bird': 41.99281453821274, 'dog-automobile': 44.92718987189744}\n",
      "{'dog-cat': 38.81988199897456, 'dog-dog': 38.06281453611448, 'dog-bird': 41.634872917037235, 'dog-automobile': 40.603902431546146}\n",
      "{'dog-cat': 38.05595794179526, 'dog-dog': 38.10229641348918, 'dog-bird': 40.073905191568684, 'dog-automobile': 40.709491456064285}\n",
      "{'dog-cat': 33.889815671183044, 'dog-dog': 27.57129198632657, 'dog-bird': 35.67005975439117, 'dog-automobile': 41.370543277973006}\n",
      "{'dog-cat': 33.68742493239448, 'dog-dog': 33.439069517347775, 'dog-bird': 38.27595162763345, 'dog-automobile': 40.539025559192524}\n",
      "{'dog-cat': 32.09319445587004, 'dog-dog': 32.12836379807216, 'dog-bird': 36.57100579965159, 'dog-automobile': 38.632112181413476}\n",
      "{'dog-cat': 35.31778578026198, 'dog-dog': 36.22949204487999, 'dog-bird': 38.335693403526626, 'dog-automobile': 39.55129874944263}\n",
      "{'dog-cat': 40.92958678996315, 'dog-dog': 39.047970608026596, 'dog-bird': 40.703995973218746, 'dog-automobile': 47.182066172279704}\n",
      "{'dog-cat': 42.9233701234825, 'dog-dog': 37.444853866192545, 'dog-bird': 42.601045604829096, 'dog-automobile': 50.173860869052206}\n",
      "{'dog-cat': 42.73561612880847, 'dog-dog': 38.60862109716093, 'dog-bird': 42.745765712322225, 'dog-automobile': 45.44088585691845}\n",
      "{'dog-cat': 35.86601142025564, 'dog-dog': 35.33342675259148, 'dog-bird': 38.48662471238189, 'dog-automobile': 37.46928981953847}\n",
      "{'dog-cat': 39.567506088658234, 'dog-dog': 38.27037113512268, 'dog-bird': 39.692171341977186, 'dog-automobile': 41.09001905714893}\n",
      "{'dog-cat': 34.8107340888045, 'dog-dog': 35.417312756007256, 'dog-bird': 37.9181439042681, 'dog-automobile': 39.90558161773907}\n",
      "{'dog-cat': 43.15479750049827, 'dog-dog': 41.19612544598136, 'dog-bird': 44.92955821733069, 'dog-automobile': 42.3364421184404}\n",
      "{'dog-cat': 32.79545837723617, 'dog-dog': 28.396466599551214, 'dog-bird': 33.49052841517097, 'dog-automobile': 39.545811824845856}\n",
      "{'dog-cat': 35.83210733396279, 'dog-dog': 34.81461391287838, 'dog-bird': 36.88377496315674, 'dog-automobile': 42.617739066067635}\n",
      "{'dog-cat': 32.26146659828242, 'dog-dog': 26.794022031986476, 'dog-bird': 40.52971981146208, 'dog-automobile': 45.119112549164}\n",
      "{'dog-cat': 34.17257549967513, 'dog-dog': 34.38311065045947, 'dog-bird': 37.91464681724923, 'dog-automobile': 44.30123852281931}\n",
      "{'dog-cat': 35.43131766719428, 'dog-dog': 33.30042560646725, 'dog-bird': 37.31242190918655, 'dog-automobile': 43.78860809992479}\n",
      "{'dog-cat': 31.226549186905963, 'dog-dog': 32.6135438390225, 'dog-bird': 32.50601882018209, 'dog-automobile': 41.95237298466437}\n",
      "{'dog-cat': 36.26227642318578, 'dog-dog': 34.738526111275874, 'dog-bird': 39.89104057225004, 'dog-automobile': 41.55190560336581}\n",
      "{'dog-cat': 40.36385119989483, 'dog-dog': 40.30833944160344, 'dog-bird': 40.35656405261037, 'dog-automobile': 45.539712039452446}\n",
      "{'dog-cat': 31.903573435940597, 'dog-dog': 33.833880763276, 'dog-bird': 34.1270694587944, 'dog-automobile': 40.22046198488317}\n",
      "{'dog-cat': 46.16215607553661, 'dog-dog': 46.69012606136967, 'dog-bird': 49.09181936859658, 'dog-automobile': 51.73516242322198}\n",
      "{'dog-cat': 43.05131867578513, 'dog-dog': 41.81399695576065, 'dog-bird': 41.67790556973066, 'dog-automobile': 46.38187749640942}\n",
      "{'dog-cat': 36.8516206051507, 'dog-dog': 32.30404242365231, 'dog-bird': 39.00622087380092, 'dog-automobile': 40.09439033676006}\n",
      "{'dog-cat': 36.027809987609864, 'dog-dog': 36.34629599871676, 'dog-bird': 40.15686252982673, 'dog-automobile': 42.24784148690391}\n",
      "{'dog-cat': 35.52994422321748, 'dog-dog': 30.596559119221066, 'dog-bird': 35.69252803606129, 'dog-automobile': 40.84997504968183}\n",
      "{'dog-cat': 33.03628529950701, 'dog-dog': 33.62384481750167, 'dog-bird': 38.150008838555536, 'dog-automobile': 42.43413576882954}\n",
      "{'dog-cat': 31.010467599348093, 'dog-dog': 34.41455484824952, 'dog-bird': 33.38703092768794, 'dog-automobile': 42.23958903557528}\n",
      "{'dog-cat': 39.179352991209285, 'dog-dog': 37.38397034012581, 'dog-bird': 43.83110186628478, 'dog-automobile': 45.25327493533076}\n",
      "{'dog-cat': 33.439556882495914, 'dog-dog': 32.13210330533943, 'dog-bird': 36.57605785980109, 'dog-automobile': 38.11661330629999}\n",
      "{'dog-cat': 33.68987864030835, 'dog-dog': 35.42303316895645, 'dog-bird': 34.402038411613624, 'dog-automobile': 42.416277070770136}\n",
      "{'dog-cat': 35.15490122781372, 'dog-dog': 37.42502588955387, 'dog-bird': 38.15888449914535, 'dog-automobile': 39.89133380181377}\n",
      "{'dog-cat': 38.84012564273789, 'dog-dog': 37.80369493375151, 'dog-bird': 40.53669835701049, 'dog-automobile': 39.34408228671096}\n",
      "{'dog-cat': 33.04956697060659, 'dog-dog': 35.867866838123184, 'dog-bird': 40.052742639815946, 'dog-automobile': 38.78919964127098}\n",
      "{'dog-cat': 36.649853707311514, 'dog-dog': 36.201799473860724, 'dog-bird': 37.19699730163146, 'dog-automobile': 45.09251583761521}\n",
      "{'dog-cat': 33.70953066496215, 'dog-dog': 34.60562389197908, 'dog-bird': 39.68472295935312, 'dog-automobile': 41.62731131744852}\n",
      "{'dog-cat': 40.32649258465514, 'dog-dog': 38.25634232554802, 'dog-bird': 41.30482482859234, 'dog-automobile': 45.2722684509826}\n",
      "{'dog-cat': 30.700751006903392, 'dog-dog': 29.96353333861848, 'dog-bird': 33.344437082855436, 'dog-automobile': 41.79719773981196}\n",
      "{'dog-cat': 37.70723184407666, 'dog-dog': 35.107902677080794, 'dog-bird': 37.08007168980851, 'dog-automobile': 42.00052997589949}\n",
      "{'dog-cat': 39.20202622876782, 'dog-dog': 38.49932313816515, 'dog-bird': 38.17808984588395, 'dog-automobile': 44.03878690501303}\n",
      "{'dog-cat': 41.75391483403241, 'dog-dog': 38.93434868146208, 'dog-bird': 45.94893639445268, 'dog-automobile': 44.84836721601647}\n",
      "{'dog-cat': 42.0936688299678, 'dog-dog': 34.225900476934214, 'dog-bird': 43.907964424970544, 'dog-automobile': 43.59155487529955}\n",
      "{'dog-cat': 34.56847324637879, 'dog-dog': 31.26709452996608, 'dog-bird': 39.54680943220809, 'dog-automobile': 43.26820230119677}\n",
      "{'dog-cat': 33.76558616847348, 'dog-dog': 33.83317194422153, 'dog-bird': 37.531662711761584, 'dog-automobile': 42.557055542558444}\n",
      "{'dog-cat': 28.177487261041943, 'dog-dog': 30.998518175290954, 'dog-bird': 33.97191711828002, 'dog-automobile': 36.22409747700566}\n",
      "{'dog-cat': 40.23366517018849, 'dog-dog': 39.418067593910294, 'dog-bird': 38.10943831816208, 'dog-automobile': 49.83982883273397}\n",
      "{'dog-cat': 36.444065940115294, 'dog-dog': 32.42344597577834, 'dog-bird': 36.687796424456714, 'dog-automobile': 44.161990710229574}\n",
      "{'dog-cat': 36.82987319059846, 'dog-dog': 34.38399635782379, 'dog-bird': 39.65778465203062, 'dog-automobile': 42.38065257577007}\n",
      "{'dog-cat': 34.766528537920415, 'dog-dog': 37.02869791652599, 'dog-bird': 37.501215872415074, 'dog-automobile': 44.89510879263753}\n",
      "{'dog-cat': 33.180922632715756, 'dog-dog': 30.487958316312795, 'dog-bird': 36.66851296144963, 'dog-automobile': 38.02639675625869}\n",
      "{'dog-cat': 37.26622850751866, 'dog-dog': 32.711964526985454, 'dog-bird': 40.358419471038616, 'dog-automobile': 44.48462135205729}\n",
      "{'dog-cat': 37.08001310303575, 'dog-dog': 33.09028214005328, 'dog-bird': 40.34508621117897, 'dog-automobile': 39.598059334972}\n",
      "{'dog-cat': 38.02314037104076, 'dog-dog': 36.40590958352938, 'dog-bird': 41.34170287812003, 'dog-automobile': 43.96138672164825}\n",
      "{'dog-cat': 41.746061427535345, 'dog-dog': 39.72284646180815, 'dog-bird': 42.970157456199296, 'dog-automobile': 48.87895728134032}\n",
      "{'dog-cat': 38.245511644925614, 'dog-dog': 37.174096806071965, 'dog-bird': 42.46922529975124, 'dog-automobile': 41.458693522623854}\n",
      "{'dog-cat': 36.98416964785921, 'dog-dog': 34.42558786137522, 'dog-bird': 38.884939544434395, 'dog-automobile': 41.70967763622197}\n",
      "{'dog-cat': 36.64700801545159, 'dog-dog': 34.40620922947156, 'dog-bird': 38.887029789073814, 'dog-automobile': 38.3029897437476}\n",
      "{'dog-cat': 36.401510632459114, 'dog-dog': 35.950987336986095, 'dog-bird': 40.16794429923464, 'dog-automobile': 43.60128133887353}\n",
      "{'dog-cat': 38.12347831759682, 'dog-dog': 33.830149929462564, 'dog-bird': 38.09622904064581, 'dog-automobile': 42.60317517035992}\n",
      "{'dog-cat': 40.328099479043175, 'dog-dog': 36.10978616947296, 'dog-bird': 37.11470018062078, 'dog-automobile': 48.558209477288656}\n",
      "{'dog-cat': 33.36535088613284, 'dog-dog': 35.215940604741945, 'dog-bird': 35.86927201488538, 'dog-automobile': 36.61887592064928}\n",
      "{'dog-cat': 36.41607235743669, 'dog-dog': 33.461282300403155, 'dog-bird': 40.69682257748984, 'dog-automobile': 43.146615950558946}\n",
      "{'dog-cat': 35.53238102829433, 'dog-dog': 35.99244950534696, 'dog-bird': 37.27519193289006, 'dog-automobile': 46.39298430879962}\n",
      "{'dog-cat': 37.882315504721014, 'dog-dog': 35.87146953463701, 'dog-bird': 41.04357384747976, 'dog-automobile': 42.87376261958127}\n",
      "{'dog-cat': 35.202337394152686, 'dog-dog': 25.405653026529343, 'dog-bird': 37.50547735393339, 'dog-automobile': 40.812416674771015}\n",
      "{'dog-cat': 37.694187760593245, 'dog-dog': 38.28451179654939, 'dog-bird': 39.4883486930731, 'dog-automobile': 43.994207813275345}\n",
      "{'dog-cat': 35.664776581699, 'dog-dog': 32.637638733666904, 'dog-bird': 33.97216051735157, 'dog-automobile': 40.29728260212638}\n",
      "{'dog-cat': 39.56050745515464, 'dog-dog': 39.80920533444036, 'dog-bird': 42.91153893247935, 'dog-automobile': 46.770871711236744}\n",
      "{'dog-cat': 41.73407935116943, 'dog-dog': 40.16736826568532, 'dog-bird': 38.931347307028105, 'dog-automobile': 43.8883611171265}\n",
      "{'dog-cat': 40.88128450806134, 'dog-dog': 40.267515788977995, 'dog-bird': 41.451529269839824, 'dog-automobile': 48.58821622905183}\n",
      "{'dog-cat': 38.545600677915054, 'dog-dog': 34.091244045060925, 'dog-bird': 42.385299315063854, 'dog-automobile': 41.76446309747758}\n",
      "{'dog-cat': 30.9356792586895, 'dog-dog': 33.86023162645194, 'dog-bird': 38.223347359578625, 'dog-automobile': 40.83546870760701}\n",
      "{'dog-cat': 37.1815736067708, 'dog-dog': 32.1493861397804, 'dog-bird': 39.5153061432347, 'dog-automobile': 43.97196449558649}\n",
      "{'dog-cat': 34.61783740606919, 'dog-dog': 34.33089759585781, 'dog-bird': 35.779537884172136, 'dog-automobile': 40.87809533441401}\n",
      "{'dog-cat': 44.40118752359367, 'dog-dog': 37.495120026382764, 'dog-bird': 44.34054112705044, 'dog-automobile': 47.79860343418961}\n",
      "{'dog-cat': 39.12732809527962, 'dog-dog': 35.10877823814185, 'dog-bird': 38.640211527222526, 'dog-automobile': 46.247261625535494}\n",
      "{'dog-cat': 38.09235120486568, 'dog-dog': 33.959354319372544, 'dog-bird': 38.61913760180375, 'dog-automobile': 44.270487000396315}\n",
      "{'dog-cat': 37.8503051203136, 'dog-dog': 36.446382712259975, 'dog-bird': 37.04460496028074, 'dog-automobile': 38.48757349903294}\n",
      "{'dog-cat': 35.22159802305201, 'dog-dog': 35.37566641949828, 'dog-bird': 39.09275502904307, 'dog-automobile': 43.05283405218645}\n",
      "{'dog-cat': 36.15595503410288, 'dog-dog': 33.92855526807315, 'dog-bird': 37.13468638762442, 'dog-automobile': 44.387641079028526}\n",
      "{'dog-cat': 35.23080289568457, 'dog-dog': 35.51863910614503, 'dog-bird': 37.54722367578435, 'dog-automobile': 46.11956113794952}\n",
      "{'dog-cat': 37.47009214124934, 'dog-dog': 35.59245682012566, 'dog-bird': 40.00333960017086, 'dog-automobile': 42.088365655515815}\n",
      "{'dog-cat': 36.26626039722105, 'dog-dog': 38.16882417992002, 'dog-bird': 38.05141619870128, 'dog-automobile': 42.26455706296075}\n",
      "{'dog-cat': 52.72865676862795, 'dog-dog': 51.18219028746068, 'dog-bird': 49.76709002153557, 'dog-automobile': 56.37180434651938}\n",
      "{'dog-cat': 31.437689818627817, 'dog-dog': 28.422031343349058, 'dog-bird': 34.33394653893674, 'dog-automobile': 42.411440146937124}\n",
      "{'dog-cat': 39.1391932164357, 'dog-dog': 37.20237172246964, 'dog-bird': 40.812527154641764, 'dog-automobile': 45.49712696607869}\n",
      "{'dog-cat': 36.49411044247404, 'dog-dog': 37.388965838182735, 'dog-bird': 40.263812057540974, 'dog-automobile': 43.116722194141786}\n",
      "{'dog-cat': 31.491325770139454, 'dog-dog': 30.355340063241865, 'dog-bird': 34.911855947428, 'dog-automobile': 45.14325046114636}\n",
      "{'dog-cat': 37.25969191919011, 'dog-dog': 37.48630321305315, 'dog-bird': 37.99238503616443, 'dog-automobile': 43.82159352870538}\n",
      "{'dog-cat': 32.61366282737834, 'dog-dog': 32.49229267446618, 'dog-bird': 39.411647371969984, 'dog-automobile': 42.8746438815032}\n",
      "{'dog-cat': 36.02195285024678, 'dog-dog': 33.15030412588776, 'dog-bird': 39.688603076683194, 'dog-automobile': 42.67057843207979}\n",
      "{'dog-cat': 36.94586878337056, 'dog-dog': 34.490752316141155, 'dog-bird': 36.14247868858259, 'dog-automobile': 41.040141836749534}\n",
      "{'dog-cat': 34.14861240665069, 'dog-dog': 35.281133401026324, 'dog-bird': 38.13503596328005, 'dog-automobile': 38.898825318145015}\n",
      "{'dog-cat': 35.921525932938316, 'dog-dog': 31.744431080814458, 'dog-bird': 37.452377797193876, 'dog-automobile': 41.06082513009965}\n",
      "{'dog-cat': 38.84041291772946, 'dog-dog': 35.16252617547742, 'dog-bird': 40.26419747037551, 'dog-automobile': 43.26210425580895}\n",
      "{'dog-cat': 39.12811949355563, 'dog-dog': 34.76769377069092, 'dog-bird': 41.09454377378428, 'dog-automobile': 41.40441933608763}\n",
      "{'dog-cat': 36.63569193347486, 'dog-dog': 34.8906549699182, 'dog-bird': 40.007153703562345, 'dog-automobile': 43.693591763803376}\n",
      "{'dog-cat': 42.382861389948935, 'dog-dog': 36.148502768131884, 'dog-bird': 39.97899499998275, 'dog-automobile': 41.063916924277336}\n",
      "{'dog-cat': 35.57747581581626, 'dog-dog': 33.05987181560846, 'dog-bird': 39.59762210190958, 'dog-automobile': 44.10445546547446}\n",
      "{'dog-cat': 35.293236279539165, 'dog-dog': 32.84561030730027, 'dog-bird': 38.83831921987986, 'dog-automobile': 40.63652793723804}\n",
      "{'dog-cat': 38.054292643410186, 'dog-dog': 38.33312850300149, 'dog-bird': 37.94819055862263, 'dog-automobile': 42.13389415842826}\n",
      "{'dog-cat': 32.25871120406703, 'dog-dog': 30.928551998471693, 'dog-bird': 35.88627388763586, 'dog-automobile': 40.33469713879559}\n",
      "{'dog-cat': 36.78952755911631, 'dog-dog': 35.23609124247676, 'dog-bird': 38.96117130206691, 'dog-automobile': 42.08346974273349}\n",
      "{'dog-cat': 35.65313753151945, 'dog-dog': 38.26684090776371, 'dog-bird': 33.50763569950845, 'dog-automobile': 39.283211451253926}\n",
      "{'dog-cat': 36.56818416115436, 'dog-dog': 35.50492291086329, 'dog-bird': 34.23936500034918, 'dog-automobile': 38.15719356737921}\n",
      "{'dog-cat': 33.57229458975308, 'dog-dog': 29.764193625001475, 'dog-bird': 36.998902010396954, 'dog-automobile': 40.0120367168225}\n",
      "{'dog-cat': 33.215929667049885, 'dog-dog': 34.20004784884732, 'dog-bird': 38.027465638563456, 'dog-automobile': 37.4050444674569}\n",
      "{'dog-cat': 38.59109739245212, 'dog-dog': 30.491658497449517, 'dog-bird': 44.54809099311945, 'dog-automobile': 49.387308410889865}\n",
      "{'dog-cat': 42.30819353491394, 'dog-dog': 39.246441054955206, 'dog-bird': 40.89170486388605, 'dog-automobile': 41.05888583653754}\n",
      "{'dog-cat': 44.068265705843906, 'dog-dog': 34.73792109455477, 'dog-bird': 38.42960533722138, 'dog-automobile': 48.05750341539118}\n",
      "{'dog-cat': 36.407787749602335, 'dog-dog': 36.65134472446708, 'dog-bird': 38.48585311392374, 'dog-automobile': 38.3639880566117}\n",
      "{'dog-cat': 42.50348469662356, 'dog-dog': 34.11630956380575, 'dog-bird': 44.488730848172224, 'dog-automobile': 47.81810331713324}\n",
      "{'dog-cat': 37.21535273579073, 'dog-dog': 34.47908873651845, 'dog-bird': 35.306549942895536, 'dog-automobile': 40.8295594887804}\n",
      "{'dog-cat': 36.808841583382986, 'dog-dog': 36.29815159894376, 'dog-bird': 39.824728310499616, 'dog-automobile': 44.9038854591763}\n",
      "{'dog-cat': 37.97374232727621, 'dog-dog': 35.668135962832146, 'dog-bird': 38.915171256103775, 'dog-automobile': 39.97682810997418}\n",
      "{'dog-cat': 42.449611772790036, 'dog-dog': 38.65724996926482, 'dog-bird': 47.81270883707759, 'dog-automobile': 50.35996009066827}\n",
      "{'dog-cat': 32.41023176613433, 'dog-dog': 32.85843843393926, 'dog-bird': 31.69883359728876, 'dog-automobile': 38.85031181737636}\n",
      "{'dog-cat': 37.88685439635567, 'dog-dog': 34.65690070945869, 'dog-bird': 40.74817410177617, 'dog-automobile': 44.80708380880078}\n",
      "{'dog-cat': 39.47315461241541, 'dog-dog': 38.79085479069108, 'dog-bird': 38.254516702172154, 'dog-automobile': 47.61568073042179}\n",
      "{'dog-cat': 36.84816384764562, 'dog-dog': 32.08137232237774, 'dog-bird': 40.074080244488925, 'dog-automobile': 37.49697355274534}\n",
      "{'dog-cat': 35.935504165780976, 'dog-dog': 33.77528386951884, 'dog-bird': 35.47566673861735, 'dog-automobile': 40.55222232967611}\n",
      "{'dog-cat': 39.02075882472826, 'dog-dog': 36.23293584031526, 'dog-bird': 40.135027542925506, 'dog-automobile': 43.16838906862073}\n",
      "{'dog-cat': 41.50452479988591, 'dog-dog': 35.81540489823895, 'dog-bird': 39.67286851267926, 'dog-automobile': 48.406084979003865}\n",
      "{'dog-cat': 31.95654751576488, 'dog-dog': 32.76435245641646, 'dog-bird': 34.91792792833046, 'dog-automobile': 38.15766072616268}\n",
      "{'dog-cat': 35.76963903381537, 'dog-dog': 36.487971621690285, 'dog-bird': 39.325717314651015, 'dog-automobile': 40.98594175412642}\n",
      "{'dog-cat': 39.21673703078536, 'dog-dog': 35.12842316789715, 'dog-bird': 41.146759634722514, 'dog-automobile': 44.936780037812696}\n",
      "{'dog-cat': 37.00206115299663, 'dog-dog': 35.44949996331323, 'dog-bird': 40.58823835708815, 'dog-automobile': 44.595114414174006}\n",
      "{'dog-cat': 40.463320039574896, 'dog-dog': 40.59659876484661, 'dog-bird': 39.730456761382705, 'dog-automobile': 41.00237347672369}\n",
      "{'dog-cat': 36.44192191252253, 'dog-dog': 32.63876852517413, 'dog-bird': 35.246855822697796, 'dog-automobile': 41.65691259813091}\n",
      "{'dog-cat': 38.62659718613532, 'dog-dog': 35.431578561256735, 'dog-bird': 39.920495279553386, 'dog-automobile': 42.76077094811502}\n",
      "{'dog-cat': 46.130768659641134, 'dog-dog': 41.75787647590294, 'dog-bird': 42.92096881027163, 'dog-automobile': 44.31109849006857}\n",
      "{'dog-cat': 35.7933884160589, 'dog-dog': 31.82778774019974, 'dog-bird': 36.62828323107659, 'dog-automobile': 45.125645190145995}\n",
      "{'dog-cat': 33.52464611284756, 'dog-dog': 31.554571654876405, 'dog-bird': 36.68592072204829, 'dog-automobile': 38.996936402346776}\n",
      "{'dog-cat': 46.679872008978435, 'dog-dog': 43.95336943753981, 'dog-bird': 48.47950255885769, 'dog-automobile': 52.33274249264545}\n",
      "{'dog-cat': 35.498838386711796, 'dog-dog': 34.99613361731418, 'dog-bird': 37.42866067318582, 'dog-automobile': 39.58404167330771}\n",
      "{'dog-cat': 33.92846186410619, 'dog-dog': 35.96070866585867, 'dog-bird': 38.21268816790245, 'dog-automobile': 38.11685915061295}\n",
      "{'dog-cat': 38.36763272593055, 'dog-dog': 34.523179234023004, 'dog-bird': 39.891655305061725, 'dog-automobile': 45.804223146555486}\n",
      "{'dog-cat': 31.65304473923854, 'dog-dog': 30.670170050161804, 'dog-bird': 33.53387244763478, 'dog-automobile': 37.67383502919863}\n",
      "{'dog-cat': 41.156480810981485, 'dog-dog': 42.69146294324647, 'dog-bird': 40.04366068351359, 'dog-automobile': 42.09281190844251}\n",
      "{'dog-cat': 34.76801500345938, 'dog-dog': 34.32798006363459, 'dog-bird': 37.92507389758397, 'dog-automobile': 39.86662158470309}\n",
      "{'dog-cat': 32.67466443248169, 'dog-dog': 34.41855452635488, 'dog-bird': 36.15307597299912, 'dog-automobile': 41.18404987598544}\n",
      "{'dog-cat': 38.08971457334767, 'dog-dog': 38.29256557129127, 'dog-bird': 37.61735812808975, 'dog-automobile': 41.98506896065917}\n",
      "{'dog-cat': 34.522764346341624, 'dog-dog': 35.04448024748864, 'dog-bird': 37.28580344644598, 'dog-automobile': 43.25845534067575}\n",
      "{'dog-cat': 35.860854899598884, 'dog-dog': 34.51628203747558, 'dog-bird': 39.86168490998037, 'dog-automobile': 40.233910973145775}\n",
      "{'dog-cat': 35.94817881162721, 'dog-dog': 34.112561394405105, 'dog-bird': 37.13870243130516, 'dog-automobile': 43.69907668003344}\n",
      "{'dog-cat': 31.999176311272265, 'dog-dog': 32.30470610954407, 'dog-bird': 36.535031382030176, 'dog-automobile': 44.389278184027994}\n",
      "{'dog-cat': 36.50840361815049, 'dog-dog': 34.32306947600789, 'dog-bird': 35.47957038499659, 'dog-automobile': 42.62503596258016}\n",
      "{'dog-cat': 35.292344391556576, 'dog-dog': 36.733411240925896, 'dog-bird': 35.53152879440878, 'dog-automobile': 37.70057772463656}\n",
      "{'dog-cat': 32.997823301179125, 'dog-dog': 31.544273078509274, 'dog-bird': 34.29209014511593, 'dog-automobile': 41.502963578954855}\n",
      "{'dog-cat': 35.27754708948617, 'dog-dog': 30.428811732222147, 'dog-bird': 36.77644819105808, 'dog-automobile': 40.87016259778834}\n",
      "{'dog-cat': 34.92596686398331, 'dog-dog': 33.21959736988672, 'dog-bird': 37.05660166825224, 'dog-automobile': 40.48893758378753}\n",
      "{'dog-cat': 32.79217468995467, 'dog-dog': 33.466081879219175, 'dog-bird': 35.98225122674255, 'dog-automobile': 45.29464541736446}\n",
      "{'dog-cat': 31.356007749169066, 'dog-dog': 33.60081913864355, 'dog-bird': 34.054164989806, 'dog-automobile': 39.99355497501704}\n",
      "{'dog-cat': 33.719688078546525, 'dog-dog': 30.32078989706994, 'dog-bird': 35.5051614940205, 'dog-automobile': 39.276729834904195}\n",
      "{'dog-cat': 33.488177045958146, 'dog-dog': 34.730662587834985, 'dog-bird': 39.29437853722356, 'dog-automobile': 42.597916260725114}\n",
      "{'dog-cat': 40.296903806127965, 'dog-dog': 37.683089325932585, 'dog-bird': 42.364134817675584, 'dog-automobile': 47.24084670796609}\n",
      "{'dog-cat': 39.02462103973281, 'dog-dog': 36.574093094777794, 'dog-bird': 42.531132659650936, 'dog-automobile': 47.0736658555714}\n",
      "{'dog-cat': 32.81585805011959, 'dog-dog': 33.807562811219924, 'dog-bird': 40.36258095374944, 'dog-automobile': 40.55419280526495}\n",
      "{'dog-cat': 39.67878705802248, 'dog-dog': 36.142549091320326, 'dog-bird': 40.55289533364605, 'dog-automobile': 46.65682726479054}\n",
      "{'dog-cat': 41.852809902600086, 'dog-dog': 39.957990702285684, 'dog-bird': 44.99113272753071, 'dog-automobile': 46.51782227517234}\n",
      "{'dog-cat': 31.38983661172955, 'dog-dog': 28.036338806767112, 'dog-bird': 32.40372454408368, 'dog-automobile': 40.25522231292388}\n",
      "{'dog-cat': 37.67732057806736, 'dog-dog': 34.73806261022338, 'dog-bird': 41.814067235079726, 'dog-automobile': 44.2631769178289}\n",
      "{'dog-cat': 39.369808746477354, 'dog-dog': 35.354812419815936, 'dog-bird': 40.55225786973961, 'dog-automobile': 49.07458778887459}\n",
      "{'dog-cat': 38.147389053998886, 'dog-dog': 34.58016540133717, 'dog-bird': 40.7031251760803, 'dog-automobile': 46.04108171910417}\n",
      "{'dog-cat': 34.8638538098706, 'dog-dog': 33.561983576799264, 'dog-bird': 39.93267180771454, 'dog-automobile': 39.40290342012774}\n",
      "{'dog-cat': 43.07122695087845, 'dog-dog': 41.22105589360621, 'dog-bird': 47.425209017670404, 'dog-automobile': 45.59710584339951}\n",
      "{'dog-cat': 36.23964666866115, 'dog-dog': 34.573383391800334, 'dog-bird': 39.74139684073443, 'dog-automobile': 43.99702802523509}\n",
      "{'dog-cat': 37.28180559949961, 'dog-dog': 38.05981467963339, 'dog-bird': 38.14210345919471, 'dog-automobile': 43.52967618811353}\n",
      "{'dog-cat': 38.186665209910025, 'dog-dog': 35.33746011738906, 'dog-bird': 40.620089459005705, 'dog-automobile': 44.64519286888405}\n",
      "{'dog-cat': 42.845329732060506, 'dog-dog': 41.25125331861293, 'dog-bird': 40.909566473762084, 'dog-automobile': 48.91630262594515}\n",
      "{'dog-cat': 36.564413067956686, 'dog-dog': 32.08377229053627, 'dog-bird': 40.12012390859861, 'dog-automobile': 42.72935977632033}\n",
      "{'dog-cat': 31.47569737029663, 'dog-dog': 31.553560222923455, 'dog-bird': 36.13984766818713, 'dog-automobile': 40.13481845302111}\n",
      "{'dog-cat': 43.60911863158869, 'dog-dog': 36.45703471035352, 'dog-bird': 48.02731606622987, 'dog-automobile': 49.14498182069501}\n",
      "{'dog-cat': 39.70918184525422, 'dog-dog': 38.59649568841053, 'dog-bird': 43.850617733955296, 'dog-automobile': 45.2376729591576}\n",
      "{'dog-cat': 36.77906576386886, 'dog-dog': 37.55152550978335, 'dog-bird': 37.65413837229203, 'dog-automobile': 41.17761237805618}\n",
      "{'dog-cat': 38.46605442770601, 'dog-dog': 37.03940283066493, 'dog-bird': 41.372684979699635, 'dog-automobile': 42.78174136814832}\n",
      "{'dog-cat': 37.30336109066856, 'dog-dog': 37.16577523561891, 'dog-bird': 39.356327934581564, 'dog-automobile': 43.783153424051456}\n",
      "{'dog-cat': 36.91451256796825, 'dog-dog': 35.72502253729291, 'dog-bird': 41.92743798773278, 'dog-automobile': 42.83453913490859}\n",
      "{'dog-cat': 33.91531529199415, 'dog-dog': 34.87466547134587, 'dog-bird': 37.455797391139335, 'dog-automobile': 40.82606798625883}\n",
      "{'dog-cat': 33.625391915509745, 'dog-dog': 32.97622081058393, 'dog-bird': 39.849064141428414, 'dog-automobile': 42.8720375075393}\n",
      "{'dog-cat': 37.18123282077671, 'dog-dog': 36.2195847371076, 'dog-bird': 40.141126674319004, 'dog-automobile': 39.774509560240126}\n",
      "{'dog-cat': 33.09999825095998, 'dog-dog': 32.64225801486903, 'dog-bird': 36.929917423160546, 'dog-automobile': 45.297695368822374}\n",
      "{'dog-cat': 39.17693800709696, 'dog-dog': 37.50981181904231, 'dog-bird': 39.448507370084364, 'dog-automobile': 47.35737646783597}\n",
      "{'dog-cat': 34.297846557971454, 'dog-dog': 32.03026151014171, 'dog-bird': 34.64245028855829, 'dog-automobile': 38.95378891666466}\n",
      "{'dog-cat': 37.54640382994018, 'dog-dog': 35.76479042825175, 'dog-bird': 36.04786416536905, 'dog-automobile': 46.70521681403868}\n",
      "{'dog-cat': 35.85049344680474, 'dog-dog': 38.09976033512382, 'dog-bird': 36.982978121474986, 'dog-automobile': 40.93978962817374}\n",
      "{'dog-cat': 39.006590808084695, 'dog-dog': 39.3003086413659, 'dog-bird': 39.23854838197084, 'dog-automobile': 40.95005792366289}\n",
      "{'dog-cat': 37.31676833718125, 'dog-dog': 34.25144539202632, 'dog-bird': 41.17963236309468, 'dog-automobile': 47.27635747401635}\n",
      "{'dog-cat': 30.72138294287644, 'dog-dog': 35.21934170517086, 'dog-bird': 39.60529360419486, 'dog-automobile': 39.000725382638095}\n",
      "{'dog-cat': 43.17345631161646, 'dog-dog': 39.902746525919405, 'dog-bird': 47.089348947425485, 'dog-automobile': 50.28193149581805}\n",
      "{'dog-cat': 37.124634423290225, 'dog-dog': 35.9355492236596, 'dog-bird': 38.53323213705665, 'dog-automobile': 33.51485229606236}\n",
      "{'dog-cat': 38.83916006468895, 'dog-dog': 36.57033072560392, 'dog-bird': 42.83178660740512, 'dog-automobile': 45.454194310481384}\n",
      "{'dog-cat': 36.74455929778249, 'dog-dog': 33.90501444068805, 'dog-bird': 42.25888948279674, 'dog-automobile': 48.30763600191255}\n",
      "{'dog-cat': 34.088384879550965, 'dog-dog': 33.53894636773712, 'dog-bird': 34.10597201004226, 'dog-automobile': 41.29270427299786}\n",
      "{'dog-cat': 35.58556363156696, 'dog-dog': 34.31919649249167, 'dog-bird': 37.7828176801724, 'dog-automobile': 39.91033332000574}\n",
      "{'dog-cat': 39.52129040297523, 'dog-dog': 38.38900472186881, 'dog-bird': 43.60266930077752, 'dog-automobile': 44.41895612077229}\n",
      "{'dog-cat': 40.79184372863145, 'dog-dog': 41.23677691354704, 'dog-bird': 40.133488648558945, 'dog-automobile': 48.885663563892095}\n",
      "{'dog-cat': 33.304668294073785, 'dog-dog': 30.3662230969822, 'dog-bird': 36.50917654154152, 'dog-automobile': 43.994261171672896}\n",
      "{'dog-cat': 38.22268065872882, 'dog-dog': 22.73416605886319, 'dog-bird': 34.43478935400284, 'dog-automobile': 40.12356585544578}\n",
      "{'dog-cat': 32.17107367799262, 'dog-dog': 33.96581204719716, 'dog-bird': 36.83263232659011, 'dog-automobile': 38.8710479587189}\n",
      "{'dog-cat': 42.67016912825719, 'dog-dog': 40.438819168334696, 'dog-bird': 41.42662061458049, 'dog-automobile': 48.1960835779351}\n",
      "{'dog-cat': 31.965847762361477, 'dog-dog': 30.775126025064733, 'dog-bird': 36.311960531859, 'dog-automobile': 41.4893822088757}\n",
      "{'dog-cat': 34.622231432820534, 'dog-dog': 34.23976406728775, 'dog-bird': 34.03942674123079, 'dog-automobile': 37.79654564708707}\n",
      "{'dog-cat': 31.405083618736384, 'dog-dog': 28.915300456664667, 'dog-bird': 31.753261675995557, 'dog-automobile': 43.49201907398847}\n",
      "{'dog-cat': 41.81148894879814, 'dog-dog': 42.19780039774842, 'dog-bird': 46.94091531175378, 'dog-automobile': 46.252225674854664}\n",
      "{'dog-cat': 38.73479553542455, 'dog-dog': 38.35964551043909, 'dog-bird': 42.96619529145451, 'dog-automobile': 45.019335496962135}\n",
      "{'dog-cat': 33.86234139465345, 'dog-dog': 32.708145517087, 'dog-bird': 35.9400719779967, 'dog-automobile': 41.85867779043024}\n",
      "{'dog-cat': 35.93518043206857, 'dog-dog': 34.79273014039157, 'dog-bird': 38.5209284287035, 'dog-automobile': 43.62957838699292}\n",
      "{'dog-cat': 37.807378751359636, 'dog-dog': 37.40628242871439, 'dog-bird': 43.768495504301896, 'dog-automobile': 44.261837467481676}\n",
      "{'dog-cat': 34.259278552163345, 'dog-dog': 35.01722142942791, 'dog-bird': 37.630212101113, 'dog-automobile': 39.209749002958404}\n",
      "{'dog-cat': 33.97620207497744, 'dog-dog': 33.60921855593282, 'dog-bird': 34.54831844149483, 'dog-automobile': 40.967677810816205}\n",
      "{'dog-cat': 34.01308020843713, 'dog-dog': 32.393346638917045, 'dog-bird': 42.01327748833692, 'dog-automobile': 45.28071254025859}\n",
      "{'dog-cat': 40.69776972585774, 'dog-dog': 36.98209748852756, 'dog-bird': 40.605478782264775, 'dog-automobile': 41.596745662878604}\n",
      "{'dog-cat': 34.834828651353575, 'dog-dog': 34.29998041299684, 'dog-bird': 39.32245688500198, 'dog-automobile': 43.78388659780071}\n",
      "{'dog-cat': 34.703296774255946, 'dog-dog': 32.26925669245575, 'dog-bird': 37.522553002658825, 'dog-automobile': 41.42091416674796}\n",
      "{'dog-cat': 44.22554473010913, 'dog-dog': 45.48716277633209, 'dog-bird': 38.840425258949374, 'dog-automobile': 48.97195924664465}\n",
      "{'dog-cat': 36.07138478291528, 'dog-dog': 34.85318295632002, 'dog-bird': 35.21234674994605, 'dog-automobile': 44.94707281020727}\n",
      "{'dog-cat': 31.41128593118529, 'dog-dog': 30.28428114893164, 'dog-bird': 34.297139810215135, 'dog-automobile': 39.3812266498896}\n",
      "{'dog-cat': 36.62724628369349, 'dog-dog': 38.29700015709586, 'dog-bird': 35.03135626077761, 'dog-automobile': 45.15875213049335}\n",
      "{'dog-cat': 31.38195971402047, 'dog-dog': 31.448402924492466, 'dog-bird': 34.902063511298216, 'dog-automobile': 39.29120629603641}\n",
      "{'dog-cat': 43.25765883285006, 'dog-dog': 42.111213517949025, 'dog-bird': 45.076081940508445, 'dog-automobile': 45.962328477589196}\n",
      "{'dog-cat': 31.048991150972864, 'dog-dog': 33.90323901322912, 'dog-bird': 35.34498703710164, 'dog-automobile': 45.05065154338412}\n",
      "{'dog-cat': 37.032146222535125, 'dog-dog': 40.07123004089631, 'dog-bird': 46.8497978337345, 'dog-automobile': 47.32542429147607}\n",
      "{'dog-cat': 37.59259252378375, 'dog-dog': 34.932025205694, 'dog-bird': 35.19563790882486, 'dog-automobile': 44.17690336461953}\n",
      "{'dog-cat': 40.764357279987934, 'dog-dog': 38.17355689343704, 'dog-bird': 45.65534672099744, 'dog-automobile': 42.56511633343487}\n",
      "{'dog-cat': 40.93762207605088, 'dog-dog': 43.29502795959331, 'dog-bird': 43.66004643598933, 'dog-automobile': 39.664784405600315}\n",
      "{'dog-cat': 41.117271860683964, 'dog-dog': 39.68658678524953, 'dog-bird': 44.63021054420918, 'dog-automobile': 44.994797585191655}\n",
      "{'dog-cat': 38.08226614299117, 'dog-dog': 35.90181552179217, 'dog-bird': 41.0102439475802, 'dog-automobile': 45.008606226505734}\n",
      "{'dog-cat': 37.42219455905056, 'dog-dog': 36.05672822772925, 'dog-bird': 39.20500757037696, 'dog-automobile': 47.82734264175198}\n",
      "{'dog-cat': 32.24210958447016, 'dog-dog': 29.81764818828588, 'dog-bird': 35.562419832799044, 'dog-automobile': 40.83227607999293}\n",
      "{'dog-cat': 35.67271533158494, 'dog-dog': 35.28278508026881, 'dog-bird': 38.40521435939493, 'dog-automobile': 45.074544545024686}\n",
      "{'dog-cat': 28.93764328365111, 'dog-dog': 30.725307863768258, 'dog-bird': 31.612505053601478, 'dog-automobile': 38.94496000237583}\n",
      "{'dog-cat': 38.85324476231021, 'dog-dog': 38.30772390607626, 'dog-bird': 41.58090399837178, 'dog-automobile': 44.109935523642385}\n",
      "{'dog-cat': 35.5452418213266, 'dog-dog': 35.07293926408233, 'dog-bird': 32.747324483109274, 'dog-automobile': 37.72992520216403}\n",
      "{'dog-cat': 34.47979180431203, 'dog-dog': 29.324947915986428, 'dog-bird': 35.71804396584139, 'dog-automobile': 42.55112974137604}\n",
      "{'dog-cat': 37.41326868594538, 'dog-dog': 33.14502961855897, 'dog-bird': 40.16823569505662, 'dog-automobile': 39.11747559543733}\n",
      "{'dog-cat': 39.35172762493377, 'dog-dog': 39.11768562242711, 'dog-bird': 42.587507305721005, 'dog-automobile': 45.59000683329894}\n",
      "{'dog-cat': 34.77491341336134, 'dog-dog': 35.31795948447128, 'dog-bird': 39.77009841738605, 'dog-automobile': 41.289863221633794}\n",
      "{'dog-cat': 36.55237268387345, 'dog-dog': 36.269322153158626, 'dog-bird': 37.78933518841122, 'dog-automobile': 42.45558273473343}\n",
      "{'dog-cat': 36.46220810766828, 'dog-dog': 35.23075271784705, 'dog-bird': 40.69136200821964, 'dog-automobile': 43.42664501464672}\n",
      "{'dog-cat': 39.33794422813437, 'dog-dog': 40.04510173676121, 'dog-bird': 41.5775732952505, 'dog-automobile': 40.33626739732901}\n",
      "{'dog-cat': 31.297558070141196, 'dog-dog': 30.67384419936281, 'dog-bird': 37.03746358335545, 'dog-automobile': 40.33664004420648}\n",
      "{'dog-cat': 38.09304530962141, 'dog-dog': 32.01928334163535, 'dog-bird': 39.34728333825425, 'dog-automobile': 42.99191829885076}\n",
      "{'dog-cat': 38.35120622973912, 'dog-dog': 35.47454227062719, 'dog-bird': 41.092275100366784, 'dog-automobile': 45.52727680985085}\n",
      "{'dog-cat': 35.99838721283678, 'dog-dog': 34.64726922001092, 'dog-bird': 38.012298530229224, 'dog-automobile': 43.23023773867279}\n",
      "{'dog-cat': 38.02436062078032, 'dog-dog': 37.01631329531466, 'dog-bird': 41.22657698803868, 'dog-automobile': 45.04898482601102}\n",
      "{'dog-cat': 37.84666498454957, 'dog-dog': 37.662865302389406, 'dog-bird': 43.349376524352856, 'dog-automobile': 41.501679639819926}\n",
      "{'dog-cat': 32.2453404965971, 'dog-dog': 33.51189567322828, 'dog-bird': 34.438694977419274, 'dog-automobile': 39.543551527092845}\n",
      "{'dog-cat': 39.088013058852454, 'dog-dog': 36.38268182931022, 'dog-bird': 38.284347369433945, 'dog-automobile': 40.36564441841091}\n",
      "{'dog-cat': 35.75362337462781, 'dog-dog': 30.541494635678067, 'dog-bird': 38.833179979958416, 'dog-automobile': 40.50170778600133}\n",
      "{'dog-cat': 39.43836810358418, 'dog-dog': 37.71217776651215, 'dog-bird': 42.066315565122714, 'dog-automobile': 45.68714161341198}\n",
      "{'dog-cat': 33.67873633335052, 'dog-dog': 29.118858424536626, 'dog-bird': 33.6477977595442, 'dog-automobile': 38.33985349300511}\n",
      "{'dog-cat': 32.24468112720236, 'dog-dog': 33.50257096909272, 'dog-bird': 38.36434800070596, 'dog-automobile': 44.618198836927384}\n",
      "{'dog-cat': 39.327774458401855, 'dog-dog': 37.9009785818911, 'dog-bird': 40.70211806701543, 'dog-automobile': 44.72236509225177}\n",
      "{'dog-cat': 39.788797583683376, 'dog-dog': 37.45227062802268, 'dog-bird': 44.41735635891965, 'dog-automobile': 47.91354570939964}\n",
      "{'dog-cat': 31.52045237491369, 'dog-dog': 30.914211541832778, 'dog-bird': 34.95748423288588, 'dog-automobile': 40.42812943852791}\n",
      "{'dog-cat': 31.65403686825814, 'dog-dog': 31.036260471732454, 'dog-bird': 37.34321522876531, 'dog-automobile': 39.52765531823255}\n",
      "{'dog-cat': 33.3675384417328, 'dog-dog': 33.74496233259269, 'dog-bird': 33.71059844567157, 'dog-automobile': 42.23293495398042}\n",
      "{'dog-cat': 32.63809895348971, 'dog-dog': 31.796948038850083, 'dog-bird': 35.46999209972643, 'dog-automobile': 43.807660923465995}\n",
      "{'dog-cat': 39.424782111230854, 'dog-dog': 32.445194491524624, 'dog-bird': 39.39438055598338, 'dog-automobile': 44.67826143884216}\n",
      "{'dog-cat': 31.47052420096365, 'dog-dog': 33.91280806671258, 'dog-bird': 37.17242642110637, 'dog-automobile': 42.48483793710438}\n",
      "{'dog-cat': 38.25228208641692, 'dog-dog': 36.83281650169964, 'dog-bird': 39.00489701072694, 'dog-automobile': 39.76793087821812}\n",
      "{'dog-cat': 37.3258598604724, 'dog-dog': 36.455176619747775, 'dog-bird': 37.494787813228726, 'dog-automobile': 45.27429659419004}\n",
      "{'dog-cat': 39.91976774682113, 'dog-dog': 39.58824978475021, 'dog-bird': 41.786569361395436, 'dog-automobile': 44.84907367200715}\n",
      "{'dog-cat': 40.32158461788387, 'dog-dog': 38.98772865206473, 'dog-bird': 44.96509459221572, 'dog-automobile': 43.59760166179635}\n",
      "{'dog-cat': 39.12042685650393, 'dog-dog': 35.14499644311314, 'dog-bird': 40.51601357450019, 'dog-automobile': 42.65568697287936}\n",
      "{'dog-cat': 34.32566522191216, 'dog-dog': 34.58192758878712, 'dog-bird': 36.466916017535105, 'dog-automobile': 39.39709506714676}\n",
      "{'dog-cat': 39.520942061387146, 'dog-dog': 39.17212429020739, 'dog-bird': 45.694338742595264, 'dog-automobile': 43.62945326329581}\n",
      "{'dog-cat': 30.44568353506321, 'dog-dog': 28.84597777965363, 'dog-bird': 33.90486810878821, 'dog-automobile': 43.04885967885683}\n",
      "{'dog-cat': 35.644163741210875, 'dog-dog': 35.03230576247436, 'dog-bird': 39.189640429622386, 'dog-automobile': 42.560689759109685}\n",
      "{'dog-cat': 39.200681738805486, 'dog-dog': 37.640982952816394, 'dog-bird': 39.33605883578651, 'dog-automobile': 43.613749133277146}\n",
      "{'dog-cat': 34.759346617368585, 'dog-dog': 35.74449056420576, 'dog-bird': 36.19601456057805, 'dog-automobile': 38.62788667477752}\n",
      "{'dog-cat': 41.00168151151748, 'dog-dog': 39.90598179492947, 'dog-bird': 43.62418832566603, 'dog-automobile': 45.31775587498067}\n",
      "{'dog-cat': 45.15893192944864, 'dog-dog': 45.12023136751102, 'dog-bird': 42.8496965993166, 'dog-automobile': 42.999866939292914}\n",
      "{'dog-cat': 39.085108312734654, 'dog-dog': 36.402203806536214, 'dog-bird': 36.97267752129171, 'dog-automobile': 43.66406962283857}\n",
      "{'dog-cat': 33.02427399511427, 'dog-dog': 31.102786674700106, 'dog-bird': 32.70256120546376, 'dog-automobile': 41.27405599719126}\n",
      "{'dog-cat': 39.743496463046924, 'dog-dog': 37.97124117596481, 'dog-bird': 39.19911513189694, 'dog-automobile': 42.924573825089254}\n",
      "{'dog-cat': 37.61347910956574, 'dog-dog': 36.643328197964514, 'dog-bird': 40.77754493339872, 'dog-automobile': 45.49392766781834}\n",
      "{'dog-cat': 34.28523176602924, 'dog-dog': 33.248580605265026, 'dog-bird': 35.93397728462769, 'dog-automobile': 39.8251480549232}\n",
      "{'dog-cat': 43.48019056583892, 'dog-dog': 46.09548195911086, 'dog-bird': 43.74068200608333, 'dog-automobile': 44.26374762271894}\n",
      "{'dog-cat': 34.04248945788249, 'dog-dog': 34.507374729334906, 'dog-bird': 40.070318121012015, 'dog-automobile': 38.00741474668385}\n",
      "{'dog-cat': 34.929125123340306, 'dog-dog': 32.98810758746965, 'dog-bird': 38.792904952271236, 'dog-automobile': 42.39746461666983}\n",
      "{'dog-cat': 33.96733410187872, 'dog-dog': 33.91079664427959, 'dog-bird': 35.79060210641264, 'dog-automobile': 42.2089080643126}\n",
      "{'dog-cat': 45.164999503024134, 'dog-dog': 40.58440681834711, 'dog-bird': 43.79181064767233, 'dog-automobile': 45.32037846300606}\n",
      "{'dog-cat': 37.38961986401894, 'dog-dog': 35.321583053330926, 'dog-bird': 35.64572258960153, 'dog-automobile': 40.67463196146852}\n",
      "{'dog-cat': 39.2997683957015, 'dog-dog': 37.085399901780264, 'dog-bird': 40.70656483539683, 'dog-automobile': 41.22657121349715}\n",
      "{'dog-cat': 35.09277912677014, 'dog-dog': 35.10945888752253, 'dog-bird': 35.2091936839438, 'dog-automobile': 42.24613994797358}\n",
      "{'dog-cat': 43.76621901544713, 'dog-dog': 32.35204197306382, 'dog-bird': 46.59269881268142, 'dog-automobile': 49.25804570889223}\n",
      "{'dog-cat': 40.573483808083175, 'dog-dog': 40.62633037317737, 'dog-bird': 37.590349349946486, 'dog-automobile': 42.5576402354393}\n",
      "{'dog-cat': 38.30840203879059, 'dog-dog': 35.91760932963977, 'dog-bird': 41.50812672569982, 'dog-automobile': 42.40617652638725}\n",
      "{'dog-cat': 37.388329779489375, 'dog-dog': 39.52100808537856, 'dog-bird': 40.37678674246327, 'dog-automobile': 41.88078884620882}\n",
      "{'dog-cat': 33.71128179238053, 'dog-dog': 36.39276875263635, 'dog-bird': 34.860818319956294, 'dog-automobile': 37.45093653414121}\n",
      "{'dog-cat': 34.29957767805509, 'dog-dog': 33.52906691358476, 'dog-bird': 37.43200742370039, 'dog-automobile': 34.82831944424022}\n",
      "{'dog-cat': 31.287077296770303, 'dog-dog': 31.80369519742739, 'dog-bird': 28.316227566071337, 'dog-automobile': 44.13834767773565}\n",
      "{'dog-cat': 31.863905348900417, 'dog-dog': 31.584371310366002, 'dog-bird': 32.29967889177397, 'dog-automobile': 37.04739122527485}\n",
      "{'dog-cat': 34.4702360750358, 'dog-dog': 32.85343922610677, 'dog-bird': 34.437986404346944, 'dog-automobile': 42.103621575912676}\n",
      "{'dog-cat': 34.480918806988946, 'dog-dog': 34.14450339355416, 'dog-bird': 37.383166387823096, 'dog-automobile': 38.01573291516614}\n",
      "{'dog-cat': 39.47851734419623, 'dog-dog': 37.93133738170426, 'dog-bird': 43.3845165457893, 'dog-automobile': 46.7667093944174}\n",
      "{'dog-cat': 30.610749734720603, 'dog-dog': 30.40080348491879, 'dog-bird': 32.485459307629284, 'dog-automobile': 41.2851061827544}\n",
      "{'dog-cat': 44.142628353587334, 'dog-dog': 41.95325301730688, 'dog-bird': 45.30501064542078, 'dog-automobile': 44.97138370471812}\n",
      "{'dog-cat': 40.61949745364364, 'dog-dog': 39.02883092658267, 'dog-bird': 40.804704702077835, 'dog-automobile': 46.543426481459825}\n",
      "{'dog-cat': 35.175894676292714, 'dog-dog': 35.30775405696841, 'dog-bird': 34.98072753358732, 'dog-automobile': 43.54349889430727}\n",
      "{'dog-cat': 32.437105577946795, 'dog-dog': 33.323697799173544, 'dog-bird': 35.18602465780851, 'dog-automobile': 38.719780955653064}\n",
      "{'dog-cat': 37.56480518658953, 'dog-dog': 37.277602448944606, 'dog-bird': 41.61201057537911, 'dog-automobile': 45.12157363175122}\n",
      "{'dog-cat': 31.78228561862661, 'dog-dog': 29.56395442948703, 'dog-bird': 34.249311624341026, 'dog-automobile': 41.32307281743965}\n",
      "{'dog-cat': 44.54394145175668, 'dog-dog': 42.28490429119143, 'dog-bird': 45.354007275095995, 'dog-automobile': 45.97470299708591}\n",
      "{'dog-cat': 38.644396747351756, 'dog-dog': 33.45863120019998, 'dog-bird': 39.96285567589348, 'dog-automobile': 40.2326196501917}\n",
      "{'dog-cat': 36.99995126128728, 'dog-dog': 37.534069386116826, 'dog-bird': 40.96722527303794, 'dog-automobile': 40.019420070401985}\n",
      "{'dog-cat': 32.0157299283893, 'dog-dog': 30.633276865225504, 'dog-bird': 29.90522539290624, 'dog-automobile': 45.7463428480545}\n",
      "{'dog-cat': 35.132358700707975, 'dog-dog': 32.91213348508959, 'dog-bird': 40.13978053643855, 'dog-automobile': 41.312293031417546}\n",
      "{'dog-cat': 34.859270871356635, 'dog-dog': 32.492392329701644, 'dog-bird': 37.8376065176055, 'dog-automobile': 43.418867938002485}\n",
      "{'dog-cat': 42.572189776403825, 'dog-dog': 40.810360517824975, 'dog-bird': 43.56118065438409, 'dog-automobile': 49.27518376246765}\n",
      "{'dog-cat': 35.86479658433442, 'dog-dog': 33.56594193615339, 'dog-bird': 39.691770538547175, 'dog-automobile': 42.93026052788074}\n",
      "{'dog-cat': 33.552802127126114, 'dog-dog': 30.621094885121593, 'dog-bird': 35.927355896989425, 'dog-automobile': 40.214541349858294}\n",
      "{'dog-cat': 40.30000410461044, 'dog-dog': 42.37060548731433, 'dog-bird': 38.57146028323869, 'dog-automobile': 41.356994661668146}\n",
      "{'dog-cat': 36.76336687408978, 'dog-dog': 37.40209523195194, 'dog-bird': 37.75884703039997, 'dog-automobile': 38.96354318593922}\n",
      "{'dog-cat': 36.159263085024065, 'dog-dog': 32.789354661426906, 'dog-bird': 36.84458232177145, 'dog-automobile': 40.770422798412525}\n",
      "{'dog-cat': 33.7012064238173, 'dog-dog': 32.90901096389264, 'dog-bird': 37.44906500256614, 'dog-automobile': 40.32141180589096}\n",
      "{'dog-cat': 33.40983719695261, 'dog-dog': 32.663611492681724, 'dog-bird': 35.86402013772657, 'dog-automobile': 42.43112288232394}\n",
      "{'dog-cat': 34.652688219482215, 'dog-dog': 26.050654730016046, 'dog-bird': 37.04457131793828, 'dog-automobile': 40.47796485182808}\n",
      "{'dog-cat': 37.685301236141655, 'dog-dog': 38.07795572706306, 'dog-bird': 40.12108718846898, 'dog-automobile': 41.541878535955384}\n",
      "{'dog-cat': 36.33681461711432, 'dog-dog': 36.435528194082636, 'dog-bird': 40.85467914197473, 'dog-automobile': 46.540325965446584}\n",
      "{'dog-cat': 37.39193164653995, 'dog-dog': 38.34152984528444, 'dog-bird': 38.35662989315728, 'dog-automobile': 39.88479251420514}\n",
      "{'dog-cat': 31.74424211189109, 'dog-dog': 29.561530655384413, 'dog-bird': 33.92235710722134, 'dog-automobile': 41.0036090331247}\n",
      "{'dog-cat': 39.91015137788252, 'dog-dog': 34.6877127208747, 'dog-bird': 42.00465531279497, 'dog-automobile': 44.86678635949113}\n",
      "{'dog-cat': 30.800905847102776, 'dog-dog': 30.3620954765448, 'dog-bird': 33.70377806041982, 'dog-automobile': 41.60441396722151}\n",
      "{'dog-cat': 33.7026031124032, 'dog-dog': 34.10360278168535, 'dog-bird': 41.11186194923593, 'dog-automobile': 43.66605280751055}\n",
      "{'dog-cat': 34.11108215452391, 'dog-dog': 35.46648287191242, 'dog-bird': 36.11589059311058, 'dog-automobile': 36.910177770460145}\n",
      "{'dog-cat': 36.15351999980099, 'dog-dog': 34.52879429897778, 'dog-bird': 39.329618313882996, 'dog-automobile': 44.328865717000006}\n",
      "{'dog-cat': 33.45534970219876, 'dog-dog': 31.702156837303423, 'dog-bird': 36.813570394215326, 'dog-automobile': 41.289976253951586}\n",
      "{'dog-cat': 41.73155523140627, 'dog-dog': 40.06408797187978, 'dog-bird': 42.60827772940922, 'dog-automobile': 45.70022919126817}\n",
      "{'dog-cat': 34.48380068282999, 'dog-dog': 30.731506162473945, 'dog-bird': 35.988240517996665, 'dog-automobile': 42.33385522972629}\n",
      "{'dog-cat': 36.21418920992046, 'dog-dog': 40.871888649610014, 'dog-bird': 38.48986662223828, 'dog-automobile': 40.27748385499126}\n",
      "{'dog-cat': 38.26792340653178, 'dog-dog': 25.188929131501293, 'dog-bird': 41.34587473691095, 'dog-automobile': 45.07458329113969}\n",
      "{'dog-cat': 31.338848594400424, 'dog-dog': 32.64294863390497, 'dog-bird': 38.010046954221224, 'dog-automobile': 42.94347183400534}\n",
      "{'dog-cat': 34.71156568178798, 'dog-dog': 32.76912367710467, 'dog-bird': 41.65149011947216, 'dog-automobile': 45.246578102122605}\n",
      "{'dog-cat': 32.598534983008044, 'dog-dog': 31.814603097647193, 'dog-bird': 36.46388830985715, 'dog-automobile': 42.36076540556977}\n",
      "{'dog-cat': 40.49779328845727, 'dog-dog': 40.19441307650418, 'dog-bird': 40.33777238194554, 'dog-automobile': 40.722043557083296}\n",
      "{'dog-cat': 35.87165542492061, 'dog-dog': 35.12741847633276, 'dog-bird': 39.99451829624794, 'dog-automobile': 41.23576602285005}\n",
      "{'dog-cat': 35.42175158443197, 'dog-dog': 36.949118089027316, 'dog-bird': 36.572472040765305, 'dog-automobile': 43.947323150893226}\n",
      "{'dog-cat': 36.11656405833711, 'dog-dog': 36.667896750217814, 'dog-bird': 38.3996588948507, 'dog-automobile': 42.175926825284854}\n",
      "{'dog-cat': 40.04485504158304, 'dog-dog': 35.25444461936301, 'dog-bird': 41.52276311323528, 'dog-automobile': 41.9575733178348}\n",
      "{'dog-cat': 43.89291432965924, 'dog-dog': 41.93300731256461, 'dog-bird': 42.23945871973498, 'dog-automobile': 45.73358873431449}\n",
      "{'dog-cat': 38.986797171922504, 'dog-dog': 35.733874521034025, 'dog-bird': 44.97501948252071, 'dog-automobile': 48.64650718541206}\n",
      "{'dog-cat': 34.816519729914454, 'dog-dog': 36.470970883656534, 'dog-bird': 38.061382489622915, 'dog-automobile': 38.725764606699194}\n",
      "{'dog-cat': 41.96592480391685, 'dog-dog': 39.842526974257794, 'dog-bird': 42.440500505361854, 'dog-automobile': 44.211292369679626}\n",
      "{'dog-cat': 41.51147277344902, 'dog-dog': 39.62116904723382, 'dog-bird': 40.948701161955285, 'dog-automobile': 42.322894061475}\n",
      "{'dog-cat': 48.69807933243194, 'dog-dog': 48.27019514231324, 'dog-bird': 46.55463205959349, 'dog-automobile': 54.65091731237341}\n",
      "{'dog-cat': 35.226356572547054, 'dog-dog': 36.77847275785767, 'dog-bird': 37.58515802772017, 'dog-automobile': 40.70551310966787}\n",
      "{'dog-cat': 33.20242057872864, 'dog-dog': 31.80254943455684, 'dog-bird': 33.15959944437974, 'dog-automobile': 39.31397727109046}\n",
      "{'dog-cat': 36.02235517185615, 'dog-dog': 32.4916383741381, 'dog-bird': 38.60691820621049, 'dog-automobile': 38.13913504344922}\n",
      "{'dog-cat': 34.7630511120493, 'dog-dog': 33.036947363333965, 'dog-bird': 37.51561675888881, 'dog-automobile': 39.52815687839641}\n",
      "{'dog-cat': 38.02858902697558, 'dog-dog': 36.60520861610058, 'dog-bird': 38.564839948718195, 'dog-automobile': 44.557122400135306}\n",
      "{'dog-cat': 40.88781696223312, 'dog-dog': 32.998056604881434, 'dog-bird': 41.18015196893221, 'dog-automobile': 48.08300756961837}\n",
      "{'dog-cat': 43.04796991527009, 'dog-dog': 39.01780557743409, 'dog-bird': 41.78550434891366, 'dog-automobile': 45.96633632175752}\n",
      "{'dog-cat': 33.283845198188004, 'dog-dog': 33.07718486419132, 'dog-bird': 38.8841752002561, 'dog-automobile': 42.44918705666002}\n",
      "{'dog-cat': 34.5093416403341, 'dog-dog': 29.728686564182365, 'dog-bird': 38.59159243847, 'dog-automobile': 45.23678201099061}\n",
      "{'dog-cat': 41.090020096435744, 'dog-dog': 40.778036281535215, 'dog-bird': 42.44682423161801, 'dog-automobile': 45.55474637203904}\n",
      "{'dog-cat': 41.92127810701884, 'dog-dog': 37.14058773560438, 'dog-bird': 44.12393406374003, 'dog-automobile': 47.77960958115719}\n",
      "{'dog-cat': 45.436120530377714, 'dog-dog': 40.34361618144489, 'dog-bird': 45.857277294302826, 'dog-automobile': 47.863732430158024}\n",
      "{'dog-cat': 36.63581985972563, 'dog-dog': 33.000979884432844, 'dog-bird': 40.5615759166168, 'dog-automobile': 40.47505552421898}\n",
      "{'dog-cat': 37.45113590069151, 'dog-dog': 35.85877448051895, 'dog-bird': 34.2821275573803, 'dog-automobile': 43.229466018620585}\n",
      "{'dog-cat': 33.46772680420894, 'dog-dog': 32.40539912119812, 'dog-bird': 43.19371905683051, 'dog-automobile': 48.18619579820744}\n",
      "{'dog-cat': 42.71686618577048, 'dog-dog': 32.83610708863566, 'dog-bird': 42.04370071012812, 'dog-automobile': 41.62832731065044}\n",
      "{'dog-cat': 37.62857545614081, 'dog-dog': 33.960116749375665, 'dog-bird': 41.2783308598188, 'dog-automobile': 44.00149416346545}\n",
      "{'dog-cat': 37.86741513218167, 'dog-dog': 36.52567921145688, 'dog-bird': 38.63590784647026, 'dog-automobile': 45.78620106825829}\n",
      "{'dog-cat': 33.86486741073424, 'dog-dog': 36.688313581179855, 'dog-bird': 39.93437720912672, 'dog-automobile': 40.236153091527335}\n",
      "{'dog-cat': 38.39440677530652, 'dog-dog': 36.14022460932839, 'dog-bird': 39.76315990754433, 'dog-automobile': 38.609278764636365}\n",
      "{'dog-cat': 37.750930840654114, 'dog-dog': 34.93198271871302, 'dog-bird': 38.57299628586739, 'dog-automobile': 43.38467067725333}\n",
      "{'dog-cat': 34.649958571004625, 'dog-dog': 33.74977717228497, 'dog-bird': 38.74750038075667, 'dog-automobile': 40.01637296058527}\n",
      "{'dog-cat': 35.607146278374984, 'dog-dog': 33.46224841996982, 'dog-bird': 36.51025946668791, 'dog-automobile': 40.08291616666214}\n",
      "{'dog-cat': 45.33419068040206, 'dog-dog': 34.075443962844716, 'dog-bird': 47.47102047232734, 'dog-automobile': 48.69783610781917}\n",
      "{'dog-cat': 37.01042307303801, 'dog-dog': 35.10218566324447, 'dog-bird': 42.982028546459745, 'dog-automobile': 47.04027905896154}\n",
      "{'dog-cat': 35.8663492047341, 'dog-dog': 34.301932313497026, 'dog-bird': 37.16618309306485, 'dog-automobile': 40.15494615304713}\n",
      "{'dog-cat': 42.20222778808491, 'dog-dog': 40.10129580858885, 'dog-bird': 43.80426290571852, 'dog-automobile': 47.489294120105704}\n",
      "{'dog-cat': 39.02896700177687, 'dog-dog': 39.97421527133361, 'dog-bird': 45.42228159246621, 'dog-automobile': 46.94986284692134}\n",
      "{'dog-cat': 42.44047207256, 'dog-dog': 41.643207532086514, 'dog-bird': 40.81364065650032, 'dog-automobile': 45.0684887853024}\n",
      "{'dog-cat': 38.424255924633975, 'dog-dog': 39.54760862432489, 'dog-bird': 44.163484450476375, 'dog-automobile': 41.060992384767424}\n",
      "{'dog-cat': 39.60818701698404, 'dog-dog': 38.70750571400033, 'dog-bird': 44.70531040213327, 'dog-automobile': 43.718374870584626}\n",
      "{'dog-cat': 37.528266487018676, 'dog-dog': 38.86216809236083, 'dog-bird': 46.05454463218001, 'dog-automobile': 50.209078176873234}\n",
      "{'dog-cat': 46.80582340133734, 'dog-dog': 34.94802648693494, 'dog-bird': 44.363543494110054, 'dog-automobile': 47.21751902983856}\n",
      "{'dog-cat': 40.16626940242177, 'dog-dog': 36.32804196897385, 'dog-bird': 42.461907565088424, 'dog-automobile': 45.050737442567886}\n",
      "{'dog-cat': 31.245661103977188, 'dog-dog': 32.78481892568364, 'dog-bird': 34.69386004084679, 'dog-automobile': 39.38344504975732}\n",
      "{'dog-cat': 42.86625112506252, 'dog-dog': 40.667723630259495, 'dog-bird': 44.32880928767128, 'dog-automobile': 45.026886815890464}\n",
      "{'dog-cat': 36.97088289074196, 'dog-dog': 29.824174544395632, 'dog-bird': 37.97997191277875, 'dog-automobile': 39.42883533631815}\n",
      "{'dog-cat': 42.03434578665964, 'dog-dog': 33.27455185947307, 'dog-bird': 40.611336332408264, 'dog-automobile': 47.893793589443845}\n",
      "{'dog-cat': 37.6450944890057, 'dog-dog': 36.61882826047436, 'dog-bird': 36.38552497880002, 'dog-automobile': 38.09902682304171}\n",
      "{'dog-cat': 34.179539845993446, 'dog-dog': 33.12364101329182, 'dog-bird': 36.863912002446426, 'dog-automobile': 38.560632836721595}\n",
      "{'dog-cat': 39.55425797951818, 'dog-dog': 39.235733738625385, 'dog-bird': 43.5765150974766, 'dog-automobile': 44.40132563603823}\n",
      "{'dog-cat': 34.146065549673, 'dog-dog': 37.00858325146253, 'dog-bird': 42.249063695260155, 'dog-automobile': 39.028047463065214}\n",
      "{'dog-cat': 38.95783535955903, 'dog-dog': 27.037752414035257, 'dog-bird': 42.44808573931562, 'dog-automobile': 47.04310634123395}\n",
      "{'dog-cat': 32.98928154619804, 'dog-dog': 32.84743545759328, 'dog-bird': 32.5735015994865, 'dog-automobile': 38.4048077285454}\n",
      "{'dog-cat': 33.09777121630195, 'dog-dog': 36.54418116685045, 'dog-bird': 41.4729696513883, 'dog-automobile': 38.969094188894736}\n",
      "{'dog-cat': 36.29942699199608, 'dog-dog': 37.52536687670299, 'dog-bird': 38.120192215406355, 'dog-automobile': 42.571776411737794}\n",
      "{'dog-cat': 36.981801553472216, 'dog-dog': 34.88508142871376, 'dog-bird': 36.16067752184766, 'dog-automobile': 41.2997875360661}\n",
      "{'dog-cat': 34.964602117362375, 'dog-dog': 33.67089941696279, 'dog-bird': 38.4613138715832, 'dog-automobile': 44.196573903246886}\n",
      "{'dog-cat': 39.58165773593457, 'dog-dog': 39.49362493889833, 'dog-bird': 40.81128507505605, 'dog-automobile': 43.11225992913476}\n",
      "{'dog-cat': 34.52577507199444, 'dog-dog': 34.88923774061674, 'dog-bird': 39.2762096324202, 'dog-automobile': 44.26407585817854}\n",
      "{'dog-cat': 34.2136305318678, 'dog-dog': 32.35333741821565, 'dog-bird': 35.73313227381317, 'dog-automobile': 42.83056614147302}\n",
      "{'dog-cat': 40.54121194359681, 'dog-dog': 41.15088643089106, 'dog-bird': 39.00545453151148, 'dog-automobile': 44.58468546382409}\n",
      "{'dog-cat': 39.87705558096058, 'dog-dog': 37.01590821210027, 'dog-bird': 40.82406063083092, 'dog-automobile': 43.24911711094592}\n",
      "{'dog-cat': 35.37257392824771, 'dog-dog': 35.914314088987425, 'dog-bird': 38.712223443297184, 'dog-automobile': 43.124847284562144}\n",
      "{'dog-cat': 32.78325711953458, 'dog-dog': 34.176083309597935, 'dog-bird': 32.87350438930055, 'dog-automobile': 40.28771965032674}\n",
      "{'dog-cat': 37.55158504439628, 'dog-dog': 37.28552933552354, 'dog-bird': 39.87841287405995, 'dog-automobile': 39.84604148817147}\n",
      "{'dog-cat': 38.49791736490561, 'dog-dog': 37.71480217995048, 'dog-bird': 40.934418575547475, 'dog-automobile': 40.991774537600364}\n",
      "{'dog-cat': 41.23356038756227, 'dog-dog': 38.37007801498445, 'dog-bird': 39.74358091919175, 'dog-automobile': 44.3732726117005}\n",
      "{'dog-cat': 37.68576212892725, 'dog-dog': 33.58008561243737, 'dog-bird': 38.663568125413846, 'dog-automobile': 43.91380177748598}\n",
      "{'dog-cat': 34.01303003953584, 'dog-dog': 31.177966816046645, 'dog-bird': 38.32573646417785, 'dog-automobile': 43.870509827795374}\n",
      "{'dog-cat': 38.4348821323387, 'dog-dog': 36.5176943210293, 'dog-bird': 39.69908666196089, 'dog-automobile': 44.36489069283617}\n",
      "{'dog-cat': 43.477974881712484, 'dog-dog': 38.87471344879465, 'dog-bird': 40.397740211857716, 'dog-automobile': 44.30953857946814}\n",
      "{'dog-cat': 34.32657672343804, 'dog-dog': 35.65357702860611, 'dog-bird': 38.81691223453131, 'dog-automobile': 44.51919049956224}\n",
      "{'dog-cat': 35.983502165826785, 'dog-dog': 36.51523312080503, 'dog-bird': 37.72202224063304, 'dog-automobile': 42.32639551066452}\n",
      "{'dog-cat': 30.517845827113458, 'dog-dog': 32.52830380620667, 'dog-bird': 37.264526249805634, 'dog-automobile': 39.45742391480058}\n",
      "{'dog-cat': 31.802285579134438, 'dog-dog': 29.847315417296965, 'dog-bird': 35.90499301778208, 'dog-automobile': 40.188160939046}\n"
     ]
    }
   ],
   "source": [
    "def is_dog_correct(row):\n",
    "    print row\n",
    "    if ((row['dog-dog'] < row['dog-cat']) and (row['dog-dog'] < row['dog-bird']) and (row['dog-dog'] < row['dog-automobile'])):\n",
    "        return 1\n",
    "    else:\n",
    "        return 0\n",
    "\n",
    "result = []\n",
    "for every_row in dog_distance:\n",
    "    result.append(is_dog_correct(every_row))"
   ]
  },
  {
   "cell_type": "code",
   "execution_count": 38,
   "metadata": {
    "collapsed": false
   },
   "outputs": [],
   "source": [
    "sum = 0\n",
    "for num in result:\n",
    "    sum += num"
   ]
  },
  {
   "cell_type": "code",
   "execution_count": 39,
   "metadata": {
    "collapsed": false
   },
   "outputs": [
    {
     "name": "stdout",
     "output_type": "stream",
     "text": [
      "678\n"
     ]
    }
   ],
   "source": [
    "print sum"
   ]
  },
  {
   "cell_type": "code",
   "execution_count": 42,
   "metadata": {
    "collapsed": false
   },
   "outputs": [
    {
     "name": "stdout",
     "output_type": "stream",
     "text": [
      "{'cat-automobile': 39.67105827921275, 'cat-bird': 38.07426586900461, 'cat-cat': 34.62371920804243, 'cat-dog': 37.46426287842384}\n",
      "{'cat-automobile': 43.008905668812154, 'cat-bird': 36.36740241377263, 'cat-cat': 33.868057930239424, 'cat-dog': 29.34723195850588}\n",
      "{'cat-automobile': 38.601000660361706, 'cat-bird': 35.30393949470629, 'cat-cat': 32.4615168902406, 'cat-dog': 32.25996404749732}\n",
      "{'cat-automobile': 39.356630709111, 'cat-bird': 38.894402960112835, 'cat-cat': 35.77082102542336, 'cat-dog': 35.38520851881949}\n",
      "{'cat-automobile': 38.3572372618227, 'cat-bird': 34.282040987475845, 'cat-cat': 31.157768641742653, 'cat-dog': 30.04429850876171}\n",
      "{'cat-automobile': 42.09047931808272, 'cat-bird': 44.53521701779427, 'cat-cat': 41.398603584704766, 'cat-dog': 35.4741000423819}\n",
      "{'cat-automobile': 39.05202512531327, 'cat-bird': 34.0290595084087, 'cat-cat': 30.989459495892984, 'cat-dog': 32.58452752259978}\n",
      "{'cat-automobile': 39.30586450690292, 'cat-bird': 39.02369249827746, 'cat-cat': 37.08146073866276, 'cat-dog': 37.65028526143984}\n",
      "{'cat-automobile': 43.02481297990391, 'cat-bird': 40.83340542972473, 'cat-cat': 39.988386368829026, 'cat-dog': 36.980135351208396}\n",
      "{'cat-automobile': 45.67491764256237, 'cat-bird': 40.12588356010239, 'cat-cat': 39.70766330973092, 'cat-dog': 41.12594107067672}\n",
      "{'cat-automobile': 43.843558442548186, 'cat-bird': 38.20820204768915, 'cat-cat': 32.3227745113915, 'cat-dog': 36.78188376911598}\n",
      "{'cat-automobile': 46.21583125014337, 'cat-bird': 38.95244125685205, 'cat-cat': 38.8411506162843, 'cat-dog': 42.05598834700012}\n",
      "{'cat-automobile': 36.4030580606374, 'cat-bird': 37.47735414981781, 'cat-cat': 35.63081539192464, 'cat-dog': 35.52227745087944}\n",
      "{'cat-automobile': 46.16175192340564, 'cat-bird': 38.31829233373636, 'cat-cat': 37.78103870902247, 'cat-dog': 34.57170490702803}\n",
      "{'cat-automobile': 42.31839362972364, 'cat-bird': 37.55830542980114, 'cat-cat': 33.76735431185714, 'cat-dog': 32.76690147472848}\n",
      "{'cat-automobile': 39.419426073055774, 'cat-bird': 40.05722687180175, 'cat-cat': 33.16901525415143, 'cat-dog': 38.743739964872084}\n",
      "{'cat-automobile': 45.02426477532397, 'cat-bird': 45.09335256347467, 'cat-cat': 41.364207482407224, 'cat-dog': 38.71200053835785}\n",
      "{'cat-automobile': 39.93828651018645, 'cat-bird': 38.084539351106265, 'cat-cat': 36.707525886199235, 'cat-dog': 34.934298858598865}\n",
      "{'cat-automobile': 38.17158381032377, 'cat-bird': 37.64687286210027, 'cat-cat': 34.68493696633966, 'cat-dog': 33.00178322270525}\n",
      "{'cat-automobile': 46.72687189417419, 'cat-bird': 39.926678606511956, 'cat-cat': 36.603315673699946, 'cat-dog': 35.92664556910986}\n",
      "{'cat-automobile': 37.98946016363242, 'cat-bird': 34.03685917106387, 'cat-cat': 31.346678758729734, 'cat-dog': 30.925877214558145}\n",
      "{'cat-automobile': 41.45410743112968, 'cat-bird': 36.5658355690234, 'cat-cat': 34.76510231145978, 'cat-dog': 38.44582751274104}\n",
      "{'cat-automobile': 40.114405308799846, 'cat-bird': 40.57578799603733, 'cat-cat': 36.87274838337469, 'cat-dog': 37.56709493143322}\n",
      "{'cat-automobile': 43.88798386043637, 'cat-bird': 36.59148132094676, 'cat-cat': 32.68928889882604, 'cat-dog': 33.8355418296337}\n",
      "{'cat-automobile': 41.7530256299884, 'cat-bird': 35.84432158255501, 'cat-cat': 35.22585302566583, 'cat-dog': 36.59982673974414}\n",
      "{'cat-automobile': 37.00739939599048, 'cat-bird': 39.68261036827746, 'cat-cat': 33.94879752501275, 'cat-dog': 37.074674003482436}\n",
      "{'cat-automobile': 52.223005302803834, 'cat-bird': 49.733850523763415, 'cat-cat': 51.33206075863306, 'cat-dog': 52.46777404067539}\n",
      "{'cat-automobile': 39.59939695241797, 'cat-bird': 38.74261570559409, 'cat-cat': 35.89769859921315, 'cat-dog': 35.72407567126171}\n",
      "{'cat-automobile': 39.77428553957685, 'cat-bird': 34.65634412249934, 'cat-cat': 34.37813667113682, 'cat-dog': 36.86964070481319}\n",
      "{'cat-automobile': 36.54478917205365, 'cat-bird': 35.63256359365089, 'cat-cat': 32.40091582734535, 'cat-dog': 32.873959717837316}\n",
      "{'cat-automobile': 47.3269673074416, 'cat-bird': 36.6020994789609, 'cat-cat': 29.470457871297324, 'cat-dog': 31.257013771658325}\n",
      "{'cat-automobile': 39.22366630248521, 'cat-bird': 34.10701963376133, 'cat-cat': 34.19194898619839, 'cat-dog': 36.18837355653434}\n",
      "{'cat-automobile': 40.248238922456345, 'cat-bird': 37.99900599180166, 'cat-cat': 33.190089481529164, 'cat-dog': 33.011370622951496}\n",
      "{'cat-automobile': 42.28327458070259, 'cat-bird': 34.77840210585197, 'cat-cat': 29.730474305163664, 'cat-dog': 34.408081084453784}\n",
      "{'cat-automobile': 46.19740778838743, 'cat-bird': 40.46476567377714, 'cat-cat': 34.54017412370597, 'cat-dog': 35.65891380674934}\n",
      "{'cat-automobile': 38.606567012841815, 'cat-bird': 40.09217706687313, 'cat-cat': 37.97035855208296, 'cat-dog': 40.7649025043015}\n",
      "{'cat-automobile': 40.42014300059415, 'cat-bird': 36.88862646809372, 'cat-cat': 38.8439212043415, 'cat-dog': 38.881604343798536}\n",
      "{'cat-automobile': 45.791452779822656, 'cat-bird': 44.130445707292196, 'cat-cat': 42.28741972834477, 'cat-dog': 41.34521471598117}\n",
      "{'cat-automobile': 44.2043177556234, 'cat-bird': 38.64084520396654, 'cat-cat': 34.755998373921784, 'cat-dog': 36.0396306342339}\n",
      "{'cat-automobile': 36.97902142323929, 'cat-bird': 34.632331147525285, 'cat-cat': 31.74350228872758, 'cat-dog': 34.95637090634919}\n",
      "{'cat-automobile': 38.67345373494401, 'cat-bird': 37.7701861813504, 'cat-cat': 32.79156930749481, 'cat-dog': 35.89807661837151}\n",
      "{'cat-automobile': 38.55622113099597, 'cat-bird': 32.781554494725086, 'cat-cat': 34.19943187819319, 'cat-dog': 34.43327058421119}\n",
      "{'cat-automobile': 44.11984516035891, 'cat-bird': 41.171980267928475, 'cat-cat': 38.06565132121496, 'cat-dog': 37.60497681474119}\n",
      "{'cat-automobile': 43.032644695288816, 'cat-bird': 40.187436666996895, 'cat-cat': 35.24914837398424, 'cat-dog': 37.115577394969876}\n",
      "{'cat-automobile': 41.548272433875674, 'cat-bird': 33.726512932174444, 'cat-cat': 34.230242970236716, 'cat-dog': 34.96855509136488}\n",
      "{'cat-automobile': 43.62808070586367, 'cat-bird': 33.44016458944806, 'cat-cat': 31.634247313687286, 'cat-dog': 34.20824457034798}\n",
      "{'cat-automobile': 37.41711317325052, 'cat-bird': 36.500229499577806, 'cat-cat': 34.16591330365059, 'cat-dog': 35.021117414368}\n",
      "{'cat-automobile': 50.05390663392802, 'cat-bird': 44.38830284169776, 'cat-cat': 41.28221260401216, 'cat-dog': 41.21299768562609}\n",
      "{'cat-automobile': 43.32303941147526, 'cat-bird': 39.456300159263456, 'cat-cat': 37.31946570030773, 'cat-dog': 34.137140019984905}\n",
      "{'cat-automobile': 45.51369262720271, 'cat-bird': 44.72677466318686, 'cat-cat': 42.329351402390955, 'cat-dog': 37.7349175920068}\n",
      "{'cat-automobile': 40.631233439566174, 'cat-bird': 38.895526790497236, 'cat-cat': 34.0882283393987, 'cat-dog': 33.053625234314865}\n",
      "{'cat-automobile': 43.37065691668402, 'cat-bird': 42.8033259142922, 'cat-cat': 41.42180106343553, 'cat-dog': 37.475171199482936}\n",
      "{'cat-automobile': 43.15593200223944, 'cat-bird': 44.89254815834599, 'cat-cat': 40.56874188662708, 'cat-dog': 42.299998075338955}\n",
      "{'cat-automobile': 34.77124748043025, 'cat-bird': 35.84598536296949, 'cat-cat': 31.00868579669956, 'cat-dog': 34.01112333544244}\n",
      "{'cat-automobile': 36.94023193982181, 'cat-bird': 32.58492489268951, 'cat-cat': 33.73702483751023, 'cat-dog': 32.836883601924654}\n",
      "{'cat-automobile': 38.72694366312373, 'cat-bird': 35.44931448497364, 'cat-cat': 28.868028417639376, 'cat-dog': 30.646927473543638}\n",
      "{'cat-automobile': 43.95652522365199, 'cat-bird': 40.1625664074372, 'cat-cat': 39.19602555087428, 'cat-dog': 39.58039176156776}\n",
      "{'cat-automobile': 40.7289561171474, 'cat-bird': 40.95978548174943, 'cat-cat': 36.1984255614345, 'cat-dog': 35.24621444916245}\n",
      "{'cat-automobile': 32.97882145448211, 'cat-bird': 34.87176719013299, 'cat-cat': 32.2703502176045, 'cat-dog': 37.91510491714465}\n",
      "{'cat-automobile': 37.17873181234589, 'cat-bird': 34.624633067160985, 'cat-cat': 33.655554264843666, 'cat-dog': 34.340275229787906}\n",
      "{'cat-automobile': 45.836393187920045, 'cat-bird': 43.351010292847214, 'cat-cat': 40.821890443844794, 'cat-dog': 38.72026091997289}\n",
      "{'cat-automobile': 37.38290734377346, 'cat-bird': 34.044938857433394, 'cat-cat': 31.775376156969706, 'cat-dog': 31.707949476932495}\n",
      "{'cat-automobile': 38.5351442798045, 'cat-bird': 39.13781774807184, 'cat-cat': 35.261662616582996, 'cat-dog': 37.72105030001844}\n",
      "{'cat-automobile': 45.94841521328026, 'cat-bird': 37.803846665932085, 'cat-cat': 39.00875499647884, 'cat-dog': 40.486198596122826}\n",
      "{'cat-automobile': 41.26857683852644, 'cat-bird': 40.070422147917164, 'cat-cat': 34.651973348486436, 'cat-dog': 35.30614596249583}\n",
      "{'cat-automobile': 43.857430334900535, 'cat-bird': 42.21529309809319, 'cat-cat': 36.755196762264035, 'cat-dog': 43.08037331604017}\n",
      "{'cat-automobile': 39.76767186283838, 'cat-bird': 34.503148146597105, 'cat-cat': 28.331537167798963, 'cat-dog': 34.11533717806704}\n",
      "{'cat-automobile': 34.13962520236979, 'cat-bird': 34.79217383461855, 'cat-cat': 31.044892109421802, 'cat-dog': 31.842078661469532}\n",
      "{'cat-automobile': 38.53810882244861, 'cat-bird': 33.90655541675529, 'cat-cat': 30.93980348977902, 'cat-dog': 28.186195305655485}\n",
      "{'cat-automobile': 41.933366748013775, 'cat-bird': 39.68803000810303, 'cat-cat': 36.24385494281976, 'cat-dog': 38.47527333401654}\n",
      "{'cat-automobile': 42.55640370531965, 'cat-bird': 40.81712165729034, 'cat-cat': 36.86845881775856, 'cat-dog': 39.356998486321274}\n",
      "{'cat-automobile': 37.43138924714276, 'cat-bird': 35.69368147969793, 'cat-cat': 32.2064836868788, 'cat-dog': 35.96587645391286}\n",
      "{'cat-automobile': 41.891906010076845, 'cat-bird': 38.642457544081665, 'cat-cat': 40.24974589039376, 'cat-dog': 42.69297754430764}\n",
      "{'cat-automobile': 40.69882825468401, 'cat-bird': 40.45673601476575, 'cat-cat': 38.44732718978044, 'cat-dog': 35.66847276647936}\n",
      "{'cat-automobile': 46.791336433334884, 'cat-bird': 46.222266390337495, 'cat-cat': 41.167353977424646, 'cat-dog': 41.959664086307285}\n",
      "{'cat-automobile': 42.10710042755517, 'cat-bird': 36.836116783812535, 'cat-cat': 34.90296493238228, 'cat-dog': 36.35963788207911}\n",
      "{'cat-automobile': 42.43194316397333, 'cat-bird': 35.870264298226424, 'cat-cat': 35.19070861877284, 'cat-dog': 41.82375070482421}\n",
      "{'cat-automobile': 42.09433916187342, 'cat-bird': 40.53277120850021, 'cat-cat': 39.50702390621975, 'cat-dog': 40.99493524868686}\n",
      "{'cat-automobile': 42.47262934838253, 'cat-bird': 39.03193829305154, 'cat-cat': 37.60612056142739, 'cat-dog': 38.839386298358775}\n",
      "{'cat-automobile': 39.151388589224254, 'cat-bird': 41.46091996490444, 'cat-cat': 37.79736315295149, 'cat-dog': 43.65916358775934}\n",
      "{'cat-automobile': 43.504360791993655, 'cat-bird': 42.60995166360128, 'cat-cat': 39.796265282041524, 'cat-dog': 41.86235516020549}\n",
      "{'cat-automobile': 46.33720698917086, 'cat-bird': 41.95124168758986, 'cat-cat': 38.03222934808991, 'cat-dog': 39.37671771779085}\n",
      "{'cat-automobile': 45.48909252723966, 'cat-bird': 40.90011592552692, 'cat-cat': 37.09497040404181, 'cat-dog': 37.91321940936203}\n",
      "{'cat-automobile': 39.79360943980346, 'cat-bird': 44.07784401698307, 'cat-cat': 38.01883362310737, 'cat-dog': 44.30606699682468}\n",
      "{'cat-automobile': 37.50712127023709, 'cat-bird': 32.680968160416086, 'cat-cat': 32.41902395123312, 'cat-dog': 32.36056742293939}\n",
      "{'cat-automobile': 43.8487022720061, 'cat-bird': 36.347301736754865, 'cat-cat': 35.33452677147922, 'cat-dog': 35.094893892353696}\n",
      "{'cat-automobile': 44.161229065067765, 'cat-bird': 34.74743870593469, 'cat-cat': 34.29939098531326, 'cat-dog': 39.454609575325605}\n",
      "{'cat-automobile': 40.46451587601124, 'cat-bird': 37.59851864953518, 'cat-cat': 34.74276950401745, 'cat-dog': 36.700179607002724}\n",
      "{'cat-automobile': 37.1468693517498, 'cat-bird': 36.16290613371311, 'cat-cat': 33.25997532833771, 'cat-dog': 34.131008417959585}\n",
      "{'cat-automobile': 48.05326329832522, 'cat-bird': 45.667579390997616, 'cat-cat': 44.05523340240589, 'cat-dog': 44.90715012312263}\n",
      "{'cat-automobile': 44.31443897164196, 'cat-bird': 42.102850894473214, 'cat-cat': 41.84142089969451, 'cat-dog': 43.66441976099131}\n",
      "{'cat-automobile': 42.80344549547722, 'cat-bird': 34.589038620565496, 'cat-cat': 26.88247184188093, 'cat-dog': 32.79932862901716}\n",
      "{'cat-automobile': 41.455369551719734, 'cat-bird': 42.468666537974286, 'cat-cat': 40.417635786339886, 'cat-dog': 42.558766245502}\n",
      "{'cat-automobile': 42.85294059883275, 'cat-bird': 35.84351889027004, 'cat-cat': 32.8944801998295, 'cat-dog': 35.4919076723454}\n",
      "{'cat-automobile': 42.54600744352184, 'cat-bird': 39.01326404148489, 'cat-cat': 36.7980117128954, 'cat-dog': 37.188327510823804}\n",
      "{'cat-automobile': 40.9171472030074, 'cat-bird': 35.77332435230113, 'cat-cat': 36.34651714297934, 'cat-dog': 35.84109300946855}\n",
      "{'cat-automobile': 46.35111694575685, 'cat-bird': 41.569342421180274, 'cat-cat': 34.27094306230061, 'cat-dog': 37.03154973195444}\n",
      "{'cat-automobile': 45.1680109587077, 'cat-bird': 41.97823252511618, 'cat-cat': 40.21685987630345, 'cat-dog': 37.41041164407653}\n",
      "{'cat-automobile': 42.349243035106205, 'cat-bird': 38.10680688198221, 'cat-cat': 34.06346511571219, 'cat-dog': 34.353085153973794}\n",
      "{'cat-automobile': 41.06252482508196, 'cat-bird': 39.27896528201816, 'cat-cat': 35.758159062843056, 'cat-dog': 33.9268500953183}\n",
      "{'cat-automobile': 40.42832897797398, 'cat-bird': 37.697628162429865, 'cat-cat': 33.41419093719135, 'cat-dog': 32.68010093506519}\n",
      "{'cat-automobile': 43.52313995027406, 'cat-bird': 36.42066717148937, 'cat-cat': 33.09726969080604, 'cat-dog': 37.18977115083842}\n",
      "{'cat-automobile': 40.77448004075213, 'cat-bird': 37.26810910063875, 'cat-cat': 36.294190770170125, 'cat-dog': 38.431682503739204}\n",
      "{'cat-automobile': 36.95355296683395, 'cat-bird': 34.354576831749895, 'cat-cat': 31.862129866502077, 'cat-dog': 30.668806348410012}\n",
      "{'cat-automobile': 40.475339573477264, 'cat-bird': 33.63353188837471, 'cat-cat': 30.84051827509202, 'cat-dog': 33.15068982909072}\n",
      "{'cat-automobile': 40.671420443226914, 'cat-bird': 38.20308852591825, 'cat-cat': 27.921807641137185, 'cat-dog': 37.426220327377926}\n",
      "{'cat-automobile': 44.43250865964695, 'cat-bird': 39.885365248125034, 'cat-cat': 35.891367124118055, 'cat-dog': 37.719261622260206}\n",
      "{'cat-automobile': 48.089812444413, 'cat-bird': 45.72765799039484, 'cat-cat': 42.327746342469915, 'cat-dog': 45.05382097199538}\n",
      "{'cat-automobile': 40.71024584835129, 'cat-bird': 42.879325812139044, 'cat-cat': 40.30913305207702, 'cat-dog': 39.60847878449936}\n",
      "{'cat-automobile': 44.722014817669724, 'cat-bird': 41.89154577209154, 'cat-cat': 36.28949128370522, 'cat-dog': 37.91165441030586}\n",
      "{'cat-automobile': 44.98871208231526, 'cat-bird': 40.27590422044504, 'cat-cat': 34.9692835468659, 'cat-dog': 32.815992405947924}\n",
      "{'cat-automobile': 42.907423605038275, 'cat-bird': 45.07714227485489, 'cat-cat': 41.568449610491115, 'cat-dog': 35.19577663329492}\n",
      "{'cat-automobile': 38.012702064965964, 'cat-bird': 35.25298307008199, 'cat-cat': 31.178057025342707, 'cat-dog': 30.694326744406535}\n",
      "{'cat-automobile': 39.50776635438671, 'cat-bird': 35.708720389624915, 'cat-cat': 33.35822079666711, 'cat-dog': 36.11146845690296}\n",
      "{'cat-automobile': 49.455296875891094, 'cat-bird': 42.73321936674569, 'cat-cat': 39.416019843407916, 'cat-dog': 38.9528712387728}\n",
      "{'cat-automobile': 47.41289874598464, 'cat-bird': 42.05237747852487, 'cat-cat': 40.17612101458165, 'cat-dog': 39.25127196758197}\n",
      "{'cat-automobile': 41.699719388595554, 'cat-bird': 34.661035794444686, 'cat-cat': 33.18994033203346, 'cat-dog': 33.741636746044115}\n",
      "{'cat-automobile': 48.381710812471354, 'cat-bird': 48.2876609690577, 'cat-cat': 42.29142084951588, 'cat-dog': 40.18212622492009}\n",
      "{'cat-automobile': 45.62314121927074, 'cat-bird': 40.53070449508405, 'cat-cat': 43.02379692253753, 'cat-dog': 39.323462745387545}\n",
      "{'cat-automobile': 42.10536588800101, 'cat-bird': 35.048124508196096, 'cat-cat': 37.63018942744585, 'cat-dog': 38.12574711333925}\n",
      "{'cat-automobile': 41.568341548741586, 'cat-bird': 35.402471419959696, 'cat-cat': 35.45466365188925, 'cat-dog': 35.95569124717028}\n",
      "{'cat-automobile': 38.19197939008011, 'cat-bird': 33.41800050104069, 'cat-cat': 32.43429213612352, 'cat-dog': 36.31005253023577}\n",
      "{'cat-automobile': 37.33955503624198, 'cat-bird': 37.2586101195968, 'cat-cat': 38.550310354467946, 'cat-dog': 37.74579416983563}\n",
      "{'cat-automobile': 46.14373906065953, 'cat-bird': 45.30392878168144, 'cat-cat': 42.3183839086116, 'cat-dog': 38.78100937947055}\n",
      "{'cat-automobile': 39.8146511004891, 'cat-bird': 39.60059163710342, 'cat-cat': 32.23436063284667, 'cat-dog': 34.64654012512044}\n",
      "{'cat-automobile': 43.7727987581729, 'cat-bird': 41.80011588045115, 'cat-cat': 43.11385269602724, 'cat-dog': 42.16408921857038}\n",
      "{'cat-automobile': 42.47055806297202, 'cat-bird': 43.5143503622631, 'cat-cat': 38.74869476499095, 'cat-dog': 40.92838679092558}\n",
      "{'cat-automobile': 40.784752363849556, 'cat-bird': 46.110280685506375, 'cat-cat': 37.108811897171115, 'cat-dog': 44.10661398059099}\n",
      "{'cat-automobile': 41.81352772211405, 'cat-bird': 35.67309310420391, 'cat-cat': 31.46353473926362, 'cat-dog': 33.08665529331653}\n",
      "{'cat-automobile': 40.06820056603218, 'cat-bird': 41.344354739974, 'cat-cat': 38.39455734308277, 'cat-dog': 36.64830842388835}\n",
      "{'cat-automobile': 38.318904980605154, 'cat-bird': 37.189623595388504, 'cat-cat': 36.12341543895721, 'cat-dog': 36.167465233688596}\n",
      "{'cat-automobile': 40.10113096086215, 'cat-bird': 38.05778970212202, 'cat-cat': 37.67066853370085, 'cat-dog': 36.525825285506784}\n",
      "{'cat-automobile': 44.42981010813561, 'cat-bird': 41.653469140073526, 'cat-cat': 36.255345326701445, 'cat-dog': 36.61741485189208}\n",
      "{'cat-automobile': 51.16784873446105, 'cat-bird': 46.360655109768565, 'cat-cat': 38.67713038417634, 'cat-dog': 39.97897613245848}\n",
      "{'cat-automobile': 46.32479018868723, 'cat-bird': 43.207013976908264, 'cat-cat': 37.73572849760919, 'cat-dog': 36.938478710191774}\n",
      "{'cat-automobile': 43.95565198772655, 'cat-bird': 45.0666185253652, 'cat-cat': 39.40863374833704, 'cat-dog': 38.708287488872486}\n",
      "{'cat-automobile': 45.782294035634706, 'cat-bird': 38.41056625114744, 'cat-cat': 36.98663482169399, 'cat-dog': 39.44810397434466}\n",
      "{'cat-automobile': 44.41237681419502, 'cat-bird': 39.624474906960266, 'cat-cat': 38.76044081425078, 'cat-dog': 38.352780506297535}\n",
      "{'cat-automobile': 40.93815733332761, 'cat-bird': 38.73674463604581, 'cat-cat': 38.870385810036616, 'cat-dog': 36.99875960966286}\n",
      "{'cat-automobile': 39.85272627253808, 'cat-bird': 41.03626284664932, 'cat-cat': 35.62014172616402, 'cat-dog': 34.79338657262226}\n",
      "{'cat-automobile': 42.57190193643878, 'cat-bird': 38.47599978669407, 'cat-cat': 32.96982934027835, 'cat-dog': 34.43482549510942}\n",
      "{'cat-automobile': 40.259747373013845, 'cat-bird': 42.308366102442925, 'cat-cat': 37.514533931210295, 'cat-dog': 39.26907764048565}\n",
      "{'cat-automobile': 47.06243810198827, 'cat-bird': 45.17466999864944, 'cat-cat': 35.82691435669435, 'cat-dog': 43.8877307640723}\n",
      "{'cat-automobile': 36.92723040722942, 'cat-bird': 35.73460439708501, 'cat-cat': 33.83058780519098, 'cat-dog': 36.089594444012135}\n",
      "{'cat-automobile': 41.49267844013075, 'cat-bird': 37.43559188608186, 'cat-cat': 34.50489332473759, 'cat-dog': 36.28851716474328}\n",
      "{'cat-automobile': 43.74043393937882, 'cat-bird': 38.435839320344364, 'cat-cat': 33.18921525519335, 'cat-dog': 34.13205542461137}\n",
      "{'cat-automobile': 43.147799223621156, 'cat-bird': 42.48996392408645, 'cat-cat': 36.192012288857846, 'cat-dog': 39.59712277952077}\n",
      "{'cat-automobile': 42.09822752180852, 'cat-bird': 38.43333548150502, 'cat-cat': 37.78536830177033, 'cat-dog': 37.117000430757805}\n",
      "{'cat-automobile': 37.05923776681229, 'cat-bird': 40.0094696846069, 'cat-cat': 38.67385354663802, 'cat-dog': 40.00407060897853}\n",
      "{'cat-automobile': 40.2911409384237, 'cat-bird': 38.571371519837626, 'cat-cat': 34.21729563016181, 'cat-dog': 37.085864267171814}\n",
      "{'cat-automobile': 45.903613628890994, 'cat-bird': 43.50726029363116, 'cat-cat': 39.223454307096475, 'cat-dog': 37.592106577737425}\n",
      "{'cat-automobile': 40.682307688348736, 'cat-bird': 36.429968012208754, 'cat-cat': 35.337689965213414, 'cat-dog': 35.21300482490386}\n",
      "{'cat-automobile': 41.32357251429086, 'cat-bird': 33.12729912728976, 'cat-cat': 33.24173747019314, 'cat-dog': 33.44453359463687}\n",
      "{'cat-automobile': 41.26259451833385, 'cat-bird': 40.070185314920465, 'cat-cat': 35.58102611571503, 'cat-dog': 37.784522980887715}\n",
      "{'cat-automobile': 39.11130293677887, 'cat-bird': 38.84549775890903, 'cat-cat': 37.64140081310081, 'cat-dog': 37.45625465262002}\n",
      "{'cat-automobile': 37.33828204095014, 'cat-bird': 37.41513538871566, 'cat-cat': 34.40034001987907, 'cat-dog': 38.88625106317473}\n",
      "{'cat-automobile': 50.388104200469996, 'cat-bird': 46.66849651798049, 'cat-cat': 46.68775778448933, 'cat-dog': 44.425581099953774}\n",
      "{'cat-automobile': 41.55423516195457, 'cat-bird': 36.80495557100924, 'cat-cat': 34.25667133701415, 'cat-dog': 33.9749389046099}\n",
      "{'cat-automobile': 40.47966449061401, 'cat-bird': 35.44607401115214, 'cat-cat': 22.439959429557984, 'cat-dog': 32.43104046012418}\n",
      "{'cat-automobile': 48.493938259549616, 'cat-bird': 41.844558136391655, 'cat-cat': 36.25325021833992, 'cat-dog': 38.21352836251521}\n",
      "{'cat-automobile': 39.01388439023266, 'cat-bird': 31.116330874980342, 'cat-cat': 30.686153319531503, 'cat-dog': 31.379017066754365}\n",
      "{'cat-automobile': 42.823066510660766, 'cat-bird': 41.267935917919594, 'cat-cat': 40.84802655718914, 'cat-dog': 41.62756579021703}\n",
      "{'cat-automobile': 36.956166665534894, 'cat-bird': 36.68055528005289, 'cat-cat': 37.22370874502904, 'cat-dog': 38.01291421740739}\n",
      "{'cat-automobile': 38.676256173800915, 'cat-bird': 33.60431669020602, 'cat-cat': 34.89627987988667, 'cat-dog': 36.42067947464697}\n",
      "{'cat-automobile': 39.913224389898396, 'cat-bird': 39.249745236732466, 'cat-cat': 37.32747995592907, 'cat-dog': 33.723047305161025}\n",
      "{'cat-automobile': 42.363654076222346, 'cat-bird': 34.28178560353577, 'cat-cat': 32.71384361212051, 'cat-dog': 32.828386373779985}\n",
      "{'cat-automobile': 42.34778170347436, 'cat-bird': 43.30013562487591, 'cat-cat': 41.74488648310553, 'cat-dog': 42.70186167944598}\n",
      "{'cat-automobile': 37.64052025089002, 'cat-bird': 32.25447859748834, 'cat-cat': 30.199744224598497, 'cat-dog': 33.78777406816475}\n",
      "{'cat-automobile': 39.7095840817029, 'cat-bird': 31.566276628813746, 'cat-cat': 28.82750462505324, 'cat-dog': 32.07643499869614}\n",
      "{'cat-automobile': 34.77750015751421, 'cat-bird': 39.58833544260786, 'cat-cat': 35.614172860288996, 'cat-dog': 36.36930672919484}\n",
      "{'cat-automobile': 38.73526345526639, 'cat-bird': 40.842238186342165, 'cat-cat': 40.17457392499052, 'cat-dog': 38.691300047701844}\n",
      "{'cat-automobile': 42.924590660855976, 'cat-bird': 30.279030775413123, 'cat-cat': 32.65025607561464, 'cat-dog': 32.41980792285364}\n",
      "{'cat-automobile': 43.86889964529009, 'cat-bird': 38.28294852958939, 'cat-cat': 31.786148632137337, 'cat-dog': 34.01316804211066}\n",
      "{'cat-automobile': 39.35253432441669, 'cat-bird': 42.03902719601354, 'cat-cat': 39.69118238307811, 'cat-dog': 39.93295824375022}\n",
      "{'cat-automobile': 41.677663052860865, 'cat-bird': 36.25465206029432, 'cat-cat': 36.002578358239084, 'cat-dog': 33.23058330234232}\n",
      "{'cat-automobile': 36.097734294757366, 'cat-bird': 35.09960513944417, 'cat-cat': 34.82163411119386, 'cat-dog': 35.57532879039583}\n",
      "{'cat-automobile': 39.33406186928883, 'cat-bird': 39.89797186062322, 'cat-cat': 34.8689610215117, 'cat-dog': 36.482125409446745}\n",
      "{'cat-automobile': 46.75203061433778, 'cat-bird': 41.80685785386911, 'cat-cat': 44.57736445309951, 'cat-dog': 47.404036179848994}\n",
      "{'cat-automobile': 32.31558763060335, 'cat-bird': 33.822161252708916, 'cat-cat': 29.414108945118254, 'cat-dog': 29.66323213591589}\n",
      "{'cat-automobile': 39.861585126598804, 'cat-bird': 39.46808021289492, 'cat-cat': 38.57507632428773, 'cat-dog': 39.73193118373102}\n",
      "{'cat-automobile': 39.70572542960625, 'cat-bird': 39.632489058358175, 'cat-cat': 39.26512255931773, 'cat-dog': 40.10095197173236}\n",
      "{'cat-automobile': 39.53197154269704, 'cat-bird': 33.28986495578316, 'cat-cat': 29.87469374305295, 'cat-dog': 33.59998308005307}\n",
      "{'cat-automobile': 42.62344156225088, 'cat-bird': 40.343006084998834, 'cat-cat': 37.67162816145849, 'cat-dog': 37.38539346506675}\n",
      "{'cat-automobile': 45.94089459871515, 'cat-bird': 43.15268545457817, 'cat-cat': 39.23963517150503, 'cat-dog': 37.05516690032565}\n",
      "{'cat-automobile': 36.63536473216011, 'cat-bird': 34.60315514948202, 'cat-cat': 30.623956229131107, 'cat-dog': 31.66300398170642}\n",
      "{'cat-automobile': 48.11026302407409, 'cat-bird': 40.091650912986246, 'cat-cat': 37.88198856298275, 'cat-dog': 35.838982937759475}\n",
      "{'cat-automobile': 41.0784265960984, 'cat-bird': 27.567621572834348, 'cat-cat': 30.322458996760655, 'cat-dog': 30.26407401015962}\n",
      "{'cat-automobile': 41.34013346995302, 'cat-bird': 40.0881834488698, 'cat-cat': 36.83535599888696, 'cat-dog': 39.43241692815986}\n",
      "{'cat-automobile': 39.89499339994137, 'cat-bird': 39.12795150829244, 'cat-cat': 39.08925381770863, 'cat-dog': 38.45162841851812}\n",
      "{'cat-automobile': 41.27168076593422, 'cat-bird': 39.16926190992193, 'cat-cat': 35.95237664688991, 'cat-dog': 36.28541704604353}\n",
      "{'cat-automobile': 41.23500505514821, 'cat-bird': 37.963870225909666, 'cat-cat': 32.790594023671815, 'cat-dog': 32.77582279706546}\n",
      "{'cat-automobile': 40.17859866038183, 'cat-bird': 39.5175272531686, 'cat-cat': 39.92944133270999, 'cat-dog': 39.60730460274013}\n",
      "{'cat-automobile': 42.43358463949705, 'cat-bird': 40.45630738333258, 'cat-cat': 38.83053097047485, 'cat-dog': 36.03136329491606}\n",
      "{'cat-automobile': 37.11791282984744, 'cat-bird': 33.949223300460886, 'cat-cat': 36.28453671460251, 'cat-dog': 35.942696832251094}\n",
      "{'cat-automobile': 42.857596734645114, 'cat-bird': 32.518583715976376, 'cat-cat': 32.10345501257464, 'cat-dog': 32.440352800115264}\n",
      "{'cat-automobile': 44.59203234271257, 'cat-bird': 36.36156865205832, 'cat-cat': 37.694217730891644, 'cat-dog': 39.760057665194644}\n",
      "{'cat-automobile': 42.316606454314126, 'cat-bird': 37.883486628611095, 'cat-cat': 32.40262795949279, 'cat-dog': 36.94651091758803}\n",
      "{'cat-automobile': 47.02548447055024, 'cat-bird': 42.195160893670995, 'cat-cat': 43.16973646363447, 'cat-dog': 42.42577653047719}\n",
      "{'cat-automobile': 46.08530635686074, 'cat-bird': 43.835919316708654, 'cat-cat': 42.41175245000946, 'cat-dog': 42.03937456523298}\n",
      "{'cat-automobile': 38.431164894494, 'cat-bird': 37.111615871933594, 'cat-cat': 34.97657908225968, 'cat-dog': 36.26753830354001}\n",
      "{'cat-automobile': 42.540690200159666, 'cat-bird': 36.47310712173012, 'cat-cat': 36.590290200530816, 'cat-dog': 34.53509967156347}\n",
      "{'cat-automobile': 47.3463356932552, 'cat-bird': 33.88714095529478, 'cat-cat': 40.34524346353063, 'cat-dog': 38.62041183517286}\n",
      "{'cat-automobile': 45.292353106121986, 'cat-bird': 35.28802377657422, 'cat-cat': 32.020375827485935, 'cat-dog': 31.046442263993082}\n",
      "{'cat-automobile': 42.59844162036397, 'cat-bird': 39.130213127945915, 'cat-cat': 38.87215488908166, 'cat-dog': 40.71549755139997}\n",
      "{'cat-automobile': 46.871687132753046, 'cat-bird': 41.229680431609495, 'cat-cat': 38.170635825395536, 'cat-dog': 37.93694356910216}\n",
      "{'cat-automobile': 39.02856301149434, 'cat-bird': 34.24656923857167, 'cat-cat': 29.62874270476018, 'cat-dog': 32.68635381221567}\n",
      "{'cat-automobile': 40.83741710131181, 'cat-bird': 35.41119243279542, 'cat-cat': 35.07978652890444, 'cat-dog': 34.16354249235896}\n",
      "{'cat-automobile': 46.05854183977209, 'cat-bird': 40.13278065787076, 'cat-cat': 36.14002143824759, 'cat-dog': 34.89490232887208}\n",
      "{'cat-automobile': 36.82688120380029, 'cat-bird': 38.45161378100824, 'cat-cat': 34.60419139964057, 'cat-dog': 32.83216791074849}\n",
      "{'cat-automobile': 35.38622168762856, 'cat-bird': 39.42646605980257, 'cat-cat': 36.41534639011103, 'cat-dog': 36.553473295621714}\n",
      "{'cat-automobile': 38.83099843190795, 'cat-bird': 34.90859379088046, 'cat-cat': 28.538025286901224, 'cat-dog': 31.299222859345242}\n",
      "{'cat-automobile': 42.69629135035152, 'cat-bird': 36.042554716948324, 'cat-cat': 35.372015893438636, 'cat-dog': 38.468808389324806}\n",
      "{'cat-automobile': 45.24351549556178, 'cat-bird': 40.75981559750237, 'cat-cat': 33.615173810772426, 'cat-dog': 37.34982790747121}\n",
      "{'cat-automobile': 39.602876444819856, 'cat-bird': 41.703276294317966, 'cat-cat': 37.336744687138015, 'cat-dog': 38.20751605909555}\n",
      "{'cat-automobile': 42.824796539409896, 'cat-bird': 43.62688594629631, 'cat-cat': 41.93171781505225, 'cat-dog': 40.93016984531919}\n",
      "{'cat-automobile': 45.5994491366194, 'cat-bird': 42.77908679006344, 'cat-cat': 39.922318713411364, 'cat-dog': 39.7020345849833}\n",
      "{'cat-automobile': 39.84915208234878, 'cat-bird': 47.90559668468006, 'cat-cat': 45.100944002609545, 'cat-dog': 45.25200151496853}\n",
      "{'cat-automobile': 48.48977728577966, 'cat-bird': 40.81217303871493, 'cat-cat': 36.80877450230686, 'cat-dog': 40.012416745932136}\n",
      "{'cat-automobile': 39.470425230340624, 'cat-bird': 35.146269006913236, 'cat-cat': 33.87758788913736, 'cat-dog': 32.031571637843435}\n",
      "{'cat-automobile': 43.476210650139734, 'cat-bird': 40.41174531669741, 'cat-cat': 38.508771934886276, 'cat-dog': 34.933003383699045}\n",
      "{'cat-automobile': 49.47538980538479, 'cat-bird': 44.95831488276566, 'cat-cat': 44.65933424095999, 'cat-dog': 43.04461023643157}\n",
      "{'cat-automobile': 39.52635682254678, 'cat-bird': 34.07838635437068, 'cat-cat': 32.977318719142986, 'cat-dog': 33.329234605415785}\n",
      "{'cat-automobile': 41.38530404359186, 'cat-bird': 36.837424990699084, 'cat-cat': 33.00685492633794, 'cat-dog': 36.87870248341717}\n",
      "{'cat-automobile': 41.822660512545134, 'cat-bird': 33.838812258342166, 'cat-cat': 31.529903482628633, 'cat-dog': 36.45109384912631}\n",
      "{'cat-automobile': 40.82135114220109, 'cat-bird': 36.03350033565011, 'cat-cat': 32.941802800733846, 'cat-dog': 38.25143974216894}\n",
      "{'cat-automobile': 39.33259174784586, 'cat-bird': 36.33076832726256, 'cat-cat': 31.851122476056272, 'cat-dog': 35.618308171057194}\n",
      "{'cat-automobile': 39.093646191225204, 'cat-bird': 33.85765670544314, 'cat-cat': 32.77006775626487, 'cat-dog': 33.89824916212315}\n",
      "{'cat-automobile': 46.07200597573747, 'cat-bird': 46.03197455054907, 'cat-cat': 43.303130230661516, 'cat-dog': 41.917780974447325}\n",
      "{'cat-automobile': 47.69795838861015, 'cat-bird': 37.44345696594244, 'cat-cat': 37.88623199036015, 'cat-dog': 35.50761497401076}\n",
      "{'cat-automobile': 37.61091677654922, 'cat-bird': 41.494116552514626, 'cat-cat': 35.40212026677601, 'cat-dog': 39.35809935578869}\n",
      "{'cat-automobile': 42.86686812584004, 'cat-bird': 38.63428383848814, 'cat-cat': 36.63472083084373, 'cat-dog': 34.48776560722294}\n",
      "{'cat-automobile': 39.52819742953288, 'cat-bird': 39.946505059968715, 'cat-cat': 33.70556901998461, 'cat-dog': 37.41674625646031}\n",
      "{'cat-automobile': 43.291657237025774, 'cat-bird': 38.3953941503748, 'cat-cat': 36.87898302822692, 'cat-dog': 38.212382147270496}\n",
      "{'cat-automobile': 45.59890288912649, 'cat-bird': 33.05143557440564, 'cat-cat': 34.657861871968315, 'cat-dog': 35.329178891058554}\n",
      "{'cat-automobile': 41.25968373092605, 'cat-bird': 37.90827511596006, 'cat-cat': 37.27134704111498, 'cat-dog': 37.01293686280661}\n",
      "{'cat-automobile': 41.14757311572248, 'cat-bird': 37.164616842867225, 'cat-cat': 39.44161848063317, 'cat-dog': 42.96589850568684}\n",
      "{'cat-automobile': 34.629568032510875, 'cat-bird': 35.669880693851965, 'cat-cat': 32.19246584601218, 'cat-dog': 34.38077828970364}\n",
      "{'cat-automobile': 41.38972352430943, 'cat-bird': 35.94378786805134, 'cat-cat': 32.82053965499648, 'cat-dog': 33.896199758954616}\n",
      "{'cat-automobile': 50.083130989238406, 'cat-bird': 45.61076828531694, 'cat-cat': 43.03018229629293, 'cat-dog': 41.106860676412715}\n",
      "{'cat-automobile': 45.035564450264914, 'cat-bird': 40.65515601852323, 'cat-cat': 43.55395631879822, 'cat-dog': 39.35852715647609}\n",
      "{'cat-automobile': 38.368091319857925, 'cat-bird': 35.87435901791904, 'cat-cat': 33.27767438605655, 'cat-dog': 36.530207753524195}\n",
      "{'cat-automobile': 39.403798446094235, 'cat-bird': 41.01967032691509, 'cat-cat': 35.39862855177304, 'cat-dog': 38.84357595457267}\n",
      "{'cat-automobile': 52.39935710787123, 'cat-bird': 45.60446951727714, 'cat-cat': 46.28241079845084, 'cat-dog': 47.69723161101434}\n",
      "{'cat-automobile': 44.131084294252815, 'cat-bird': 41.96334688707862, 'cat-cat': 40.13712227786516, 'cat-dog': 39.0561738166253}\n",
      "{'cat-automobile': 42.982558131809775, 'cat-bird': 38.073612264058866, 'cat-cat': 34.957551308169904, 'cat-dog': 35.69729120125721}\n",
      "{'cat-automobile': 51.306533256569566, 'cat-bird': 47.6951306128566, 'cat-cat': 45.894179273908335, 'cat-dog': 45.34356258309918}\n",
      "{'cat-automobile': 44.1226843659893, 'cat-bird': 42.43924646200297, 'cat-cat': 35.83685155992596, 'cat-dog': 35.650526247552776}\n",
      "{'cat-automobile': 43.82049073584055, 'cat-bird': 35.35085120503633, 'cat-cat': 32.633445979107044, 'cat-dog': 36.8049126159266}\n",
      "{'cat-automobile': 45.335236966037044, 'cat-bird': 40.58559560991296, 'cat-cat': 40.17957894460614, 'cat-dog': 41.115348244419835}\n",
      "{'cat-automobile': 45.55284312572071, 'cat-bird': 34.892241488140705, 'cat-cat': 33.91159480402175, 'cat-dog': 33.668708602035025}\n",
      "{'cat-automobile': 39.22846794864086, 'cat-bird': 37.837760353562686, 'cat-cat': 36.633544952993766, 'cat-dog': 34.358697784869356}\n",
      "{'cat-automobile': 44.934135188333755, 'cat-bird': 39.82199800792153, 'cat-cat': 35.841020050707996, 'cat-dog': 35.687232354196254}\n",
      "{'cat-automobile': 42.052153707813595, 'cat-bird': 38.572849727463996, 'cat-cat': 37.43057261086816, 'cat-dog': 36.411935119862896}\n",
      "{'cat-automobile': 38.077197180189216, 'cat-bird': 36.76357459006712, 'cat-cat': 29.687626974930676, 'cat-dog': 29.996036306764505}\n",
      "{'cat-automobile': 38.12542756698561, 'cat-bird': 36.37798021373639, 'cat-cat': 33.45912428062628, 'cat-dog': 34.80045511359985}\n",
      "{'cat-automobile': 42.34072420104504, 'cat-bird': 39.24234701050054, 'cat-cat': 35.002442527254836, 'cat-dog': 39.57057868719907}\n",
      "{'cat-automobile': 48.18695193280643, 'cat-bird': 43.71868058209619, 'cat-cat': 41.69536020993999, 'cat-dog': 42.1097286383242}\n",
      "{'cat-automobile': 45.12928730261651, 'cat-bird': 37.188826131007445, 'cat-cat': 29.551204427879213, 'cat-dog': 38.765149464329916}\n",
      "{'cat-automobile': 46.39442020626261, 'cat-bird': 42.94525072700545, 'cat-cat': 40.52859361890654, 'cat-dog': 38.5329374396996}\n",
      "{'cat-automobile': 47.0829063697036, 'cat-bird': 46.35542922988236, 'cat-cat': 38.526014868326705, 'cat-dog': 45.07199319026001}\n",
      "{'cat-automobile': 47.176439415217665, 'cat-bird': 43.27739343179432, 'cat-cat': 37.88871697144387, 'cat-dog': 38.24949241241628}\n",
      "{'cat-automobile': 40.97283539097583, 'cat-bird': 33.81832512067483, 'cat-cat': 35.14055976749397, 'cat-dog': 31.378366558578673}\n",
      "{'cat-automobile': 38.57441707606597, 'cat-bird': 36.97547904295977, 'cat-cat': 34.169129422079465, 'cat-dog': 34.89520104039543}\n",
      "{'cat-automobile': 40.34552590098111, 'cat-bird': 39.23709118845838, 'cat-cat': 38.210166080166196, 'cat-dog': 38.0619831617957}\n",
      "{'cat-automobile': 40.287683927180126, 'cat-bird': 43.03817157253051, 'cat-cat': 36.282015005043384, 'cat-dog': 38.58070509910134}\n",
      "{'cat-automobile': 46.68629256815918, 'cat-bird': 38.598818413860826, 'cat-cat': 35.63261818567299, 'cat-dog': 36.73164471612439}\n",
      "{'cat-automobile': 37.34250087200149, 'cat-bird': 36.453502089317304, 'cat-cat': 31.26993370216053, 'cat-dog': 34.942573149630924}\n",
      "{'cat-automobile': 42.2903097109214, 'cat-bird': 38.51639493219086, 'cat-cat': 34.65755591637864, 'cat-dog': 35.781696496768866}\n",
      "{'cat-automobile': 43.67651094578303, 'cat-bird': 43.04468548556241, 'cat-cat': 45.056227838572, 'cat-dog': 43.54485974610096}\n",
      "{'cat-automobile': 38.778885040080844, 'cat-bird': 38.08152147286357, 'cat-cat': 34.52276211437887, 'cat-dog': 41.585250853021996}\n",
      "{'cat-automobile': 43.57011373435096, 'cat-bird': 45.15767289847157, 'cat-cat': 37.85597166610989, 'cat-dog': 39.00097444599431}\n",
      "{'cat-automobile': 36.52339489424386, 'cat-bird': 34.56644946482034, 'cat-cat': 31.21864282560809, 'cat-dog': 31.6299926828497}\n",
      "{'cat-automobile': 40.01586285153986, 'cat-bird': 40.6573337990466, 'cat-cat': 37.3892984975868, 'cat-dog': 37.79596300981771}\n",
      "{'cat-automobile': 41.053764305237735, 'cat-bird': 42.09525175565386, 'cat-cat': 40.26506918964018, 'cat-dog': 40.12676895158165}\n",
      "{'cat-automobile': 44.29008581992991, 'cat-bird': 40.39671160655691, 'cat-cat': 39.152079083525436, 'cat-dog': 38.57812368701541}\n",
      "{'cat-automobile': 41.604528294468174, 'cat-bird': 34.03641094558516, 'cat-cat': 35.1696279615288, 'cat-dog': 35.10835663227925}\n",
      "{'cat-automobile': 39.9622766612268, 'cat-bird': 39.21266517918261, 'cat-cat': 36.18468182973516, 'cat-dog': 35.35705253753643}\n",
      "{'cat-automobile': 39.188919451228074, 'cat-bird': 41.816579393201366, 'cat-cat': 40.91472083741422, 'cat-dog': 41.94392168100043}\n",
      "{'cat-automobile': 41.52204507629755, 'cat-bird': 37.448615756558056, 'cat-cat': 35.107618738824364, 'cat-dog': 34.70849126395972}\n",
      "{'cat-automobile': 45.05215454709743, 'cat-bird': 42.39836679416138, 'cat-cat': 40.746196060066204, 'cat-dog': 43.4614614249582}\n",
      "{'cat-automobile': 44.967596510459174, 'cat-bird': 40.75857250796714, 'cat-cat': 36.78696328475883, 'cat-dog': 40.85756020950921}\n",
      "{'cat-automobile': 42.66702093619987, 'cat-bird': 34.33644185673732, 'cat-cat': 34.759519271137265, 'cat-dog': 34.636168009092586}\n",
      "{'cat-automobile': 47.629587219668046, 'cat-bird': 39.6320552827703, 'cat-cat': 37.84614998992163, 'cat-dog': 39.4447339164702}\n",
      "{'cat-automobile': 43.698446875161366, 'cat-bird': 41.06805031514498, 'cat-cat': 33.01719661636823, 'cat-dog': 35.563642727696205}\n",
      "{'cat-automobile': 41.282672008071636, 'cat-bird': 33.469520530717176, 'cat-cat': 31.51275916854797, 'cat-dog': 32.42231184418652}\n",
      "{'cat-automobile': 40.59971871777362, 'cat-bird': 33.82692207559822, 'cat-cat': 33.70555797539973, 'cat-dog': 34.56500298095162}\n",
      "{'cat-automobile': 39.73004003469238, 'cat-bird': 37.642889623436396, 'cat-cat': 33.406629014068166, 'cat-dog': 33.440962061186404}\n",
      "{'cat-automobile': 40.996338844147076, 'cat-bird': 31.461971363084626, 'cat-cat': 28.868298769955334, 'cat-dog': 30.396025693291005}\n",
      "{'cat-automobile': 40.52982396823281, 'cat-bird': 40.97119512026999, 'cat-cat': 37.26999189043769, 'cat-dog': 37.38780170288943}\n",
      "{'cat-automobile': 41.32131719325303, 'cat-bird': 39.584342891007076, 'cat-cat': 41.291014051543776, 'cat-dog': 41.916162640951654}\n",
      "{'cat-automobile': 31.9627876083911, 'cat-bird': 35.12841104760552, 'cat-cat': 32.491467463681, 'cat-dog': 34.933968832027524}\n",
      "{'cat-automobile': 39.73532690995736, 'cat-bird': 33.22593838245408, 'cat-cat': 32.48625547183247, 'cat-dog': 32.88458185374037}\n",
      "{'cat-automobile': 38.04210596661079, 'cat-bird': 35.31774049626076, 'cat-cat': 35.766666872142935, 'cat-dog': 35.62720787142114}\n",
      "{'cat-automobile': 41.57117321267254, 'cat-bird': 38.381507758750075, 'cat-cat': 35.07132241008204, 'cat-dog': 33.78918026316359}\n",
      "{'cat-automobile': 41.39922043959187, 'cat-bird': 38.00752797239016, 'cat-cat': 34.50599295225345, 'cat-dog': 34.453997619329705}\n",
      "{'cat-automobile': 39.61461066502033, 'cat-bird': 37.69363815512869, 'cat-cat': 36.18525037119965, 'cat-dog': 38.244457444465944}\n",
      "{'cat-automobile': 41.677029446353366, 'cat-bird': 43.50212813333733, 'cat-cat': 39.71987119805853, 'cat-dog': 39.141734226880594}\n",
      "{'cat-automobile': 41.2995251979484, 'cat-bird': 36.40495626628616, 'cat-cat': 31.278546726691054, 'cat-dog': 31.850795310022633}\n",
      "{'cat-automobile': 49.5146461441982, 'cat-bird': 40.82091055120755, 'cat-cat': 32.09956593805912, 'cat-dog': 35.50142407698566}\n",
      "{'cat-automobile': 43.26367788307941, 'cat-bird': 40.8416282808191, 'cat-cat': 30.98324430335441, 'cat-dog': 41.151416467229005}\n",
      "{'cat-automobile': 39.96375797260962, 'cat-bird': 36.034845039726726, 'cat-cat': 29.555027287071848, 'cat-dog': 30.144508994741688}\n",
      "{'cat-automobile': 39.514699805587355, 'cat-bird': 30.944691047071757, 'cat-cat': 31.097887822310074, 'cat-dog': 34.28629678260148}\n",
      "{'cat-automobile': 39.05945452733175, 'cat-bird': 31.6160983888315, 'cat-cat': 29.779636276431766, 'cat-dog': 31.981056026066263}\n",
      "{'cat-automobile': 40.7048268734754, 'cat-bird': 36.48881360107085, 'cat-cat': 33.28157874005839, 'cat-dog': 33.61122922586454}\n",
      "{'cat-automobile': 39.46208947799966, 'cat-bird': 39.366282748073225, 'cat-cat': 34.636894083775914, 'cat-dog': 34.28405023422748}\n",
      "{'cat-automobile': 40.70579976234752, 'cat-bird': 38.825752019585394, 'cat-cat': 34.92028476911216, 'cat-dog': 34.259704934075835}\n",
      "{'cat-automobile': 37.585474966636426, 'cat-bird': 39.73850292621214, 'cat-cat': 35.65915799439397, 'cat-dog': 41.604913436035424}\n",
      "{'cat-automobile': 42.57890192048254, 'cat-bird': 44.318821860344904, 'cat-cat': 39.94555213575006, 'cat-dog': 41.64124319057682}\n",
      "{'cat-automobile': 45.197236686907274, 'cat-bird': 41.42903462986431, 'cat-cat': 37.461240188313106, 'cat-dog': 38.152883374227656}\n",
      "{'cat-automobile': 38.695732165789614, 'cat-bird': 35.946244043904805, 'cat-cat': 34.139146863046946, 'cat-dog': 32.69064369592031}\n",
      "{'cat-automobile': 43.45639485789019, 'cat-bird': 36.00226581795094, 'cat-cat': 36.813080047864474, 'cat-dog': 34.73178697194022}\n",
      "{'cat-automobile': 44.47032109917761, 'cat-bird': 37.58375346065611, 'cat-cat': 35.67374458367062, 'cat-dog': 41.31735188982624}\n",
      "{'cat-automobile': 42.654230111103075, 'cat-bird': 37.153739625842604, 'cat-cat': 31.301758302706826, 'cat-dog': 34.92628165880761}\n",
      "{'cat-automobile': 44.51515286724746, 'cat-bird': 40.21337143990136, 'cat-cat': 37.79562087040038, 'cat-dog': 38.385927287735505}\n",
      "{'cat-automobile': 41.98696675365901, 'cat-bird': 35.064410157836704, 'cat-cat': 30.868230975389547, 'cat-dog': 31.155192911272465}\n",
      "{'cat-automobile': 41.057557662648534, 'cat-bird': 38.737458557697934, 'cat-cat': 37.62992347716092, 'cat-dog': 40.401125067217954}\n",
      "{'cat-automobile': 39.73030874149345, 'cat-bird': 38.84000776837643, 'cat-cat': 36.89173027496614, 'cat-dog': 38.12878880925232}\n",
      "{'cat-automobile': 40.72372854788691, 'cat-bird': 37.524614786022724, 'cat-cat': 36.89480706472189, 'cat-dog': 34.19920093352715}\n",
      "{'cat-automobile': 34.43356211447738, 'cat-bird': 31.96723633234853, 'cat-cat': 32.39672247117125, 'cat-dog': 30.498862486505693}\n",
      "{'cat-automobile': 42.22349987463585, 'cat-bird': 40.941631811971675, 'cat-cat': 34.224599768831894, 'cat-dog': 36.577743554497786}\n",
      "{'cat-automobile': 41.54219828258058, 'cat-bird': 34.172623860419215, 'cat-cat': 35.79224974501376, 'cat-dog': 36.08319098521723}\n",
      "{'cat-automobile': 36.65990783336609, 'cat-bird': 36.99661483690137, 'cat-cat': 31.21025553409634, 'cat-dog': 32.08600037284699}\n",
      "{'cat-automobile': 37.15523055280672, 'cat-bird': 38.49224127299399, 'cat-cat': 35.25923579668219, 'cat-dog': 37.20232168875018}\n",
      "{'cat-automobile': 40.60277059229927, 'cat-bird': 37.45906726869597, 'cat-cat': 31.970088580819095, 'cat-dog': 32.514048182293294}\n",
      "{'cat-automobile': 37.31764445821957, 'cat-bird': 37.11968245824162, 'cat-cat': 33.77666833753612, 'cat-dog': 33.512888494880094}\n",
      "{'cat-automobile': 48.08325912345043, 'cat-bird': 35.733525314629766, 'cat-cat': 31.958581269051425, 'cat-dog': 32.54137470353958}\n",
      "{'cat-automobile': 40.509136835902275, 'cat-bird': 38.71748774902057, 'cat-cat': 35.38292660512847, 'cat-dog': 35.55525413921158}\n",
      "{'cat-automobile': 38.6423548961745, 'cat-bird': 33.69398745751905, 'cat-cat': 34.63187109213364, 'cat-dog': 35.28252926387623}\n",
      "{'cat-automobile': 38.530274869947256, 'cat-bird': 39.09615576946077, 'cat-cat': 37.41331220781654, 'cat-dog': 39.889306689672104}\n",
      "{'cat-automobile': 41.084747943425675, 'cat-bird': 39.784284563371365, 'cat-cat': 35.86132845783807, 'cat-dog': 35.651545268317264}\n",
      "{'cat-automobile': 39.577083396736846, 'cat-bird': 38.238153964658636, 'cat-cat': 34.971026179019134, 'cat-dog': 34.0312218697484}\n",
      "{'cat-automobile': 47.29855962695394, 'cat-bird': 39.388278153968, 'cat-cat': 34.9571545206637, 'cat-dog': 36.03279210960134}\n",
      "{'cat-automobile': 50.3007845642769, 'cat-bird': 42.08742332017638, 'cat-cat': 40.96040501867937, 'cat-dog': 39.71804525446194}\n",
      "{'cat-automobile': 41.59978620022285, 'cat-bird': 34.49141436714717, 'cat-cat': 33.585872839143576, 'cat-dog': 35.55095651292067}\n",
      "{'cat-automobile': 41.391233801946704, 'cat-bird': 41.52899661052719, 'cat-cat': 34.68422723179134, 'cat-dog': 34.11797428866255}\n",
      "{'cat-automobile': 43.19200624209624, 'cat-bird': 41.30341982514215, 'cat-cat': 38.20436907503439, 'cat-dog': 40.092231055336185}\n",
      "{'cat-automobile': 39.12358540260604, 'cat-bird': 40.43413528936512, 'cat-cat': 38.950255905497045, 'cat-dog': 42.3508849164522}\n",
      "{'cat-automobile': 42.34448225605406, 'cat-bird': 39.55517822158532, 'cat-cat': 33.72646822714994, 'cat-dog': 37.820205567127026}\n",
      "{'cat-automobile': 38.258251755173276, 'cat-bird': 33.60642086737078, 'cat-cat': 30.719911169098552, 'cat-dog': 32.894755446234385}\n",
      "{'cat-automobile': 41.51484513211566, 'cat-bird': 40.70815525020742, 'cat-cat': 39.01802819553306, 'cat-dog': 39.30272105533664}\n",
      "{'cat-automobile': 40.39720581622427, 'cat-bird': 39.85006563303243, 'cat-cat': 34.29689081939169, 'cat-dog': 35.02997109085775}\n",
      "{'cat-automobile': 34.35038173884865, 'cat-bird': 36.65387590452475, 'cat-cat': 35.81722892638134, 'cat-dog': 33.91644638728755}\n",
      "{'cat-automobile': 44.93867427654368, 'cat-bird': 38.65288746097653, 'cat-cat': 35.47211612046909, 'cat-dog': 37.370532348918125}\n",
      "{'cat-automobile': 42.77496372499883, 'cat-bird': 30.9806487491518, 'cat-cat': 30.13067358528557, 'cat-dog': 28.904754589070837}\n",
      "{'cat-automobile': 44.145822719731775, 'cat-bird': 42.73466061943955, 'cat-cat': 40.299430342087994, 'cat-dog': 40.37658908059496}\n",
      "{'cat-automobile': 38.5808455759007, 'cat-bird': 37.84688072170046, 'cat-cat': 34.89143730472826, 'cat-dog': 38.20387910613226}\n",
      "{'cat-automobile': 42.44557601477858, 'cat-bird': 36.301848893021415, 'cat-cat': 32.508253104533935, 'cat-dog': 34.97968254597034}\n",
      "{'cat-automobile': 41.17289563635043, 'cat-bird': 39.76408246644967, 'cat-cat': 34.70936692568676, 'cat-dog': 34.07934635554104}\n",
      "{'cat-automobile': 39.41116022800673, 'cat-bird': 32.45113073007175, 'cat-cat': 28.61275692922681, 'cat-dog': 33.59550741383333}\n",
      "{'cat-automobile': 34.019207341686084, 'cat-bird': 34.327718461278714, 'cat-cat': 33.2027031747854, 'cat-dog': 33.57561352921638}\n",
      "{'cat-automobile': 42.88362656578404, 'cat-bird': 39.19513420761498, 'cat-cat': 33.832842369209025, 'cat-dog': 33.8150587945705}\n",
      "{'cat-automobile': 40.39687355277726, 'cat-bird': 38.554408963838455, 'cat-cat': 33.559903877358444, 'cat-dog': 36.49767284814763}\n",
      "{'cat-automobile': 45.25282863594703, 'cat-bird': 41.66639471501251, 'cat-cat': 39.345215237975125, 'cat-dog': 40.93797381935473}\n",
      "{'cat-automobile': 38.702090409550344, 'cat-bird': 34.94604520953629, 'cat-cat': 31.67517728781228, 'cat-dog': 31.232488314544966}\n",
      "{'cat-automobile': 49.46233075679996, 'cat-bird': 48.029976169158246, 'cat-cat': 45.41135128891121, 'cat-dog': 45.50031035411286}\n",
      "{'cat-automobile': 43.02474179550178, 'cat-bird': 37.52584184210356, 'cat-cat': 33.98776083846389, 'cat-dog': 33.91804643642501}\n",
      "{'cat-automobile': 40.82084584442062, 'cat-bird': 35.05169521261395, 'cat-cat': 30.919160192342545, 'cat-dog': 29.760996889911937}\n",
      "{'cat-automobile': 42.48671371005367, 'cat-bird': 35.879273796654964, 'cat-cat': 33.956215536865265, 'cat-dog': 39.32341583188541}\n",
      "{'cat-automobile': 40.23345900251013, 'cat-bird': 39.3242117840355, 'cat-cat': 34.267045658229904, 'cat-dog': 36.23043277597198}\n",
      "{'cat-automobile': 42.75146559380627, 'cat-bird': 37.24101540720093, 'cat-cat': 29.238853152414723, 'cat-dog': 40.68392325744222}\n",
      "{'cat-automobile': 39.97745114218332, 'cat-bird': 36.782453378739916, 'cat-cat': 36.430469870871015, 'cat-dog': 38.112073669087465}\n",
      "{'cat-automobile': 42.152213008947164, 'cat-bird': 38.18091120490152, 'cat-cat': 35.16714366602414, 'cat-dog': 39.500535320134595}\n",
      "{'cat-automobile': 43.2244581170173, 'cat-bird': 42.881219521719935, 'cat-cat': 40.13427090416418, 'cat-dog': 37.92436036571318}\n",
      "{'cat-automobile': 37.92514220457574, 'cat-bird': 36.97148998114029, 'cat-cat': 36.93111246269474, 'cat-dog': 35.53364384884922}\n",
      "{'cat-automobile': 43.70915815865425, 'cat-bird': 37.77893492434577, 'cat-cat': 36.09908670476209, 'cat-dog': 35.748510140443614}\n",
      "{'cat-automobile': 44.62209495493793, 'cat-bird': 34.382632441977556, 'cat-cat': 31.948255899059408, 'cat-dog': 33.48001225976357}\n",
      "{'cat-automobile': 40.53646859477336, 'cat-bird': 39.465855091480776, 'cat-cat': 39.45755070288875, 'cat-dog': 37.2926566887601}\n",
      "{'cat-automobile': 43.63255979997034, 'cat-bird': 36.05859514659544, 'cat-cat': 37.2806837156658, 'cat-dog': 37.996961966086545}\n",
      "{'cat-automobile': 41.4886403341987, 'cat-bird': 33.00097839419199, 'cat-cat': 30.178149776470146, 'cat-dog': 32.948224360786995}\n",
      "{'cat-automobile': 41.52061119251561, 'cat-bird': 41.754646335123645, 'cat-cat': 38.64864949905385, 'cat-dog': 37.77552822950534}\n",
      "{'cat-automobile': 46.786257387785604, 'cat-bird': 40.56070193242974, 'cat-cat': 41.39090736537478, 'cat-dog': 42.70855717728427}\n",
      "{'cat-automobile': 42.538370607232885, 'cat-bird': 39.99971519486605, 'cat-cat': 42.3524515134676, 'cat-dog': 43.59273340554611}\n",
      "{'cat-automobile': 43.82024257979011, 'cat-bird': 37.652308102833096, 'cat-cat': 34.48250951122154, 'cat-dog': 39.33478808172732}\n",
      "{'cat-automobile': 38.04910720707225, 'cat-bird': 34.20628299169603, 'cat-cat': 32.16166694978028, 'cat-dog': 31.29953602944187}\n",
      "{'cat-automobile': 44.70414672428082, 'cat-bird': 42.690323371647104, 'cat-cat': 41.01151104002558, 'cat-dog': 42.086442710967205}\n",
      "{'cat-automobile': 48.835044159139414, 'cat-bird': 51.54077895496654, 'cat-cat': 46.241831927804185, 'cat-dog': 47.655341224455086}\n",
      "{'cat-automobile': 44.98509715471485, 'cat-bird': 40.87702056457848, 'cat-cat': 36.84178547176782, 'cat-dog': 36.97674317895912}\n",
      "{'cat-automobile': 41.75763517706874, 'cat-bird': 39.19872173417446, 'cat-cat': 34.483777598477566, 'cat-dog': 35.047937760937714}\n",
      "{'cat-automobile': 38.10297467854836, 'cat-bird': 37.08067198321065, 'cat-cat': 33.13141278634477, 'cat-dog': 36.745312856471685}\n",
      "{'cat-automobile': 45.10091114224498, 'cat-bird': 40.50056328228457, 'cat-cat': 34.42991023489228, 'cat-dog': 34.497476061364516}\n",
      "{'cat-automobile': 40.270682633271626, 'cat-bird': 36.44057746676014, 'cat-cat': 33.36350655214169, 'cat-dog': 31.50927503272734}\n",
      "{'cat-automobile': 45.108789667622716, 'cat-bird': 45.67375833439161, 'cat-cat': 36.08746436596432, 'cat-dog': 44.685786168553}\n",
      "{'cat-automobile': 42.15920854945198, 'cat-bird': 40.49272452864856, 'cat-cat': 38.17035713263816, 'cat-dog': 37.99170750927273}\n",
      "{'cat-automobile': 43.24400394766862, 'cat-bird': 42.12575045269817, 'cat-cat': 38.244101430514164, 'cat-dog': 36.90542624960916}\n",
      "{'cat-automobile': 39.27392765949351, 'cat-bird': 38.517557914955646, 'cat-cat': 35.567140131669426, 'cat-dog': 35.29645796570804}\n",
      "{'cat-automobile': 48.204215121671716, 'cat-bird': 38.18997523161532, 'cat-cat': 35.847246553414806, 'cat-dog': 38.10902790923319}\n",
      "{'cat-automobile': 43.59346748293456, 'cat-bird': 41.32027262218181, 'cat-cat': 36.66616458454656, 'cat-dog': 38.04425653294225}\n",
      "{'cat-automobile': 45.97809429050146, 'cat-bird': 33.828960260458665, 'cat-cat': 35.17786540692256, 'cat-dog': 34.56967501511646}\n",
      "{'cat-automobile': 40.718332212450505, 'cat-bird': 36.237483803491685, 'cat-cat': 36.13198016737295, 'cat-dog': 38.701825600052885}\n",
      "{'cat-automobile': 40.27709143882285, 'cat-bird': 40.22958630217576, 'cat-cat': 36.50479794449657, 'cat-dog': 37.35043449441323}\n",
      "{'cat-automobile': 43.271251419455524, 'cat-bird': 42.68669786203664, 'cat-cat': 36.548575988332786, 'cat-dog': 38.15133757830647}\n",
      "{'cat-automobile': 38.972812799667324, 'cat-bird': 35.519711477896585, 'cat-cat': 18.594840298115155, 'cat-dog': 33.71232947459994}\n",
      "{'cat-automobile': 40.26307238404979, 'cat-bird': 40.36963425044454, 'cat-cat': 37.02732077218394, 'cat-dog': 36.82580722985932}\n",
      "{'cat-automobile': 45.606047556297, 'cat-bird': 41.46108713115459, 'cat-cat': 45.397980788939385, 'cat-dog': 45.387723861041735}\n",
      "{'cat-automobile': 46.42724911511154, 'cat-bird': 46.663320965380926, 'cat-cat': 44.3062213516836, 'cat-dog': 42.548918647140084}\n",
      "{'cat-automobile': 42.03896457196252, 'cat-bird': 35.94859224669527, 'cat-cat': 33.73465025440191, 'cat-dog': 32.87725411970728}\n",
      "{'cat-automobile': 45.003940123082614, 'cat-bird': 40.586059800333295, 'cat-cat': 38.74247888220582, 'cat-dog': 34.51694343724406}\n",
      "{'cat-automobile': 40.47080003399078, 'cat-bird': 34.55936758266021, 'cat-cat': 38.48195255257769, 'cat-dog': 35.25627260759174}\n",
      "{'cat-automobile': 44.881221128292424, 'cat-bird': 44.911666801364944, 'cat-cat': 44.60230192128863, 'cat-dog': 48.93817227682075}\n",
      "{'cat-automobile': 39.85692874954375, 'cat-bird': 44.18099831067278, 'cat-cat': 43.14773231683716, 'cat-dog': 45.487341430354405}\n",
      "{'cat-automobile': 42.24314452460809, 'cat-bird': 38.570410062877954, 'cat-cat': 39.61317339282621, 'cat-dog': 34.86176875472951}\n",
      "{'cat-automobile': 37.84308673004653, 'cat-bird': 35.23771352375018, 'cat-cat': 30.69776895399535, 'cat-dog': 34.794717384174}\n",
      "{'cat-automobile': 39.675995488932976, 'cat-bird': 37.759033077063286, 'cat-cat': 33.160692077618734, 'cat-dog': 33.522243462261024}\n",
      "{'cat-automobile': 45.64553640402038, 'cat-bird': 47.739286619106146, 'cat-cat': 43.557914797858565, 'cat-dog': 44.8819456663498}\n",
      "{'cat-automobile': 34.81909687153129, 'cat-bird': 34.92160601125319, 'cat-cat': 33.419077393199345, 'cat-dog': 33.37520362601917}\n",
      "{'cat-automobile': 39.270158658608324, 'cat-bird': 39.4635502235299, 'cat-cat': 36.45353137176902, 'cat-dog': 37.35403372381597}\n",
      "{'cat-automobile': 41.67347991047483, 'cat-bird': 31.79764810666817, 'cat-cat': 32.759968587026954, 'cat-dog': 33.780527810239796}\n",
      "{'cat-automobile': 45.84197961225697, 'cat-bird': 39.40862256388436, 'cat-cat': 39.13594357949871, 'cat-dog': 39.686676337171534}\n",
      "{'cat-automobile': 44.01333415145833, 'cat-bird': 37.60337633885144, 'cat-cat': 36.79586674116532, 'cat-dog': 38.626953038313935}\n",
      "{'cat-automobile': 38.28475444236831, 'cat-bird': 40.510531048000836, 'cat-cat': 38.7762223211586, 'cat-dog': 32.87789939184489}\n",
      "{'cat-automobile': 39.0779824751055, 'cat-bird': 40.94469930159795, 'cat-cat': 35.80042024563045, 'cat-dog': 35.9667680205409}\n",
      "{'cat-automobile': 36.85262594739008, 'cat-bird': 35.60516006566943, 'cat-cat': 31.431325362898722, 'cat-dog': 32.37859055542181}\n",
      "{'cat-automobile': 41.255797926115726, 'cat-bird': 37.17874214726561, 'cat-cat': 36.13992752229775, 'cat-dog': 37.6403224531135}\n",
      "{'cat-automobile': 42.049100921606765, 'cat-bird': 34.33938460758208, 'cat-cat': 32.17196736215459, 'cat-dog': 35.04519491393754}\n",
      "{'cat-automobile': 40.84010046941293, 'cat-bird': 37.10891183711672, 'cat-cat': 34.28556946688214, 'cat-dog': 34.346947196137066}\n",
      "{'cat-automobile': 36.69621280229159, 'cat-bird': 36.624073228778876, 'cat-cat': 33.276732335153675, 'cat-dog': 35.602934706021685}\n",
      "{'cat-automobile': 42.82874771938887, 'cat-bird': 40.12083047345223, 'cat-cat': 38.38199818242859, 'cat-dog': 39.58658202171465}\n",
      "{'cat-automobile': 41.32925755897699, 'cat-bird': 43.743943004014, 'cat-cat': 39.57163369298283, 'cat-dog': 37.83909031809864}\n",
      "{'cat-automobile': 37.39073073256138, 'cat-bird': 38.44875145595503, 'cat-cat': 33.374158841528086, 'cat-dog': 34.37152821069004}\n",
      "{'cat-automobile': 39.15906130964988, 'cat-bird': 41.149300516496545, 'cat-cat': 38.65082930024013, 'cat-dog': 37.996557251242336}\n",
      "{'cat-automobile': 42.51675515900392, 'cat-bird': 35.47770242437575, 'cat-cat': 34.49859176301801, 'cat-dog': 35.03687096976917}\n",
      "{'cat-automobile': 43.08731538753481, 'cat-bird': 43.31617368595227, 'cat-cat': 42.93235024083945, 'cat-dog': 44.06661869883216}\n",
      "{'cat-automobile': 38.75945304830251, 'cat-bird': 44.48179017269535, 'cat-cat': 42.108576269427985, 'cat-dog': 42.523804451090506}\n",
      "{'cat-automobile': 42.08534184203494, 'cat-bird': 40.91011948105152, 'cat-cat': 38.7428570951532, 'cat-dog': 36.266785281895345}\n",
      "{'cat-automobile': 45.13398541247675, 'cat-bird': 37.91668652717828, 'cat-cat': 36.84685019152847, 'cat-dog': 36.56657516281245}\n",
      "{'cat-automobile': 37.85676088393872, 'cat-bird': 32.82451754136308, 'cat-cat': 31.73217771046042, 'cat-dog': 30.668349994729454}\n",
      "{'cat-automobile': 38.84678683451716, 'cat-bird': 36.7901620911402, 'cat-cat': 35.103293707996094, 'cat-dog': 35.80439008102846}\n",
      "{'cat-automobile': 49.78374589864989, 'cat-bird': 51.16773087587723, 'cat-cat': 43.94466904901703, 'cat-dog': 47.40595506752372}\n",
      "{'cat-automobile': 42.84224131977985, 'cat-bird': 45.388526213237654, 'cat-cat': 46.108350601812276, 'cat-dog': 46.52915862259825}\n",
      "{'cat-automobile': 42.03144841148563, 'cat-bird': 37.03070145849039, 'cat-cat': 30.73573206251929, 'cat-dog': 33.606307331434536}\n",
      "{'cat-automobile': 37.08692523184397, 'cat-bird': 32.75191045189478, 'cat-cat': 31.859967021692835, 'cat-dog': 33.42917349659862}\n",
      "{'cat-automobile': 49.00447625025757, 'cat-bird': 44.58156834622664, 'cat-cat': 40.29535455373816, 'cat-dog': 43.673180878374964}\n",
      "{'cat-automobile': 40.762834670758956, 'cat-bird': 37.865259050559914, 'cat-cat': 33.55064071845905, 'cat-dog': 31.221208204962533}\n",
      "{'cat-automobile': 42.08216482189646, 'cat-bird': 40.42886572843811, 'cat-cat': 36.40282218028183, 'cat-dog': 33.8766409148848}\n",
      "{'cat-automobile': 39.75275485386061, 'cat-bird': 36.36986459763023, 'cat-cat': 33.77980618770342, 'cat-dog': 31.977976110201954}\n",
      "{'cat-automobile': 40.25041966783012, 'cat-bird': 38.029519817251476, 'cat-cat': 35.13112270429797, 'cat-dog': 32.819929388522006}\n",
      "{'cat-automobile': 35.89033724247217, 'cat-bird': 34.2220619046928, 'cat-cat': 35.0016307698499, 'cat-dog': 35.39822591027976}\n",
      "{'cat-automobile': 44.316055484531056, 'cat-bird': 43.724436234934196, 'cat-cat': 40.68046860375223, 'cat-dog': 42.26793072521923}\n",
      "{'cat-automobile': 40.924481243841214, 'cat-bird': 39.903444651836715, 'cat-cat': 34.388747741931404, 'cat-dog': 34.25509737958525}\n",
      "{'cat-automobile': 38.225708554218606, 'cat-bird': 34.91058044642094, 'cat-cat': 32.83418997577975, 'cat-dog': 30.657981175654374}\n",
      "{'cat-automobile': 41.65544125459711, 'cat-bird': 37.83477791223982, 'cat-cat': 35.88643800611615, 'cat-dog': 34.2761559654893}\n",
      "{'cat-automobile': 39.92837240310972, 'cat-bird': 38.665901390389294, 'cat-cat': 36.487137176705, 'cat-dog': 38.673053173936026}\n",
      "{'cat-automobile': 39.208094884149176, 'cat-bird': 35.264359860846184, 'cat-cat': 33.70108506484222, 'cat-dog': 36.31961604386203}\n",
      "{'cat-automobile': 42.67670185488659, 'cat-bird': 34.12287668883496, 'cat-cat': 35.029907475602776, 'cat-dog': 37.44288592349931}\n",
      "{'cat-automobile': 40.735404251155146, 'cat-bird': 35.09074280291469, 'cat-cat': 33.97717670985268, 'cat-dog': 33.829648150950334}\n",
      "{'cat-automobile': 43.36452188764613, 'cat-bird': 42.35179254141, 'cat-cat': 35.1406387486688, 'cat-dog': 33.26219197818496}\n",
      "{'cat-automobile': 41.60395787984387, 'cat-bird': 32.03717375224753, 'cat-cat': 28.904493690347355, 'cat-dog': 33.379977044482914}\n",
      "{'cat-automobile': 41.65091370439692, 'cat-bird': 35.32779213034161, 'cat-cat': 31.215685328313366, 'cat-dog': 32.40156668045415}\n",
      "{'cat-automobile': 41.02401720131001, 'cat-bird': 37.50032737444745, 'cat-cat': 33.721640983961265, 'cat-dog': 33.596314176982325}\n",
      "{'cat-automobile': 42.20753297905157, 'cat-bird': 36.28524263810387, 'cat-cat': 36.53603102201073, 'cat-dog': 35.6171005183538}\n",
      "{'cat-automobile': 45.55180797040688, 'cat-bird': 40.09688845496702, 'cat-cat': 35.06045753668963, 'cat-dog': 38.85880465856637}\n",
      "{'cat-automobile': 36.5125379316076, 'cat-bird': 36.32319938801329, 'cat-cat': 36.91101695823974, 'cat-dog': 39.656922968216264}\n",
      "{'cat-automobile': 32.75784863433518, 'cat-bird': 32.609102240763285, 'cat-cat': 31.228946406250632, 'cat-dog': 30.864130732474283}\n",
      "{'cat-automobile': 42.652255031943966, 'cat-bird': 39.77223547740598, 'cat-cat': 37.99072189649282, 'cat-dog': 38.84928390701069}\n",
      "{'cat-automobile': 42.13986897759234, 'cat-bird': 34.91105247756606, 'cat-cat': 34.262974120218246, 'cat-dog': 33.23499480529097}\n",
      "{'cat-automobile': 42.44533611653937, 'cat-bird': 43.088616424045206, 'cat-cat': 37.39969665099452, 'cat-dog': 36.04084627424518}\n",
      "{'cat-automobile': 41.01949688597168, 'cat-bird': 38.15598911768028, 'cat-cat': 34.73285019322477, 'cat-dog': 35.73513832220241}\n",
      "{'cat-automobile': 37.40083018398439, 'cat-bird': 38.912291093710465, 'cat-cat': 34.55528375971154, 'cat-dog': 35.06863079016156}\n",
      "{'cat-automobile': 38.07208856230643, 'cat-bird': 36.20516351469926, 'cat-cat': 34.03663277678801, 'cat-dog': 35.48876645253906}\n",
      "{'cat-automobile': 40.157662671264404, 'cat-bird': 39.541513851113095, 'cat-cat': 36.6983411772072, 'cat-dog': 39.61119120974065}\n",
      "{'cat-automobile': 42.247461856932524, 'cat-bird': 32.44710155633202, 'cat-cat': 33.109761406028305, 'cat-dog': 33.73981714450431}\n",
      "{'cat-automobile': 41.42376788858808, 'cat-bird': 36.17491131778867, 'cat-cat': 34.54003219853823, 'cat-dog': 33.38880693402618}\n",
      "{'cat-automobile': 42.38779587395403, 'cat-bird': 37.55400701842453, 'cat-cat': 35.81521351344751, 'cat-dog': 37.89318065078853}\n",
      "{'cat-automobile': 42.68566091392866, 'cat-bird': 37.18062173719117, 'cat-cat': 36.34410136649251, 'cat-dog': 34.5122325105424}\n",
      "{'cat-automobile': 41.49083578731551, 'cat-bird': 40.43780243581891, 'cat-cat': 41.67105517041587, 'cat-dog': 40.57459544346443}\n",
      "{'cat-automobile': 40.96791202176608, 'cat-bird': 38.1245198098872, 'cat-cat': 35.495857849973476, 'cat-dog': 32.93799366841394}\n",
      "{'cat-automobile': 36.54384000364542, 'cat-bird': 41.931838246135875, 'cat-cat': 40.915822180601396, 'cat-dog': 44.213397908571366}\n",
      "{'cat-automobile': 45.72031594356828, 'cat-bird': 47.73913042124305, 'cat-cat': 42.876008739542925, 'cat-dog': 46.30236682095889}\n",
      "{'cat-automobile': 38.134463433136006, 'cat-bird': 33.71868343329705, 'cat-cat': 30.768187924031057, 'cat-dog': 30.692532781788138}\n",
      "{'cat-automobile': 41.78752841295745, 'cat-bird': 42.79725057306671, 'cat-cat': 41.67490442824645, 'cat-dog': 42.85059001369593}\n",
      "{'cat-automobile': 39.04237104550755, 'cat-bird': 37.426219115440006, 'cat-cat': 35.5198220264301, 'cat-dog': 36.44212136294147}\n",
      "{'cat-automobile': 43.499741595216946, 'cat-bird': 39.07951146877079, 'cat-cat': 37.058121025220075, 'cat-dog': 38.064539564434654}\n",
      "{'cat-automobile': 38.33101658733248, 'cat-bird': 37.075760387376896, 'cat-cat': 32.99699510186858, 'cat-dog': 33.60126740058894}\n",
      "{'cat-automobile': 39.373136671739225, 'cat-bird': 35.15086158140537, 'cat-cat': 35.889891267557836, 'cat-dog': 39.58690439123324}\n",
      "{'cat-automobile': 45.25826883689698, 'cat-bird': 46.45654628018176, 'cat-cat': 43.8269913005707, 'cat-dog': 44.41407920576982}\n",
      "{'cat-automobile': 45.60906803840182, 'cat-bird': 42.590303127550236, 'cat-cat': 41.77399268431332, 'cat-dog': 41.231953195749384}\n",
      "{'cat-automobile': 43.762745793891284, 'cat-bird': 37.85286171659492, 'cat-cat': 38.14633278358589, 'cat-dog': 39.84990120453229}\n",
      "{'cat-automobile': 42.42597608521075, 'cat-bird': 39.642229845908204, 'cat-cat': 36.68593565657528, 'cat-dog': 36.24681279386795}\n",
      "{'cat-automobile': 34.27005466386911, 'cat-bird': 37.54320481077682, 'cat-cat': 33.76646792993303, 'cat-dog': 35.63228592872808}\n",
      "{'cat-automobile': 43.558413751218126, 'cat-bird': 39.52096309327625, 'cat-cat': 37.69494065115722, 'cat-dog': 38.43326785909577}\n",
      "{'cat-automobile': 46.29253176212172, 'cat-bird': 41.162361856991915, 'cat-cat': 41.71797469744611, 'cat-dog': 40.01834279960796}\n",
      "{'cat-automobile': 47.65424971094337, 'cat-bird': 38.35928480140952, 'cat-cat': 36.93339310596979, 'cat-dog': 38.30335856756301}\n",
      "{'cat-automobile': 44.1572795582109, 'cat-bird': 39.45435979797147, 'cat-cat': 34.42155264299525, 'cat-dog': 41.223515707996576}\n",
      "{'cat-automobile': 40.36901766295583, 'cat-bird': 35.89066613112697, 'cat-cat': 35.08564153713153, 'cat-dog': 35.17792070237119}\n",
      "{'cat-automobile': 38.16156101785153, 'cat-bird': 36.15520528697037, 'cat-cat': 35.3267653144588, 'cat-dog': 33.594733055827135}\n",
      "{'cat-automobile': 43.35926055328782, 'cat-bird': 42.10166927075682, 'cat-cat': 39.00244342216381, 'cat-dog': 41.22625782693601}\n",
      "{'cat-automobile': 41.72248511050653, 'cat-bird': 34.74067947146083, 'cat-cat': 33.45161498643787, 'cat-dog': 35.19778889973868}\n",
      "{'cat-automobile': 39.91248039909698, 'cat-bird': 40.807756398516084, 'cat-cat': 37.08625674010305, 'cat-dog': 37.840420619241776}\n",
      "{'cat-automobile': 38.391657766497055, 'cat-bird': 34.52363238544019, 'cat-cat': 33.33536409796094, 'cat-dog': 33.92722272615183}\n",
      "{'cat-automobile': 45.77453018624504, 'cat-bird': 48.057754858057166, 'cat-cat': 44.80631776746568, 'cat-dog': 45.40207357089256}\n",
      "{'cat-automobile': 41.765100950192725, 'cat-bird': 40.31424547707064, 'cat-cat': 38.42693651864795, 'cat-dog': 36.93358391215961}\n",
      "{'cat-automobile': 40.70206418565338, 'cat-bird': 40.20549495275384, 'cat-cat': 40.467215512244664, 'cat-dog': 42.66620781930373}\n",
      "{'cat-automobile': 37.207231443745556, 'cat-bird': 34.29978175856857, 'cat-cat': 32.398885234992534, 'cat-dog': 32.65120366300072}\n",
      "{'cat-automobile': 45.77924863139104, 'cat-bird': 41.947280133100016, 'cat-cat': 36.028076855306324, 'cat-dog': 37.995296113140924}\n",
      "{'cat-automobile': 38.09778503840542, 'cat-bird': 34.95605224872145, 'cat-cat': 31.475424359334973, 'cat-dog': 33.74732509544348}\n",
      "{'cat-automobile': 49.65740495071763, 'cat-bird': 43.17630822667314, 'cat-cat': 44.60853257750148, 'cat-dog': 44.11633927763358}\n",
      "{'cat-automobile': 42.83704367736245, 'cat-bird': 40.447719128438585, 'cat-cat': 35.7937528064056, 'cat-dog': 37.59333999875967}\n",
      "{'cat-automobile': 37.77573610039829, 'cat-bird': 38.999058936722584, 'cat-cat': 33.45632393721778, 'cat-dog': 37.19773534532085}\n",
      "{'cat-automobile': 37.6821814589547, 'cat-bird': 35.81743815561006, 'cat-cat': 35.55256562152596, 'cat-dog': 35.436849452898144}\n",
      "{'cat-automobile': 37.59832204781894, 'cat-bird': 35.50647532450882, 'cat-cat': 33.15790217336816, 'cat-dog': 36.54555160602353}\n",
      "{'cat-automobile': 38.68568268598344, 'cat-bird': 35.209074493662726, 'cat-cat': 31.91385945927055, 'cat-dog': 30.64569135183989}\n",
      "{'cat-automobile': 39.29531978066555, 'cat-bird': 41.37470182402117, 'cat-cat': 41.422651917499486, 'cat-dog': 43.298913344267554}\n",
      "{'cat-automobile': 40.56675563815292, 'cat-bird': 38.60638722414736, 'cat-cat': 36.228557547271414, 'cat-dog': 35.941215041562074}\n",
      "{'cat-automobile': 50.87842440180089, 'cat-bird': 43.73478852389954, 'cat-cat': 45.19958385362404, 'cat-dog': 44.723248453586926}\n",
      "{'cat-automobile': 39.27327055303359, 'cat-bird': 35.98491612811487, 'cat-cat': 31.644782963478146, 'cat-dog': 31.899965714525788}\n",
      "{'cat-automobile': 37.14417580867079, 'cat-bird': 35.82877537086276, 'cat-cat': 30.38277808732019, 'cat-dog': 33.696434629349596}\n",
      "{'cat-automobile': 41.69957949291663, 'cat-bird': 39.3888818199027, 'cat-cat': 38.7502299254154, 'cat-dog': 37.216785676322544}\n",
      "{'cat-automobile': 44.74711862125671, 'cat-bird': 46.34603658069008, 'cat-cat': 39.81111132805138, 'cat-dog': 43.40672249317783}\n",
      "{'cat-automobile': 43.17655817107923, 'cat-bird': 40.36924993775601, 'cat-cat': 33.970170207001374, 'cat-dog': 35.79369682653259}\n",
      "{'cat-automobile': 42.66996748095444, 'cat-bird': 41.31596183688774, 'cat-cat': 39.31022878680812, 'cat-dog': 40.518389434587135}\n",
      "{'cat-automobile': 41.08964987696546, 'cat-bird': 36.296931647249444, 'cat-cat': 31.990348566750075, 'cat-dog': 33.05976314815242}\n",
      "{'cat-automobile': 39.827507649186046, 'cat-bird': 39.767830097043436, 'cat-cat': 39.44172493598531, 'cat-dog': 41.6615510716664}\n",
      "{'cat-automobile': 36.30020071451384, 'cat-bird': 35.04621789035036, 'cat-cat': 34.443408619485616, 'cat-dog': 40.16600429727839}\n",
      "{'cat-automobile': 46.32835179462397, 'cat-bird': 40.55619918681447, 'cat-cat': 36.363405672153704, 'cat-dog': 37.245891107293716}\n",
      "{'cat-automobile': 39.750361242032106, 'cat-bird': 37.93535274480877, 'cat-cat': 36.224865665995665, 'cat-dog': 37.86060228642102}\n",
      "{'cat-automobile': 48.941202749012646, 'cat-bird': 42.937130747681856, 'cat-cat': 45.05580105870676, 'cat-dog': 45.70884235003349}\n",
      "{'cat-automobile': 35.32291762208639, 'cat-bird': 37.84330834207201, 'cat-cat': 33.66675232223592, 'cat-dog': 35.014168609418874}\n",
      "{'cat-automobile': 41.31933407046344, 'cat-bird': 38.621848292264836, 'cat-cat': 38.58816158956933, 'cat-dog': 40.08563885904082}\n",
      "{'cat-automobile': 39.089689260583995, 'cat-bird': 40.07026998622213, 'cat-cat': 39.856144061630054, 'cat-dog': 38.87826025495976}\n",
      "{'cat-automobile': 41.1162046293158, 'cat-bird': 34.229978101503086, 'cat-cat': 33.895299046989244, 'cat-dog': 35.93473718797566}\n",
      "{'cat-automobile': 40.06531387851183, 'cat-bird': 36.890499442046945, 'cat-cat': 33.74715959518474, 'cat-dog': 33.646765071855775}\n",
      "{'cat-automobile': 42.18034336350421, 'cat-bird': 38.324641021018934, 'cat-cat': 34.69253335674413, 'cat-dog': 32.37199476963721}\n",
      "{'cat-automobile': 40.141961047985475, 'cat-bird': 37.77657647548761, 'cat-cat': 34.51733275009612, 'cat-dog': 37.04952100707035}\n",
      "{'cat-automobile': 41.23742666986269, 'cat-bird': 39.5699751938408, 'cat-cat': 37.656928639375, 'cat-dog': 37.322137872484475}\n",
      "{'cat-automobile': 42.11663334109005, 'cat-bird': 41.4188192711455, 'cat-cat': 35.78082593205764, 'cat-dog': 37.436266512172686}\n",
      "{'cat-automobile': 37.330246515681395, 'cat-bird': 41.06319347428997, 'cat-cat': 36.156796481022454, 'cat-dog': 35.06422914768432}\n",
      "{'cat-automobile': 41.66986634058153, 'cat-bird': 36.9266381129338, 'cat-cat': 31.684098396658552, 'cat-dog': 32.10622743982093}\n",
      "{'cat-automobile': 42.98366802775075, 'cat-bird': 41.982765311294216, 'cat-cat': 40.751414404338576, 'cat-dog': 38.178712904474786}\n",
      "{'cat-automobile': 38.677413520065784, 'cat-bird': 38.08457250094282, 'cat-cat': 35.47132021777912, 'cat-dog': 36.37821737828915}\n",
      "{'cat-automobile': 39.06008414992396, 'cat-bird': 37.47576217138811, 'cat-cat': 34.72380831780656, 'cat-dog': 36.48041233076417}\n",
      "{'cat-automobile': 46.29903670098619, 'cat-bird': 43.95518781822803, 'cat-cat': 41.25998276014329, 'cat-dog': 46.632757872482166}\n",
      "{'cat-automobile': 41.50521570987956, 'cat-bird': 34.19044091848957, 'cat-cat': 32.486272070729385, 'cat-dog': 32.08386192437442}\n",
      "{'cat-automobile': 42.82933290994781, 'cat-bird': 35.85641650102775, 'cat-cat': 37.00493892695131, 'cat-dog': 35.546008794720386}\n",
      "{'cat-automobile': 42.22405732199454, 'cat-bird': 41.85064514306897, 'cat-cat': 43.08810052613336, 'cat-dog': 41.50768067621151}\n",
      "{'cat-automobile': 42.759806731734535, 'cat-bird': 38.00674501185611, 'cat-cat': 29.936263323410394, 'cat-dog': 38.54220219760782}\n",
      "{'cat-automobile': 37.874026018058174, 'cat-bird': 35.576630979182575, 'cat-cat': 34.814970314661096, 'cat-dog': 35.59837778680754}\n",
      "{'cat-automobile': 46.82373349313896, 'cat-bird': 39.723291995255074, 'cat-cat': 34.46132497837465, 'cat-dog': 36.78776231467267}\n",
      "{'cat-automobile': 39.881595682470824, 'cat-bird': 33.94938947092832, 'cat-cat': 35.94954800761381, 'cat-dog': 36.33053298782097}\n",
      "{'cat-automobile': 44.069768966531115, 'cat-bird': 36.96479653612452, 'cat-cat': 34.586474966260894, 'cat-dog': 35.204964520711584}\n",
      "{'cat-automobile': 39.692379981813694, 'cat-bird': 34.991316157714564, 'cat-cat': 33.0485459806134, 'cat-dog': 34.207480324487726}\n",
      "{'cat-automobile': 42.02159787294253, 'cat-bird': 33.5228624858042, 'cat-cat': 28.447807469980777, 'cat-dog': 29.259032738507518}\n",
      "{'cat-automobile': 42.13847207116832, 'cat-bird': 36.0850133906703, 'cat-cat': 36.61137855836951, 'cat-dog': 35.256372803033905}\n",
      "{'cat-automobile': 41.75964169311461, 'cat-bird': 40.252758297271185, 'cat-cat': 33.253331091151416, 'cat-dog': 36.04109032325533}\n",
      "{'cat-automobile': 42.394298328399344, 'cat-bird': 43.22859801353185, 'cat-cat': 39.980088065276576, 'cat-dog': 40.40369427869076}\n",
      "{'cat-automobile': 41.598723758828726, 'cat-bird': 38.490714257577395, 'cat-cat': 34.31401332494733, 'cat-dog': 31.801983063389137}\n",
      "{'cat-automobile': 42.460573101723824, 'cat-bird': 36.32134925799791, 'cat-cat': 34.159555847577934, 'cat-dog': 34.905976461427976}\n",
      "{'cat-automobile': 36.461019548568245, 'cat-bird': 34.84024082698955, 'cat-cat': 34.88536973195497, 'cat-dog': 34.3797582349094}\n",
      "{'cat-automobile': 44.24130212587723, 'cat-bird': 37.36143940593079, 'cat-cat': 39.54116435168382, 'cat-dog': 34.96179741765326}\n",
      "{'cat-automobile': 41.96683540322066, 'cat-bird': 35.63095505071876, 'cat-cat': 35.054746090843786, 'cat-dog': 37.048502282362726}\n",
      "{'cat-automobile': 37.0479331661026, 'cat-bird': 33.96133319687704, 'cat-cat': 32.261146351119166, 'cat-dog': 35.53374062864033}\n",
      "{'cat-automobile': 42.39513145944044, 'cat-bird': 38.31641950960011, 'cat-cat': 44.26450486602403, 'cat-dog': 43.965714492365784}\n",
      "{'cat-automobile': 42.50158217028094, 'cat-bird': 49.63393595248118, 'cat-cat': 43.62282987210859, 'cat-dog': 42.37796709673024}\n",
      "{'cat-automobile': 41.72910206053774, 'cat-bird': 37.0680526089307, 'cat-cat': 37.093731880921695, 'cat-dog': 35.226055181575994}\n",
      "{'cat-automobile': 37.84209309676298, 'cat-bird': 28.667799552914232, 'cat-cat': 28.478081966707535, 'cat-dog': 29.100069440247136}\n",
      "{'cat-automobile': 40.08403542693502, 'cat-bird': 37.027155644728225, 'cat-cat': 37.186043436487886, 'cat-dog': 38.553767696238545}\n",
      "{'cat-automobile': 45.323062030387824, 'cat-bird': 37.48519945100125, 'cat-cat': 29.0866185325453, 'cat-dog': 37.14334721482565}\n",
      "{'cat-automobile': 36.67285353206384, 'cat-bird': 38.670258927102886, 'cat-cat': 33.365814399978134, 'cat-dog': 35.977112048681384}\n",
      "{'cat-automobile': 40.630280211220885, 'cat-bird': 40.32162761059048, 'cat-cat': 36.47590235420464, 'cat-dog': 39.93903616638712}\n",
      "{'cat-automobile': 39.426755813272436, 'cat-bird': 37.42325495472236, 'cat-cat': 35.25703507374071, 'cat-dog': 34.72172029246221}\n",
      "{'cat-automobile': 40.99724467959605, 'cat-bird': 37.6701828666206, 'cat-cat': 37.338930424958335, 'cat-dog': 37.56492149276197}\n",
      "{'cat-automobile': 40.892690817562, 'cat-bird': 28.478838087979394, 'cat-cat': 29.18293599887435, 'cat-dog': 30.508808771356193}\n",
      "{'cat-automobile': 38.49592311844797, 'cat-bird': 34.83457567850659, 'cat-cat': 32.69782989300471, 'cat-dog': 33.20942408025775}\n",
      "{'cat-automobile': 40.657071784275125, 'cat-bird': 39.83566232734834, 'cat-cat': 37.68820884692403, 'cat-dog': 40.40811709754054}\n",
      "{'cat-automobile': 39.703035289001605, 'cat-bird': 38.475698777532415, 'cat-cat': 34.84821137762692, 'cat-dog': 37.45360970146343}\n",
      "{'cat-automobile': 41.04311564825709, 'cat-bird': 35.05555055438207, 'cat-cat': 34.71385614539173, 'cat-dog': 31.03697608368759}\n",
      "{'cat-automobile': 42.95123759597654, 'cat-bird': 42.73684680628719, 'cat-cat': 39.700612212825746, 'cat-dog': 37.93405257077534}\n",
      "{'cat-automobile': 37.803835026197056, 'cat-bird': 42.75886856747326, 'cat-cat': 39.91843822776622, 'cat-dog': 38.30866977161333}\n",
      "{'cat-automobile': 40.61871938543721, 'cat-bird': 38.43687890706122, 'cat-cat': 36.3532461745255, 'cat-dog': 37.24845355299775}\n",
      "{'cat-automobile': 40.36642944367429, 'cat-bird': 39.58501310380158, 'cat-cat': 36.73957483922117, 'cat-dog': 38.397468795089615}\n",
      "{'cat-automobile': 37.27406865552142, 'cat-bird': 36.05807336527445, 'cat-cat': 35.8912869808437, 'cat-dog': 34.89079473137566}\n",
      "{'cat-automobile': 41.230752687067955, 'cat-bird': 40.077097568687094, 'cat-cat': 39.63130939464385, 'cat-dog': 37.63527867593521}\n",
      "{'cat-automobile': 40.996692538034544, 'cat-bird': 43.47928424716823, 'cat-cat': 40.03310678090826, 'cat-dog': 38.438439317713225}\n",
      "{'cat-automobile': 37.6698803634159, 'cat-bird': 34.79695890676227, 'cat-cat': 29.32335528034301, 'cat-dog': 29.193490725916988}\n",
      "{'cat-automobile': 44.58366646123559, 'cat-bird': 40.06120180219611, 'cat-cat': 36.889413774877134, 'cat-dog': 36.75015588349638}\n",
      "{'cat-automobile': 40.83416606088918, 'cat-bird': 33.76058626477793, 'cat-cat': 30.235219473504166, 'cat-dog': 34.18861636762423}\n",
      "{'cat-automobile': 37.8698003331197, 'cat-bird': 39.45331263629635, 'cat-cat': 38.48022398229184, 'cat-dog': 36.33654536025291}\n",
      "{'cat-automobile': 39.12503822756448, 'cat-bird': 34.82075367813623, 'cat-cat': 29.945705141084126, 'cat-dog': 30.429608785046824}\n",
      "{'cat-automobile': 39.963730924128875, 'cat-bird': 43.87710535613346, 'cat-cat': 38.52067197095553, 'cat-dog': 40.44000116396903}\n",
      "{'cat-automobile': 41.910716171977455, 'cat-bird': 38.12883092746537, 'cat-cat': 32.14269207493974, 'cat-dog': 34.75767234848039}\n",
      "{'cat-automobile': 40.82171857479644, 'cat-bird': 36.84910407884085, 'cat-cat': 32.14842666278585, 'cat-dog': 38.93976179984379}\n",
      "{'cat-automobile': 36.99559918333033, 'cat-bird': 35.59394984983628, 'cat-cat': 35.15655873143746, 'cat-dog': 37.285863184896535}\n",
      "{'cat-automobile': 40.696221560666, 'cat-bird': 34.87230109422494, 'cat-cat': 37.429183848704916, 'cat-dog': 39.25838077472221}\n",
      "{'cat-automobile': 41.486383008792764, 'cat-bird': 36.97188129939209, 'cat-cat': 32.99175123320302, 'cat-dog': 32.966388173932636}\n",
      "{'cat-automobile': 39.08597558590946, 'cat-bird': 35.38527409036604, 'cat-cat': 29.169527858684035, 'cat-dog': 29.145444005567576}\n",
      "{'cat-automobile': 38.51678524958256, 'cat-bird': 35.87512285373468, 'cat-cat': 34.04397524356558, 'cat-dog': 37.517198283737144}\n",
      "{'cat-automobile': 44.11655834077818, 'cat-bird': 38.04167952609761, 'cat-cat': 38.106428155527155, 'cat-dog': 38.51762098947591}\n",
      "{'cat-automobile': 35.93204964569436, 'cat-bird': 41.87812333729384, 'cat-cat': 37.53802174136751, 'cat-dog': 40.85631592767097}\n",
      "{'cat-automobile': 36.5935358035366, 'cat-bird': 34.48018828725641, 'cat-cat': 35.93738628238153, 'cat-dog': 35.323575009120766}\n",
      "{'cat-automobile': 34.33590117543941, 'cat-bird': 33.819718929286715, 'cat-cat': 32.134108603157735, 'cat-dog': 35.40982382521136}\n",
      "{'cat-automobile': 44.547141775234316, 'cat-bird': 35.78522071672741, 'cat-cat': 33.42875046796756, 'cat-dog': 35.773268618521406}\n",
      "{'cat-automobile': 44.18435070510066, 'cat-bird': 36.00267075960971, 'cat-cat': 36.45464025013377, 'cat-dog': 36.47035400475753}\n",
      "{'cat-automobile': 48.49593654569792, 'cat-bird': 43.00937063452317, 'cat-cat': 38.98905832522278, 'cat-dog': 37.931948811924094}\n",
      "{'cat-automobile': 33.97590955486407, 'cat-bird': 37.16069639323863, 'cat-cat': 31.73181806701908, 'cat-dog': 32.278918633049294}\n",
      "{'cat-automobile': 39.446260424169694, 'cat-bird': 37.53992118791789, 'cat-cat': 37.42332664059599, 'cat-dog': 35.59241055855466}\n",
      "{'cat-automobile': 46.430187256149175, 'cat-bird': 41.241717826840315, 'cat-cat': 41.19928745033548, 'cat-dog': 40.414310879274076}\n",
      "{'cat-automobile': 36.843063217526044, 'cat-bird': 36.946524153471486, 'cat-cat': 35.09540246395882, 'cat-dog': 35.925140947473395}\n",
      "{'cat-automobile': 38.718819867872526, 'cat-bird': 39.143331814645094, 'cat-cat': 30.616455396186538, 'cat-dog': 34.44842973980138}\n",
      "{'cat-automobile': 39.149183358055545, 'cat-bird': 40.27780837347259, 'cat-cat': 40.87092115805347, 'cat-dog': 36.31847526032982}\n",
      "{'cat-automobile': 40.42473403155954, 'cat-bird': 38.34085684337467, 'cat-cat': 35.507098128901035, 'cat-dog': 35.32815201716818}\n",
      "{'cat-automobile': 40.91852927782133, 'cat-bird': 37.62517092828054, 'cat-cat': 38.99602487759202, 'cat-dog': 39.66361391183677}\n",
      "{'cat-automobile': 39.21305144991775, 'cat-bird': 37.32362800503325, 'cat-cat': 34.418911209499726, 'cat-dog': 33.79029353750993}\n",
      "{'cat-automobile': 44.38841429055031, 'cat-bird': 42.13870233783632, 'cat-cat': 41.56575263103369, 'cat-dog': 45.221625755393994}\n",
      "{'cat-automobile': 40.81256380210199, 'cat-bird': 33.589006433487896, 'cat-cat': 30.24375391452489, 'cat-dog': 32.45978784903312}\n",
      "{'cat-automobile': 45.995726677928026, 'cat-bird': 45.7462205071059, 'cat-cat': 42.84061020507176, 'cat-dog': 42.60950683664125}\n",
      "{'cat-automobile': 49.733317328208116, 'cat-bird': 45.571739606387986, 'cat-cat': 42.551188501669536, 'cat-dog': 40.77306338866827}\n",
      "{'cat-automobile': 39.96424975934557, 'cat-bird': 34.90972478689102, 'cat-cat': 34.76147000864389, 'cat-dog': 32.0970945752234}\n",
      "{'cat-automobile': 44.40171624437792, 'cat-bird': 44.577542001233304, 'cat-cat': 41.119252968485675, 'cat-dog': 42.71525229566017}\n",
      "{'cat-automobile': 39.13128410882548, 'cat-bird': 37.307785616096886, 'cat-cat': 34.1429834208986, 'cat-dog': 37.52495537277048}\n",
      "{'cat-automobile': 40.33906269819021, 'cat-bird': 39.50157059678228, 'cat-cat': 39.88929495839003, 'cat-dog': 40.61441087568478}\n",
      "{'cat-automobile': 43.68840825654906, 'cat-bird': 36.441123508314135, 'cat-cat': 36.33270720683501, 'cat-dog': 42.84911776429913}\n",
      "{'cat-automobile': 42.73401192622375, 'cat-bird': 40.62515611455604, 'cat-cat': 31.61085262939953, 'cat-dog': 38.96205892163289}\n",
      "{'cat-automobile': 43.501576299625796, 'cat-bird': 46.823439937852186, 'cat-cat': 45.0053292116592, 'cat-dog': 46.86424598048377}\n",
      "{'cat-automobile': 41.84081858651665, 'cat-bird': 35.01266990110969, 'cat-cat': 38.34110068436471, 'cat-dog': 37.02108720990835}\n",
      "{'cat-automobile': 41.966035802561045, 'cat-bird': 38.88177272136566, 'cat-cat': 36.5474333104926, 'cat-dog': 34.594871258065844}\n",
      "{'cat-automobile': 40.53684203516265, 'cat-bird': 40.18031607493856, 'cat-cat': 39.16652405289555, 'cat-dog': 39.59396244193857}\n",
      "{'cat-automobile': 34.02862205076822, 'cat-bird': 36.35128832154272, 'cat-cat': 36.01462531577792, 'cat-dog': 38.993921338614726}\n",
      "{'cat-automobile': 42.255294047952404, 'cat-bird': 35.42682668816201, 'cat-cat': 31.361315110521, 'cat-dog': 35.831464258181185}\n",
      "{'cat-automobile': 50.42460232745217, 'cat-bird': 43.26761108203996, 'cat-cat': 44.42215529490313, 'cat-dog': 46.38010668628942}\n",
      "{'cat-automobile': 39.43985938742388, 'cat-bird': 35.193631633249, 'cat-cat': 32.32506340037609, 'cat-dog': 33.932136091767696}\n",
      "{'cat-automobile': 42.164403278118264, 'cat-bird': 33.67026733378495, 'cat-cat': 33.86708337612955, 'cat-dog': 32.930764165804085}\n",
      "{'cat-automobile': 39.176016684496, 'cat-bird': 34.8407492891448, 'cat-cat': 30.78996687050268, 'cat-dog': 31.281400423411718}\n",
      "{'cat-automobile': 40.4463558570945, 'cat-bird': 37.21805067194478, 'cat-cat': 37.318701629876536, 'cat-dog': 34.017386380382845}\n",
      "{'cat-automobile': 35.343022834469814, 'cat-bird': 34.5624772535632, 'cat-cat': 34.42690551740138, 'cat-dog': 37.595886632515075}\n",
      "{'cat-automobile': 41.31665316081258, 'cat-bird': 39.27649970949894, 'cat-cat': 36.68057048146348, 'cat-dog': 37.67265634752724}\n",
      "{'cat-automobile': 40.14764032472969, 'cat-bird': 35.214585469214015, 'cat-cat': 33.362839860372006, 'cat-dog': 37.10276348220275}\n",
      "{'cat-automobile': 40.55534287658581, 'cat-bird': 36.51448578345892, 'cat-cat': 35.45270362613257, 'cat-dog': 35.66503893016692}\n",
      "{'cat-automobile': 38.21759372888087, 'cat-bird': 34.084181905789364, 'cat-cat': 33.34293313567958, 'cat-dog': 36.56655879446893}\n",
      "{'cat-automobile': 45.399939324927196, 'cat-bird': 34.78686147071525, 'cat-cat': 35.986301767418134, 'cat-dog': 35.300970417959135}\n",
      "{'cat-automobile': 40.90695661850113, 'cat-bird': 41.50935865723894, 'cat-cat': 38.08652592840742, 'cat-dog': 39.54293214595688}\n",
      "{'cat-automobile': 45.044372309777806, 'cat-bird': 38.95256954364495, 'cat-cat': 38.074433618145015, 'cat-dog': 35.8355188022456}\n",
      "{'cat-automobile': 38.90597159206489, 'cat-bird': 36.74179738867022, 'cat-cat': 31.09949378189763, 'cat-dog': 31.83762677998467}\n",
      "{'cat-automobile': 47.07346487522029, 'cat-bird': 41.400636048852974, 'cat-cat': 36.18499796298355, 'cat-dog': 33.27726703434019}\n",
      "{'cat-automobile': 36.62193598629229, 'cat-bird': 31.837966967360757, 'cat-cat': 29.557085395319667, 'cat-dog': 30.30533654015708}\n",
      "{'cat-automobile': 40.488994229368615, 'cat-bird': 32.34010266405292, 'cat-cat': 30.27964986265726, 'cat-dog': 31.72344053641163}\n",
      "{'cat-automobile': 40.91862872037178, 'cat-bird': 35.37948940511296, 'cat-cat': 34.17855304763762, 'cat-dog': 36.35706683218394}\n",
      "{'cat-automobile': 38.114544681824626, 'cat-bird': 33.310073761945844, 'cat-cat': 31.01012316350437, 'cat-dog': 32.164617652146276}\n",
      "{'cat-automobile': 40.08618147722504, 'cat-bird': 36.17424306905105, 'cat-cat': 33.0718776847858, 'cat-dog': 36.15034850666595}\n",
      "{'cat-automobile': 44.219916990791035, 'cat-bird': 42.010351445965604, 'cat-cat': 38.28666618062966, 'cat-dog': 39.98750341013758}\n",
      "{'cat-automobile': 41.44992558287005, 'cat-bird': 42.261015145589354, 'cat-cat': 40.08232248509717, 'cat-dog': 40.37432092261959}\n",
      "{'cat-automobile': 39.155134586278486, 'cat-bird': 37.202287812438065, 'cat-cat': 34.22657043265918, 'cat-dog': 34.71310891707822}\n",
      "{'cat-automobile': 43.017078256739445, 'cat-bird': 38.178588996408365, 'cat-cat': 36.470196279914276, 'cat-dog': 32.5342426143049}\n",
      "{'cat-automobile': 46.12427804831864, 'cat-bird': 42.928159066209936, 'cat-cat': 40.41135671006596, 'cat-dog': 40.72249741266512}\n",
      "{'cat-automobile': 38.4083906930125, 'cat-bird': 34.683475921718355, 'cat-cat': 33.56971972905541, 'cat-dog': 31.309262663120506}\n",
      "{'cat-automobile': 44.75244587814612, 'cat-bird': 42.586013444386325, 'cat-cat': 43.44198512477559, 'cat-dog': 41.87946550291958}\n",
      "{'cat-automobile': 42.406037260800765, 'cat-bird': 42.69838477984751, 'cat-cat': 40.04060951499424, 'cat-dog': 38.806647258345315}\n",
      "{'cat-automobile': 45.61656136272001, 'cat-bird': 36.75912924977026, 'cat-cat': 36.02717309693006, 'cat-dog': 36.14000038355866}\n",
      "{'cat-automobile': 42.24435716662787, 'cat-bird': 39.87325423772767, 'cat-cat': 41.174785296127695, 'cat-dog': 39.614047719147834}\n",
      "{'cat-automobile': 45.46594294844635, 'cat-bird': 38.417402118771086, 'cat-cat': 38.81296781057261, 'cat-dog': 38.180534601778376}\n",
      "{'cat-automobile': 46.85112038765005, 'cat-bird': 43.76160176606338, 'cat-cat': 39.37630437530681, 'cat-dog': 39.102380353477315}\n",
      "{'cat-automobile': 40.198858237150844, 'cat-bird': 38.096918509543954, 'cat-cat': 36.265686975848595, 'cat-dog': 36.8985790781556}\n",
      "{'cat-automobile': 39.7542418642391, 'cat-bird': 36.10864014608934, 'cat-cat': 34.35747375660911, 'cat-dog': 36.69863573693194}\n",
      "{'cat-automobile': 42.26133760780807, 'cat-bird': 37.88632017020222, 'cat-cat': 37.27388533263212, 'cat-dog': 38.398519832547514}\n",
      "{'cat-automobile': 41.35517143614386, 'cat-bird': 44.43670519423428, 'cat-cat': 41.19387074435834, 'cat-dog': 41.293478671549146}\n",
      "{'cat-automobile': 45.88583055555881, 'cat-bird': 42.36790430240764, 'cat-cat': 34.029362277353286, 'cat-dog': 38.54291283319925}\n",
      "{'cat-automobile': 40.26598470696586, 'cat-bird': 42.57000272129097, 'cat-cat': 40.35182217631524, 'cat-dog': 41.49951445997288}\n",
      "{'cat-automobile': 38.18035129413695, 'cat-bird': 38.58638529799534, 'cat-cat': 31.08689216181445, 'cat-dog': 29.033708675114266}\n",
      "{'cat-automobile': 41.76900207134667, 'cat-bird': 40.349993167801856, 'cat-cat': 36.712629222647486, 'cat-dog': 38.978424008550014}\n",
      "{'cat-automobile': 42.5484229076119, 'cat-bird': 39.24029138703306, 'cat-cat': 39.43476928919556, 'cat-dog': 36.56556064229027}\n",
      "{'cat-automobile': 43.009715035732235, 'cat-bird': 39.27484011929475, 'cat-cat': 35.99375795034414, 'cat-dog': 38.04057965816682}\n",
      "{'cat-automobile': 39.64446481536871, 'cat-bird': 34.60499008356398, 'cat-cat': 33.06555187672588, 'cat-dog': 35.905195868150734}\n",
      "{'cat-automobile': 37.26562511528271, 'cat-bird': 43.730531763859894, 'cat-cat': 37.979102136757426, 'cat-dog': 40.87146027101968}\n",
      "{'cat-automobile': 36.804118573370836, 'cat-bird': 34.558961535563846, 'cat-cat': 29.564780220798713, 'cat-dog': 30.547302703236536}\n",
      "{'cat-automobile': 41.53516102599382, 'cat-bird': 36.01917736366377, 'cat-cat': 35.57729666876476, 'cat-dog': 37.675591925596365}\n",
      "{'cat-automobile': 44.6925458088438, 'cat-bird': 44.640394738454965, 'cat-cat': 44.97742428517683, 'cat-dog': 43.34764875791968}\n",
      "{'cat-automobile': 47.434318178931214, 'cat-bird': 38.02711773359715, 'cat-cat': 39.96790174180156, 'cat-dog': 39.13007325729128}\n",
      "{'cat-automobile': 39.57708687528579, 'cat-bird': 31.77828759810682, 'cat-cat': 29.515581683160015, 'cat-dog': 35.52670574594262}\n",
      "{'cat-automobile': 42.703616608327636, 'cat-bird': 37.78711686503412, 'cat-cat': 34.459509961519565, 'cat-dog': 35.355166695228476}\n",
      "{'cat-automobile': 38.17635223426289, 'cat-bird': 38.48511285215863, 'cat-cat': 37.889549156752686, 'cat-dog': 38.084606487720336}\n",
      "{'cat-automobile': 39.32823756982228, 'cat-bird': 35.29171253587598, 'cat-cat': 32.61458474720505, 'cat-dog': 32.08851615886428}\n",
      "{'cat-automobile': 45.92263719371517, 'cat-bird': 40.379534314382575, 'cat-cat': 36.30456088963583, 'cat-dog': 34.93337783484858}\n",
      "{'cat-automobile': 38.55531950427246, 'cat-bird': 35.39151718892357, 'cat-cat': 36.85826055446955, 'cat-dog': 41.028130425335085}\n",
      "{'cat-automobile': 40.24070562015693, 'cat-bird': 37.60626792004564, 'cat-cat': 37.592285926192496, 'cat-dog': 40.79935422913925}\n",
      "{'cat-automobile': 36.4601204997695, 'cat-bird': 29.792569979838376, 'cat-cat': 30.56859081690233, 'cat-dog': 28.046494154039976}\n",
      "{'cat-automobile': 40.214207882093, 'cat-bird': 36.856292318220774, 'cat-cat': 36.65275181750276, 'cat-dog': 37.34736786978058}\n",
      "{'cat-automobile': 44.11259444657613, 'cat-bird': 37.18113298677394, 'cat-cat': 34.88900901208423, 'cat-dog': 38.7508532393476}\n",
      "{'cat-automobile': 44.12200825694658, 'cat-bird': 37.39593721768966, 'cat-cat': 38.961048324243244, 'cat-dog': 39.59701817580391}\n",
      "{'cat-automobile': 37.317868629902215, 'cat-bird': 34.61331816638915, 'cat-cat': 32.213008805301264, 'cat-dog': 34.35939019212065}\n",
      "{'cat-automobile': 40.842474778608825, 'cat-bird': 37.948641989075696, 'cat-cat': 40.37185150500755, 'cat-dog': 41.12515675162987}\n",
      "{'cat-automobile': 40.79452226540337, 'cat-bird': 37.00009088506899, 'cat-cat': 32.143235588908176, 'cat-dog': 34.997215290897444}\n",
      "{'cat-automobile': 37.48517771586619, 'cat-bird': 34.00178233923336, 'cat-cat': 31.11516999638793, 'cat-dog': 31.45257293999114}\n",
      "{'cat-automobile': 47.55912555046714, 'cat-bird': 42.657231274249575, 'cat-cat': 42.663282315561666, 'cat-dog': 45.492991685125624}\n",
      "{'cat-automobile': 35.589323789004425, 'cat-bird': 37.44464795920114, 'cat-cat': 32.379194529573304, 'cat-dog': 32.75838030436028}\n",
      "{'cat-automobile': 42.59908092325112, 'cat-bird': 34.91279353171904, 'cat-cat': 33.86437174970448, 'cat-dog': 33.938976353487725}\n",
      "{'cat-automobile': 42.7222174456549, 'cat-bird': 37.5113519622164, 'cat-cat': 36.996774167556524, 'cat-dog': 35.22475085991971}\n",
      "{'cat-automobile': 43.43683109400085, 'cat-bird': 43.16168486203638, 'cat-cat': 42.32161090616681, 'cat-dog': 42.06663043138497}\n",
      "{'cat-automobile': 40.10327348660923, 'cat-bird': 36.40098226721004, 'cat-cat': 33.233344554746424, 'cat-dog': 32.39148037313272}\n",
      "{'cat-automobile': 38.287381572420934, 'cat-bird': 31.466988915760243, 'cat-cat': 32.702570790632365, 'cat-dog': 33.29806433891706}\n",
      "{'cat-automobile': 48.37957586043983, 'cat-bird': 38.46798642605368, 'cat-cat': 40.737251411198876, 'cat-dog': 41.621158218880765}\n",
      "{'cat-automobile': 40.879539013602184, 'cat-bird': 41.16963423236288, 'cat-cat': 39.499879745436175, 'cat-dog': 38.218779814920985}\n",
      "{'cat-automobile': 39.87973139563506, 'cat-bird': 37.35264398940062, 'cat-cat': 33.54778844908347, 'cat-dog': 35.682352331285244}\n",
      "{'cat-automobile': 45.53638965683901, 'cat-bird': 46.37482002470746, 'cat-cat': 43.04826392404242, 'cat-dog': 41.88769511479706}\n",
      "{'cat-automobile': 43.465407970903556, 'cat-bird': 40.601318367364364, 'cat-cat': 36.66403796571228, 'cat-dog': 39.02733813818605}\n",
      "{'cat-automobile': 42.80240647053317, 'cat-bird': 41.07181880815219, 'cat-cat': 38.450546124279775, 'cat-dog': 34.23888998419061}\n",
      "{'cat-automobile': 38.92240545237194, 'cat-bird': 38.9169341460693, 'cat-cat': 38.31752762689619, 'cat-dog': 40.449458631663205}\n",
      "{'cat-automobile': 43.301437323282144, 'cat-bird': 36.31978731905376, 'cat-cat': 35.604691910115655, 'cat-dog': 34.48572195521308}\n",
      "{'cat-automobile': 46.98178714041431, 'cat-bird': 40.786061789602996, 'cat-cat': 41.38552484887854, 'cat-dog': 44.30843906442823}\n",
      "{'cat-automobile': 44.12791849636637, 'cat-bird': 39.29443242143281, 'cat-cat': 31.478414005839223, 'cat-dog': 34.741623825154}\n",
      "{'cat-automobile': 38.28527497340646, 'cat-bird': 34.1700444071829, 'cat-cat': 30.081610658010327, 'cat-dog': 36.77597305781312}\n",
      "{'cat-automobile': 44.1173506062829, 'cat-bird': 41.202589168388066, 'cat-cat': 36.37157114725643, 'cat-dog': 37.21213957515481}\n",
      "{'cat-automobile': 47.290040120836565, 'cat-bird': 46.02899646853947, 'cat-cat': 47.31444333008725, 'cat-dog': 52.220748096743066}\n",
      "{'cat-automobile': 39.60515315002183, 'cat-bird': 38.19380890135915, 'cat-cat': 32.62697277712834, 'cat-dog': 39.33754199431399}\n",
      "{'cat-automobile': 45.75390276491807, 'cat-bird': 46.35630973231347, 'cat-cat': 43.13621609017206, 'cat-dog': 42.53879221562192}\n",
      "{'cat-automobile': 43.091426381361735, 'cat-bird': 33.64220845264077, 'cat-cat': 29.97315420922485, 'cat-dog': 34.68912236565162}\n",
      "{'cat-automobile': 38.162281503923325, 'cat-bird': 36.61527999651296, 'cat-cat': 32.95505034609856, 'cat-dog': 33.19475852602303}\n",
      "{'cat-automobile': 47.238204257469185, 'cat-bird': 35.249094635652995, 'cat-cat': 36.50328099482876, 'cat-dog': 40.08011572124452}\n",
      "{'cat-automobile': 36.412410734365984, 'cat-bird': 34.88695010285094, 'cat-cat': 34.44090663583759, 'cat-dog': 32.94363570073051}\n",
      "{'cat-automobile': 47.50268412011919, 'cat-bird': 37.17516674707273, 'cat-cat': 33.18582911540372, 'cat-dog': 34.7739046472727}\n",
      "{'cat-automobile': 50.54992014813667, 'cat-bird': 47.108835658007905, 'cat-cat': 43.98915317841483, 'cat-dog': 42.19225770591119}\n",
      "{'cat-automobile': 45.70525556802609, 'cat-bird': 37.02306464741921, 'cat-cat': 36.115072471149055, 'cat-dog': 32.53529208432807}\n",
      "{'cat-automobile': 49.24820141370631, 'cat-bird': 48.52972857388742, 'cat-cat': 44.938392989668735, 'cat-dog': 52.76772610018086}\n",
      "{'cat-automobile': 44.415577671934784, 'cat-bird': 36.421042646243826, 'cat-cat': 36.17894720133933, 'cat-dog': 39.495645649985065}\n",
      "{'cat-automobile': 45.55994785620784, 'cat-bird': 41.06660487951625, 'cat-cat': 39.463439505047894, 'cat-dog': 40.08066428220979}\n",
      "{'cat-automobile': 44.73110006111341, 'cat-bird': 40.094379375882866, 'cat-cat': 36.07667020021538, 'cat-dog': 36.13497750240346}\n",
      "{'cat-automobile': 40.11073309596998, 'cat-bird': 34.543062775094185, 'cat-cat': 33.68575584483916, 'cat-dog': 32.186984460610084}\n",
      "{'cat-automobile': 43.63153224141906, 'cat-bird': 41.52490111493835, 'cat-cat': 38.37128047535215, 'cat-dog': 33.971592548670664}\n",
      "{'cat-automobile': 38.17086468034773, 'cat-bird': 36.9284724642006, 'cat-cat': 29.935520946930136, 'cat-dog': 34.56227887332092}\n",
      "{'cat-automobile': 39.19497115334432, 'cat-bird': 35.13551443423117, 'cat-cat': 31.053913487596436, 'cat-dog': 32.39221377037851}\n",
      "{'cat-automobile': 41.5596735682058, 'cat-bird': 34.58511099681191, 'cat-cat': 34.86621606140889, 'cat-dog': 38.02673249430568}\n",
      "{'cat-automobile': 39.76938047949279, 'cat-bird': 37.481164761382665, 'cat-cat': 36.439910041139576, 'cat-dog': 37.86246834707054}\n",
      "{'cat-automobile': 49.25046235315724, 'cat-bird': 45.526453711219176, 'cat-cat': 42.29814574151303, 'cat-dog': 38.372002634962605}\n",
      "{'cat-automobile': 41.71015728997274, 'cat-bird': 34.593172408624206, 'cat-cat': 25.441974918252104, 'cat-dog': 30.481318162524712}\n",
      "{'cat-automobile': 42.5791820734035, 'cat-bird': 48.24042098823259, 'cat-cat': 45.52831593487038, 'cat-dog': 47.473374440976144}\n",
      "{'cat-automobile': 44.08144257146785, 'cat-bird': 43.850403749518605, 'cat-cat': 36.690293121405844, 'cat-dog': 39.54481615750014}\n",
      "{'cat-automobile': 42.82361451252415, 'cat-bird': 42.95415082062649, 'cat-cat': 39.00440582794628, 'cat-dog': 41.7026483418449}\n",
      "{'cat-automobile': 41.89553719248603, 'cat-bird': 43.21765597451943, 'cat-cat': 39.70386931353677, 'cat-dog': 39.05940175664748}\n",
      "{'cat-automobile': 40.92897133432424, 'cat-bird': 41.80469518295673, 'cat-cat': 40.571918723909576, 'cat-dog': 39.8195383669207}\n",
      "{'cat-automobile': 41.671937451085576, 'cat-bird': 41.962323333950884, 'cat-cat': 39.209744976283005, 'cat-dog': 39.0500126354026}\n",
      "{'cat-automobile': 40.746946356375645, 'cat-bird': 37.778018323731914, 'cat-cat': 30.4296153826078, 'cat-dog': 34.61790048299686}\n",
      "{'cat-automobile': 47.49900388852524, 'cat-bird': 46.62031458818489, 'cat-cat': 40.75284167527832, 'cat-dog': 40.07433065680112}\n",
      "{'cat-automobile': 46.095386129076466, 'cat-bird': 38.526101126654744, 'cat-cat': 38.04540634773777, 'cat-dog': 34.74876453530302}\n",
      "{'cat-automobile': 46.11180139122052, 'cat-bird': 44.352112538328534, 'cat-cat': 36.627423623435796, 'cat-dog': 41.441610776009476}\n",
      "{'cat-automobile': 37.716294450798934, 'cat-bird': 32.280462178042306, 'cat-cat': 33.54302323404688, 'cat-dog': 35.96483535770626}\n",
      "{'cat-automobile': 38.05851003607074, 'cat-bird': 34.89442814492707, 'cat-cat': 35.911826134291516, 'cat-dog': 34.47311324824901}\n",
      "{'cat-automobile': 46.52406744057177, 'cat-bird': 39.39866571354549, 'cat-cat': 33.16410838930023, 'cat-dog': 36.464291292099055}\n",
      "{'cat-automobile': 39.015044551115004, 'cat-bird': 36.31829451074852, 'cat-cat': 31.781459231612153, 'cat-dog': 29.9032432807471}\n",
      "{'cat-automobile': 45.81498072151275, 'cat-bird': 34.528963326887606, 'cat-cat': 32.477121543487975, 'cat-dog': 32.51980865032773}\n",
      "{'cat-automobile': 39.25021902524289, 'cat-bird': 39.89321681029425, 'cat-cat': 39.9312292825137, 'cat-dog': 42.37170088258982}\n",
      "{'cat-automobile': 43.85481549188463, 'cat-bird': 39.073396803818895, 'cat-cat': 35.42998370526568, 'cat-dog': 35.39368750661777}\n",
      "{'cat-automobile': 47.86527520043915, 'cat-bird': 37.349180362507845, 'cat-cat': 36.07113938906434, 'cat-dog': 37.34964825820908}\n",
      "{'cat-automobile': 43.886638960471274, 'cat-bird': 41.11057365543912, 'cat-cat': 34.15501287577936, 'cat-dog': 31.045696628109553}\n",
      "{'cat-automobile': 39.83296569994806, 'cat-bird': 40.325636947599115, 'cat-cat': 34.95834581311596, 'cat-dog': 36.947570331096486}\n",
      "{'cat-automobile': 41.899092551937734, 'cat-bird': 40.16210843295472, 'cat-cat': 38.81407711476339, 'cat-dog': 41.79129651676576}\n",
      "{'cat-automobile': 44.95586922268046, 'cat-bird': 37.99167502165563, 'cat-cat': 36.2600364023128, 'cat-dog': 33.48096287783727}\n",
      "{'cat-automobile': 43.59352664374168, 'cat-bird': 40.84398476401764, 'cat-cat': 37.86682073779813, 'cat-dog': 38.8643634084362}\n",
      "{'cat-automobile': 50.21884582792565, 'cat-bird': 48.60544715947761, 'cat-cat': 42.3863217337938, 'cat-dog': 48.73348907696672}\n",
      "{'cat-automobile': 41.038086247787305, 'cat-bird': 38.59772010659929, 'cat-cat': 35.36273505722412, 'cat-dog': 37.987922558852674}\n",
      "{'cat-automobile': 49.51911861093952, 'cat-bird': 48.85372319973062, 'cat-cat': 49.543209064520596, 'cat-dog': 47.46013508205994}\n",
      "{'cat-automobile': 37.972175472340204, 'cat-bird': 37.51692083581732, 'cat-cat': 35.24157724342961, 'cat-dog': 35.841508791606785}\n",
      "{'cat-automobile': 39.082872837172864, 'cat-bird': 36.14816716952524, 'cat-cat': 31.00381860210358, 'cat-dog': 32.84666962245772}\n",
      "{'cat-automobile': 42.51810959781328, 'cat-bird': 37.90137609323381, 'cat-cat': 36.53715639425805, 'cat-dog': 34.30950534789383}\n",
      "{'cat-automobile': 40.78022175165074, 'cat-bird': 36.86614794665744, 'cat-cat': 36.727228616798705, 'cat-dog': 35.607189458418915}\n",
      "{'cat-automobile': 39.81200870881145, 'cat-bird': 34.81111183566102, 'cat-cat': 37.14103099204418, 'cat-dog': 36.53840740536029}\n",
      "{'cat-automobile': 41.9357520010319, 'cat-bird': 43.96327472610111, 'cat-cat': 40.645563051314056, 'cat-dog': 40.3159535636958}\n",
      "{'cat-automobile': 39.99588876554109, 'cat-bird': 38.97704106001973, 'cat-cat': 34.78649776398648, 'cat-dog': 39.25711753023076}\n",
      "{'cat-automobile': 38.779619730600174, 'cat-bird': 33.978176672685734, 'cat-cat': 34.65702038200251, 'cat-dog': 33.72258545998184}\n",
      "{'cat-automobile': 41.43505044250907, 'cat-bird': 37.999682800152485, 'cat-cat': 38.533277687149074, 'cat-dog': 39.32488716370723}\n",
      "{'cat-automobile': 38.921272642518595, 'cat-bird': 37.40742630479553, 'cat-cat': 37.69891074464701, 'cat-dog': 34.16720528774558}\n",
      "{'cat-automobile': 41.912049435449404, 'cat-bird': 39.550000157660776, 'cat-cat': 37.0913916039274, 'cat-dog': 34.54183033962735}\n",
      "{'cat-automobile': 40.12149785153045, 'cat-bird': 37.7755383874993, 'cat-cat': 37.34326140389084, 'cat-dog': 33.509314553810434}\n",
      "{'cat-automobile': 44.495735950916355, 'cat-bird': 35.132558397506294, 'cat-cat': 32.31056757481768, 'cat-dog': 34.488009281536655}\n",
      "{'cat-automobile': 42.20698803316281, 'cat-bird': 31.277019099637894, 'cat-cat': 30.783593709630612, 'cat-dog': 31.407064276664606}\n",
      "{'cat-automobile': 41.89692061575331, 'cat-bird': 34.63962943983067, 'cat-cat': 31.235791852285544, 'cat-dog': 30.78917063471574}\n",
      "{'cat-automobile': 38.054815883634575, 'cat-bird': 36.79807480923345, 'cat-cat': 29.312145776711347, 'cat-dog': 29.754067860087147}\n",
      "{'cat-automobile': 40.933756822065064, 'cat-bird': 36.33933866579315, 'cat-cat': 29.330418962562725, 'cat-dog': 30.11296492824998}\n",
      "{'cat-automobile': 38.784740913414915, 'cat-bird': 33.95073872491295, 'cat-cat': 32.19906618239559, 'cat-dog': 33.87203706373384}\n",
      "{'cat-automobile': 43.194545045515724, 'cat-bird': 43.51686096254562, 'cat-cat': 38.59044663078481, 'cat-dog': 39.064208861479145}\n",
      "{'cat-automobile': 39.16061135819494, 'cat-bird': 36.98191499632617, 'cat-cat': 37.52521164586003, 'cat-dog': 38.118157370128955}\n",
      "{'cat-automobile': 39.92497784828312, 'cat-bird': 38.359743148211024, 'cat-cat': 32.33825060403575, 'cat-dog': 32.553041601120334}\n",
      "{'cat-automobile': 33.520376546090965, 'cat-bird': 33.81686002910314, 'cat-cat': 33.3639582315971, 'cat-dog': 34.189054501891505}\n",
      "{'cat-automobile': 38.74514693062401, 'cat-bird': 35.85037531895416, 'cat-cat': 33.68125510219938, 'cat-dog': 32.5644100358124}\n",
      "{'cat-automobile': 41.8830936795887, 'cat-bird': 37.55772300099227, 'cat-cat': 36.213572972511635, 'cat-dog': 37.48239598070776}\n",
      "{'cat-automobile': 40.95118348774136, 'cat-bird': 41.552179184678565, 'cat-cat': 39.71383001398062, 'cat-dog': 38.9857172265224}\n",
      "{'cat-automobile': 41.86079382899346, 'cat-bird': 43.33723588832907, 'cat-cat': 39.72526790480457, 'cat-dog': 41.069432182519634}\n",
      "{'cat-automobile': 42.14372393662492, 'cat-bird': 35.625981554091794, 'cat-cat': 36.29554804424109, 'cat-dog': 38.266039066747595}\n",
      "{'cat-automobile': 41.0080930873898, 'cat-bird': 39.050919147004166, 'cat-cat': 38.14833355209751, 'cat-dog': 39.90250930114522}\n",
      "{'cat-automobile': 39.52459639823529, 'cat-bird': 39.798906105755414, 'cat-cat': 38.22770850382624, 'cat-dog': 40.82528911652512}\n",
      "{'cat-automobile': 46.09755719019008, 'cat-bird': 37.47055059217781, 'cat-cat': 33.37285011731115, 'cat-dog': 33.84061906847185}\n",
      "{'cat-automobile': 41.016834460684855, 'cat-bird': 43.25499949733229, 'cat-cat': 39.29277911861509, 'cat-dog': 39.66002035916449}\n",
      "{'cat-automobile': 39.597500472377426, 'cat-bird': 36.377729326996835, 'cat-cat': 34.43635127930649, 'cat-dog': 40.333343675810966}\n",
      "{'cat-automobile': 34.41055662192939, 'cat-bird': 34.88461615734937, 'cat-cat': 33.13941969736856, 'cat-dog': 34.69505047839809}\n",
      "{'cat-automobile': 44.97989249863449, 'cat-bird': 38.58690098467063, 'cat-cat': 38.7509689124187, 'cat-dog': 34.41190808655214}\n",
      "{'cat-automobile': 41.024169958168926, 'cat-bird': 42.457937981446804, 'cat-cat': 36.81819230317432, 'cat-dog': 39.20234211182372}\n",
      "{'cat-automobile': 45.59060019057839, 'cat-bird': 40.65481273122377, 'cat-cat': 38.3948908276856, 'cat-dog': 35.53143188181352}\n",
      "{'cat-automobile': 41.717005484004424, 'cat-bird': 36.62612223002278, 'cat-cat': 35.8306151542928, 'cat-dog': 37.48935960682591}\n",
      "{'cat-automobile': 43.648695038948205, 'cat-bird': 37.83009984498481, 'cat-cat': 37.67995114666793, 'cat-dog': 37.594896696782804}\n",
      "{'cat-automobile': 37.64548308200685, 'cat-bird': 37.475534875266824, 'cat-cat': 31.129351635595082, 'cat-dog': 36.696715657680876}\n",
      "{'cat-automobile': 38.332119147477044, 'cat-bird': 36.292491897303705, 'cat-cat': 32.84673542116357, 'cat-dog': 31.971174929533674}\n",
      "{'cat-automobile': 40.553510314089124, 'cat-bird': 36.48652512507316, 'cat-cat': 34.45269289624345, 'cat-dog': 34.456720248827914}\n",
      "{'cat-automobile': 44.615028578300134, 'cat-bird': 40.07759496286927, 'cat-cat': 35.31130523211543, 'cat-dog': 37.74588546146424}\n",
      "{'cat-automobile': 41.884160529903504, 'cat-bird': 36.53940937289446, 'cat-cat': 36.03940292338115, 'cat-dog': 35.33776333584317}\n",
      "{'cat-automobile': 39.7871942395581, 'cat-bird': 37.838708530157895, 'cat-cat': 34.68959362037067, 'cat-dog': 35.59564440022963}\n",
      "{'cat-automobile': 37.097973125567805, 'cat-bird': 37.94310321685796, 'cat-cat': 31.29130670041374, 'cat-dog': 33.57854040101051}\n",
      "{'cat-automobile': 39.30747250042343, 'cat-bird': 33.07330074654345, 'cat-cat': 33.88013162156613, 'cat-dog': 30.849666631751678}\n",
      "{'cat-automobile': 39.22979784960156, 'cat-bird': 33.94585988331756, 'cat-cat': 32.34052008187086, 'cat-dog': 32.720284167057805}\n",
      "{'cat-automobile': 43.68841660089234, 'cat-bird': 35.410659305766984, 'cat-cat': 36.90528095243396, 'cat-dog': 38.55268072703025}\n",
      "{'cat-automobile': 44.91149044123161, 'cat-bird': 42.15547968518448, 'cat-cat': 41.50493043042674, 'cat-dog': 42.29641552610993}\n",
      "{'cat-automobile': 43.30771215454952, 'cat-bird': 32.12528796231117, 'cat-cat': 36.363980501756586, 'cat-dog': 29.72072626330508}\n",
      "{'cat-automobile': 43.23518355563594, 'cat-bird': 38.607650344344414, 'cat-cat': 37.992948812295424, 'cat-dog': 41.07599135420775}\n",
      "{'cat-automobile': 50.79653641543315, 'cat-bird': 44.63707104065714, 'cat-cat': 41.78470096739758, 'cat-dog': 39.785768724428614}\n",
      "{'cat-automobile': 45.28870297043499, 'cat-bird': 40.862259880930374, 'cat-cat': 40.005784821434005, 'cat-dog': 38.48330991538366}\n",
      "{'cat-automobile': 37.59230405950732, 'cat-bird': 33.98178711611852, 'cat-cat': 29.554838288535723, 'cat-dog': 30.716796176957896}\n",
      "{'cat-automobile': 41.79933467479389, 'cat-bird': 36.303520943576935, 'cat-cat': 32.90685977490394, 'cat-dog': 35.098868877763486}\n",
      "{'cat-automobile': 38.08763516318316, 'cat-bird': 37.067165779809066, 'cat-cat': 33.47991820337869, 'cat-dog': 36.61189716532236}\n",
      "{'cat-automobile': 42.115507451628, 'cat-bird': 41.21892578857778, 'cat-cat': 36.37686696666387, 'cat-dog': 36.457203227177516}\n",
      "{'cat-automobile': 39.63816145265618, 'cat-bird': 37.58326696773397, 'cat-cat': 33.55518989822352, 'cat-dog': 31.07345310211708}\n",
      "{'cat-automobile': 44.643809883947405, 'cat-bird': 37.26900345606233, 'cat-cat': 35.78434171707236, 'cat-dog': 33.60028610752681}\n",
      "{'cat-automobile': 39.92418674184401, 'cat-bird': 37.54777939926039, 'cat-cat': 33.10395119069754, 'cat-dog': 37.30844952822095}\n",
      "{'cat-automobile': 37.05598523058008, 'cat-bird': 35.113481806978335, 'cat-cat': 32.53639333856557, 'cat-dog': 31.236914494130847}\n",
      "{'cat-automobile': 39.56890109773754, 'cat-bird': 28.662487278173263, 'cat-cat': 25.66836182138715, 'cat-dog': 28.276785555428823}\n",
      "{'cat-automobile': 37.07904721474538, 'cat-bird': 31.124588015372176, 'cat-cat': 31.018282859015443, 'cat-dog': 31.93664996209446}\n",
      "{'cat-automobile': 38.78718447741352, 'cat-bird': 37.82445834500773, 'cat-cat': 36.296105625926906, 'cat-dog': 34.414577446980225}\n",
      "{'cat-automobile': 40.30219241317121, 'cat-bird': 34.03482588488168, 'cat-cat': 33.00545309763149, 'cat-dog': 35.31562271008628}\n",
      "{'cat-automobile': 43.92463348317813, 'cat-bird': 45.810617239614885, 'cat-cat': 37.18065107812007, 'cat-dog': 44.222459064340164}\n",
      "{'cat-automobile': 46.20465715341099, 'cat-bird': 42.34998929143377, 'cat-cat': 39.49324380968967, 'cat-dog': 40.26497039096631}\n",
      "{'cat-automobile': 42.04275791260873, 'cat-bird': 40.90416014177289, 'cat-cat': 37.28183654355679, 'cat-dog': 39.64629469673657}\n",
      "{'cat-automobile': 40.45223223938508, 'cat-bird': 37.09055595486327, 'cat-cat': 34.08425709277395, 'cat-dog': 34.66108914615969}\n",
      "{'cat-automobile': 46.53778520066836, 'cat-bird': 40.7479246532782, 'cat-cat': 37.40321981847585, 'cat-dog': 39.48055702807458}\n",
      "{'cat-automobile': 39.746956779047125, 'cat-bird': 32.97030634370794, 'cat-cat': 29.879275099990313, 'cat-dog': 32.23496602591916}\n",
      "{'cat-automobile': 40.224678016738494, 'cat-bird': 35.04464648473084, 'cat-cat': 31.84834729180349, 'cat-dog': 32.89335287723107}\n",
      "{'cat-automobile': 37.84327649533831, 'cat-bird': 40.34797174269047, 'cat-cat': 37.98500154133162, 'cat-dog': 35.19397731708539}\n",
      "{'cat-automobile': 42.43055132444136, 'cat-bird': 40.8231178499394, 'cat-cat': 35.91182649122259, 'cat-dog': 37.14218631226725}\n",
      "{'cat-automobile': 42.64731480210192, 'cat-bird': 43.5577800361467, 'cat-cat': 39.951162704715074, 'cat-dog': 36.85474161681208}\n",
      "{'cat-automobile': 34.24946045159692, 'cat-bird': 37.17733769565674, 'cat-cat': 35.702565851587316, 'cat-dog': 38.83109011957923}\n",
      "{'cat-automobile': 42.205329057216154, 'cat-bird': 33.18356991920265, 'cat-cat': 32.61639193434179, 'cat-dog': 36.79903746780656}\n",
      "{'cat-automobile': 41.478066536631204, 'cat-bird': 36.431589554632815, 'cat-cat': 32.87953275763892, 'cat-dog': 35.70317461261873}\n",
      "{'cat-automobile': 41.098076476133926, 'cat-bird': 39.67632016316567, 'cat-cat': 34.885958820564454, 'cat-dog': 36.23548001244297}\n",
      "{'cat-automobile': 43.51974607926955, 'cat-bird': 37.8028504854578, 'cat-cat': 36.78491603635158, 'cat-dog': 38.42452856311164}\n",
      "{'cat-automobile': 44.68176621410785, 'cat-bird': 41.436166504674276, 'cat-cat': 38.17446998070146, 'cat-dog': 38.35892667054857}\n",
      "{'cat-automobile': 35.51343223717124, 'cat-bird': 39.87330872957668, 'cat-cat': 37.40002043750868, 'cat-dog': 40.41855012386924}\n",
      "{'cat-automobile': 39.37458285765617, 'cat-bird': 36.399987140245116, 'cat-cat': 35.75802457754913, 'cat-dog': 37.142944539080695}\n",
      "{'cat-automobile': 39.545387022677986, 'cat-bird': 36.04051188174699, 'cat-cat': 34.09826077289854, 'cat-dog': 35.71503157097065}\n",
      "{'cat-automobile': 45.25024623850697, 'cat-bird': 39.910372441566835, 'cat-cat': 37.08422334317601, 'cat-dog': 42.03832345601628}\n",
      "{'cat-automobile': 39.78073522676784, 'cat-bird': 33.26316839971522, 'cat-cat': 32.64535369785474, 'cat-dog': 32.03128623996933}\n",
      "{'cat-automobile': 40.996998273123815, 'cat-bird': 40.106759611711176, 'cat-cat': 37.845594325492236, 'cat-dog': 39.33485648297904}\n",
      "{'cat-automobile': 39.06584568482955, 'cat-bird': 35.83181731221037, 'cat-cat': 32.905964532913536, 'cat-dog': 33.05809554780742}\n",
      "{'cat-automobile': 34.513954471668626, 'cat-bird': 35.284022966130486, 'cat-cat': 35.23792910159189, 'cat-dog': 34.06802736502566}\n",
      "{'cat-automobile': 39.582328432401454, 'cat-bird': 35.451259884246895, 'cat-cat': 30.249689210828482, 'cat-dog': 32.097322671234245}\n",
      "{'cat-automobile': 41.53334440801048, 'cat-bird': 37.902104832730835, 'cat-cat': 32.70436796657689, 'cat-dog': 33.98264491425845}\n",
      "{'cat-automobile': 43.23604759540214, 'cat-bird': 41.81174978942887, 'cat-cat': 36.467551109456146, 'cat-dog': 38.39543857733653}\n",
      "{'cat-automobile': 40.81875683309891, 'cat-bird': 36.306310601036756, 'cat-cat': 30.13570022419915, 'cat-dog': 30.824678698656168}\n",
      "{'cat-automobile': 41.69750817221794, 'cat-bird': 39.941552093536664, 'cat-cat': 39.92207735501109, 'cat-dog': 39.60443521598325}\n",
      "{'cat-automobile': 45.07387359667712, 'cat-bird': 44.06034992523963, 'cat-cat': 45.81890276007779, 'cat-dog': 45.94018036897555}\n",
      "{'cat-automobile': 39.13404987689817, 'cat-bird': 35.66591737519046, 'cat-cat': 32.93964353630284, 'cat-dog': 34.58448503618377}\n",
      "{'cat-automobile': 43.55615093110017, 'cat-bird': 35.97341803131302, 'cat-cat': 31.190281483837104, 'cat-dog': 36.56108610051276}\n",
      "{'cat-automobile': 45.43182236255396, 'cat-bird': 39.89729290736498, 'cat-cat': 33.47521912152844, 'cat-dog': 33.18445842712001}\n",
      "{'cat-automobile': 46.13468909722157, 'cat-bird': 41.27043709380667, 'cat-cat': 38.299466793761646, 'cat-dog': 36.253866780589206}\n",
      "{'cat-automobile': 39.875443660591536, 'cat-bird': 36.678390389445426, 'cat-cat': 34.269472331287126, 'cat-dog': 31.45055449262262}\n",
      "{'cat-automobile': 36.64917466463751, 'cat-bird': 33.35055590111238, 'cat-cat': 33.35950826602006, 'cat-dog': 34.99360461039835}\n",
      "{'cat-automobile': 40.50485016527606, 'cat-bird': 36.77513209033006, 'cat-cat': 33.55284494204756, 'cat-dog': 32.48951249147419}\n",
      "{'cat-automobile': 38.93952849294988, 'cat-bird': 35.77029977422591, 'cat-cat': 34.056350600839, 'cat-dog': 33.90850950192945}\n",
      "{'cat-automobile': 49.500655407020346, 'cat-bird': 50.645017180913285, 'cat-cat': 51.922078338677174, 'cat-dog': 53.411925031431004}\n",
      "{'cat-automobile': 36.78089146244076, 'cat-bird': 38.835040972726446, 'cat-cat': 33.799677827848505, 'cat-dog': 35.22236488454717}\n",
      "{'cat-automobile': 40.21108212650953, 'cat-bird': 39.16832281879485, 'cat-cat': 37.77075299627286, 'cat-dog': 35.51993160952526}\n",
      "{'cat-automobile': 39.23773163332013, 'cat-bird': 33.75045466436465, 'cat-cat': 31.472827025329124, 'cat-dog': 30.037215825311744}\n",
      "{'cat-automobile': 36.015858573455205, 'cat-bird': 32.685984921189046, 'cat-cat': 31.246509720721043, 'cat-dog': 32.69352646921184}\n",
      "{'cat-automobile': 44.96561712163484, 'cat-bird': 38.331591519811724, 'cat-cat': 34.99567876741377, 'cat-dog': 36.73006332912363}\n",
      "{'cat-automobile': 40.70161950036184, 'cat-bird': 40.462121085045375, 'cat-cat': 38.9060129325654, 'cat-dog': 41.79392930480238}\n",
      "{'cat-automobile': 40.629741226872135, 'cat-bird': 34.620747225847644, 'cat-cat': 31.543439012282285, 'cat-dog': 33.07226875384234}\n",
      "{'cat-automobile': 39.16201370283119, 'cat-bird': 32.851253030764035, 'cat-cat': 30.540872743264337, 'cat-dog': 30.821089065757334}\n",
      "{'cat-automobile': 40.34940903673553, 'cat-bird': 40.087992831201035, 'cat-cat': 44.14328934431113, 'cat-dog': 44.905090278722454}\n",
      "{'cat-automobile': 38.45316137320965, 'cat-bird': 39.03311442519175, 'cat-cat': 34.463801791756396, 'cat-dog': 35.48656887483406}\n",
      "{'cat-automobile': 41.179326895838344, 'cat-bird': 38.543943658465714, 'cat-cat': 37.79115387606035, 'cat-dog': 37.40222144133603}\n",
      "{'cat-automobile': 42.84302369295776, 'cat-bird': 36.68690974739921, 'cat-cat': 35.00768986987174, 'cat-dog': 38.55520162078589}\n",
      "{'cat-automobile': 41.315564306403765, 'cat-bird': 38.11826623524217, 'cat-cat': 37.202162187800624, 'cat-dog': 37.58681126617956}\n",
      "{'cat-automobile': 44.638229734493926, 'cat-bird': 37.45183352884658, 'cat-cat': 33.79234124969479, 'cat-dog': 36.252156521866404}\n",
      "{'cat-automobile': 45.25225968385231, 'cat-bird': 38.88257844340316, 'cat-cat': 38.10413418309187, 'cat-dog': 37.674276256656505}\n",
      "{'cat-automobile': 37.64830108424651, 'cat-bird': 42.41564737090278, 'cat-cat': 42.05811104084926, 'cat-dog': 42.13804585884121}\n",
      "{'cat-automobile': 39.44739934448795, 'cat-bird': 38.48891746000966, 'cat-cat': 34.80440573634966, 'cat-dog': 34.147433597551064}\n",
      "{'cat-automobile': 38.17003415512274, 'cat-bird': 38.80366055471419, 'cat-cat': 35.23595467066476, 'cat-dog': 40.3613515895759}\n",
      "{'cat-automobile': 37.9270966705339, 'cat-bird': 41.255575416152276, 'cat-cat': 35.59706052988419, 'cat-dog': 38.23096438246993}\n",
      "{'cat-automobile': 38.12056908319761, 'cat-bird': 34.66445113289781, 'cat-cat': 34.837557926961175, 'cat-dog': 37.276859364107466}\n",
      "{'cat-automobile': 41.089484198522904, 'cat-bird': 35.79893775130291, 'cat-cat': 37.27604208486059, 'cat-dog': 36.132902033962495}\n",
      "{'cat-automobile': 37.291986844517105, 'cat-bird': 35.79038463620706, 'cat-cat': 31.406772777388095, 'cat-dog': 34.8133606716446}\n",
      "{'cat-automobile': 48.95887662543585, 'cat-bird': 47.73421082991804, 'cat-cat': 47.176365006399195, 'cat-dog': 46.66104009921635}\n",
      "{'cat-automobile': 45.70817705411096, 'cat-bird': 45.20453814378768, 'cat-cat': 42.910760579382135, 'cat-dog': 45.2825692906112}\n",
      "{'cat-automobile': 46.44292458488474, 'cat-bird': 42.10239660543011, 'cat-cat': 42.682631674288885, 'cat-dog': 44.431290244290636}\n",
      "{'cat-automobile': 38.91272471440695, 'cat-bird': 41.0147365386405, 'cat-cat': 36.275207962831225, 'cat-dog': 35.881081077558456}\n",
      "{'cat-automobile': 38.98165541336985, 'cat-bird': 32.91594307660191, 'cat-cat': 32.08302367279917, 'cat-dog': 31.799252823586635}\n",
      "{'cat-automobile': 44.49524425314802, 'cat-bird': 37.17739835167595, 'cat-cat': 33.412982300891194, 'cat-dog': 37.72426373235909}\n",
      "{'cat-automobile': 42.55624777559227, 'cat-bird': 30.98787522473096, 'cat-cat': 32.649471795933486, 'cat-dog': 34.984227079118895}\n",
      "{'cat-automobile': 42.22913994189971, 'cat-bird': 39.433936146215174, 'cat-cat': 41.418841319730824, 'cat-dog': 40.58118513185535}\n",
      "{'cat-automobile': 47.79376202113253, 'cat-bird': 46.341474068697, 'cat-cat': 43.350534078791284, 'cat-dog': 46.56543499513875}\n",
      "{'cat-automobile': 41.38050311368415, 'cat-bird': 37.12751277960114, 'cat-cat': 35.17385705791372, 'cat-dog': 40.61701571501536}\n",
      "{'cat-automobile': 38.860216305415015, 'cat-bird': 38.099626491024885, 'cat-cat': 33.848224837674444, 'cat-dog': 36.374221299090934}\n",
      "{'cat-automobile': 44.3854846720776, 'cat-bird': 42.048590538928664, 'cat-cat': 40.12619551136491, 'cat-dog': 39.47004568106867}\n",
      "{'cat-automobile': 40.00842651626166, 'cat-bird': 35.938101782272916, 'cat-cat': 36.129985388295424, 'cat-dog': 36.10766696733266}\n",
      "{'cat-automobile': 40.76821938291419, 'cat-bird': 37.95171837985724, 'cat-cat': 34.837823081765805, 'cat-dog': 37.369811536760906}\n",
      "{'cat-automobile': 43.76006791914176, 'cat-bird': 46.20011392655818, 'cat-cat': 41.27148343088461, 'cat-dog': 40.005235420948694}\n",
      "{'cat-automobile': 39.1508685635435, 'cat-bird': 37.70841808435509, 'cat-cat': 36.61518890631695, 'cat-dog': 34.80833316396873}\n",
      "{'cat-automobile': 47.87534254394786, 'cat-bird': 37.32701234538216, 'cat-cat': 38.27573059042429, 'cat-dog': 41.491010856177645}\n",
      "{'cat-automobile': 42.983539212649006, 'cat-bird': 34.83145251618453, 'cat-cat': 31.017273452211374, 'cat-dog': 32.213762836737594}\n",
      "{'cat-automobile': 43.85033048393068, 'cat-bird': 38.08454213777084, 'cat-cat': 35.67975418212853, 'cat-dog': 36.843835137439285}\n",
      "{'cat-automobile': 36.662731887268244, 'cat-bird': 37.01113369611668, 'cat-cat': 34.64058853429542, 'cat-dog': 34.06983626584112}\n",
      "{'cat-automobile': 39.005204542684105, 'cat-bird': 36.84504097967783, 'cat-cat': 31.412729436326565, 'cat-dog': 37.84024239209706}\n",
      "{'cat-automobile': 43.521160227872805, 'cat-bird': 45.26585506762829, 'cat-cat': 42.21484034920047, 'cat-dog': 37.94987337907713}\n",
      "{'cat-automobile': 41.91736969092744, 'cat-bird': 42.75821217950592, 'cat-cat': 37.37878005561357, 'cat-dog': 40.96759897456492}\n",
      "{'cat-automobile': 37.40151974626985, 'cat-bird': 33.14759978458577, 'cat-cat': 30.422143789594426, 'cat-dog': 32.830193013802266}\n",
      "{'cat-automobile': 42.68143830700384, 'cat-bird': 41.83957487535439, 'cat-cat': 39.13464657313828, 'cat-dog': 37.6881862306954}\n",
      "{'cat-automobile': 43.50304889161148, 'cat-bird': 42.34945437168842, 'cat-cat': 36.4853693289949, 'cat-dog': 35.410244138777635}\n",
      "{'cat-automobile': 43.84558030309914, 'cat-bird': 40.039101729039004, 'cat-cat': 38.37068802222362, 'cat-dog': 38.1152652058067}\n",
      "{'cat-automobile': 35.90137276272401, 'cat-bird': 35.919220478714806, 'cat-cat': 34.171264590125745, 'cat-dog': 33.8551472876206}\n",
      "{'cat-automobile': 54.07600119652643, 'cat-bird': 50.577819006320915, 'cat-cat': 44.559236651294356, 'cat-dog': 53.94264305359921}\n",
      "{'cat-automobile': 43.36583537926443, 'cat-bird': 44.74494943930669, 'cat-cat': 40.864140465155145, 'cat-dog': 42.43521218800842}\n",
      "{'cat-automobile': 41.65734336807111, 'cat-bird': 40.127742697480464, 'cat-cat': 39.761041147737345, 'cat-dog': 41.06117739807741}\n",
      "{'cat-automobile': 45.26217332622375, 'cat-bird': 38.14050918339984, 'cat-cat': 37.78852531983063, 'cat-dog': 38.93544884268337}\n",
      "{'cat-automobile': 40.69038472752029, 'cat-bird': 34.91343397624489, 'cat-cat': 32.21127036242143, 'cat-dog': 35.32794295994345}\n",
      "{'cat-automobile': 40.66588434523025, 'cat-bird': 37.72312790420033, 'cat-cat': 31.93496647091422, 'cat-dog': 32.75044699750944}\n",
      "{'cat-automobile': 39.84274590297323, 'cat-bird': 40.133314576917016, 'cat-cat': 37.67673125496725, 'cat-dog': 41.31081697715084}\n",
      "{'cat-automobile': 47.09284296632368, 'cat-bird': 41.692247284912064, 'cat-cat': 42.77626808356758, 'cat-dog': 41.81351942671897}\n",
      "{'cat-automobile': 34.273225941702876, 'cat-bird': 29.586824608728396, 'cat-cat': 28.259843888635725, 'cat-dog': 26.429804841861863}\n",
      "{'cat-automobile': 43.88477097779825, 'cat-bird': 38.753523652502516, 'cat-cat': 36.00460432974523, 'cat-dog': 32.928138398922215}\n",
      "{'cat-automobile': 41.67503788052651, 'cat-bird': 41.10286651859512, 'cat-cat': 40.49398093789695, 'cat-dog': 41.78171569225055}\n",
      "{'cat-automobile': 45.76840152183849, 'cat-bird': 41.55724152480097, 'cat-cat': 36.5254375477346, 'cat-dog': 38.103725924926266}\n",
      "{'cat-automobile': 37.956379886444275, 'cat-bird': 36.24142787831765, 'cat-cat': 32.658390756124504, 'cat-dog': 34.87767223213336}\n",
      "{'cat-automobile': 38.14878570268442, 'cat-bird': 33.047745973729846, 'cat-cat': 31.34078876676679, 'cat-dog': 31.252400504076387}\n",
      "{'cat-automobile': 41.657929639755686, 'cat-bird': 46.684254465969836, 'cat-cat': 42.38812861379727, 'cat-dog': 39.509976301794175}\n",
      "{'cat-automobile': 41.552214119078485, 'cat-bird': 36.24563713044084, 'cat-cat': 32.896808108991564, 'cat-dog': 31.708130406733762}\n",
      "{'cat-automobile': 45.218866842044974, 'cat-bird': 41.7824932625949, 'cat-cat': 39.08635828325498, 'cat-dog': 38.54021159885662}\n",
      "{'cat-automobile': 40.387730675851586, 'cat-bird': 31.0781753512627, 'cat-cat': 30.92701453569247, 'cat-dog': 33.85043927100685}\n",
      "{'cat-automobile': 43.24477771285191, 'cat-bird': 39.68880931618, 'cat-cat': 33.78760687196915, 'cat-dog': 35.279704398878756}\n",
      "{'cat-automobile': 37.099770964510746, 'cat-bird': 30.741217377294205, 'cat-cat': 27.38392368702163, 'cat-dog': 29.694857192218773}\n",
      "{'cat-automobile': 46.70877935333178, 'cat-bird': 39.90296954228571, 'cat-cat': 42.77723103141687, 'cat-dog': 38.08928909098911}\n",
      "{'cat-automobile': 40.84200214410512, 'cat-bird': 36.22160509280313, 'cat-cat': 29.169241346068468, 'cat-dog': 32.92097553037864}\n",
      "{'cat-automobile': 37.85739485042593, 'cat-bird': 35.767156909763365, 'cat-cat': 29.937313371442166, 'cat-dog': 32.46437884739141}\n",
      "{'cat-automobile': 38.806343448125226, 'cat-bird': 36.20664526633339, 'cat-cat': 32.96906605534808, 'cat-dog': 33.28448887620966}\n",
      "{'cat-automobile': 38.67196312069021, 'cat-bird': 38.81029140100986, 'cat-cat': 24.291304827761138, 'cat-dog': 36.46497129910884}\n",
      "{'cat-automobile': 40.51397197906342, 'cat-bird': 34.29674795565149, 'cat-cat': 32.27788475581694, 'cat-dog': 34.67298179373666}\n",
      "{'cat-automobile': 42.862223762367734, 'cat-bird': 37.07904226226263, 'cat-cat': 29.003934012111067, 'cat-dog': 32.493445957050874}\n",
      "{'cat-automobile': 35.464423529324165, 'cat-bird': 34.973512609426464, 'cat-cat': 32.996657803048016, 'cat-dog': 31.034676905956402}\n",
      "{'cat-automobile': 40.13750787958767, 'cat-bird': 39.496873837661646, 'cat-cat': 35.31148313914733, 'cat-dog': 39.01072293711921}\n",
      "{'cat-automobile': 32.79336077082747, 'cat-bird': 33.8679239632545, 'cat-cat': 31.371228078140394, 'cat-dog': 32.82181959962497}\n",
      "{'cat-automobile': 40.22044858777863, 'cat-bird': 35.0436947643984, 'cat-cat': 30.26634138698677, 'cat-dog': 29.205460516733414}\n",
      "{'cat-automobile': 44.737445525861084, 'cat-bird': 34.241996950571284, 'cat-cat': 33.786147637178765, 'cat-dog': 33.28757178153499}\n",
      "{'cat-automobile': 37.24223029372486, 'cat-bird': 34.64691015842066, 'cat-cat': 35.106509526725276, 'cat-dog': 36.88964032602857}\n",
      "{'cat-automobile': 46.13255181901709, 'cat-bird': 41.88437498357682, 'cat-cat': 38.08038006534654, 'cat-dog': 37.16397433471015}\n",
      "{'cat-automobile': 41.619135721580726, 'cat-bird': 36.298270372247636, 'cat-cat': 28.95407877320773, 'cat-dog': 34.305017298985774}\n",
      "{'cat-automobile': 47.1023384929974, 'cat-bird': 44.25348968427832, 'cat-cat': 41.376728727545604, 'cat-dog': 46.86231221639073}\n",
      "{'cat-automobile': 41.444934466291194, 'cat-bird': 37.50822963722938, 'cat-cat': 36.42663618050161, 'cat-dog': 34.779001837928725}\n",
      "{'cat-automobile': 41.92309377580031, 'cat-bird': 46.08252294413719, 'cat-cat': 39.30947270085064, 'cat-dog': 40.46610842306608}\n",
      "{'cat-automobile': 41.28396519836878, 'cat-bird': 38.559668854734085, 'cat-cat': 37.89951627145946, 'cat-dog': 39.31862983530996}\n",
      "{'cat-automobile': 36.24766856511219, 'cat-bird': 33.8604808288202, 'cat-cat': 35.42785199133833, 'cat-dog': 38.44045146627526}\n",
      "{'cat-automobile': 42.44102837666442, 'cat-bird': 45.35260587321145, 'cat-cat': 41.290513750530096, 'cat-dog': 39.82685158286904}\n",
      "{'cat-automobile': 36.32681178775101, 'cat-bird': 35.17067827045364, 'cat-cat': 31.98876164022072, 'cat-dog': 33.548089649604094}\n",
      "{'cat-automobile': 35.7061395337237, 'cat-bird': 40.109427585559494, 'cat-cat': 38.474973818585475, 'cat-dog': 39.066138201738276}\n",
      "{'cat-automobile': 43.48149905275393, 'cat-bird': 38.93355357099625, 'cat-cat': 36.98835019609326, 'cat-dog': 41.61621686341827}\n",
      "{'cat-automobile': 46.04678955436605, 'cat-bird': 36.99431043451751, 'cat-cat': 33.49113997373419, 'cat-dog': 35.715782984011796}\n",
      "{'cat-automobile': 41.90347292749723, 'cat-bird': 32.17716468993478, 'cat-cat': 29.80134149195824, 'cat-dog': 35.488334639582106}\n",
      "{'cat-automobile': 42.48639034412857, 'cat-bird': 33.586719912986176, 'cat-cat': 31.405592991860786, 'cat-dog': 33.918987862101766}\n",
      "{'cat-automobile': 39.2039859270905, 'cat-bird': 39.47607680237157, 'cat-cat': 33.77746445451708, 'cat-dog': 28.842513085344606}\n",
      "{'cat-automobile': 39.829401165418865, 'cat-bird': 33.98854528866204, 'cat-cat': 33.428881201224364, 'cat-dog': 37.388242562987394}\n",
      "{'cat-automobile': 45.72720050850567, 'cat-bird': 39.04104445323156, 'cat-cat': 36.01987096466453, 'cat-dog': 37.13936805462006}\n",
      "{'cat-automobile': 37.13185509764936, 'cat-bird': 36.962993028419795, 'cat-cat': 32.22169019572159, 'cat-dog': 31.619242645547963}\n",
      "{'cat-automobile': 40.83452265480015, 'cat-bird': 36.71146582722254, 'cat-cat': 34.64477891984325, 'cat-dog': 39.769706834049614}\n",
      "{'cat-automobile': 40.51628132481625, 'cat-bird': 35.42317641243413, 'cat-cat': 29.974928283504756, 'cat-dog': 31.586871478231004}\n",
      "{'cat-automobile': 37.68114324105669, 'cat-bird': 38.28357090161423, 'cat-cat': 33.30403544688943, 'cat-dog': 33.35384598242873}\n",
      "{'cat-automobile': 41.22275167360639, 'cat-bird': 41.956783090310786, 'cat-cat': 36.9659202461835, 'cat-dog': 38.882672775040504}\n",
      "{'cat-automobile': 48.77863256169145, 'cat-bird': 46.0739087534003, 'cat-cat': 39.11388333377807, 'cat-dog': 39.460725015262675}\n",
      "{'cat-automobile': 41.079826051435326, 'cat-bird': 39.639599948076835, 'cat-cat': 40.30981192811332, 'cat-dog': 37.25631888788064}\n",
      "{'cat-automobile': 42.49137147237898, 'cat-bird': 38.113977271672844, 'cat-cat': 34.97443854182961, 'cat-dog': 35.895596852484054}\n",
      "{'cat-automobile': 42.19416074944703, 'cat-bird': 36.00581411452601, 'cat-cat': 32.64128813856221, 'cat-dog': 31.03924602358383}\n",
      "{'cat-automobile': 39.628463206749224, 'cat-bird': 34.92773168946587, 'cat-cat': 30.674153983288505, 'cat-dog': 33.88239189280952}\n",
      "{'cat-automobile': 45.45384803894366, 'cat-bird': 35.11437379106465, 'cat-cat': 36.39179404336932, 'cat-dog': 39.487107326123855}\n",
      "{'cat-automobile': 41.76401406473049, 'cat-bird': 37.45550316855448, 'cat-cat': 33.692444356734, 'cat-dog': 32.700482075025874}\n",
      "{'cat-automobile': 39.41105176038775, 'cat-bird': 35.75227420194328, 'cat-cat': 32.88798985206308, 'cat-dog': 31.105156879225312}\n",
      "{'cat-automobile': 39.25026604416807, 'cat-bird': 33.11459651976077, 'cat-cat': 34.85606934566285, 'cat-dog': 35.41455970108324}\n",
      "{'cat-automobile': 41.369889311070246, 'cat-bird': 42.7968320848362, 'cat-cat': 41.2683740448682, 'cat-dog': 43.47481116178721}\n",
      "{'cat-automobile': 41.856406990799655, 'cat-bird': 41.05602751511979, 'cat-cat': 37.99315848727922, 'cat-dog': 35.69332685408458}\n",
      "{'cat-automobile': 36.716329750686164, 'cat-bird': 36.38422983910306, 'cat-cat': 34.57504728009575, 'cat-dog': 33.4818777615821}\n",
      "{'cat-automobile': 38.73179021174826, 'cat-bird': 34.16261646588542, 'cat-cat': 32.45324277375816, 'cat-dog': 33.769274054095945}\n",
      "{'cat-automobile': 45.74845572282003, 'cat-bird': 45.12629470021269, 'cat-cat': 46.00141548785534, 'cat-dog': 46.640414268704255}\n",
      "{'cat-automobile': 37.91754469481997, 'cat-bird': 34.839283177714854, 'cat-cat': 30.76451192540239, 'cat-dog': 29.85953186056711}\n",
      "{'cat-automobile': 44.97226971466112, 'cat-bird': 44.45362959457337, 'cat-cat': 41.286069849240945, 'cat-dog': 40.534434034331326}\n",
      "{'cat-automobile': 38.76315744420784, 'cat-bird': 34.428527403126296, 'cat-cat': 32.14164354941504, 'cat-dog': 32.76852043695218}\n",
      "{'cat-automobile': 44.193913129761896, 'cat-bird': 41.03562059463337, 'cat-cat': 39.40734808993871, 'cat-dog': 45.1838100928861}\n",
      "{'cat-automobile': 40.08307968621896, 'cat-bird': 36.95297004993491, 'cat-cat': 31.42877814338157, 'cat-dog': 37.436089527071104}\n",
      "{'cat-automobile': 40.29348060622872, 'cat-bird': 43.14609652915841, 'cat-cat': 42.06252822502858, 'cat-dog': 42.64169120279664}\n",
      "{'cat-automobile': 46.25292702690961, 'cat-bird': 38.94148039708705, 'cat-cat': 38.76625865085421, 'cat-dog': 43.7517619713117}\n",
      "{'cat-automobile': 36.816442246799596, 'cat-bird': 34.58982412100532, 'cat-cat': 32.68423663786759, 'cat-dog': 35.79093110189911}\n",
      "{'cat-automobile': 39.01198635574108, 'cat-bird': 34.61252238143077, 'cat-cat': 34.25696418605534, 'cat-dog': 31.988072097969713}\n",
      "{'cat-automobile': 37.61631511677379, 'cat-bird': 35.01028430418401, 'cat-cat': 31.608117193454692, 'cat-dog': 32.92627206730441}\n",
      "{'cat-automobile': 43.04568545209577, 'cat-bird': 37.52181106059022, 'cat-cat': 33.12690025283747, 'cat-dog': 34.93498284675608}\n",
      "{'cat-automobile': 38.13382878617459, 'cat-bird': 38.214272364880024, 'cat-cat': 34.56147332336764, 'cat-dog': 32.25239864108339}\n",
      "{'cat-automobile': 48.03687337483757, 'cat-bird': 41.4226191072324, 'cat-cat': 36.59763300994708, 'cat-dog': 38.910967804900885}\n",
      "{'cat-automobile': 39.94183886298387, 'cat-bird': 35.42941907166282, 'cat-cat': 32.62890679079002, 'cat-dog': 34.65320312020992}\n",
      "{'cat-automobile': 42.534823747873574, 'cat-bird': 45.44023996971296, 'cat-cat': 41.2430629294802, 'cat-dog': 41.00070234291153}\n",
      "{'cat-automobile': 40.664878093576334, 'cat-bird': 36.44314065819424, 'cat-cat': 35.32895339065981, 'cat-dog': 34.64233328337135}\n",
      "{'cat-automobile': 43.177316452240426, 'cat-bird': 33.9703625803505, 'cat-cat': 33.603418468981666, 'cat-dog': 34.53419381657329}\n",
      "{'cat-automobile': 44.13479273545988, 'cat-bird': 43.51337637411216, 'cat-cat': 43.189356309036754, 'cat-dog': 44.82838957484711}\n",
      "{'cat-automobile': 40.58647393048272, 'cat-bird': 41.22280250105572, 'cat-cat': 39.53481169250619, 'cat-dog': 39.80752999990887}\n",
      "{'cat-automobile': 41.08510565281754, 'cat-bird': 37.104257618028136, 'cat-cat': 31.145167159064652, 'cat-dog': 36.94526618799146}\n",
      "{'cat-automobile': 38.28645592207074, 'cat-bird': 33.53249422358784, 'cat-cat': 32.87423259723715, 'cat-dog': 34.70632440172873}\n",
      "{'cat-automobile': 42.84091535466927, 'cat-bird': 41.36037792662598, 'cat-cat': 37.304622962779945, 'cat-dog': 38.96908769005287}\n",
      "{'cat-automobile': 42.18360774153258, 'cat-bird': 36.61561588177519, 'cat-cat': 36.517212761401396, 'cat-dog': 37.498307342343196}\n",
      "{'cat-automobile': 38.15207388723891, 'cat-bird': 40.88128677057551, 'cat-cat': 33.15121892851326, 'cat-dog': 39.18305315682257}\n",
      "{'cat-automobile': 42.66846863375139, 'cat-bird': 36.57857032570545, 'cat-cat': 36.52384450594125, 'cat-dog': 36.20814847729259}\n",
      "{'cat-automobile': 41.75989314756012, 'cat-bird': 37.363823915568474, 'cat-cat': 36.74934654956697, 'cat-dog': 35.56616510623273}\n",
      "{'cat-automobile': 51.39407069187827, 'cat-bird': 43.383515928416486, 'cat-cat': 44.721578007912065, 'cat-dog': 43.798385246475206}\n",
      "{'cat-automobile': 43.887081369978624, 'cat-bird': 42.5764739540508, 'cat-cat': 37.27807722162315, 'cat-dog': 33.82060528194507}\n",
      "{'cat-automobile': 43.83835246250843, 'cat-bird': 39.477470425888406, 'cat-cat': 34.56164633735399, 'cat-dog': 36.06727821385384}\n",
      "{'cat-automobile': 47.902160986423155, 'cat-bird': 39.05324680720398, 'cat-cat': 38.775318874570125, 'cat-dog': 34.099949634746025}\n"
     ]
    }
   ],
   "source": [
    "def is_cat_correct(row):\n",
    "    print row\n",
    "    if ((row['cat-cat'] < row['cat-dog']) and (row['cat-cat'] < row['cat-bird']) and (row['cat-cat'] < row['cat-automobile'])):\n",
    "        return 1\n",
    "    else:\n",
    "        return 0\n",
    "\n",
    "result = []\n",
    "for every_row in cat_distance:\n",
    "    result.append(is_cat_correct(every_row))"
   ]
  },
  {
   "cell_type": "code",
   "execution_count": 43,
   "metadata": {
    "collapsed": true
   },
   "outputs": [],
   "source": [
    "sum = 0\n",
    "for num in result:\n",
    "    sum += num"
   ]
  },
  {
   "cell_type": "code",
   "execution_count": 44,
   "metadata": {
    "collapsed": false
   },
   "outputs": [
    {
     "data": {
      "text/plain": [
       "548"
      ]
     },
     "execution_count": 44,
     "metadata": {},
     "output_type": "execute_result"
    }
   ],
   "source": [
    "sum"
   ]
  },
  {
   "cell_type": "code",
   "execution_count": 45,
   "metadata": {
    "collapsed": false
   },
   "outputs": [
    {
     "data": {
      "text/plain": [
       "1000"
      ]
     },
     "execution_count": 45,
     "metadata": {},
     "output_type": "execute_result"
    }
   ],
   "source": [
    "len(dog_distance['dog-dog'])"
   ]
  },
  {
   "cell_type": "code",
   "execution_count": null,
   "metadata": {
    "collapsed": true
   },
   "outputs": [],
   "source": []
  }
 ],
 "metadata": {
  "kernelspec": {
   "display_name": "Python 2",
   "language": "python",
   "name": "python2"
  },
  "language_info": {
   "codemirror_mode": {
    "name": "ipython",
    "version": 2
   },
   "file_extension": ".py",
   "mimetype": "text/x-python",
   "name": "python",
   "nbconvert_exporter": "python",
   "pygments_lexer": "ipython2",
   "version": "2.7.11"
  }
 },
 "nbformat": 4,
 "nbformat_minor": 0
}
